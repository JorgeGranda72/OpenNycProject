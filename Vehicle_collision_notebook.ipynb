{
 "cells": [
  {
   "cell_type": "code",
   "execution_count": 1,
   "metadata": {},
   "outputs": [],
   "source": [
    "import json\n",
    "import requests\n",
    "import pandas as pd\n",
    "from sodapy import Socrata\n",
    "import numpy as np\n",
    "import urllib.request\n",
    "import plotly.express as px\n",
    "import plotly.io as pio\n",
    "pio.renderers.default = 'browser'\n",
    "from urllib.request import urlopen\n",
    "#import plotly.graph_objs as go\n",
    "#from urllib.request import urlopen"
   ]
  },
  {
   "cell_type": "markdown",
   "metadata": {},
   "source": [
    "# Introduction\n",
    "\n",
    "This notebook aims to explore trends in recent data on motor vehicle collisions. Project members can have a fuller understanding of the content, timing, frequency, and location of collisions. This notebook seeks to contribute to that understanding through the exploratory analysis and visualization of vehicle collision data. "
   ]
  },
  {
   "cell_type": "markdown",
   "metadata": {},
   "source": [
    "# Data Source\n",
    "\n",
    "The data used in this notebook was obtained from: \n",
    "\n",
    "- [NYC Open Data's Motor Vehicle Collision-Crashes](https://data.cityofnewyork.us/Public-Safety/Motor-Vehicle-Collisions-Crashes/h9gi-nx95)\n",
    "  - This dataset contains information from all police reported motor vehicle collisions in NYC. Each row represents a crash event.The police report (MV104-AN) is required to be filled out for collisions where someone is injured or killed, or where there is at least 1000 dollars worth of damage. This notebook uses a subset of the data and was accessed with the [Socrata Open Data (SODA) API](https://dev.socrata.com/consumers/getting-started.html). \n",
    " "
   ]
  },
  {
   "cell_type": "markdown",
   "metadata": {},
   "source": [
    "# Accessing Data\n",
    "Items needed to obtain data:\n",
    "- Create app token\n",
    "- Get domain name\n",
    "- Get data identifier"
   ]
  },
  {
   "cell_type": "code",
   "execution_count": 2,
   "metadata": {},
   "outputs": [],
   "source": [
    "socrata_domain = 'data.cityofnewyork.us'\n",
    "socrata_dataset_identifier = 'h9gi-nx95'\n",
    "client = Socrata(socrata_domain, app_token=\"zrfGJViqm8hhU7PFyRqvPZcyF\")\n",
    "client.timeout = 1000"
   ]
  },
  {
   "cell_type": "code",
   "execution_count": 3,
   "metadata": {},
   "outputs": [],
   "source": [
    "# Pull data from Socrata API\n",
    "results = client.get(socrata_dataset_identifier, limit = 400000)\n"
   ]
  },
  {
   "cell_type": "code",
   "execution_count": 4,
   "metadata": {},
   "outputs": [],
   "source": [
    "# Convert data into a pandas dataframe\n",
    "df = pd.DataFrame(results)"
   ]
  },
  {
   "cell_type": "code",
   "execution_count": 6,
   "metadata": {},
   "outputs": [],
   "source": [
    "dff = df.copy()"
   ]
  },
  {
   "cell_type": "code",
   "execution_count": 7,
   "metadata": {},
   "outputs": [
    {
     "data": {
      "text/plain": [
       "(400000, 29)"
      ]
     },
     "execution_count": 7,
     "metadata": {},
     "output_type": "execute_result"
    }
   ],
   "source": [
    "dff.shape"
   ]
  },
  {
   "cell_type": "code",
   "execution_count": 10,
   "metadata": {},
   "outputs": [
    {
     "data": {
      "text/html": [
       "<div>\n",
       "<style scoped>\n",
       "    .dataframe tbody tr th:only-of-type {\n",
       "        vertical-align: middle;\n",
       "    }\n",
       "\n",
       "    .dataframe tbody tr th {\n",
       "        vertical-align: top;\n",
       "    }\n",
       "\n",
       "    .dataframe thead th {\n",
       "        text-align: right;\n",
       "    }\n",
       "</style>\n",
       "<table border=\"1\" class=\"dataframe\">\n",
       "  <thead>\n",
       "    <tr style=\"text-align: right;\">\n",
       "      <th></th>\n",
       "      <th>crash_date</th>\n",
       "      <th>crash_time</th>\n",
       "      <th>on_street_name</th>\n",
       "      <th>number_of_persons_injured</th>\n",
       "      <th>number_of_persons_killed</th>\n",
       "      <th>number_of_pedestrians_injured</th>\n",
       "      <th>number_of_pedestrians_killed</th>\n",
       "      <th>number_of_cyclist_injured</th>\n",
       "      <th>number_of_cyclist_killed</th>\n",
       "      <th>number_of_motorist_injured</th>\n",
       "      <th>...</th>\n",
       "      <th>longitude</th>\n",
       "      <th>location</th>\n",
       "      <th>cross_street_name</th>\n",
       "      <th>off_street_name</th>\n",
       "      <th>contributing_factor_vehicle_3</th>\n",
       "      <th>contributing_factor_vehicle_4</th>\n",
       "      <th>vehicle_type_code_3</th>\n",
       "      <th>vehicle_type_code_4</th>\n",
       "      <th>contributing_factor_vehicle_5</th>\n",
       "      <th>vehicle_type_code_5</th>\n",
       "    </tr>\n",
       "  </thead>\n",
       "  <tbody>\n",
       "    <tr>\n",
       "      <th>0</th>\n",
       "      <td>2021-04-14T00:00:00.000</td>\n",
       "      <td>5:32</td>\n",
       "      <td>BRONX WHITESTONE BRIDGE</td>\n",
       "      <td>0</td>\n",
       "      <td>0</td>\n",
       "      <td>0</td>\n",
       "      <td>0</td>\n",
       "      <td>0</td>\n",
       "      <td>0</td>\n",
       "      <td>0</td>\n",
       "      <td>...</td>\n",
       "      <td>NaN</td>\n",
       "      <td>NaN</td>\n",
       "      <td>NaN</td>\n",
       "      <td>NaN</td>\n",
       "      <td>NaN</td>\n",
       "      <td>NaN</td>\n",
       "      <td>NaN</td>\n",
       "      <td>NaN</td>\n",
       "      <td>NaN</td>\n",
       "      <td>NaN</td>\n",
       "    </tr>\n",
       "    <tr>\n",
       "      <th>1</th>\n",
       "      <td>2021-04-13T00:00:00.000</td>\n",
       "      <td>21:35</td>\n",
       "      <td>NaN</td>\n",
       "      <td>1</td>\n",
       "      <td>0</td>\n",
       "      <td>1</td>\n",
       "      <td>0</td>\n",
       "      <td>0</td>\n",
       "      <td>0</td>\n",
       "      <td>0</td>\n",
       "      <td>...</td>\n",
       "      <td>-73.9761700</td>\n",
       "      <td>{'latitude': '40.68358', 'longitude': '-73.976...</td>\n",
       "      <td>620       ATLANTIC AVENUE</td>\n",
       "      <td>NaN</td>\n",
       "      <td>NaN</td>\n",
       "      <td>NaN</td>\n",
       "      <td>NaN</td>\n",
       "      <td>NaN</td>\n",
       "      <td>NaN</td>\n",
       "      <td>NaN</td>\n",
       "    </tr>\n",
       "    <tr>\n",
       "      <th>2</th>\n",
       "      <td>2021-04-15T00:00:00.000</td>\n",
       "      <td>16:15</td>\n",
       "      <td>HUTCHINSON RIVER PARKWAY</td>\n",
       "      <td>0</td>\n",
       "      <td>0</td>\n",
       "      <td>0</td>\n",
       "      <td>0</td>\n",
       "      <td>0</td>\n",
       "      <td>0</td>\n",
       "      <td>0</td>\n",
       "      <td>...</td>\n",
       "      <td>NaN</td>\n",
       "      <td>NaN</td>\n",
       "      <td>NaN</td>\n",
       "      <td>NaN</td>\n",
       "      <td>NaN</td>\n",
       "      <td>NaN</td>\n",
       "      <td>NaN</td>\n",
       "      <td>NaN</td>\n",
       "      <td>NaN</td>\n",
       "      <td>NaN</td>\n",
       "    </tr>\n",
       "    <tr>\n",
       "      <th>3</th>\n",
       "      <td>2021-04-13T00:00:00.000</td>\n",
       "      <td>16:00</td>\n",
       "      <td>VANDERVORT AVENUE</td>\n",
       "      <td>0</td>\n",
       "      <td>0</td>\n",
       "      <td>0</td>\n",
       "      <td>0</td>\n",
       "      <td>0</td>\n",
       "      <td>0</td>\n",
       "      <td>0</td>\n",
       "      <td>...</td>\n",
       "      <td>NaN</td>\n",
       "      <td>NaN</td>\n",
       "      <td>NaN</td>\n",
       "      <td>ANTHONY STREET</td>\n",
       "      <td>NaN</td>\n",
       "      <td>NaN</td>\n",
       "      <td>NaN</td>\n",
       "      <td>NaN</td>\n",
       "      <td>NaN</td>\n",
       "      <td>NaN</td>\n",
       "    </tr>\n",
       "    <tr>\n",
       "      <th>4</th>\n",
       "      <td>2021-04-12T00:00:00.000</td>\n",
       "      <td>8:25</td>\n",
       "      <td>EDSON AVENUE</td>\n",
       "      <td>0</td>\n",
       "      <td>0</td>\n",
       "      <td>0</td>\n",
       "      <td>0</td>\n",
       "      <td>0</td>\n",
       "      <td>0</td>\n",
       "      <td>0</td>\n",
       "      <td>...</td>\n",
       "      <td>0.0000000</td>\n",
       "      <td>{'latitude': '0.0', 'longitude': '0.0'}</td>\n",
       "      <td>NaN</td>\n",
       "      <td>NaN</td>\n",
       "      <td>NaN</td>\n",
       "      <td>NaN</td>\n",
       "      <td>NaN</td>\n",
       "      <td>NaN</td>\n",
       "      <td>NaN</td>\n",
       "      <td>NaN</td>\n",
       "    </tr>\n",
       "  </tbody>\n",
       "</table>\n",
       "<p>5 rows × 29 columns</p>\n",
       "</div>"
      ],
      "text/plain": [
       "                crash_date crash_time                    on_street_name  \\\n",
       "0  2021-04-14T00:00:00.000       5:32           BRONX WHITESTONE BRIDGE   \n",
       "1  2021-04-13T00:00:00.000      21:35                               NaN   \n",
       "2  2021-04-15T00:00:00.000      16:15          HUTCHINSON RIVER PARKWAY   \n",
       "3  2021-04-13T00:00:00.000      16:00                 VANDERVORT AVENUE   \n",
       "4  2021-04-12T00:00:00.000       8:25  EDSON AVENUE                       \n",
       "\n",
       "  number_of_persons_injured number_of_persons_killed  \\\n",
       "0                         0                        0   \n",
       "1                         1                        0   \n",
       "2                         0                        0   \n",
       "3                         0                        0   \n",
       "4                         0                        0   \n",
       "\n",
       "  number_of_pedestrians_injured number_of_pedestrians_killed  \\\n",
       "0                             0                            0   \n",
       "1                             1                            0   \n",
       "2                             0                            0   \n",
       "3                             0                            0   \n",
       "4                             0                            0   \n",
       "\n",
       "  number_of_cyclist_injured number_of_cyclist_killed  \\\n",
       "0                         0                        0   \n",
       "1                         0                        0   \n",
       "2                         0                        0   \n",
       "3                         0                        0   \n",
       "4                         0                        0   \n",
       "\n",
       "  number_of_motorist_injured  ...    longitude  \\\n",
       "0                          0  ...          NaN   \n",
       "1                          0  ...  -73.9761700   \n",
       "2                          0  ...          NaN   \n",
       "3                          0  ...          NaN   \n",
       "4                          0  ...    0.0000000   \n",
       "\n",
       "                                            location  \\\n",
       "0                                                NaN   \n",
       "1  {'latitude': '40.68358', 'longitude': '-73.976...   \n",
       "2                                                NaN   \n",
       "3                                                NaN   \n",
       "4            {'latitude': '0.0', 'longitude': '0.0'}   \n",
       "\n",
       "                          cross_street_name off_street_name  \\\n",
       "0                                       NaN             NaN   \n",
       "1  620       ATLANTIC AVENUE                            NaN   \n",
       "2                                       NaN             NaN   \n",
       "3                                       NaN  ANTHONY STREET   \n",
       "4                                       NaN             NaN   \n",
       "\n",
       "  contributing_factor_vehicle_3 contributing_factor_vehicle_4  \\\n",
       "0                           NaN                           NaN   \n",
       "1                           NaN                           NaN   \n",
       "2                           NaN                           NaN   \n",
       "3                           NaN                           NaN   \n",
       "4                           NaN                           NaN   \n",
       "\n",
       "  vehicle_type_code_3 vehicle_type_code_4 contributing_factor_vehicle_5  \\\n",
       "0                 NaN                 NaN                           NaN   \n",
       "1                 NaN                 NaN                           NaN   \n",
       "2                 NaN                 NaN                           NaN   \n",
       "3                 NaN                 NaN                           NaN   \n",
       "4                 NaN                 NaN                           NaN   \n",
       "\n",
       "  vehicle_type_code_5  \n",
       "0                 NaN  \n",
       "1                 NaN  \n",
       "2                 NaN  \n",
       "3                 NaN  \n",
       "4                 NaN  \n",
       "\n",
       "[5 rows x 29 columns]"
      ]
     },
     "execution_count": 10,
     "metadata": {},
     "output_type": "execute_result"
    }
   ],
   "source": [
    "dff.head()"
   ]
  },
  {
   "cell_type": "markdown",
   "metadata": {},
   "source": [
    "# Data Cleaning"
   ]
  },
  {
   "cell_type": "code",
   "execution_count": 26,
   "metadata": {},
   "outputs": [
    {
     "data": {
      "text/plain": [
       "pandas.core.frame.DataFrame"
      ]
     },
     "execution_count": 26,
     "metadata": {},
     "output_type": "execute_result"
    }
   ],
   "source": [
    "type(dff)"
   ]
  },
  {
   "cell_type": "code",
   "execution_count": 8,
   "metadata": {},
   "outputs": [
    {
     "data": {
      "text/plain": [
       "crash_date                            0\n",
       "crash_time                            0\n",
       "on_street_name                   102346\n",
       "number_of_persons_injured             1\n",
       "number_of_persons_killed              0\n",
       "number_of_pedestrians_injured         0\n",
       "number_of_pedestrians_killed          0\n",
       "number_of_cyclist_injured             0\n",
       "number_of_cyclist_killed              0\n",
       "number_of_motorist_injured            0\n",
       "number_of_motorist_killed             0\n",
       "contributing_factor_vehicle_1      1682\n",
       "contributing_factor_vehicle_2     78634\n",
       "collision_id                          0\n",
       "vehicle_type_code1                 3631\n",
       "vehicle_type_code2               110155\n",
       "borough                          139555\n",
       "zip_code                         139607\n",
       "latitude                          32661\n",
       "longitude                         32661\n",
       "location                          32661\n",
       "cross_street_name                297675\n",
       "off_street_name                  209335\n",
       "contributing_factor_vehicle_3    365486\n",
       "contributing_factor_vehicle_4    391268\n",
       "vehicle_type_code_3              367472\n",
       "vehicle_type_code_4              391658\n",
       "contributing_factor_vehicle_5    397437\n",
       "vehicle_type_code_5              397515\n",
       "dtype: int64"
      ]
     },
     "execution_count": 8,
     "metadata": {},
     "output_type": "execute_result"
    }
   ],
   "source": [
    "dff.isna().sum()"
   ]
  },
  {
   "cell_type": "code",
   "execution_count": 24,
   "metadata": {},
   "outputs": [
    {
     "name": "stdout",
     "output_type": "stream",
     "text": [
      "<class 'pandas.core.frame.DataFrame'>\n",
      "RangeIndex: 400000 entries, 0 to 399999\n",
      "Data columns (total 29 columns):\n",
      " #   Column                         Non-Null Count   Dtype \n",
      "---  ------                         --------------   ----- \n",
      " 0   crash_date                     400000 non-null  object\n",
      " 1   crash_time                     400000 non-null  object\n",
      " 2   on_street_name                 297654 non-null  object\n",
      " 3   number_of_persons_injured      399999 non-null  object\n",
      " 4   number_of_persons_killed       400000 non-null  object\n",
      " 5   number_of_pedestrians_injured  400000 non-null  object\n",
      " 6   number_of_pedestrians_killed   400000 non-null  object\n",
      " 7   number_of_cyclist_injured      400000 non-null  object\n",
      " 8   number_of_cyclist_killed       400000 non-null  object\n",
      " 9   number_of_motorist_injured     400000 non-null  object\n",
      " 10  number_of_motorist_killed      400000 non-null  object\n",
      " 11  contributing_factor_vehicle_1  398318 non-null  object\n",
      " 12  contributing_factor_vehicle_2  321366 non-null  object\n",
      " 13  collision_id                   400000 non-null  object\n",
      " 14  vehicle_type_code1             396369 non-null  object\n",
      " 15  vehicle_type_code2             289845 non-null  object\n",
      " 16  borough                        260445 non-null  object\n",
      " 17  zip_code                       260393 non-null  object\n",
      " 18  latitude                       367339 non-null  object\n",
      " 19  longitude                      367339 non-null  object\n",
      " 20  location                       367339 non-null  object\n",
      " 21  cross_street_name              102325 non-null  object\n",
      " 22  off_street_name                190665 non-null  object\n",
      " 23  contributing_factor_vehicle_3  34514 non-null   object\n",
      " 24  contributing_factor_vehicle_4  8732 non-null    object\n",
      " 25  vehicle_type_code_3            32528 non-null   object\n",
      " 26  vehicle_type_code_4            8342 non-null    object\n",
      " 27  contributing_factor_vehicle_5  2563 non-null    object\n",
      " 28  vehicle_type_code_5            2485 non-null    object\n",
      "dtypes: object(29)\n",
      "memory usage: 88.5+ MB\n"
     ]
    }
   ],
   "source": [
    "dff.info()"
   ]
  },
  {
   "cell_type": "code",
   "execution_count": 35,
   "metadata": {},
   "outputs": [],
   "source": [
    "# Exclude unnecessary columns\n",
    "dff = dff[['crash_date', 'crash_time','number_of_persons_injured', 'number_of_persons_killed', 'number_of_pedestrians_injured', 'number_of_pedestrians_killed', 'number_of_cyclist_injured','number_of_cyclist_killed', 'number_of_motorist_injured', 'number_of_motorist_killed', 'contributing_factor_vehicle_1', 'contributing_factor_vehicle_2', 'collision_id', 'vehicle_type_code1', 'vehicle_type_code2', 'borough', 'zip_code', 'latitude', 'longitude', 'on_street_name']]\n"
   ]
  },
  {
   "cell_type": "code",
   "execution_count": 36,
   "metadata": {},
   "outputs": [],
   "source": [
    "# Eliminate rows witout lat/lon \n",
    "dff = dff[dff.longitude.notnull()]\n",
    "dff = dff[dff.latitude.notnull()]"
   ]
  },
  {
   "cell_type": "code",
   "execution_count": 37,
   "metadata": {},
   "outputs": [],
   "source": [
    "# Replace borough NaN values with string\n",
    "dff.borough = df.borough.fillna('Not recorded')\n"
   ]
  },
  {
   "cell_type": "code",
   "execution_count": 42,
   "metadata": {},
   "outputs": [],
   "source": [
    "# Convert columns to numeric values\n",
    "numeric_convert_list = ['number_of_persons_injured','number_of_persons_killed','number_of_pedestrians_injured','number_of_pedestrians_killed','number_of_cyclist_injured','number_of_cyclist_killed','number_of_motorist_injured','number_of_motorist_killed','latitude','longitude']\n",
    "#print(numeric_convert_list)\n",
    "dff[numeric_convert_list] = dff[numeric_convert_list].apply(pd.to_numeric)\n",
    "# Column'number_of_persons_injured' converted to float64\n",
    "\n",
    "\n",
    "\n",
    "\n"
   ]
  },
  {
   "cell_type": "markdown",
   "metadata": {},
   "source": [
    "The crash_date columns currently contains string values"
   ]
  },
  {
   "cell_type": "code",
   "execution_count": 38,
   "metadata": {},
   "outputs": [
    {
     "data": {
      "text/plain": [
       "str"
      ]
     },
     "execution_count": 38,
     "metadata": {},
     "output_type": "execute_result"
    }
   ],
   "source": [
    "type(dff.crash_date[1])"
   ]
  },
  {
   "cell_type": "markdown",
   "metadata": {},
   "source": [
    "The pandas.to_datetime() method converts each string value to a datetime object below"
   ]
  },
  {
   "cell_type": "code",
   "execution_count": 39,
   "metadata": {},
   "outputs": [],
   "source": [
    "dff['crash_date'] = pd.to_datetime(dff['crash_date'], format='%Y-%m-%dT%H:%M:%S.%f')"
   ]
  },
  {
   "cell_type": "code",
   "execution_count": 40,
   "metadata": {},
   "outputs": [],
   "source": [
    "# Create year, month, day_of_week columns\n",
    "dff['year'] = dff['crash_date'].dt.year\n",
    "dff['month'] = [int(i.month) for i in dff.crash_date]\n",
    "dff['day_of_week'] = [int(i.weekday()) for i in dff.crash_date]\n",
    "# Create hour column\n",
    "dff['hour'] = pd.to_datetime(dff['crash_time'], format='%H:%M').dt.hour"
   ]
  },
  {
   "cell_type": "code",
   "execution_count": 43,
   "metadata": {},
   "outputs": [
    {
     "data": {
      "text/plain": [
       "crash_date                       datetime64[ns]\n",
       "crash_time                               object\n",
       "number_of_persons_injured               float64\n",
       "number_of_persons_killed                  int64\n",
       "number_of_pedestrians_injured             int64\n",
       "number_of_pedestrians_killed              int64\n",
       "number_of_cyclist_injured                 int64\n",
       "number_of_cyclist_killed                  int64\n",
       "number_of_motorist_injured                int64\n",
       "number_of_motorist_killed                 int64\n",
       "contributing_factor_vehicle_1            object\n",
       "contributing_factor_vehicle_2            object\n",
       "collision_id                             object\n",
       "vehicle_type_code1                       object\n",
       "vehicle_type_code2                       object\n",
       "borough                                  object\n",
       "zip_code                                 object\n",
       "latitude                                float64\n",
       "longitude                               float64\n",
       "on_street_name                           object\n",
       "year                                      int64\n",
       "month                                     int64\n",
       "day_of_week                               int64\n",
       "hour                                      int64\n",
       "dtype: object"
      ]
     },
     "execution_count": 43,
     "metadata": {},
     "output_type": "execute_result"
    }
   ],
   "source": [
    "dff.dtypes"
   ]
  },
  {
   "cell_type": "code",
   "execution_count": 45,
   "metadata": {},
   "outputs": [
    {
     "data": {
      "text/html": [
       "<div>\n",
       "<style scoped>\n",
       "    .dataframe tbody tr th:only-of-type {\n",
       "        vertical-align: middle;\n",
       "    }\n",
       "\n",
       "    .dataframe tbody tr th {\n",
       "        vertical-align: top;\n",
       "    }\n",
       "\n",
       "    .dataframe thead th {\n",
       "        text-align: right;\n",
       "    }\n",
       "</style>\n",
       "<table border=\"1\" class=\"dataframe\">\n",
       "  <thead>\n",
       "    <tr style=\"text-align: right;\">\n",
       "      <th></th>\n",
       "      <th>number_of_persons_injured</th>\n",
       "      <th>number_of_persons_killed</th>\n",
       "      <th>number_of_pedestrians_injured</th>\n",
       "      <th>number_of_pedestrians_killed</th>\n",
       "      <th>number_of_cyclist_injured</th>\n",
       "      <th>number_of_cyclist_killed</th>\n",
       "      <th>number_of_motorist_injured</th>\n",
       "      <th>number_of_motorist_killed</th>\n",
       "      <th>latitude</th>\n",
       "      <th>longitude</th>\n",
       "      <th>year</th>\n",
       "      <th>month</th>\n",
       "      <th>day_of_week</th>\n",
       "      <th>hour</th>\n",
       "    </tr>\n",
       "  </thead>\n",
       "  <tbody>\n",
       "    <tr>\n",
       "      <th>count</th>\n",
       "      <td>367338.000000</td>\n",
       "      <td>367339.000000</td>\n",
       "      <td>367339.000000</td>\n",
       "      <td>367339.000000</td>\n",
       "      <td>367339.000000</td>\n",
       "      <td>367339.000000</td>\n",
       "      <td>367339.000000</td>\n",
       "      <td>367339.000000</td>\n",
       "      <td>367339.000000</td>\n",
       "      <td>367339.000000</td>\n",
       "      <td>367339.000000</td>\n",
       "      <td>367339.000000</td>\n",
       "      <td>367339.000000</td>\n",
       "      <td>367339.000000</td>\n",
       "    </tr>\n",
       "    <tr>\n",
       "      <th>mean</th>\n",
       "      <td>0.374748</td>\n",
       "      <td>0.001936</td>\n",
       "      <td>0.060995</td>\n",
       "      <td>0.000882</td>\n",
       "      <td>0.039103</td>\n",
       "      <td>0.000182</td>\n",
       "      <td>0.268659</td>\n",
       "      <td>0.000836</td>\n",
       "      <td>40.567104</td>\n",
       "      <td>-73.624072</td>\n",
       "      <td>2019.949676</td>\n",
       "      <td>6.841852</td>\n",
       "      <td>2.939533</td>\n",
       "      <td>13.070101</td>\n",
       "    </tr>\n",
       "    <tr>\n",
       "      <th>std</th>\n",
       "      <td>0.734205</td>\n",
       "      <td>0.046069</td>\n",
       "      <td>0.251112</td>\n",
       "      <td>0.029869</td>\n",
       "      <td>0.197044</td>\n",
       "      <td>0.013504</td>\n",
       "      <td>0.698337</td>\n",
       "      <td>0.031769</td>\n",
       "      <td>2.542645</td>\n",
       "      <td>4.613007</td>\n",
       "      <td>0.910148</td>\n",
       "      <td>3.345443</td>\n",
       "      <td>1.959798</td>\n",
       "      <td>5.985283</td>\n",
       "    </tr>\n",
       "    <tr>\n",
       "      <th>min</th>\n",
       "      <td>0.000000</td>\n",
       "      <td>0.000000</td>\n",
       "      <td>0.000000</td>\n",
       "      <td>0.000000</td>\n",
       "      <td>0.000000</td>\n",
       "      <td>0.000000</td>\n",
       "      <td>0.000000</td>\n",
       "      <td>0.000000</td>\n",
       "      <td>0.000000</td>\n",
       "      <td>-74.253006</td>\n",
       "      <td>2012.000000</td>\n",
       "      <td>1.000000</td>\n",
       "      <td>0.000000</td>\n",
       "      <td>0.000000</td>\n",
       "    </tr>\n",
       "    <tr>\n",
       "      <th>25%</th>\n",
       "      <td>0.000000</td>\n",
       "      <td>0.000000</td>\n",
       "      <td>0.000000</td>\n",
       "      <td>0.000000</td>\n",
       "      <td>0.000000</td>\n",
       "      <td>0.000000</td>\n",
       "      <td>0.000000</td>\n",
       "      <td>0.000000</td>\n",
       "      <td>40.667430</td>\n",
       "      <td>-73.962135</td>\n",
       "      <td>2019.000000</td>\n",
       "      <td>4.000000</td>\n",
       "      <td>1.000000</td>\n",
       "      <td>9.000000</td>\n",
       "    </tr>\n",
       "    <tr>\n",
       "      <th>50%</th>\n",
       "      <td>0.000000</td>\n",
       "      <td>0.000000</td>\n",
       "      <td>0.000000</td>\n",
       "      <td>0.000000</td>\n",
       "      <td>0.000000</td>\n",
       "      <td>0.000000</td>\n",
       "      <td>0.000000</td>\n",
       "      <td>0.000000</td>\n",
       "      <td>40.717884</td>\n",
       "      <td>-73.918920</td>\n",
       "      <td>2020.000000</td>\n",
       "      <td>7.000000</td>\n",
       "      <td>3.000000</td>\n",
       "      <td>14.000000</td>\n",
       "    </tr>\n",
       "    <tr>\n",
       "      <th>75%</th>\n",
       "      <td>1.000000</td>\n",
       "      <td>0.000000</td>\n",
       "      <td>0.000000</td>\n",
       "      <td>0.000000</td>\n",
       "      <td>0.000000</td>\n",
       "      <td>0.000000</td>\n",
       "      <td>0.000000</td>\n",
       "      <td>0.000000</td>\n",
       "      <td>40.781680</td>\n",
       "      <td>-73.863250</td>\n",
       "      <td>2021.000000</td>\n",
       "      <td>10.000000</td>\n",
       "      <td>5.000000</td>\n",
       "      <td>18.000000</td>\n",
       "    </tr>\n",
       "    <tr>\n",
       "      <th>max</th>\n",
       "      <td>20.000000</td>\n",
       "      <td>4.000000</td>\n",
       "      <td>7.000000</td>\n",
       "      <td>2.000000</td>\n",
       "      <td>3.000000</td>\n",
       "      <td>1.000000</td>\n",
       "      <td>20.000000</td>\n",
       "      <td>4.000000</td>\n",
       "      <td>40.912884</td>\n",
       "      <td>0.000000</td>\n",
       "      <td>2022.000000</td>\n",
       "      <td>12.000000</td>\n",
       "      <td>6.000000</td>\n",
       "      <td>23.000000</td>\n",
       "    </tr>\n",
       "  </tbody>\n",
       "</table>\n",
       "</div>"
      ],
      "text/plain": [
       "       number_of_persons_injured  number_of_persons_killed  \\\n",
       "count              367338.000000             367339.000000   \n",
       "mean                    0.374748                  0.001936   \n",
       "std                     0.734205                  0.046069   \n",
       "min                     0.000000                  0.000000   \n",
       "25%                     0.000000                  0.000000   \n",
       "50%                     0.000000                  0.000000   \n",
       "75%                     1.000000                  0.000000   \n",
       "max                    20.000000                  4.000000   \n",
       "\n",
       "       number_of_pedestrians_injured  number_of_pedestrians_killed  \\\n",
       "count                  367339.000000                 367339.000000   \n",
       "mean                        0.060995                      0.000882   \n",
       "std                         0.251112                      0.029869   \n",
       "min                         0.000000                      0.000000   \n",
       "25%                         0.000000                      0.000000   \n",
       "50%                         0.000000                      0.000000   \n",
       "75%                         0.000000                      0.000000   \n",
       "max                         7.000000                      2.000000   \n",
       "\n",
       "       number_of_cyclist_injured  number_of_cyclist_killed  \\\n",
       "count              367339.000000             367339.000000   \n",
       "mean                    0.039103                  0.000182   \n",
       "std                     0.197044                  0.013504   \n",
       "min                     0.000000                  0.000000   \n",
       "25%                     0.000000                  0.000000   \n",
       "50%                     0.000000                  0.000000   \n",
       "75%                     0.000000                  0.000000   \n",
       "max                     3.000000                  1.000000   \n",
       "\n",
       "       number_of_motorist_injured  number_of_motorist_killed       latitude  \\\n",
       "count               367339.000000              367339.000000  367339.000000   \n",
       "mean                     0.268659                   0.000836      40.567104   \n",
       "std                      0.698337                   0.031769       2.542645   \n",
       "min                      0.000000                   0.000000       0.000000   \n",
       "25%                      0.000000                   0.000000      40.667430   \n",
       "50%                      0.000000                   0.000000      40.717884   \n",
       "75%                      0.000000                   0.000000      40.781680   \n",
       "max                     20.000000                   4.000000      40.912884   \n",
       "\n",
       "           longitude           year          month    day_of_week  \\\n",
       "count  367339.000000  367339.000000  367339.000000  367339.000000   \n",
       "mean      -73.624072    2019.949676       6.841852       2.939533   \n",
       "std         4.613007       0.910148       3.345443       1.959798   \n",
       "min       -74.253006    2012.000000       1.000000       0.000000   \n",
       "25%       -73.962135    2019.000000       4.000000       1.000000   \n",
       "50%       -73.918920    2020.000000       7.000000       3.000000   \n",
       "75%       -73.863250    2021.000000      10.000000       5.000000   \n",
       "max         0.000000    2022.000000      12.000000       6.000000   \n",
       "\n",
       "                hour  \n",
       "count  367339.000000  \n",
       "mean       13.070101  \n",
       "std         5.985283  \n",
       "min         0.000000  \n",
       "25%         9.000000  \n",
       "50%        14.000000  \n",
       "75%        18.000000  \n",
       "max        23.000000  "
      ]
     },
     "execution_count": 45,
     "metadata": {},
     "output_type": "execute_result"
    }
   ],
   "source": [
    "dff.describe()"
   ]
  },
  {
   "cell_type": "code",
   "execution_count": null,
   "metadata": {},
   "outputs": [],
   "source": [
    "points = dff.contributing_factor_vehicle_1.unique()"
   ]
  },
  {
   "cell_type": "code",
   "execution_count": 137,
   "metadata": {},
   "outputs": [
    {
     "data": {
      "text/plain": [
       "array(['Following Too Closely', 'Unspecified', 'Pavement Slippery',\n",
       "       'Driver Inattention/Distraction', 'Other Vehicular',\n",
       "       'Passing Too Closely', 'Passing or Lane Usage Improper',\n",
       "       'Driver Inexperience', 'Failure to Yield Right-of-Way',\n",
       "       'Brakes Defective', 'Turning Improperly', 'Unsafe Speed',\n",
       "       'Backing Unsafely', 'Reaction to Uninvolved Vehicle',\n",
       "       'View Obstructed/Limited', 'Steering Failure',\n",
       "       'Traffic Control Disregarded', 'Drugs (illegal)',\n",
       "       'Aggressive Driving/Road Rage', 'Fell Asleep',\n",
       "       'Pedestrian/Bicyclist/Other Pedestrian Error/Confusion',\n",
       "       'Alcohol Involvement', 'Unsafe Lane Changing',\n",
       "       'Pavement Defective', 'Other Lighting Defects',\n",
       "       'Oversized Vehicle', 'Animals Action', 'Outside Car Distraction',\n",
       "       'Illnes', 'Driverless/Runaway Vehicle', 'Passenger Distraction',\n",
       "       'Tire Failure/Inadequate', nan, 'Lost Consciousness',\n",
       "       'Accelerator Defective', 'Obstruction/Debris',\n",
       "       'Failure to Keep Right', 'Glare', 'Eating or Drinking',\n",
       "       'Cell Phone (hands-free)', 'Lane Marking Improper/Inadequate',\n",
       "       'Using On Board Navigation Device', 'Fatigued/Drowsy',\n",
       "       'Tow Hitch Defective', 'Physical Disability',\n",
       "       'Cell Phone (hand-Held)', 'Headlights Defective', 'Tinted Windows',\n",
       "       'Vehicle Vandalism', 'Prescription Medication',\n",
       "       'Listening/Using Headphones', 'Texting',\n",
       "       'Traffic Control Device Improper/Non-Working',\n",
       "       'Other Electronic Device', 'Windshield Inadequate',\n",
       "       'Shoulders Defective/Improper', '80'], dtype=object)"
      ]
     },
     "execution_count": 137,
     "metadata": {},
     "output_type": "execute_result"
    }
   ],
   "source": [
    "points"
   ]
  },
  {
   "cell_type": "code",
   "execution_count": 33,
   "metadata": {},
   "outputs": [
    {
     "data": {
      "text/plain": [
       "array(['BROOKLYN', 'Not recorded', 'BRONX', 'STATEN ISLAND', 'QUEENS',\n",
       "       'MANHATTAN'], dtype=object)"
      ]
     },
     "execution_count": 33,
     "metadata": {},
     "output_type": "execute_result"
    }
   ],
   "source": [
    "# \n",
    "dff.borough.unique()\n",
    "#s.str.title()"
   ]
  },
  {
   "cell_type": "code",
   "execution_count": 34,
   "metadata": {},
   "outputs": [
    {
     "data": {
      "text/plain": [
       "array(['Brooklyn', 'Not Recorded', 'Bronx', 'Staten Island', 'Queens',\n",
       "       'Manhattan'], dtype=object)"
      ]
     },
     "execution_count": 34,
     "metadata": {},
     "output_type": "execute_result"
    }
   ],
   "source": [
    "dff['borough'] = dff['borough'].str.title()\n",
    "dff.borough.unique()"
   ]
  },
  {
   "cell_type": "code",
   "execution_count": 47,
   "metadata": {},
   "outputs": [
    {
     "data": {
      "text/plain": [
       "crash_date                            0\n",
       "crash_time                            0\n",
       "number_of_persons_injured             1\n",
       "number_of_persons_killed              0\n",
       "number_of_pedestrians_injured         0\n",
       "number_of_pedestrians_killed          0\n",
       "number_of_cyclist_injured             0\n",
       "number_of_cyclist_killed              0\n",
       "number_of_motorist_injured            0\n",
       "number_of_motorist_killed             0\n",
       "contributing_factor_vehicle_1      1585\n",
       "contributing_factor_vehicle_2     72808\n",
       "collision_id                          0\n",
       "vehicle_type_code1                 3452\n",
       "vehicle_type_code2               102516\n",
       "borough                               0\n",
       "zip_code                         114569\n",
       "latitude                              0\n",
       "longitude                             0\n",
       "on_street_name                    99127\n",
       "year                                  0\n",
       "month                                 0\n",
       "day_of_week                           0\n",
       "hour                                  0\n",
       "dtype: int64"
      ]
     },
     "execution_count": 47,
     "metadata": {},
     "output_type": "execute_result"
    }
   ],
   "source": [
    "dff.isnull().sum()"
   ]
  },
  {
   "cell_type": "markdown",
   "metadata": {},
   "source": [
    "#### Review vehicle type values "
   ]
  },
  {
   "cell_type": "code",
   "execution_count": 51,
   "metadata": {},
   "outputs": [
    {
     "data": {
      "text/plain": [
       "array(['Sedan', 'Station Wagon/Sport Utility Vehicle', '�MBU',\n",
       "       'Pick-up Truck', 'Box Truck', nan, 'Ambulance',\n",
       "       'Tow Truck / Wrecker', 'Taxi', 'E-Bike', 'Van', 'Flat Bed',\n",
       "       'Moped', 'Tractor Truck Diesel', 'AMBULANCE', 'Trailer', 'Bus',\n",
       "       'Motorcycle', 'Garbage or Refuse', 'SCHOOL BUS', 'Lift Boom',\n",
       "       'Bike', 'scooter', 'CATER', 'PKUP', 'FDNY Ambul', '3-Door',\n",
       "       'Beverage Truck', 'SEMI TRAIL', 'Dump', 'Convertible',\n",
       "       '4 dr sedan', 'dump', 'Flat Rack', 'Carry All', 'GARBAGE TR',\n",
       "       'Motorbike', 'Tanker', 'Armored Truck', 'MOPED',\n",
       "       'Bulk Agriculture', 'Motorscooter', 'UTILITY', 'Concrete Mixer',\n",
       "       'Open Body', 'E-Scooter', 'unknown', 'fire truck', 'Glass Rack',\n",
       "       'COMMERCIAL', 'PSD', 'Scooter', 'MTA', 'Multi-Wheeled Vehicle',\n",
       "       'PK', 'Minicycle', 'Truck', 'Chassis Cab', 'LIMO',\n",
       "       'Tractor Truck Gasoline', 'MACK', 'Refrigerated Van', 'CARRIER',\n",
       "       'Fire truck', 'TRUCK', 'ambulance', 'NYPD VAN', '2 dr sedan',\n",
       "       'Pallet', 'AMBULANE', 'AMB', 'Mailtruck', 'Pick up tr', 'EMS bus',\n",
       "       'FORKLIFT', 'SANMEN COU', 'PUMP', 'FIRE TRUCK', 'forklift',\n",
       "       'Dirt Bike', 'FIRETRUCK', 'School Bus', 'FDNY AMBUL', 'SHUTTLE BU',\n",
       "       'FDNY', 'NYS Ambula', 'TOW TRUCK', 'Stake or Rack', 'FORD',\n",
       "       'Van Camper', 'RV', 'USPS TRUCK', 'van', 'UHAL', 'Dodge',\n",
       "       'Mini Van', 'SELF INSUR', 'SCOOTER', 'VAN/TRUCK', 'EMS',\n",
       "       'kick scoot', 'LADDER CO', 'SEMI', 'MTA BUS', 'Commercial', 'Ambu',\n",
       "       'TRUCK COMM', 'FORD VAN', 'Ford Van', 'MOTOR SCOO', 'DELIVERY T',\n",
       "       'Enclosed Body - Nonremovable Enclosure', 'Skywatch', 'DUMP TRUCK',\n",
       "       'COM', 'ELECTRIC S', 'Lunch Wagon', 'SPRINTER V', 'TL',\n",
       "       'MACK TRUCK', 'Minibike', 'PICK UP', 'tow truck', 'Hopper',\n",
       "       'UNKNOWN', 'Horse trai', 'AMBU', 'Passenger', 'crane', 'PAS',\n",
       "       'DIRT BIKE', 'G COM', 'NYC FIRE T', 'truck', 'FDNY FIRE',\n",
       "       'pick up tr', 'SELF', 'Motorscoot', 'FORD SPRIN', 'AMBUKANCE',\n",
       "       'Backhoe Lo', 'Snow Plow', 'REFG', 'POWER LADD', 'BOX TRUCK',\n",
       "       'utility tr', 'UTILITY VE', 'Mercedes', 'PICKUP', 'firetruck',\n",
       "       'Fire', 'OML/OMNIBU', 'post offic', 'pick up', 'DELV BR',\n",
       "       'Well Driller', 'FDNY truck', 'MTA bus', 'Fire Truck', 'Vanette',\n",
       "       'AMBULENCE', 'FDNY ENGIN', 'EMS Ambula', 'TRAILER', 'TRAC',\n",
       "       'E-scooter', 'NYC AMBULA', 'Pickup with mounted Camper', 'pickup',\n",
       "       'Forklift', 'PASSENGER', 'TRACTOR TR', 'CMIXER', 'trailer',\n",
       "       'US POSTAL', 'FDNY TRUCK', 'DUMP', 'GAS SCOOTE', 'OTHER',\n",
       "       'TRAILER/FL', 'POSTAL VEH', 'FLAT', 'DELV', 'G PSD', 'USPS', 'PC',\n",
       "       'HERTZ RAM', 'Fire Engin', 'SUBN - AMB', 'SPARK150 S', 'MTA Bus',\n",
       "       'PICKUP TRU', 'Livestock Rack', 'TRAILEE', 'UPS TRUCK',\n",
       "       'FDNY CHIEF', 'SPECIAL CO', 'Quality tr', 'box truck',\n",
       "       'Garbage Tr', 'con ed tru', 'ROAD SWEEP', 'UTIL', 'BOBCAT', 'ford',\n",
       "       'Pick up', 'Amb', '7532433', 'SUBURBAN', 'Unk', '4DS', 'Tow Truck',\n",
       "       'FIRE ENGIN', 'sanitaion', 'POWER SHOV', 'Ram Promas', 'passenger',\n",
       "       'SKID LOADE', 'MARKED VAN', 'EXCAVATOR', 'Power Shov', 'BULLDOZER',\n",
       "       'HD', 'SANITATION', 'Excavator', 'SKYWATCH', 'NYNJ RAIL',\n",
       "       'truck trai', 'box', 'utility', 'AMUBULANCE', 'sedan', 'ambu',\n",
       "       'Postal tru', 'commercial', 'SNOW PLOW', 'Dump truck',\n",
       "       'FRHT TRAIL', 'TRK', 'Van truck', 'FDNY EMS', 'Unknown',\n",
       "       'MTA truck', 'STAK', 'NIU', 'TRACTOR', 'USPS TRUC,', 'na',\n",
       "       'Government', 'Sanitation', 'FIRET TRUC', 'G AMB', 'tow',\n",
       "       'UTILITY WH', 'Tk', 'Fedex', 'PICK UP TR', 'U HAUL TRU', 'Subr',\n",
       "       'USPS Truck', 'VAN TRUCK', 'fdny ambul', 'ambulette', 'TRAILOR',\n",
       "       'CEMENT TRU', 'Sprinter v', 'FORK LIFT', 'nyc EMS', 'road sweep',\n",
       "       'REP', 'Com', 'refuse tru', 'Motorized Home', 'Flat bed t',\n",
       "       'Box truck', 'TRUCK TRAI', 'Ambulette', 'USPS truck', 'FDNY FIRET',\n",
       "       'CMIX', 'util', 'LADDER TRU', 'sanitaton', 'tk', 'g com',\n",
       "       'E-SKATEBOA', 'Enclosed Body - Removable Enclosure', 'usps 88716',\n",
       "       'ebike', 'SEDAN', 'PERM', 'TF', 'Firetruck', 'ESCOOTER S', 'FIRE',\n",
       "       'MOTOR HOME', 'CITY', 'CAMPER VAN', 'mini van', 'usps truck', 'tr',\n",
       "       'TANK', 'Grumman LL', '994', 'Electric S', 'ESU REP', 'NYPD TOW T',\n",
       "       'mailtruck', 'White Van', 'Dent and S', \"''lime mope\", 'Pick wh',\n",
       "       'NYC SANITA', 'gas scoote', 'NYS AMBULA', 'DODGE RAM', 'HWH',\n",
       "       'Unmarked V', 'BOX', 'Pedicab', 'Gas scoote', 'CHERV',\n",
       "       'Post offic', 'SKATEBOARD', 'USPS MAIL', 'crane boom',\n",
       "       'MOVING TRU', 'Yamaha', 'MINI BUS', 'Work Van', 'Fork lift',\n",
       "       'commerical', 'SEDONA', 'TLC', 'FDNY LADDE', 'Mopd', 'UTILITY VA',\n",
       "       'GAS POWERE', 'GOLF CART', 'ENGINE SP0', 'Pass', 'US Mail Tr',\n",
       "       'gas mo ped', 'SCOOTER GA', 'Pro master', 'forlift', 'MOTOR SKAT',\n",
       "       'Can', 'FLATBED FR', 'N/A', 'postal van', 'UNK', 'FIRTRUCK',\n",
       "       'skateboard', 'TTAILER', 'fdny ems', 'AMBULACE', 'bus',\n",
       "       'Street Swe', 'FDNY fire', 'DELIVERY', 'Cement Tru', 'USPS/GOVT',\n",
       "       'TRUCK VAN', 'SUV', 'CATAPILLAR', 'SWT', 'Trac', 'FLAT  BED',\n",
       "       'E-BIKE', 'Fork Lift', 'COURIER', 'Courier', 'SMART CAR',\n",
       "       'message si', 'moped', 'E-UNICYCLE', 'Street Cle', 'F550',\n",
       "       'Lawnmower', 'BICYCLE', 'almbulance', 'dark color', 'ford van',\n",
       "       'Tractor tr', 'FD LADDER', 'FDNY Engin', 'OTH', 'Go kart',\n",
       "       'CHEVY EXPR', 'SLINGSHOT', 'dilevery t', 'FDNY #226', 'FREIGHT FL',\n",
       "       'UNKN', 'MOVING VAN', 'usps', 'backhoe', 'Delv', 'dump truck',\n",
       "       'Freight', 'Horse', 'Cargo Van', 'USPS VAN', 'TRUCK FLAT',\n",
       "       'BOBCAT FOR', 'Pumper', 'DELIVERY V', 'DOT EQUIPM', 'GEN  AMBUL',\n",
       "       '18 WHEELER', 'MOTORSCOOT', 'government', 'Front-Load',\n",
       "       'DRILL RIG', 'Wh Ford co', 'suburban', 'E REVEL SC', 'LIGHT TRAI',\n",
       "       'Tractor', 'UT', 'cross', 'FOOD TRUCK', 'Bucket Tru', 'JOHN DEERE',\n",
       "       'f-250', 'PICK-UP TR', 'BACK HOE', 'MECHANICAL', 'postal tru',\n",
       "       'CHEVROLET', 'WORK VAN', 'Fdny ambul', 'NYC FD', 'E-bike',\n",
       "       'FUSION', 'POSTAL TRU', 'LCOMM', 'e skate bo', 'Ford sprin',\n",
       "       'Work van', 'FREIG', 'FLATBED', 'Trc', 'Pick up Tr', '0',\n",
       "       'postal bus', 'hrse', 'CAT', 'E bike', 'FDNY Fire', 'com',\n",
       "       'CARGO VAN', 'ELEC. UNIC', 'DEPARTMENT', 'FDNY Firet', 'Self',\n",
       "       'Delivery', 'E scooter', 'Garbage tr', '50cc Scoot', 'Cement tru',\n",
       "       'work truck', 'FDNY Truck', 'USPS POSTA', 'Mack Truck', 'VMS',\n",
       "       'Ram', 'TLR', 'Constructi', 'School bus', 'SCHOOL  BU',\n",
       "       'NonMotordS', 'Mack', 'police rep', 'EC3', 'ECONOLINE', 'UPS',\n",
       "       'RGR', 'VAN WH', 'White ambu', 'Utility.', 'FREIGHT TR', 'TRAIL',\n",
       "       'Tow truck', 'FDNY EMT', 'TRL', 'FREIG DELV', 'FREIGHTLIN', 'pc',\n",
       "       'delviery', 'Tow', 'E-Bik', 'Horse Trai', 'delivery v',\n",
       "       'escavator', 'OMR', 'P/SH', 'ford econo', 'pick', 'MAIL TRUCK',\n",
       "       'USPS #7530', 'Hearse', 'SE', 'PUSH SCOOT', 'postal ser',\n",
       "       'school bus', 'nat grid t', 'yellow cab', 'G com', 'COM TRANS',\n",
       "       'LIT DIRECT', 'backh', 'D/V WB', 'Bobcat', 'UTILITY TR',\n",
       "       'food truck', 'EMERGENCY', 'fdny truck', 'amb', 'WAGON', 'T880',\n",
       "       'pay loader', 'sprinter v', 'tractor tr', 'FDNY EMS V', 'CO',\n",
       "       'AMBULETTE', 'OMS', 'RV/VAN', 'TR-Trailer', 'ESU RESCUE', 'City',\n",
       "       'pedicab', 'TTRAILER', 'I-haul', 'BOOM LIFT', 'Toyota',\n",
       "       'MINI SCHOO', 'U-Haul min', 'Pickup tru', 'freight', '12 PASSENG',\n",
       "       'STREET SWE', '12 passage', 'FIRE APPAR', 'STREET CLE', 'PUMPER',\n",
       "       'pas', 'UNK BOX TR', 'nys ambula', 'unk', 'M2', 'LOCOMOTIVE',\n",
       "       'Pas (4dr s', 'Horse carr', 'Backhoe', 'USPS small', 'FOOD CART',\n",
       "       'APP', 'DUMPTRUCK', 'SPR', 'CAT FORKLI', 'YELLOWPOWE', '197209',\n",
       "       'posta', 'E450', 'UTILI', 'Ambul', 'SCHOO', 'Tow t', 'E-Sco',\n",
       "       'towe truck', 'utili', 'St', 'amulance', 'UNKNO', 'DEPT VAN #',\n",
       "       'MOPD', 'GRUMM', 'Trail', 'FIRET', 'Wagon', 'AMBUL', 'E bik',\n",
       "       'PSH', 'US PO', 'TRACT', 'BOX T', 'UHUAL', 'BACKH', 'DELVI',\n",
       "       'box t', 'SCOOT', 'picku', 'trail', 'DELIV', 'van t', 'SKATE',\n",
       "       'POSTA', 'Box T', 'SANIT', 'Forkl', 'ECONO', 'VAN/T', 'tract',\n",
       "       'FUEL', 'TANKE', 'GARBA', '3 WHE', '2015', 'SPRIN', 'road',\n",
       "       'DOT T', 'CRANE', 'MTA B', 'FLAT/', 'Food', 'deliv', 'COMME',\n",
       "       'scoot', 'acces', 'ROAD', 'schoo', 'STREE', 'FEDEX', 'fdny',\n",
       "       'LIEBH', 'CAB', 'TOW T', 'USP M', 'SANTI', 'tow t', 'comme',\n",
       "       'prks', 'Unkno', 'limo', 'ambul', 'g spc', 'CONT', 'HI TA', 'CAT.',\n",
       "       'POLIC', 'Parce', 'PICKU', 'fire', 'Const', 'COMM', '35 FT',\n",
       "       'WINEB', 'PU', 'BoxTr', 'forkl', 'Tow T', 'TOWTR', 'PICK-',\n",
       "       'E BIK', 'POWER', 'MINI', 'trl', 'ELECT', 'TRLR', 'stree', 'elect',\n",
       "       'VAN T', 'Golf', 'FORK', 'vespa', 'Sprin', 'MOBIL', 'back',\n",
       "       'LIMOU', 'UHAUL', 'BS', 'excav', 'APPOR', 'F650', 'Scoot', 'golf',\n",
       "       'Mta', 'Van T', 'SKID-', 'firet', 'E SCO', 'DIRT', 'Schoo',\n",
       "       'ICE C', 'motor', 'KUBOT', 'NYS A', 'range', 'LMB', 'BULLD',\n",
       "       'horse', 'ACCES', 'FLATB', 'Barri', 'subn', 'comm.', 'MAIL',\n",
       "       'WHITE', 'unkow', 'FORKL', 'Acces', 'Van (', 'Motor', 'BTM',\n",
       "       'US Po', 'Pas', 'Attac', 'NTTRL', 'MOTOR', 'YELLO', 'movin',\n",
       "       'nypd', 'SUBUR', 'Elect', 'Rescu', 'E-BIK', 'COURI', 'E - B',\n",
       "       'NAVIG', 'Subn', 'Box t', 'mta b', 'COMMU', 'TIR', 'st', 'CONST',\n",
       "       'Motor Home', 'TRACK EXCA', 'concr', 'HINO', 'dumps', 'semi',\n",
       "       'Stree', 'CAT P'], dtype=object)"
      ]
     },
     "execution_count": 51,
     "metadata": {},
     "output_type": "execute_result"
    }
   ],
   "source": [
    "dff.vehicle_type_code1.unique()"
   ]
  },
  {
   "cell_type": "code",
   "execution_count": null,
   "metadata": {},
   "outputs": [],
   "source": [
    "# vehicle_type_code1 ( ckeck values and categories) \n",
    "# fdny truck, FDNY TRUCK, fire truck,fdny truck, Fire truck, FDNY, FIRE TRUCK, FIRETRUCK,FDNY FIRE, firetruck, Fire Truck, FDNY TRUCK, FIRET TRUC, DNY FIRET   \n",
    "# Motorcycle, Motorbike, Bike, Dirt Bike\n",
    "# AMBULANCE, FDNY Ambul, AMBULANE, ambulance, FDNY AMBUL, NYS Ambula, EMS, Ambu, AMBU, AMBUKANCE, EMS Ambula, NYC AMBULA, FDNY EMS, AMBULACE, almbulance, ambul\n",
    "# "
   ]
  },
  {
   "cell_type": "markdown",
   "metadata": {},
   "source": [
    "### Check columns with missing values (Replace missing values)"
   ]
  },
  {
   "cell_type": "code",
   "execution_count": 57,
   "metadata": {},
   "outputs": [
    {
     "name": "stdout",
     "output_type": "stream",
     "text": [
      "<class 'pandas.core.frame.DataFrame'>\n",
      "Int64Index: 367339 entries, 1 to 399999\n",
      "Data columns (total 24 columns):\n",
      " #   Column                         Non-Null Count   Dtype         \n",
      "---  ------                         --------------   -----         \n",
      " 0   crash_date                     367339 non-null  datetime64[ns]\n",
      " 1   crash_time                     367339 non-null  object        \n",
      " 2   number_of_persons_injured      367338 non-null  float64       \n",
      " 3   number_of_persons_killed       367339 non-null  int64         \n",
      " 4   number_of_pedestrians_injured  367339 non-null  int64         \n",
      " 5   number_of_pedestrians_killed   367339 non-null  int64         \n",
      " 6   number_of_cyclist_injured      367339 non-null  int64         \n",
      " 7   number_of_cyclist_killed       367339 non-null  int64         \n",
      " 8   number_of_motorist_injured     367339 non-null  int64         \n",
      " 9   number_of_motorist_killed      367339 non-null  int64         \n",
      " 10  contributing_factor_vehicle_1  365754 non-null  object        \n",
      " 11  contributing_factor_vehicle_2  294531 non-null  object        \n",
      " 12  collision_id                   367339 non-null  object        \n",
      " 13  vehicle_type_code1             363887 non-null  object        \n",
      " 14  vehicle_type_code2             264823 non-null  object        \n",
      " 15  borough                        367339 non-null  object        \n",
      " 16  zip_code                       252770 non-null  object        \n",
      " 17  latitude                       367339 non-null  float64       \n",
      " 18  longitude                      367339 non-null  float64       \n",
      " 19  on_street_name                 367339 non-null  object        \n",
      " 20  year                           367339 non-null  int64         \n",
      " 21  month                          367339 non-null  int64         \n",
      " 22  day_of_week                    367339 non-null  int64         \n",
      " 23  hour                           367339 non-null  int64         \n",
      "dtypes: datetime64[ns](1), float64(3), int64(11), object(9)\n",
      "memory usage: 78.1+ MB\n"
     ]
    }
   ],
   "source": [
    "dff.info()"
   ]
  },
  {
   "cell_type": "markdown",
   "metadata": {},
   "source": [
    "#### The on_street_name  conlumn's missing cells will be replace by string 'Not described'\n"
   ]
  },
  {
   "cell_type": "code",
   "execution_count": 54,
   "metadata": {},
   "outputs": [],
   "source": [
    "dff.on_street_name.fillna(value='Not described',inplace=True)"
   ]
  },
  {
   "cell_type": "markdown",
   "metadata": {},
   "source": [
    "#### The column contributing_factor_vehicle_1's missing values  will be replace with most common value"
   ]
  },
  {
   "cell_type": "code",
   "execution_count": 58,
   "metadata": {},
   "outputs": [
    {
     "data": {
      "text/plain": [
       "Driver Inattention/Distraction    93948\n",
       "Unspecified                       91937\n",
       "Following Too Closely             25388\n",
       "Failure to Yield Right-of-Way     25208\n",
       "Passing or Lane Usage Improper    15277\n",
       "Name: contributing_factor_vehicle_1, dtype: int64"
      ]
     },
     "execution_count": 58,
     "metadata": {},
     "output_type": "execute_result"
    }
   ],
   "source": [
    "dff.contributing_factor_vehicle_1.value_counts().head()"
   ]
  },
  {
   "cell_type": "code",
   "execution_count": 59,
   "metadata": {},
   "outputs": [],
   "source": [
    "dff.contributing_factor_vehicle_1.fillna(value='Driver Inattention/Distraction',inplace=True)"
   ]
  },
  {
   "cell_type": "code",
   "execution_count": 60,
   "metadata": {},
   "outputs": [
    {
     "name": "stdout",
     "output_type": "stream",
     "text": [
      "<class 'pandas.core.frame.DataFrame'>\n",
      "Int64Index: 367339 entries, 1 to 399999\n",
      "Data columns (total 24 columns):\n",
      " #   Column                         Non-Null Count   Dtype         \n",
      "---  ------                         --------------   -----         \n",
      " 0   crash_date                     367339 non-null  datetime64[ns]\n",
      " 1   crash_time                     367339 non-null  object        \n",
      " 2   number_of_persons_injured      367338 non-null  float64       \n",
      " 3   number_of_persons_killed       367339 non-null  int64         \n",
      " 4   number_of_pedestrians_injured  367339 non-null  int64         \n",
      " 5   number_of_pedestrians_killed   367339 non-null  int64         \n",
      " 6   number_of_cyclist_injured      367339 non-null  int64         \n",
      " 7   number_of_cyclist_killed       367339 non-null  int64         \n",
      " 8   number_of_motorist_injured     367339 non-null  int64         \n",
      " 9   number_of_motorist_killed      367339 non-null  int64         \n",
      " 10  contributing_factor_vehicle_1  367339 non-null  object        \n",
      " 11  contributing_factor_vehicle_2  294531 non-null  object        \n",
      " 12  collision_id                   367339 non-null  object        \n",
      " 13  vehicle_type_code1             363887 non-null  object        \n",
      " 14  vehicle_type_code2             264823 non-null  object        \n",
      " 15  borough                        367339 non-null  object        \n",
      " 16  zip_code                       252770 non-null  object        \n",
      " 17  latitude                       367339 non-null  float64       \n",
      " 18  longitude                      367339 non-null  float64       \n",
      " 19  on_street_name                 367339 non-null  object        \n",
      " 20  year                           367339 non-null  int64         \n",
      " 21  month                          367339 non-null  int64         \n",
      " 22  day_of_week                    367339 non-null  int64         \n",
      " 23  hour                           367339 non-null  int64         \n",
      "dtypes: datetime64[ns](1), float64(3), int64(11), object(9)\n",
      "memory usage: 78.1+ MB\n"
     ]
    }
   ],
   "source": [
    "dff.info()"
   ]
  },
  {
   "cell_type": "markdown",
   "metadata": {},
   "source": [
    "#### Replace vehicle 1 type with most common vehicle type"
   ]
  },
  {
   "cell_type": "code",
   "execution_count": 65,
   "metadata": {},
   "outputs": [
    {
     "data": {
      "text/plain": [
       "Sedan                                  172399\n",
       "Station Wagon/Sport Utility Vehicle    134161\n",
       "Taxi                                    13200\n",
       "Pick-up Truck                            9193\n",
       "Box Truck                                6926\n",
       "Name: vehicle_type_code1, dtype: int64"
      ]
     },
     "execution_count": 65,
     "metadata": {},
     "output_type": "execute_result"
    }
   ],
   "source": [
    "dff.vehicle_type_code1.value_counts().head()"
   ]
  },
  {
   "cell_type": "code",
   "execution_count": 63,
   "metadata": {},
   "outputs": [],
   "source": [
    "dff.vehicle_type_code1.fillna(value='Sedan',inplace=True)"
   ]
  },
  {
   "cell_type": "code",
   "execution_count": 64,
   "metadata": {},
   "outputs": [
    {
     "name": "stdout",
     "output_type": "stream",
     "text": [
      "<class 'pandas.core.frame.DataFrame'>\n",
      "Int64Index: 367339 entries, 1 to 399999\n",
      "Data columns (total 24 columns):\n",
      " #   Column                         Non-Null Count   Dtype         \n",
      "---  ------                         --------------   -----         \n",
      " 0   crash_date                     367339 non-null  datetime64[ns]\n",
      " 1   crash_time                     367339 non-null  object        \n",
      " 2   number_of_persons_injured      367338 non-null  float64       \n",
      " 3   number_of_persons_killed       367339 non-null  int64         \n",
      " 4   number_of_pedestrians_injured  367339 non-null  int64         \n",
      " 5   number_of_pedestrians_killed   367339 non-null  int64         \n",
      " 6   number_of_cyclist_injured      367339 non-null  int64         \n",
      " 7   number_of_cyclist_killed       367339 non-null  int64         \n",
      " 8   number_of_motorist_injured     367339 non-null  int64         \n",
      " 9   number_of_motorist_killed      367339 non-null  int64         \n",
      " 10  contributing_factor_vehicle_1  367339 non-null  object        \n",
      " 11  contributing_factor_vehicle_2  294531 non-null  object        \n",
      " 12  collision_id                   367339 non-null  object        \n",
      " 13  vehicle_type_code1             367339 non-null  object        \n",
      " 14  vehicle_type_code2             264823 non-null  object        \n",
      " 15  borough                        367339 non-null  object        \n",
      " 16  zip_code                       252770 non-null  object        \n",
      " 17  latitude                       367339 non-null  float64       \n",
      " 18  longitude                      367339 non-null  float64       \n",
      " 19  on_street_name                 367339 non-null  object        \n",
      " 20  year                           367339 non-null  int64         \n",
      " 21  month                          367339 non-null  int64         \n",
      " 22  day_of_week                    367339 non-null  int64         \n",
      " 23  hour                           367339 non-null  int64         \n",
      "dtypes: datetime64[ns](1), float64(3), int64(11), object(9)\n",
      "memory usage: 78.1+ MB\n"
     ]
    }
   ],
   "source": [
    "dff.info()"
   ]
  },
  {
   "cell_type": "markdown",
   "metadata": {},
   "source": [
    "#  Overview of Vehicles Involved in Collitions\n",
    "\n"
   ]
  },
  {
   "cell_type": "markdown",
   "metadata": {},
   "source": [
    "Now lets compute the percentage of vehicle types involve in crashes\n",
    "- Vehicle 1"
   ]
  },
  {
   "cell_type": "code",
   "execution_count": 29,
   "metadata": {},
   "outputs": [],
   "source": [
    "v1 = dff.vehicle_type_code1\n",
    "counts = v1.value_counts()\n",
    "percent = v1.value_counts(normalize=True)\n",
    "percent100 = percent.mul(100).round(1).astype(str) + '%'\n",
    "vehicle1_df = pd.DataFrame({'counts': counts, 'percent': percent, 'percent100': percent100})"
   ]
  },
  {
   "cell_type": "code",
   "execution_count": 30,
   "metadata": {},
   "outputs": [
    {
     "data": {
      "text/html": [
       "<div>\n",
       "<style scoped>\n",
       "    .dataframe tbody tr th:only-of-type {\n",
       "        vertical-align: middle;\n",
       "    }\n",
       "\n",
       "    .dataframe tbody tr th {\n",
       "        vertical-align: top;\n",
       "    }\n",
       "\n",
       "    .dataframe thead th {\n",
       "        text-align: right;\n",
       "    }\n",
       "</style>\n",
       "<table border=\"1\" class=\"dataframe\">\n",
       "  <thead>\n",
       "    <tr style=\"text-align: right;\">\n",
       "      <th></th>\n",
       "      <th>counts</th>\n",
       "      <th>percent</th>\n",
       "      <th>percent100</th>\n",
       "    </tr>\n",
       "  </thead>\n",
       "  <tbody>\n",
       "    <tr>\n",
       "      <th>Sedan</th>\n",
       "      <td>168934</td>\n",
       "      <td>0.464237</td>\n",
       "      <td>46.4%</td>\n",
       "    </tr>\n",
       "    <tr>\n",
       "      <th>Station Wagon/Sport Utility Vehicle</th>\n",
       "      <td>134169</td>\n",
       "      <td>0.368701</td>\n",
       "      <td>36.9%</td>\n",
       "    </tr>\n",
       "    <tr>\n",
       "      <th>Taxi</th>\n",
       "      <td>13216</td>\n",
       "      <td>0.036318</td>\n",
       "      <td>3.6%</td>\n",
       "    </tr>\n",
       "    <tr>\n",
       "      <th>Pick-up Truck</th>\n",
       "      <td>9198</td>\n",
       "      <td>0.025276</td>\n",
       "      <td>2.5%</td>\n",
       "    </tr>\n",
       "    <tr>\n",
       "      <th>Box Truck</th>\n",
       "      <td>6932</td>\n",
       "      <td>0.019049</td>\n",
       "      <td>1.9%</td>\n",
       "    </tr>\n",
       "    <tr>\n",
       "      <th>Bus</th>\n",
       "      <td>5798</td>\n",
       "      <td>0.015933</td>\n",
       "      <td>1.6%</td>\n",
       "    </tr>\n",
       "    <tr>\n",
       "      <th>Bike</th>\n",
       "      <td>4031</td>\n",
       "      <td>0.011077</td>\n",
       "      <td>1.1%</td>\n",
       "    </tr>\n",
       "    <tr>\n",
       "      <th>Tractor Truck Diesel</th>\n",
       "      <td>2662</td>\n",
       "      <td>0.007315</td>\n",
       "      <td>0.7%</td>\n",
       "    </tr>\n",
       "    <tr>\n",
       "      <th>Motorcycle</th>\n",
       "      <td>2452</td>\n",
       "      <td>0.006738</td>\n",
       "      <td>0.7%</td>\n",
       "    </tr>\n",
       "    <tr>\n",
       "      <th>Van</th>\n",
       "      <td>2249</td>\n",
       "      <td>0.006180</td>\n",
       "      <td>0.6%</td>\n",
       "    </tr>\n",
       "  </tbody>\n",
       "</table>\n",
       "</div>"
      ],
      "text/plain": [
       "                                     counts   percent percent100\n",
       "Sedan                                168934  0.464237      46.4%\n",
       "Station Wagon/Sport Utility Vehicle  134169  0.368701      36.9%\n",
       "Taxi                                  13216  0.036318       3.6%\n",
       "Pick-up Truck                          9198  0.025276       2.5%\n",
       "Box Truck                              6932  0.019049       1.9%\n",
       "Bus                                    5798  0.015933       1.6%\n",
       "Bike                                   4031  0.011077       1.1%\n",
       "Tractor Truck Diesel                   2662  0.007315       0.7%\n",
       "Motorcycle                             2452  0.006738       0.7%\n",
       "Van                                    2249  0.006180       0.6%"
      ]
     },
     "execution_count": 30,
     "metadata": {},
     "output_type": "execute_result"
    }
   ],
   "source": [
    "vehicle1_df.head(10)"
   ]
  },
  {
   "cell_type": "markdown",
   "metadata": {},
   "source": [
    "- Vehicle 2 "
   ]
  },
  {
   "cell_type": "code",
   "execution_count": 31,
   "metadata": {},
   "outputs": [],
   "source": [
    "v2 = dff.vehicle_type_code2\n",
    "# s = df.keywords\n",
    "counts2 = v2.value_counts()\n",
    "percent2 = v2.value_counts(normalize=True)\n",
    "percent2_100 = v2.value_counts(normalize=True).mul(100).round(1).astype(str) + '%'\n",
    "vehicle2_df = pd.DataFrame({'counts': counts2, 'percent': percent2, 'percent100': percent2_100})"
   ]
  },
  {
   "cell_type": "code",
   "execution_count": 32,
   "metadata": {},
   "outputs": [
    {
     "data": {
      "text/html": [
       "<div>\n",
       "<style scoped>\n",
       "    .dataframe tbody tr th:only-of-type {\n",
       "        vertical-align: middle;\n",
       "    }\n",
       "\n",
       "    .dataframe tbody tr th {\n",
       "        vertical-align: top;\n",
       "    }\n",
       "\n",
       "    .dataframe thead th {\n",
       "        text-align: right;\n",
       "    }\n",
       "</style>\n",
       "<table border=\"1\" class=\"dataframe\">\n",
       "  <thead>\n",
       "    <tr style=\"text-align: right;\">\n",
       "      <th></th>\n",
       "      <th>counts</th>\n",
       "      <th>percent</th>\n",
       "      <th>percent100</th>\n",
       "    </tr>\n",
       "  </thead>\n",
       "  <tbody>\n",
       "    <tr>\n",
       "      <th>Sedan</th>\n",
       "      <td>112003</td>\n",
       "      <td>0.422771</td>\n",
       "      <td>42.3%</td>\n",
       "    </tr>\n",
       "    <tr>\n",
       "      <th>Station Wagon/Sport Utility Vehicle</th>\n",
       "      <td>90620</td>\n",
       "      <td>0.342058</td>\n",
       "      <td>34.2%</td>\n",
       "    </tr>\n",
       "    <tr>\n",
       "      <th>Bike</th>\n",
       "      <td>10778</td>\n",
       "      <td>0.040683</td>\n",
       "      <td>4.1%</td>\n",
       "    </tr>\n",
       "    <tr>\n",
       "      <th>Taxi</th>\n",
       "      <td>8349</td>\n",
       "      <td>0.031514</td>\n",
       "      <td>3.2%</td>\n",
       "    </tr>\n",
       "    <tr>\n",
       "      <th>Box Truck</th>\n",
       "      <td>8088</td>\n",
       "      <td>0.030529</td>\n",
       "      <td>3.1%</td>\n",
       "    </tr>\n",
       "    <tr>\n",
       "      <th>Pick-up Truck</th>\n",
       "      <td>7974</td>\n",
       "      <td>0.030099</td>\n",
       "      <td>3.0%</td>\n",
       "    </tr>\n",
       "    <tr>\n",
       "      <th>Bus</th>\n",
       "      <td>4984</td>\n",
       "      <td>0.018813</td>\n",
       "      <td>1.9%</td>\n",
       "    </tr>\n",
       "    <tr>\n",
       "      <th>Tractor Truck Diesel</th>\n",
       "      <td>2637</td>\n",
       "      <td>0.009954</td>\n",
       "      <td>1.0%</td>\n",
       "    </tr>\n",
       "    <tr>\n",
       "      <th>E-Bike</th>\n",
       "      <td>2435</td>\n",
       "      <td>0.009191</td>\n",
       "      <td>0.9%</td>\n",
       "    </tr>\n",
       "    <tr>\n",
       "      <th>Motorcycle</th>\n",
       "      <td>2131</td>\n",
       "      <td>0.008044</td>\n",
       "      <td>0.8%</td>\n",
       "    </tr>\n",
       "  </tbody>\n",
       "</table>\n",
       "</div>"
      ],
      "text/plain": [
       "                                     counts   percent percent100\n",
       "Sedan                                112003  0.422771      42.3%\n",
       "Station Wagon/Sport Utility Vehicle   90620  0.342058      34.2%\n",
       "Bike                                  10778  0.040683       4.1%\n",
       "Taxi                                   8349  0.031514       3.2%\n",
       "Box Truck                              8088  0.030529       3.1%\n",
       "Pick-up Truck                          7974  0.030099       3.0%\n",
       "Bus                                    4984  0.018813       1.9%\n",
       "Tractor Truck Diesel                   2637  0.009954       1.0%\n",
       "E-Bike                                 2435  0.009191       0.9%\n",
       "Motorcycle                             2131  0.008044       0.8%"
      ]
     },
     "execution_count": 32,
     "metadata": {},
     "output_type": "execute_result"
    }
   ],
   "source": [
    "vehicle2_df.head(10)"
   ]
  },
  {
   "cell_type": "markdown",
   "metadata": {},
   "source": [
    "# Visualization of collisions with fatalities in 2021"
   ]
  },
  {
   "cell_type": "code",
   "execution_count": 42,
   "metadata": {},
   "outputs": [],
   "source": [
    "# Condition to filter year and records with person killed\n",
    "fatal_2021_cond = (dff['year'] == 2021 ) & (dff['number_of_persons_killed']>=1)"
   ]
  },
  {
   "cell_type": "code",
   "execution_count": 43,
   "metadata": {},
   "outputs": [],
   "source": [
    "# Create new DataFrame that meets conditions\n",
    "df_2021_p_killed = dff[fatal_2021_cond]"
   ]
  },
  {
   "cell_type": "code",
   "execution_count": 44,
   "metadata": {},
   "outputs": [
    {
     "data": {
      "text/html": [
       "<div>\n",
       "<style scoped>\n",
       "    .dataframe tbody tr th:only-of-type {\n",
       "        vertical-align: middle;\n",
       "    }\n",
       "\n",
       "    .dataframe tbody tr th {\n",
       "        vertical-align: top;\n",
       "    }\n",
       "\n",
       "    .dataframe thead th {\n",
       "        text-align: right;\n",
       "    }\n",
       "</style>\n",
       "<table border=\"1\" class=\"dataframe\">\n",
       "  <thead>\n",
       "    <tr style=\"text-align: right;\">\n",
       "      <th></th>\n",
       "      <th>crash_date</th>\n",
       "      <th>crash_time</th>\n",
       "      <th>number_of_persons_killed</th>\n",
       "      <th>number_of_pedestrians_injured</th>\n",
       "      <th>number_of_pedestrians_killed</th>\n",
       "      <th>number_of_cyclist_injured</th>\n",
       "      <th>number_of_cyclist_killed</th>\n",
       "      <th>number_of_motorist_injured</th>\n",
       "      <th>number_of_motorist_killed</th>\n",
       "      <th>contributing_factor_vehicle_1</th>\n",
       "      <th>...</th>\n",
       "      <th>zip_code</th>\n",
       "      <th>latitude</th>\n",
       "      <th>longitude</th>\n",
       "      <th>cross_street_name</th>\n",
       "      <th>on_street_name</th>\n",
       "      <th>number_persons_injured</th>\n",
       "      <th>year</th>\n",
       "      <th>month</th>\n",
       "      <th>day_of_week</th>\n",
       "      <th>hour</th>\n",
       "    </tr>\n",
       "  </thead>\n",
       "  <tbody>\n",
       "    <tr>\n",
       "      <th>151</th>\n",
       "      <td>2021-04-15</td>\n",
       "      <td>15:18</td>\n",
       "      <td>1</td>\n",
       "      <td>0</td>\n",
       "      <td>1</td>\n",
       "      <td>0</td>\n",
       "      <td>0</td>\n",
       "      <td>0</td>\n",
       "      <td>0</td>\n",
       "      <td>Driver Inattention/Distraction</td>\n",
       "      <td>...</td>\n",
       "      <td>11209</td>\n",
       "      <td>40.620487</td>\n",
       "      <td>-74.029305</td>\n",
       "      <td>NaN</td>\n",
       "      <td>4 AVENUE</td>\n",
       "      <td>0</td>\n",
       "      <td>2021</td>\n",
       "      <td>4</td>\n",
       "      <td>3</td>\n",
       "      <td>15</td>\n",
       "    </tr>\n",
       "    <tr>\n",
       "      <th>1156</th>\n",
       "      <td>2021-04-18</td>\n",
       "      <td>23:56</td>\n",
       "      <td>1</td>\n",
       "      <td>0</td>\n",
       "      <td>1</td>\n",
       "      <td>0</td>\n",
       "      <td>0</td>\n",
       "      <td>0</td>\n",
       "      <td>0</td>\n",
       "      <td>Unspecified</td>\n",
       "      <td>...</td>\n",
       "      <td>NaN</td>\n",
       "      <td>40.770527</td>\n",
       "      <td>-73.980120</td>\n",
       "      <td>NaN</td>\n",
       "      <td>CENTRAL PARK WEST</td>\n",
       "      <td>0</td>\n",
       "      <td>2021</td>\n",
       "      <td>4</td>\n",
       "      <td>6</td>\n",
       "      <td>23</td>\n",
       "    </tr>\n",
       "    <tr>\n",
       "      <th>1350</th>\n",
       "      <td>2021-04-08</td>\n",
       "      <td>19:55</td>\n",
       "      <td>1</td>\n",
       "      <td>0</td>\n",
       "      <td>0</td>\n",
       "      <td>0</td>\n",
       "      <td>0</td>\n",
       "      <td>0</td>\n",
       "      <td>0</td>\n",
       "      <td>Driver Inexperience</td>\n",
       "      <td>...</td>\n",
       "      <td>10459</td>\n",
       "      <td>40.830307</td>\n",
       "      <td>-73.898730</td>\n",
       "      <td>1281      UNION AVENUE</td>\n",
       "      <td>NaN</td>\n",
       "      <td>0</td>\n",
       "      <td>2021</td>\n",
       "      <td>4</td>\n",
       "      <td>3</td>\n",
       "      <td>19</td>\n",
       "    </tr>\n",
       "    <tr>\n",
       "      <th>1650</th>\n",
       "      <td>2021-04-19</td>\n",
       "      <td>19:13</td>\n",
       "      <td>1</td>\n",
       "      <td>0</td>\n",
       "      <td>1</td>\n",
       "      <td>0</td>\n",
       "      <td>0</td>\n",
       "      <td>0</td>\n",
       "      <td>0</td>\n",
       "      <td>Driver Inattention/Distraction</td>\n",
       "      <td>...</td>\n",
       "      <td>10039</td>\n",
       "      <td>40.822890</td>\n",
       "      <td>-73.942080</td>\n",
       "      <td>300       WEST 145 STREET</td>\n",
       "      <td>NaN</td>\n",
       "      <td>0</td>\n",
       "      <td>2021</td>\n",
       "      <td>4</td>\n",
       "      <td>0</td>\n",
       "      <td>19</td>\n",
       "    </tr>\n",
       "    <tr>\n",
       "      <th>2061</th>\n",
       "      <td>2021-04-22</td>\n",
       "      <td>8:01</td>\n",
       "      <td>1</td>\n",
       "      <td>0</td>\n",
       "      <td>1</td>\n",
       "      <td>0</td>\n",
       "      <td>0</td>\n",
       "      <td>0</td>\n",
       "      <td>0</td>\n",
       "      <td>Failure to Yield Right-of-Way</td>\n",
       "      <td>...</td>\n",
       "      <td>10035</td>\n",
       "      <td>40.803698</td>\n",
       "      <td>-73.937912</td>\n",
       "      <td>NaN</td>\n",
       "      <td>EAST 124 STREET</td>\n",
       "      <td>0</td>\n",
       "      <td>2021</td>\n",
       "      <td>4</td>\n",
       "      <td>3</td>\n",
       "      <td>8</td>\n",
       "    </tr>\n",
       "  </tbody>\n",
       "</table>\n",
       "<p>5 rows × 27 columns</p>\n",
       "</div>"
      ],
      "text/plain": [
       "     crash_date crash_time  number_of_persons_killed  \\\n",
       "151  2021-04-15      15:18                         1   \n",
       "1156 2021-04-18      23:56                         1   \n",
       "1350 2021-04-08      19:55                         1   \n",
       "1650 2021-04-19      19:13                         1   \n",
       "2061 2021-04-22       8:01                         1   \n",
       "\n",
       "      number_of_pedestrians_injured  number_of_pedestrians_killed  \\\n",
       "151                               0                             1   \n",
       "1156                              0                             1   \n",
       "1350                              0                             0   \n",
       "1650                              0                             1   \n",
       "2061                              0                             1   \n",
       "\n",
       "      number_of_cyclist_injured  number_of_cyclist_killed  \\\n",
       "151                           0                         0   \n",
       "1156                          0                         0   \n",
       "1350                          0                         0   \n",
       "1650                          0                         0   \n",
       "2061                          0                         0   \n",
       "\n",
       "      number_of_motorist_injured  number_of_motorist_killed  \\\n",
       "151                            0                          0   \n",
       "1156                           0                          0   \n",
       "1350                           0                          0   \n",
       "1650                           0                          0   \n",
       "2061                           0                          0   \n",
       "\n",
       "       contributing_factor_vehicle_1  ... zip_code   latitude  longitude  \\\n",
       "151   Driver Inattention/Distraction  ...    11209  40.620487 -74.029305   \n",
       "1156                     Unspecified  ...      NaN  40.770527 -73.980120   \n",
       "1350             Driver Inexperience  ...    10459  40.830307 -73.898730   \n",
       "1650  Driver Inattention/Distraction  ...    10039  40.822890 -73.942080   \n",
       "2061   Failure to Yield Right-of-Way  ...    10035  40.803698 -73.937912   \n",
       "\n",
       "              cross_street_name     on_street_name number_persons_injured  \\\n",
       "151                         NaN           4 AVENUE                      0   \n",
       "1156                        NaN  CENTRAL PARK WEST                      0   \n",
       "1350     1281      UNION AVENUE                NaN                      0   \n",
       "1650  300       WEST 145 STREET                NaN                      0   \n",
       "2061                        NaN    EAST 124 STREET                      0   \n",
       "\n",
       "      year month  day_of_week  hour  \n",
       "151   2021     4            3    15  \n",
       "1156  2021     4            6    23  \n",
       "1350  2021     4            3    19  \n",
       "1650  2021     4            0    19  \n",
       "2061  2021     4            3     8  \n",
       "\n",
       "[5 rows x 27 columns]"
      ]
     },
     "execution_count": 44,
     "metadata": {},
     "output_type": "execute_result"
    }
   ],
   "source": [
    "df_2021_p_killed.head()"
   ]
  },
  {
   "cell_type": "code",
   "execution_count": 45,
   "metadata": {},
   "outputs": [],
   "source": [
    "px.set_mapbox_access_token(open(\".mapbox_token\").read())"
   ]
  },
  {
   "cell_type": "code",
   "execution_count": 46,
   "metadata": {},
   "outputs": [],
   "source": [
    "# Scatter plot of crash with fatalities (color by hour and size by number of persons killed)\n",
    "p_killed_2021_fig = px.scatter_mapbox(df_2021_p_killed,\n",
    "                                      lat=\"latitude\",\n",
    "                                      lon=\"longitude\",\n",
    "                                      color=\"hour\",\n",
    "                                      size=\"number_of_persons_killed\",\n",
    "                                      #hover_data = \"off_street_name\",\n",
    "                                      mapbox_style=\"streets\",\n",
    "                                      color_continuous_scale=px.colors.cyclical.IceFire,\n",
    "                                      size_max=15,\n",
    "                                      zoom=10,\n",
    "                                      title = \"Crash Reports with Fatalities in 2021\",)"
   ]
  },
  {
   "cell_type": "code",
   "execution_count": 47,
   "metadata": {},
   "outputs": [],
   "source": [
    "p_killed_2021_fig.show()"
   ]
  },
  {
   "cell_type": "markdown",
   "metadata": {},
   "source": [
    "# Visualization of Collition Resulting in Persons Injured (2021)"
   ]
  },
  {
   "cell_type": "code",
   "execution_count": 48,
   "metadata": {},
   "outputs": [],
   "source": [
    "# Condition includes year 2021 and events with persons injured\n",
    "df_injured_cond = (dff['year'] == 2021 ) & (dff['number_persons_injured']>=1)\n"
   ]
  },
  {
   "cell_type": "code",
   "execution_count": 49,
   "metadata": {},
   "outputs": [],
   "source": [
    "# New dataFrame includes person injured from collision (2021)\n",
    "df_2021_p_injured = dff[df_injured_cond]"
   ]
  },
  {
   "cell_type": "code",
   "execution_count": 50,
   "metadata": {},
   "outputs": [],
   "source": [
    "# Scatter plot of crash with injuries (color by hour and size by number of persons injured)\n",
    "p_injured_2021_fig = px.scatter_mapbox(df_2021_p_injured,\n",
    "                                       lat=\"latitude\",\n",
    "                                       lon=\"longitude\",\n",
    "                                       color=\"hour\",\n",
    "                                       size=\"number_persons_injured\",\n",
    "                                       color_continuous_scale=px.colors.cyclical.IceFire,\n",
    "                                       size_max=15,\n",
    "                                       zoom=10,\n",
    "                                       center={\"lat\": 40.730610, \"lon\": -73.9749},\n",
    "                                       title = \"Crash Reports with Persons Injured in 2021\",)\n",
    "p_injured_2021_fig.show()"
   ]
  },
  {
   "cell_type": "markdown",
   "metadata": {},
   "source": [
    "# Visualization of Collitions by Borough"
   ]
  },
  {
   "cell_type": "code",
   "execution_count": 41,
   "metadata": {},
   "outputs": [],
   "source": [
    "boro_url = ('https://raw.githubusercontent.com/codeforgermany/click_that_hood/main/public/data/new-york-city-boroughs.geojson')"
   ]
  },
  {
   "cell_type": "code",
   "execution_count": 42,
   "metadata": {},
   "outputs": [],
   "source": [
    "nyc_boro = requests.get(boro_url)\n",
    "nyc_boro = nyc_boro.json()"
   ]
  },
  {
   "cell_type": "code",
   "execution_count": 43,
   "metadata": {},
   "outputs": [
    {
     "data": {
      "text/plain": [
       "{'name': 'Queens',\n",
       " 'cartodb_id': 2,\n",
       " 'created_at': '2013-03-09T02:42:03.692Z',\n",
       " 'updated_at': '2013-03-09T02:42:03.989Z'}"
      ]
     },
     "execution_count": 43,
     "metadata": {},
     "output_type": "execute_result"
    }
   ],
   "source": [
    "nyc_boro['features'][1]['properties']\n"
   ]
  },
  {
   "cell_type": "code",
   "execution_count": 44,
   "metadata": {},
   "outputs": [
    {
     "name": "stdout",
     "output_type": "stream",
     "text": [
      "['BROOKLYN' nan 'BRONX' 'STATEN ISLAND' 'QUEENS' 'MANHATTAN']\n"
     ]
    }
   ],
   "source": [
    "print(dff.borough.unique())"
   ]
  },
  {
   "cell_type": "code",
   "execution_count": 45,
   "metadata": {},
   "outputs": [],
   "source": [
    "dff = dff[dff['borough'].notna()]\n",
    "dff['borough'] = dff['borough'].str.title()"
   ]
  },
  {
   "cell_type": "code",
   "execution_count": 46,
   "metadata": {},
   "outputs": [],
   "source": [
    "# Create dictionary with key and value to link json file to dataframe\n",
    "# Dictionary key must match a column value in dataframe \n",
    "nyc_boro_map = {}\n",
    "for feature in nyc_boro['features']:\n",
    "    feature['id'] = feature['properties']['cartodb_id']\n",
    "    nyc_boro_map[feature['properties']['name']] = feature['id']\n"
   ]
  },
  {
   "cell_type": "code",
   "execution_count": 47,
   "metadata": {},
   "outputs": [],
   "source": [
    "dff['boro_id'] = dff['borough'].apply(lambda x: nyc_boro_map[x])\n",
    "#grouped_multiple = df.groupby(['Team', 'Pos']).agg({'Age': ['mean', 'min', 'max']})"
   ]
  },
  {
   "cell_type": "code",
   "execution_count": 48,
   "metadata": {},
   "outputs": [],
   "source": [
    "df_boro_gb = dff.groupby(['borough','boro_id']).agg({'number_of_persons_killed': 'sum'}).reset_index()"
   ]
  },
  {
   "cell_type": "code",
   "execution_count": 49,
   "metadata": {},
   "outputs": [
    {
     "data": {
      "text/html": [
       "<div>\n",
       "<style scoped>\n",
       "    .dataframe tbody tr th:only-of-type {\n",
       "        vertical-align: middle;\n",
       "    }\n",
       "\n",
       "    .dataframe tbody tr th {\n",
       "        vertical-align: top;\n",
       "    }\n",
       "\n",
       "    .dataframe thead th {\n",
       "        text-align: right;\n",
       "    }\n",
       "</style>\n",
       "<table border=\"1\" class=\"dataframe\">\n",
       "  <thead>\n",
       "    <tr style=\"text-align: right;\">\n",
       "      <th></th>\n",
       "      <th>borough</th>\n",
       "      <th>boro_id</th>\n",
       "      <th>number_of_persons_killed</th>\n",
       "    </tr>\n",
       "  </thead>\n",
       "  <tbody>\n",
       "    <tr>\n",
       "      <th>0</th>\n",
       "      <td>Bronx</td>\n",
       "      <td>5</td>\n",
       "      <td>81</td>\n",
       "    </tr>\n",
       "    <tr>\n",
       "      <th>1</th>\n",
       "      <td>Brooklyn</td>\n",
       "      <td>3</td>\n",
       "      <td>220</td>\n",
       "    </tr>\n",
       "    <tr>\n",
       "      <th>2</th>\n",
       "      <td>Manhattan</td>\n",
       "      <td>4</td>\n",
       "      <td>109</td>\n",
       "    </tr>\n",
       "    <tr>\n",
       "      <th>3</th>\n",
       "      <td>Queens</td>\n",
       "      <td>2</td>\n",
       "      <td>189</td>\n",
       "    </tr>\n",
       "    <tr>\n",
       "      <th>4</th>\n",
       "      <td>Staten Island</td>\n",
       "      <td>1</td>\n",
       "      <td>28</td>\n",
       "    </tr>\n",
       "  </tbody>\n",
       "</table>\n",
       "</div>"
      ],
      "text/plain": [
       "         borough  boro_id  number_of_persons_killed\n",
       "0          Bronx        5                        81\n",
       "1       Brooklyn        3                       220\n",
       "2      Manhattan        4                       109\n",
       "3         Queens        2                       189\n",
       "4  Staten Island        1                        28"
      ]
     },
     "execution_count": 49,
     "metadata": {},
     "output_type": "execute_result"
    }
   ],
   "source": [
    "df_boro_gb"
   ]
  },
  {
   "cell_type": "code",
   "execution_count": 51,
   "metadata": {},
   "outputs": [],
   "source": [
    "# Choropleth map of crashses involving fatalities (borough)\n",
    "boro_fig = px.choropleth_mapbox(\n",
    "    df_boro_gb,\n",
    "    locations = \"boro_id\",\n",
    "    geojson = nyc_boro,\n",
    "    color = \"number_of_persons_killed\",\n",
    "    #color_continuous_scale=px.colors.continuous.Viridis[::-1],\n",
    "    #px.colors.sequential.Viridis\n",
    "    hover_name=\"borough\",\n",
    "    #hover_data= [\"Count\"],\n",
    "    mapbox_style=\"carto-positron\",\n",
    "    center={\"lat\": 40.730610, \"lon\": -73.9749},\n",
    "    zoom=8.5,\n",
    "    opacity=0.5,\n",
    "    title = \"NYC Boroughs\",)\n",
    "# fig.update_layout(\n",
    "#     title={\n",
    "#         'text': \"location of fatalities\",\n",
    "#         'y':0.9,\n",
    "#         'x':0.5,\n",
    "#         'xanchor': 'center',\n",
    "#         'yanchor': 'top'})"
   ]
  },
  {
   "cell_type": "code",
   "execution_count": 52,
   "metadata": {},
   "outputs": [],
   "source": [
    "boro_fig.show()"
   ]
  },
  {
   "cell_type": "markdown",
   "metadata": {},
   "source": [
    "# Visualization of Persons Killed in Collisions per Zip Code (2019 to 2022)"
   ]
  },
  {
   "cell_type": "code",
   "execution_count": 49,
   "metadata": {},
   "outputs": [],
   "source": [
    "url = ('https://data.beta.nyc/dataset/3bf5fb73-edb5-4b05-bb29-7c95f4a727fc/resource/6df127b1-6d04-4bb7-b983-07402a2c3f90/download/f4129d9aa6dd4281bc98d0f701629b76nyczipcodetabulationareas.geojson')"
   ]
  },
  {
   "cell_type": "code",
   "execution_count": 50,
   "metadata": {},
   "outputs": [],
   "source": [
    "nyc_zip = requests.get(url)"
   ]
  },
  {
   "cell_type": "code",
   "execution_count": 51,
   "metadata": {},
   "outputs": [],
   "source": [
    "nyc_zip = nyc_zip.json()"
   ]
  },
  {
   "cell_type": "code",
   "execution_count": 52,
   "metadata": {},
   "outputs": [
    {
     "data": {
      "text/plain": [
       "{'OBJECTID': 2,\n",
       " 'postalCode': '11004',\n",
       " 'PO_NAME': 'Glen Oaks',\n",
       " 'STATE': 'NY',\n",
       " 'borough': 'Queens',\n",
       " 'ST_FIPS': '36',\n",
       " 'CTY_FIPS': '081',\n",
       " 'BLDGpostal': 0,\n",
       " '@id': 'http://nyc.pediacities.com/Resource/PostalCode/11004',\n",
       " 'longitude': -73.711608312,\n",
       " 'latitude': 40.745365835}"
      ]
     },
     "execution_count": 52,
     "metadata": {},
     "output_type": "execute_result"
    }
   ],
   "source": [
    "# Geojson file to complete geographical features\n",
    "nyc_zip['features'][1]['properties']"
   ]
  },
  {
   "cell_type": "code",
   "execution_count": 53,
   "metadata": {},
   "outputs": [],
   "source": [
    "# Create dictionary with key and value to link json file to dataframe\n",
    "zip_id_map = {}\n",
    "for feature in nyc_zip['features']:\n",
    "    feature['id'] = feature['properties']['OBJECTID']\n",
    "    zip_id_map[feature['properties']['postalCode']] = feature['id']"
   ]
  },
  {
   "cell_type": "code",
   "execution_count": 61,
   "metadata": {},
   "outputs": [],
   "source": [
    "# Make sure dictionary key and corresponding dataframe value are of the same type\n",
    "#zip_id_map\n"
   ]
  },
  {
   "cell_type": "code",
   "execution_count": 54,
   "metadata": {},
   "outputs": [],
   "source": [
    "# Filter out nan values of dataframe zip_code column\n",
    "dff = dff[dff['zip_code'].notna()]"
   ]
  },
  {
   "cell_type": "code",
   "execution_count": 55,
   "metadata": {},
   "outputs": [],
   "source": [
    "# Filter out list of zipcodes (not in geojson file) and 'nan' values\n",
    "zipCodes = ['11249','10000','11695','nan','10179']\n",
    "dff = dff[~dff['zip_code'].isin(zipCodes)]"
   ]
  },
  {
   "cell_type": "code",
   "execution_count": 56,
   "metadata": {},
   "outputs": [],
   "source": [
    "dff['id'] = dff['zip_code'].apply(lambda x: zip_id_map[x])"
   ]
  },
  {
   "cell_type": "code",
   "execution_count": 57,
   "metadata": {},
   "outputs": [],
   "source": [
    "df_p_killed_gb = dff.groupby(['zip_code'])['number_of_persons_killed'].sum().reset_index()"
   ]
  },
  {
   "cell_type": "code",
   "execution_count": 58,
   "metadata": {},
   "outputs": [],
   "source": [
    "# Link dataFrame to json file\n",
    "df_p_killed_gb['id'] = df_p_killed_gb['zip_code'].apply(lambda x: zip_id_map[x])"
   ]
  },
  {
   "cell_type": "code",
   "execution_count": 61,
   "metadata": {},
   "outputs": [
    {
     "data": {
      "text/plain": [
       "Index(['zip_code', 'number_of_persons_killed', 'id'], dtype='object')"
      ]
     },
     "execution_count": 61,
     "metadata": {},
     "output_type": "execute_result"
    }
   ],
   "source": [
    "df_p_killed_gb.columns"
   ]
  },
  {
   "cell_type": "markdown",
   "metadata": {},
   "source": [
    "### Choropleth map collision fatalities"
   ]
  },
  {
   "cell_type": "code",
   "execution_count": 62,
   "metadata": {},
   "outputs": [],
   "source": [
    "# Choropleth map using zip code boundaries (number of persons killed per zip code)\n",
    "zip_fig = px.choropleth_mapbox(\n",
    "    df_p_killed_gb,\n",
    "    locations = \"id\",\n",
    "    geojson = nyc_zip,\n",
    "    color = \"number_of_persons_killed\",\n",
    "    color_continuous_scale=px.colors.sequential.Inferno[::-1],\n",
    "    hover_name=\"zip_code\",\n",
    "    #hover_data= [\"count\"],\n",
    "    mapbox_style=\"carto-positron\",\n",
    "    center={\"lat\": 40.730610, \"lon\": -73.9749},\n",
    "    zoom=8.5,\n",
    "    opacity=0.5,\n",
    "    title = \"Zip Code Boundaries (Number of Persons Killed from 2019 to 2022)\",)"
   ]
  },
  {
   "cell_type": "code",
   "execution_count": 63,
   "metadata": {},
   "outputs": [],
   "source": [
    "zip_fig.show()"
   ]
  },
  {
   "cell_type": "markdown",
   "metadata": {},
   "source": [
    "# Distribution of Collisions per Time Periods"
   ]
  },
  {
   "cell_type": "code",
   "execution_count": 45,
   "metadata": {},
   "outputs": [],
   "source": [
    "#boro_df = dff_2021[dff_2021['boro_nm'] == boro_selected]\n",
    "dff['month'] = dff['month'].apply(pd.to_numeric)"
   ]
  },
  {
   "cell_type": "code",
   "execution_count": 19,
   "metadata": {},
   "outputs": [
    {
     "data": {
      "text/plain": [
       "Index(['crash_date', 'crash_time', 'number_of_persons_killed',\n",
       "       'number_of_pedestrians_injured', 'number_of_pedestrians_killed',\n",
       "       'number_of_cyclist_injured', 'number_of_cyclist_killed',\n",
       "       'number_of_motorist_injured', 'number_of_motorist_killed',\n",
       "       'contributing_factor_vehicle_1', 'contributing_factor_vehicle_2',\n",
       "       'collision_id', 'vehicle_type_code1', 'contributing_factor_vehicle_1',\n",
       "       'vehicle_type_code2', 'contributing_factor_vehicle_2', 'borough',\n",
       "       'zip_code', 'latitude', 'longitude', 'cross_street_name',\n",
       "       'on_street_name', 'number_persons_injured', 'year', 'month',\n",
       "       'day_of_week', 'hour'],\n",
       "      dtype='object')"
      ]
     },
     "execution_count": 19,
     "metadata": {},
     "output_type": "execute_result"
    }
   ],
   "source": [
    "dff.columns"
   ]
  },
  {
   "cell_type": "code",
   "execution_count": 20,
   "metadata": {},
   "outputs": [],
   "source": [
    "df_2021 = dff[dff[\"year\"]==2021]"
   ]
  },
  {
   "cell_type": "code",
   "execution_count": null,
   "metadata": {},
   "outputs": [],
   "source": [
    "#df_gb= df.groupby(['Month','susp_sex','boro_nm'],as_index=False)['Complaint Count'].count()"
   ]
  },
  {
   "cell_type": "code",
   "execution_count": 46,
   "metadata": {},
   "outputs": [],
   "source": [
    "accidents_months = dff.groupby(['month','year'], as_index = False)['collision_id'].count()"
   ]
  },
  {
   "cell_type": "code",
   "execution_count": 41,
   "metadata": {},
   "outputs": [],
   "source": [
    "#df = df.sort_values(by='Value', ascending=False)\n",
    "#accidents_months = accidents_months.sort_values(by = \"month\")"
   ]
  },
  {
   "cell_type": "code",
   "execution_count": 47,
   "metadata": {},
   "outputs": [
    {
     "data": {
      "text/plain": [
       "month           int64\n",
       "year            int64\n",
       "collision_id    int64\n",
       "dtype: object"
      ]
     },
     "execution_count": 47,
     "metadata": {},
     "output_type": "execute_result"
    }
   ],
   "source": [
    "accidents_months.dtypes"
   ]
  },
  {
   "cell_type": "code",
   "execution_count": null,
   "metadata": {},
   "outputs": [],
   "source": [
    "# fig = px.line(df, x=\"year\", y=\"lifeExp\", color='country')\n",
    "# fig.show()"
   ]
  },
  {
   "cell_type": "code",
   "execution_count": 48,
   "metadata": {},
   "outputs": [],
   "source": [
    "line_fig = px.line(accidents_months, x = 'month', y= 'collision_id', color = 'year')"
   ]
  },
  {
   "cell_type": "code",
   "execution_count": 49,
   "metadata": {},
   "outputs": [],
   "source": [
    "line_fig.show()"
   ]
  },
  {
   "cell_type": "code",
   "execution_count": 31,
   "metadata": {},
   "outputs": [],
   "source": [
    "# barchart = px.bar(\n",
    "#         accidents_months,\n",
    "#         x='month',\n",
    "#         y='collision_id',\n",
    "#         #color=\"susp_sex\",\n",
    "#         opacity=0.9,                  # set opacity of markers (from 0 to 1)\n",
    "#         orientation=\"v\",              # 'v','h': orientation of the marks\n",
    "#         #barmode='group',\n",
    "#         template='gridon',\n",
    "#         #labels={\"susp_sex\":\"Suspect Gender\"},\n",
    "#         #title=(\"Monthly Reports in %s\" % boro_selected)\n",
    "# )\n",
    "#     barchart.update_layout(title={'xanchor': 'center', 'yanchor': 'top', 'y': 0.9, 'x': 0.5,},\n",
    "#                            legend = dict(orientation= \"h\",\n",
    "#                            yanchor=\"bottom\",\n",
    "#                            y=1.02,\n",
    "#                            xanchor=\"right\",\n",
    "#                            x=1),\n",
    "#                           )"
   ]
  },
  {
   "cell_type": "code",
   "execution_count": 32,
   "metadata": {},
   "outputs": [],
   "source": [
    "#barchart.show()"
   ]
  },
  {
   "cell_type": "code",
   "execution_count": null,
   "metadata": {},
   "outputs": [],
   "source": []
  },
  {
   "cell_type": "code",
   "execution_count": null,
   "metadata": {},
   "outputs": [],
   "source": []
  },
  {
   "cell_type": "code",
   "execution_count": null,
   "metadata": {},
   "outputs": [],
   "source": []
  },
  {
   "cell_type": "code",
   "execution_count": null,
   "metadata": {},
   "outputs": [],
   "source": []
  },
  {
   "cell_type": "code",
   "execution_count": null,
   "metadata": {},
   "outputs": [],
   "source": []
  }
 ],
 "metadata": {
  "kernelspec": {
   "display_name": "Python 3",
   "language": "python",
   "name": "python3"
  },
  "language_info": {
   "codemirror_mode": {
    "name": "ipython",
    "version": 3
   },
   "file_extension": ".py",
   "mimetype": "text/x-python",
   "name": "python",
   "nbconvert_exporter": "python",
   "pygments_lexer": "ipython3",
   "version": "3.7.3"
  }
 },
 "nbformat": 4,
 "nbformat_minor": 2
}

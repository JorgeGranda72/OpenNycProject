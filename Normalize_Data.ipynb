{
 "cells": [
  {
   "cell_type": "markdown",
   "metadata": {},
   "source": [
    "# Normalize Your Data\n"
   ]
  },
  {
   "cell_type": "code",
   "execution_count": 9,
   "metadata": {},
   "outputs": [],
   "source": [
    "import pandas as pd\n",
    "from sodapy import Socrata\n"
   ]
  },
  {
   "cell_type": "markdown",
   "metadata": {},
   "source": [
    "# Calculation of Accident Rates\n",
    "#### The accident rate for a location is found by dividing the accident experience by the exposure: \n",
    "#### Section Exposure\n",
    "The exposure over a roadway section is measured by the total vehicle miles of travel over the section for the period. EXPOSURE (VEHICLE MILES OF TRAVEL) = ADT X 365 X MI X YRS\n",
    "#### OR\n",
    "EXPOSURE (MILLION VEHICLE MILES) = ADT X 365 X MI X YRS/1,000,000\n",
    "*  ADT = Average Annual Daily Traffic (AADT) during the study period. For intersections, the sum of the entering volumes on all approach legs. \n",
    "#### Accident Rate = Accidents/Exposure\n",
    "     Accidents = Number of accidents for the study period, \n"
   ]
  },
  {
   "cell_type": "code",
   "execution_count": null,
   "metadata": {},
   "outputs": [],
   "source": []
  },
  {
   "cell_type": "code",
   "execution_count": null,
   "metadata": {},
   "outputs": [],
   "source": []
  },
  {
   "cell_type": "code",
   "execution_count": null,
   "metadata": {},
   "outputs": [],
   "source": []
  },
  {
   "cell_type": "code",
   "execution_count": 3,
   "metadata": {},
   "outputs": [],
   "source": [
    "df = pd.read_json(\"https://data.ny.gov/resource/fsr4-j7q5.json\")"
   ]
  },
  {
   "cell_type": "code",
   "execution_count": 12,
   "metadata": {},
   "outputs": [
    {
     "data": {
      "text/plain": [
       "(1000, 5)"
      ]
     },
     "execution_count": 12,
     "metadata": {},
     "output_type": "execute_result"
    }
   ],
   "source": [
    "df.shape\n"
   ]
  },
  {
   "cell_type": "markdown",
   "metadata": {},
   "source": [
    "# Daily Vehicle Miles of Travel\n",
    "- Dataset Identifier: fsr4-j7q5\n",
    "- Total Rows: 1700\n",
    "- Source Domain: data.ny.gov\n",
    "- Created: 5/14/2013, 4:08:08 PM\n",
    "- Last Updated: 12/6/2018, 6:00:23 PM\n",
    "- Category: Transportation\n",
    "- Attribution: New York State Department of Transportation\n",
    "- Owner: NY Open Data"
   ]
  },
  {
   "cell_type": "code",
   "execution_count": 20,
   "metadata": {},
   "outputs": [],
   "source": [
    "socrata_domain = 'data.ny.gov'\n",
    "socrata_dataset_identifier = 'fsr4-j7q5'\n",
    "client = Socrata(socrata_domain, app_token=\"zrfGJViqm8hhU7PFyRqvPZcyF\")\n",
    "client.timeout = 1000"
   ]
  },
  {
   "cell_type": "code",
   "execution_count": 21,
   "metadata": {},
   "outputs": [],
   "source": [
    "results1 = client.get(socrata_dataset_identifier, limit = 50000)"
   ]
  },
  {
   "cell_type": "code",
   "execution_count": 22,
   "metadata": {},
   "outputs": [],
   "source": [
    "daily_miles = pd.DataFrame(results1)"
   ]
  },
  {
   "cell_type": "code",
   "execution_count": 30,
   "metadata": {},
   "outputs": [
    {
     "data": {
      "text/plain": [
       "Index(['year', 'urban_area', 'functional_class', 'functional_class_code',\n",
       "       'vehicle_miles_travelled'],\n",
       "      dtype='object')"
      ]
     },
     "execution_count": 30,
     "metadata": {},
     "output_type": "execute_result"
    }
   ],
   "source": [
    "daily_miles.columns"
   ]
  },
  {
   "cell_type": "code",
   "execution_count": null,
   "metadata": {},
   "outputs": [],
   "source": []
  },
  {
   "cell_type": "markdown",
   "metadata": {},
   "source": [
    "# Annual Average Daily Traffic (AADT): Beginning 1977Transportation\n"
   ]
  },
  {
   "cell_type": "code",
   "execution_count": 15,
   "metadata": {},
   "outputs": [],
   "source": [
    "socrata_domain = 'data.ny.gov'\n",
    "socrata_dataset_identifier = '6amx-2pbv'\n",
    "client = Socrata(socrata_domain, app_token=\"zrfGJViqm8hhU7PFyRqvPZcyF\")\n",
    "client.timeout = 1000"
   ]
  },
  {
   "cell_type": "code",
   "execution_count": 16,
   "metadata": {},
   "outputs": [],
   "source": [
    "results = client.get(socrata_dataset_identifier, limit = 50000)"
   ]
  },
  {
   "cell_type": "code",
   "execution_count": 17,
   "metadata": {},
   "outputs": [],
   "source": [
    "traffic_data = pd.DataFrame(results)"
   ]
  },
  {
   "cell_type": "code",
   "execution_count": 24,
   "metadata": {},
   "outputs": [
    {
     "data": {
      "text/html": [
       "<div>\n",
       "<style scoped>\n",
       "    .dataframe tbody tr th:only-of-type {\n",
       "        vertical-align: middle;\n",
       "    }\n",
       "\n",
       "    .dataframe tbody tr th {\n",
       "        vertical-align: top;\n",
       "    }\n",
       "\n",
       "    .dataframe thead th {\n",
       "        text-align: right;\n",
       "    }\n",
       "</style>\n",
       "<table border=\"1\" class=\"dataframe\">\n",
       "  <thead>\n",
       "    <tr style=\"text-align: right;\">\n",
       "      <th></th>\n",
       "      <th>aadt_year</th>\n",
       "      <th>station_id</th>\n",
       "      <th>county</th>\n",
       "      <th>signing</th>\n",
       "      <th>state_route</th>\n",
       "      <th>road_name</th>\n",
       "      <th>beginning_description</th>\n",
       "      <th>ending_description</th>\n",
       "      <th>municipality</th>\n",
       "      <th>length</th>\n",
       "      <th>fc</th>\n",
       "      <th>bridge</th>\n",
       "      <th>count</th>\n",
       "      <th>oneway</th>\n",
       "      <th>ramp</th>\n",
       "      <th>rr_xing</th>\n",
       "      <th>county_road</th>\n",
       "    </tr>\n",
       "  </thead>\n",
       "  <tbody>\n",
       "    <tr>\n",
       "      <th>0</th>\n",
       "      <td>2019</td>\n",
       "      <td>10001</td>\n",
       "      <td>Bronx</td>\n",
       "      <td>Interstate</td>\n",
       "      <td>95</td>\n",
       "      <td>Alexander Hamil</td>\n",
       "      <td>NY/Bronx Co Line</td>\n",
       "      <td>I-87 MAJ DEEGAN EXP UNDER</td>\n",
       "      <td>Bronx</td>\n",
       "      <td>7</td>\n",
       "      <td>11</td>\n",
       "      <td>Y</td>\n",
       "      <td>81839</td>\n",
       "      <td>NaN</td>\n",
       "      <td>NaN</td>\n",
       "      <td>NaN</td>\n",
       "      <td>NaN</td>\n",
       "    </tr>\n",
       "    <tr>\n",
       "      <th>1</th>\n",
       "      <td>2019</td>\n",
       "      <td>10002</td>\n",
       "      <td>Bronx</td>\n",
       "      <td>Interstate</td>\n",
       "      <td>95</td>\n",
       "      <td>Cross Bronx Exp</td>\n",
       "      <td>I-87 MAJ DEEGAN EXP UNDER</td>\n",
       "      <td>MACOMBS RD OVER</td>\n",
       "      <td>Bronx</td>\n",
       "      <td>51</td>\n",
       "      <td>11</td>\n",
       "      <td>Y</td>\n",
       "      <td>92512</td>\n",
       "      <td>NaN</td>\n",
       "      <td>NaN</td>\n",
       "      <td>NaN</td>\n",
       "      <td>NaN</td>\n",
       "    </tr>\n",
       "    <tr>\n",
       "      <th>2</th>\n",
       "      <td>2019</td>\n",
       "      <td>10003</td>\n",
       "      <td>Bronx</td>\n",
       "      <td>Interstate</td>\n",
       "      <td>95</td>\n",
       "      <td>Cross Bronx Exp</td>\n",
       "      <td>MACOMBS RD OVER</td>\n",
       "      <td>END I-95/US1 OLAP WEBSTER AV</td>\n",
       "      <td>Bronx</td>\n",
       "      <td>63</td>\n",
       "      <td>11</td>\n",
       "      <td>NaN</td>\n",
       "      <td>140871</td>\n",
       "      <td>NaN</td>\n",
       "      <td>NaN</td>\n",
       "      <td>NaN</td>\n",
       "      <td>NaN</td>\n",
       "    </tr>\n",
       "    <tr>\n",
       "      <th>3</th>\n",
       "      <td>2019</td>\n",
       "      <td>10004</td>\n",
       "      <td>Bronx</td>\n",
       "      <td>US</td>\n",
       "      <td>1</td>\n",
       "      <td>WEBSTER AVE</td>\n",
       "      <td>END I-95/US1 OLAP WEBSTER AV</td>\n",
       "      <td>E FORDHAM RD</td>\n",
       "      <td>Bronx</td>\n",
       "      <td>151</td>\n",
       "      <td>14</td>\n",
       "      <td>NaN</td>\n",
       "      <td>15198</td>\n",
       "      <td>NaN</td>\n",
       "      <td>NaN</td>\n",
       "      <td>NaN</td>\n",
       "      <td>NaN</td>\n",
       "    </tr>\n",
       "    <tr>\n",
       "      <th>4</th>\n",
       "      <td>2019</td>\n",
       "      <td>10005</td>\n",
       "      <td>Bronx</td>\n",
       "      <td>US</td>\n",
       "      <td>1</td>\n",
       "      <td>E FORDHAM RD</td>\n",
       "      <td>E FORDHAM RD</td>\n",
       "      <td>RT 907H BRONX RIVER PKWY SOU</td>\n",
       "      <td>Bronx</td>\n",
       "      <td>112</td>\n",
       "      <td>14</td>\n",
       "      <td>Y</td>\n",
       "      <td>32254</td>\n",
       "      <td>NaN</td>\n",
       "      <td>NaN</td>\n",
       "      <td>NaN</td>\n",
       "      <td>NaN</td>\n",
       "    </tr>\n",
       "  </tbody>\n",
       "</table>\n",
       "</div>"
      ],
      "text/plain": [
       "  aadt_year station_id county     signing state_route        road_name  \\\n",
       "0      2019      10001  Bronx  Interstate          95  Alexander Hamil   \n",
       "1      2019      10002  Bronx  Interstate          95  Cross Bronx Exp   \n",
       "2      2019      10003  Bronx  Interstate          95  Cross Bronx Exp   \n",
       "3      2019      10004  Bronx          US           1      WEBSTER AVE   \n",
       "4      2019      10005  Bronx          US           1     E FORDHAM RD   \n",
       "\n",
       "          beginning_description            ending_description municipality  \\\n",
       "0              NY/Bronx Co Line     I-87 MAJ DEEGAN EXP UNDER        Bronx   \n",
       "1     I-87 MAJ DEEGAN EXP UNDER               MACOMBS RD OVER        Bronx   \n",
       "2               MACOMBS RD OVER  END I-95/US1 OLAP WEBSTER AV        Bronx   \n",
       "3  END I-95/US1 OLAP WEBSTER AV                  E FORDHAM RD        Bronx   \n",
       "4                  E FORDHAM RD  RT 907H BRONX RIVER PKWY SOU        Bronx   \n",
       "\n",
       "  length  fc bridge   count oneway ramp rr_xing county_road  \n",
       "0      7  11      Y   81839    NaN  NaN     NaN         NaN  \n",
       "1     51  11      Y   92512    NaN  NaN     NaN         NaN  \n",
       "2     63  11    NaN  140871    NaN  NaN     NaN         NaN  \n",
       "3    151  14    NaN   15198    NaN  NaN     NaN         NaN  \n",
       "4    112  14      Y   32254    NaN  NaN     NaN         NaN  "
      ]
     },
     "execution_count": 24,
     "metadata": {},
     "output_type": "execute_result"
    }
   ],
   "source": [
    "traffic_data.head()"
   ]
  },
  {
   "cell_type": "code",
   "execution_count": 29,
   "metadata": {},
   "outputs": [
    {
     "data": {
      "text/plain": [
       "Index(['aadt_year', 'station_id', 'county', 'signing', 'state_route',\n",
       "       'road_name', 'beginning_description', 'ending_description',\n",
       "       'municipality', 'length', 'fc', 'bridge', 'count', 'oneway', 'ramp',\n",
       "       'rr_xing', 'county_road'],\n",
       "      dtype='object')"
      ]
     },
     "execution_count": 29,
     "metadata": {},
     "output_type": "execute_result"
    }
   ],
   "source": [
    "traffic_data.columns"
   ]
  },
  {
   "cell_type": "code",
   "execution_count": 26,
   "metadata": {},
   "outputs": [
    {
     "data": {
      "text/plain": [
       "array(['Bronx', 'Brooklyn', 'Hempstead', ..., 'Mount Hope',\n",
       "       'Cornwall-on-Hudson', 'Kiryas Joel'], dtype=object)"
      ]
     },
     "execution_count": 26,
     "metadata": {},
     "output_type": "execute_result"
    }
   ],
   "source": [
    "traffic_data.municipality.unique()"
   ]
  },
  {
   "cell_type": "code",
   "execution_count": 27,
   "metadata": {},
   "outputs": [],
   "source": [
    "broo_traffic = traffic_data[traffic_data['municipality'] == 'Brooklyn']"
   ]
  },
  {
   "cell_type": "code",
   "execution_count": 28,
   "metadata": {},
   "outputs": [
    {
     "data": {
      "text/html": [
       "<div>\n",
       "<style scoped>\n",
       "    .dataframe tbody tr th:only-of-type {\n",
       "        vertical-align: middle;\n",
       "    }\n",
       "\n",
       "    .dataframe tbody tr th {\n",
       "        vertical-align: top;\n",
       "    }\n",
       "\n",
       "    .dataframe thead th {\n",
       "        text-align: right;\n",
       "    }\n",
       "</style>\n",
       "<table border=\"1\" class=\"dataframe\">\n",
       "  <thead>\n",
       "    <tr style=\"text-align: right;\">\n",
       "      <th></th>\n",
       "      <th>aadt_year</th>\n",
       "      <th>station_id</th>\n",
       "      <th>county</th>\n",
       "      <th>signing</th>\n",
       "      <th>state_route</th>\n",
       "      <th>road_name</th>\n",
       "      <th>beginning_description</th>\n",
       "      <th>ending_description</th>\n",
       "      <th>municipality</th>\n",
       "      <th>length</th>\n",
       "      <th>fc</th>\n",
       "      <th>bridge</th>\n",
       "      <th>count</th>\n",
       "      <th>oneway</th>\n",
       "      <th>ramp</th>\n",
       "      <th>rr_xing</th>\n",
       "      <th>county_road</th>\n",
       "    </tr>\n",
       "  </thead>\n",
       "  <tbody>\n",
       "    <tr>\n",
       "      <th>1094</th>\n",
       "      <td>2019</td>\n",
       "      <td>20001</td>\n",
       "      <td>Kings</td>\n",
       "      <td>NY</td>\n",
       "      <td>27</td>\n",
       "      <td>NaN</td>\n",
       "      <td>RT I278 ACC RAMP GOWANUS EXP</td>\n",
       "      <td>17TH ENT / PROSPECT AV EXIT</td>\n",
       "      <td>Brooklyn</td>\n",
       "      <td>30</td>\n",
       "      <td>12</td>\n",
       "      <td>Y</td>\n",
       "      <td>87618</td>\n",
       "      <td>NaN</td>\n",
       "      <td>NaN</td>\n",
       "      <td>NaN</td>\n",
       "      <td>NaN</td>\n",
       "    </tr>\n",
       "    <tr>\n",
       "      <th>1095</th>\n",
       "      <td>2019</td>\n",
       "      <td>20002</td>\n",
       "      <td>Kings</td>\n",
       "      <td>Interstate</td>\n",
       "      <td>278</td>\n",
       "      <td>Gowanus Express</td>\n",
       "      <td>Rich/Kings Co Line</td>\n",
       "      <td>92ND ST OVER</td>\n",
       "      <td>Brooklyn</td>\n",
       "      <td>119</td>\n",
       "      <td>11</td>\n",
       "      <td>Y</td>\n",
       "      <td>182155</td>\n",
       "      <td>NaN</td>\n",
       "      <td>NaN</td>\n",
       "      <td>NaN</td>\n",
       "      <td>NaN</td>\n",
       "    </tr>\n",
       "    <tr>\n",
       "      <th>1096</th>\n",
       "      <td>2019</td>\n",
       "      <td>20003</td>\n",
       "      <td>Kings</td>\n",
       "      <td>NY</td>\n",
       "      <td>27</td>\n",
       "      <td>NaN</td>\n",
       "      <td>10TH AVE  11TH AVE EXIT</td>\n",
       "      <td>FORT HAMILTON PKWY</td>\n",
       "      <td>Brooklyn</td>\n",
       "      <td>55</td>\n",
       "      <td>12</td>\n",
       "      <td>NaN</td>\n",
       "      <td>97588</td>\n",
       "      <td>NaN</td>\n",
       "      <td>NaN</td>\n",
       "      <td>NaN</td>\n",
       "      <td>NaN</td>\n",
       "    </tr>\n",
       "    <tr>\n",
       "      <th>1097</th>\n",
       "      <td>2019</td>\n",
       "      <td>20004</td>\n",
       "      <td>Kings</td>\n",
       "      <td>NY</td>\n",
       "      <td>27</td>\n",
       "      <td>NaN</td>\n",
       "      <td>FORT HAMILTON PKWY</td>\n",
       "      <td>E 5TH ST/CATON AVE</td>\n",
       "      <td>Brooklyn</td>\n",
       "      <td>10</td>\n",
       "      <td>12</td>\n",
       "      <td>NaN</td>\n",
       "      <td>72443</td>\n",
       "      <td>NaN</td>\n",
       "      <td>NaN</td>\n",
       "      <td>NaN</td>\n",
       "      <td>NaN</td>\n",
       "    </tr>\n",
       "    <tr>\n",
       "      <th>1098</th>\n",
       "      <td>2019</td>\n",
       "      <td>20005</td>\n",
       "      <td>Kings</td>\n",
       "      <td>NY</td>\n",
       "      <td>27</td>\n",
       "      <td>CATON AVE</td>\n",
       "      <td>E 5TH ST/CATON AVE</td>\n",
       "      <td>CONEY ISLAND AVE</td>\n",
       "      <td>Brooklyn</td>\n",
       "      <td>27</td>\n",
       "      <td>12</td>\n",
       "      <td>Y</td>\n",
       "      <td>68239</td>\n",
       "      <td>NaN</td>\n",
       "      <td>NaN</td>\n",
       "      <td>NaN</td>\n",
       "      <td>NaN</td>\n",
       "    </tr>\n",
       "  </tbody>\n",
       "</table>\n",
       "</div>"
      ],
      "text/plain": [
       "     aadt_year station_id county     signing state_route        road_name  \\\n",
       "1094      2019      20001  Kings          NY          27              NaN   \n",
       "1095      2019      20002  Kings  Interstate         278  Gowanus Express   \n",
       "1096      2019      20003  Kings          NY          27              NaN   \n",
       "1097      2019      20004  Kings          NY          27              NaN   \n",
       "1098      2019      20005  Kings          NY          27        CATON AVE   \n",
       "\n",
       "             beginning_description           ending_description municipality  \\\n",
       "1094  RT I278 ACC RAMP GOWANUS EXP  17TH ENT / PROSPECT AV EXIT     Brooklyn   \n",
       "1095            Rich/Kings Co Line                 92ND ST OVER     Brooklyn   \n",
       "1096       10TH AVE  11TH AVE EXIT           FORT HAMILTON PKWY     Brooklyn   \n",
       "1097            FORT HAMILTON PKWY           E 5TH ST/CATON AVE     Brooklyn   \n",
       "1098            E 5TH ST/CATON AVE             CONEY ISLAND AVE     Brooklyn   \n",
       "\n",
       "     length  fc bridge   count oneway ramp rr_xing county_road  \n",
       "1094     30  12      Y   87618    NaN  NaN     NaN         NaN  \n",
       "1095    119  11      Y  182155    NaN  NaN     NaN         NaN  \n",
       "1096     55  12    NaN   97588    NaN  NaN     NaN         NaN  \n",
       "1097     10  12    NaN   72443    NaN  NaN     NaN         NaN  \n",
       "1098     27  12      Y   68239    NaN  NaN     NaN         NaN  "
      ]
     },
     "execution_count": 28,
     "metadata": {},
     "output_type": "execute_result"
    }
   ],
   "source": [
    "broo_traffic.head()"
   ]
  },
  {
   "cell_type": "code",
   "execution_count": null,
   "metadata": {},
   "outputs": [],
   "source": []
  }
 ],
 "metadata": {
  "kernelspec": {
   "display_name": "Python 3",
   "language": "python",
   "name": "python3"
  },
  "language_info": {
   "codemirror_mode": {
    "name": "ipython",
    "version": 3
   },
   "file_extension": ".py",
   "mimetype": "text/x-python",
   "name": "python",
   "nbconvert_exporter": "python",
   "pygments_lexer": "ipython3",
   "version": "3.7.3"
  }
 },
 "nbformat": 4,
 "nbformat_minor": 2
}

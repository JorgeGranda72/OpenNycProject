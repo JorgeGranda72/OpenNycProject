{
 "cells": [
  {
   "cell_type": "markdown",
   "metadata": {},
   "source": [
    "# Introduction\n",
    "\n",
    "This notebook aims to explore trends in recent data on NYC motor vehicle collisions. Cleaned data (from data_exploration/Obtaining_and_Cleaning_the_Data.ipynb notebook) will be joined (inner join) to the Vehicle Collisions - Crashes Joined to Neighborhood Data.csv (Kevin Lee's csv with neighborhood name column).\n",
    "\n",
    "### Tasks\n",
    "1. Visualize data on the borough level (borough boundaries)\n",
    "2. Visualize data on the neigborhood level (neighborhood boundaries)\n",
    "3. Visualize data using H3\n",
    "4. Create Hexagon boundaries within neighborhoods\n",
    "\n",
    "#### Use plotly for vis\n"
   ]
  },
  {
   "cell_type": "markdown",
   "metadata": {},
   "source": [
    "# Data Source\n",
    "\n",
    "The data used in this notebook was obtained from: \n",
    "\n",
    "- [NYC Open Data's Motor Vehicle Collision-Crashes](https://data.cityofnewyork.us/Public-Safety/Motor-Vehicle-Collisions-Crashes/h9gi-nx95)\n",
    "  - This dataset contains information from all police reported motor vehicle collisions in NYC. Each row represents a crash event.The police report (MV104-AN) is required to be filled out for collisions where someone is injured or killed, or where there is at least 1000 dollars worth of damage. This notebook uses a subset of the data and was accessed with the [Socrata Open Data (SODA) API](https://dev.socrata.com/consumers/getting-started.html). \n",
    " "
   ]
  },
  {
   "cell_type": "markdown",
   "metadata": {},
   "source": [
    "# Loading Dependencies"
   ]
  },
  {
   "cell_type": "code",
   "execution_count": 1,
   "metadata": {},
   "outputs": [
    {
     "name": "stderr",
     "output_type": "stream",
     "text": [
      "/Users/jorgegranda/anaconda3/lib/python3.7/site-packages/geopandas/_compat.py:115: UserWarning:\n",
      "\n",
      "The Shapely GEOS version (3.9.1-CAPI-1.14.2) is incompatible with the GEOS version PyGEOS was compiled with (3.10.1-CAPI-1.16.0). Conversions between both will be slow.\n",
      "\n"
     ]
    }
   ],
   "source": [
    "import json\n",
    "import requests\n",
    "import pandas as pd\n",
    "#from sodapy import Socrata\n",
    "import numpy as np\n",
    "import urllib.request\n",
    "import plotly.express as px\n",
    "import plotly.io as pio\n",
    "pio.renderers.default = 'browser'\n",
    "#from urllib.request import urlopen\n",
    "import geopandas as gdp\n",
    "from geojson import Feature, Point, FeatureCollection, Polygon"
   ]
  },
  {
   "cell_type": "markdown",
   "metadata": {},
   "source": [
    "Create access token (set of permissions that allow the token to make certain types of requests to Mapbox APIs)"
   ]
  },
  {
   "cell_type": "code",
   "execution_count": 2,
   "metadata": {},
   "outputs": [],
   "source": [
    "px.set_mapbox_access_token(open(\".mapbox_token\").read())"
   ]
  },
  {
   "cell_type": "code",
   "execution_count": null,
   "metadata": {},
   "outputs": [],
   "source": [
    "# “I suggested to use edit distance + agglomerative clustering + spell checking to cleaning up mispelled categories”."
   ]
  },
  {
   "cell_type": "markdown",
   "metadata": {},
   "source": [
    "**Borough + Neighborhoods Geojson files**"
   ]
  },
  {
   "cell_type": "code",
   "execution_count": 3,
   "metadata": {},
   "outputs": [],
   "source": [
    "# Obtain geojson file with neighborhood boundaries\n",
    "neigh_url = 'https://services5.arcgis.com/GfwWNkhOj9bNBqoJ/arcgis/rest/services/NYC_Neighborhood_Tabulation_Areas_2020/FeatureServer/0/query?where=1=1&outFields=*&outSR=4326&f=pgeojson'"
   ]
  },
  {
   "cell_type": "code",
   "execution_count": 4,
   "metadata": {},
   "outputs": [],
   "source": [
    "#boro_url = 'https://services1.arcgis.com/0mhlGDIUKwQF6tnJ/arcgis/rest/services/NYC_Borough_Boundaries/FeatureServer/0/query?where=1=1&outFields=*&outSR=4326&f=pgeojson'"
   ]
  },
  {
   "cell_type": "code",
   "execution_count": 5,
   "metadata": {},
   "outputs": [],
   "source": [
    "# boro_json = requests.get(boro_url)\n",
    "# boro_json = boro_json.json()"
   ]
  },
  {
   "cell_type": "code",
   "execution_count": 39,
   "metadata": {},
   "outputs": [],
   "source": [
    "#boro_json['features'][0]['properties']"
   ]
  },
  {
   "cell_type": "code",
   "execution_count": 4,
   "metadata": {},
   "outputs": [],
   "source": [
    "hood_json = requests.get(neigh_url)\n",
    "hood_json = hood_json.json()"
   ]
  },
  {
   "cell_type": "code",
   "execution_count": 5,
   "metadata": {},
   "outputs": [
    {
     "data": {
      "text/plain": [
       "{'OBJECTID': 1,\n",
       " 'BoroCode': 3,\n",
       " 'BoroName': 'Brooklyn',\n",
       " 'CountyFIPS': '047',\n",
       " 'NTA2020': 'BK0101',\n",
       " 'NTAName': 'Greenpoint',\n",
       " 'NTAAbbrev': 'Grnpt',\n",
       " 'NTAType': '0',\n",
       " 'CDTA2020': 'BK01',\n",
       " 'CDTAName': 'BK01 Williamsburg-Greenpoint (CD 1 Equivalent)',\n",
       " 'Shape__Area': 35321930.6625214,\n",
       " 'Shape__Length': 28914.3147173552}"
      ]
     },
     "execution_count": 5,
     "metadata": {},
     "output_type": "execute_result"
    }
   ],
   "source": [
    "hood_json['features'][0]['properties']"
   ]
  },
  {
   "cell_type": "code",
   "execution_count": 6,
   "metadata": {},
   "outputs": [],
   "source": [
    "# Obtain geojson file with Borough boundaries\n",
    "nyc_boro = json.load(open(\"Data/Borough Boundaries.geojson\", \"r\"))"
   ]
  },
  {
   "cell_type": "code",
   "execution_count": 43,
   "metadata": {},
   "outputs": [
    {
     "data": {
      "text/plain": [
       "{'boro_code': '4',\n",
       " 'boro_name': 'Queens',\n",
       " 'shape_area': '3040205594.95',\n",
       " 'shape_leng': '900269.280485'}"
      ]
     },
     "execution_count": 43,
     "metadata": {},
     "output_type": "execute_result"
    }
   ],
   "source": [
    "nyc_boro['features'][0]['properties']"
   ]
  },
  {
   "cell_type": "markdown",
   "metadata": {},
   "source": [
    "# Importing the Data\n"
   ]
  },
  {
   "cell_type": "code",
   "execution_count": 13,
   "metadata": {},
   "outputs": [],
   "source": [
    "#df_crash_count = pd.read_csv('Data/Borough and Neighborhood Crash Counts (2012-07-01 through 2022-03-15).csv')\n",
    "# df_motor_vehicle = pd.read_csv('Data/Motor Vehicle Collisions - Crashes Joined to Neighborhood Data.csv')\n",
    "# df_original = pd.read_csv('Data/NYC-Open-Data-Motor-Vehicle-Collision-Crashes.csv')#\n",
    "df_motor_vehicle = pd.read_csv('Data/Motor-Vehicle-Collision-Crashes_12M.csv')"
   ]
  },
  {
   "cell_type": "code",
   "execution_count": 14,
   "metadata": {},
   "outputs": [
    {
     "data": {
      "text/plain": [
       "(96580, 12)"
      ]
     },
     "execution_count": 14,
     "metadata": {},
     "output_type": "execute_result"
    }
   ],
   "source": [
    "df_motor_vehicle.shape"
   ]
  },
  {
   "cell_type": "markdown",
   "metadata": {},
   "source": [
    "#### 1. Visualize data on the borough level (borough boundaries)\n",
    "\n",
    "    - Create choropleth map of collisions and number of persons injured per NYC borough"
   ]
  },
  {
   "cell_type": "code",
   "execution_count": 15,
   "metadata": {},
   "outputs": [],
   "source": [
    "# Use the same group by structure for neigborhoods and boroughs\n",
    "df_gb_boro = df_motor_vehicle.groupby('boroname').agg(\n",
    "            number_of_collisions = ('collision_id', 'count'),\n",
    "            number_of_persons_injured = ('number_of_persons_injured', sum)).reset_index()"
   ]
  },
  {
   "cell_type": "code",
   "execution_count": 16,
   "metadata": {},
   "outputs": [
    {
     "data": {
      "text/html": [
       "<div>\n",
       "<style scoped>\n",
       "    .dataframe tbody tr th:only-of-type {\n",
       "        vertical-align: middle;\n",
       "    }\n",
       "\n",
       "    .dataframe tbody tr th {\n",
       "        vertical-align: top;\n",
       "    }\n",
       "\n",
       "    .dataframe thead th {\n",
       "        text-align: right;\n",
       "    }\n",
       "</style>\n",
       "<table border=\"1\" class=\"dataframe\">\n",
       "  <thead>\n",
       "    <tr style=\"text-align: right;\">\n",
       "      <th></th>\n",
       "      <th>boroname</th>\n",
       "      <th>number_of_collisions</th>\n",
       "      <th>number_of_persons_injured</th>\n",
       "    </tr>\n",
       "  </thead>\n",
       "  <tbody>\n",
       "    <tr>\n",
       "      <th>0</th>\n",
       "      <td>Bronx</td>\n",
       "      <td>17386</td>\n",
       "      <td>8348</td>\n",
       "    </tr>\n",
       "    <tr>\n",
       "      <th>1</th>\n",
       "      <td>Brooklyn</td>\n",
       "      <td>32581</td>\n",
       "      <td>15846</td>\n",
       "    </tr>\n",
       "    <tr>\n",
       "      <th>2</th>\n",
       "      <td>Manhattan</td>\n",
       "      <td>15831</td>\n",
       "      <td>6917</td>\n",
       "    </tr>\n",
       "    <tr>\n",
       "      <th>3</th>\n",
       "      <td>Queens</td>\n",
       "      <td>26252</td>\n",
       "      <td>12519</td>\n",
       "    </tr>\n",
       "    <tr>\n",
       "      <th>4</th>\n",
       "      <td>Staten Island</td>\n",
       "      <td>4530</td>\n",
       "      <td>2011</td>\n",
       "    </tr>\n",
       "  </tbody>\n",
       "</table>\n",
       "</div>"
      ],
      "text/plain": [
       "        boroname  number_of_collisions  number_of_persons_injured\n",
       "0          Bronx                 17386                       8348\n",
       "1       Brooklyn                 32581                      15846\n",
       "2      Manhattan                 15831                       6917\n",
       "3         Queens                 26252                      12519\n",
       "4  Staten Island                  4530                       2011"
      ]
     },
     "execution_count": 16,
     "metadata": {},
     "output_type": "execute_result"
    }
   ],
   "source": [
    "df_gb_boro.head()"
   ]
  },
  {
   "cell_type": "markdown",
   "metadata": {},
   "source": [
    "#### Borough Map"
   ]
  },
  {
   "cell_type": "code",
   "execution_count": 19,
   "metadata": {},
   "outputs": [],
   "source": [
    "boro_fig = px.choropleth_mapbox(\n",
    "    df_gb_boro,\n",
    "    locations = \"boroname\",\n",
    "    geojson = nyc_boro,\n",
    "    color = \"number_of_persons_injured\",\n",
    "    featureidkey=\"properties.boro_name\",\n",
    "    #color_continuous_scale=px.colors.continuous.Viridis[::-1],\n",
    "    color_continuous_scale=px.colors.sequential.YlOrRd,\n",
    "    #color_continuous_scale=\"viridis\",\n",
    "    #px.colors.sequential.Viridis,\n",
    "    hover_name=\"boroname\",\n",
    "    hover_data={'number_of_persons_injured': True,\n",
    "                'number_of_collisions': True,\n",
    "                'boroname': False},\n",
    "    mapbox_style=\"carto-positron\",\n",
    "    center={\"lat\": 40.730610, \"lon\": -73.9749},\n",
    "    zoom=8.5,\n",
    "    opacity=0.5,\n",
    "    title = \"NYC Boroughs\",)\n",
    "# fig.update_layout(\n",
    "#     title={\n",
    "#         'text': \"location of fatalities\",\n",
    "#         'y':0.9,\n",
    "#         'x':0.5,\n",
    "#         'xanchor': 'center',\n",
    "#         'yanchor': 'top'})"
   ]
  },
  {
   "cell_type": "code",
   "execution_count": 20,
   "metadata": {},
   "outputs": [],
   "source": [
    "boro_fig.show()"
   ]
  },
  {
   "cell_type": "markdown",
   "metadata": {},
   "source": [
    "#### 2. Visualize data on the neigborhood level (neighborhood boundaries)\n",
    "#### Create choropleth map of collisions and number of persons injured per NYC neigborhood\n",
    "- Use similar \"group by\" structure for data sumary on neighborhoods and boroughs\n",
    "- Group by locations (Boro, Neighborhood)\n",
    "    - Collision id column agg 'count' (will count the number of collitions at each location)\n",
    "    - Persons injured column agg 'sum' (will add the number of persons injured at each location)"
   ]
  },
  {
   "cell_type": "markdown",
   "metadata": {},
   "source": [
    "#### Group dataframe by borough/neighborhood + aggregations\n",
    "**Filtering**\n",
    "- Selecting Borough\n",
    "    - Displaying neighborhoods from selected borough"
   ]
  },
  {
   "cell_type": "code",
   "execution_count": 17,
   "metadata": {},
   "outputs": [],
   "source": [
    "df_gb_boro_neigh = df_motor_vehicle.groupby(['boroname','ntaname']).agg(\n",
    "            number_of_collisions = ('collision_id', 'count'),\n",
    "            number_of_persons_injured = ('number_of_persons_injured', sum)).reset_index()"
   ]
  },
  {
   "cell_type": "code",
   "execution_count": 18,
   "metadata": {},
   "outputs": [
    {
     "data": {
      "text/html": [
       "<div>\n",
       "<style scoped>\n",
       "    .dataframe tbody tr th:only-of-type {\n",
       "        vertical-align: middle;\n",
       "    }\n",
       "\n",
       "    .dataframe tbody tr th {\n",
       "        vertical-align: top;\n",
       "    }\n",
       "\n",
       "    .dataframe thead th {\n",
       "        text-align: right;\n",
       "    }\n",
       "</style>\n",
       "<table border=\"1\" class=\"dataframe\">\n",
       "  <thead>\n",
       "    <tr style=\"text-align: right;\">\n",
       "      <th></th>\n",
       "      <th>boroname</th>\n",
       "      <th>ntaname</th>\n",
       "      <th>number_of_collisions</th>\n",
       "      <th>number_of_persons_injured</th>\n",
       "    </tr>\n",
       "  </thead>\n",
       "  <tbody>\n",
       "    <tr>\n",
       "      <th>0</th>\n",
       "      <td>Bronx</td>\n",
       "      <td>Allerton</td>\n",
       "      <td>208</td>\n",
       "      <td>139</td>\n",
       "    </tr>\n",
       "    <tr>\n",
       "      <th>1</th>\n",
       "      <td>Bronx</td>\n",
       "      <td>Bedford Park</td>\n",
       "      <td>325</td>\n",
       "      <td>101</td>\n",
       "    </tr>\n",
       "    <tr>\n",
       "      <th>2</th>\n",
       "      <td>Bronx</td>\n",
       "      <td>Belmont</td>\n",
       "      <td>488</td>\n",
       "      <td>240</td>\n",
       "    </tr>\n",
       "    <tr>\n",
       "      <th>3</th>\n",
       "      <td>Bronx</td>\n",
       "      <td>Bronx Park</td>\n",
       "      <td>266</td>\n",
       "      <td>153</td>\n",
       "    </tr>\n",
       "    <tr>\n",
       "      <th>4</th>\n",
       "      <td>Bronx</td>\n",
       "      <td>Castle Hill-Unionport</td>\n",
       "      <td>522</td>\n",
       "      <td>250</td>\n",
       "    </tr>\n",
       "  </tbody>\n",
       "</table>\n",
       "</div>"
      ],
      "text/plain": [
       "  boroname                ntaname  number_of_collisions  \\\n",
       "0    Bronx               Allerton                   208   \n",
       "1    Bronx           Bedford Park                   325   \n",
       "2    Bronx                Belmont                   488   \n",
       "3    Bronx             Bronx Park                   266   \n",
       "4    Bronx  Castle Hill-Unionport                   522   \n",
       "\n",
       "   number_of_persons_injured  \n",
       "0                        139  \n",
       "1                        101  \n",
       "2                        240  \n",
       "3                        153  \n",
       "4                        250  "
      ]
     },
     "execution_count": 18,
     "metadata": {},
     "output_type": "execute_result"
    }
   ],
   "source": [
    "df_gb_boro_neigh.head()"
   ]
  },
  {
   "cell_type": "code",
   "execution_count": 19,
   "metadata": {},
   "outputs": [],
   "source": [
    "df_gb_boro_neigh['injuries_per_collision'] = round((df_gb_boro_neigh['number_of_persons_injured']/df_gb_boro_neigh['number_of_collisions']),2)"
   ]
  },
  {
   "cell_type": "code",
   "execution_count": 20,
   "metadata": {},
   "outputs": [
    {
     "data": {
      "text/html": [
       "<div>\n",
       "<style scoped>\n",
       "    .dataframe tbody tr th:only-of-type {\n",
       "        vertical-align: middle;\n",
       "    }\n",
       "\n",
       "    .dataframe tbody tr th {\n",
       "        vertical-align: top;\n",
       "    }\n",
       "\n",
       "    .dataframe thead th {\n",
       "        text-align: right;\n",
       "    }\n",
       "</style>\n",
       "<table border=\"1\" class=\"dataframe\">\n",
       "  <thead>\n",
       "    <tr style=\"text-align: right;\">\n",
       "      <th></th>\n",
       "      <th>boroname</th>\n",
       "      <th>ntaname</th>\n",
       "      <th>number_of_collisions</th>\n",
       "      <th>number_of_persons_injured</th>\n",
       "      <th>injuries_per_collision</th>\n",
       "    </tr>\n",
       "  </thead>\n",
       "  <tbody>\n",
       "    <tr>\n",
       "      <th>0</th>\n",
       "      <td>Bronx</td>\n",
       "      <td>Allerton</td>\n",
       "      <td>208</td>\n",
       "      <td>139</td>\n",
       "      <td>0.67</td>\n",
       "    </tr>\n",
       "    <tr>\n",
       "      <th>1</th>\n",
       "      <td>Bronx</td>\n",
       "      <td>Bedford Park</td>\n",
       "      <td>325</td>\n",
       "      <td>101</td>\n",
       "      <td>0.31</td>\n",
       "    </tr>\n",
       "    <tr>\n",
       "      <th>2</th>\n",
       "      <td>Bronx</td>\n",
       "      <td>Belmont</td>\n",
       "      <td>488</td>\n",
       "      <td>240</td>\n",
       "      <td>0.49</td>\n",
       "    </tr>\n",
       "    <tr>\n",
       "      <th>3</th>\n",
       "      <td>Bronx</td>\n",
       "      <td>Bronx Park</td>\n",
       "      <td>266</td>\n",
       "      <td>153</td>\n",
       "      <td>0.58</td>\n",
       "    </tr>\n",
       "    <tr>\n",
       "      <th>4</th>\n",
       "      <td>Bronx</td>\n",
       "      <td>Castle Hill-Unionport</td>\n",
       "      <td>522</td>\n",
       "      <td>250</td>\n",
       "      <td>0.48</td>\n",
       "    </tr>\n",
       "  </tbody>\n",
       "</table>\n",
       "</div>"
      ],
      "text/plain": [
       "  boroname                ntaname  number_of_collisions  \\\n",
       "0    Bronx               Allerton                   208   \n",
       "1    Bronx           Bedford Park                   325   \n",
       "2    Bronx                Belmont                   488   \n",
       "3    Bronx             Bronx Park                   266   \n",
       "4    Bronx  Castle Hill-Unionport                   522   \n",
       "\n",
       "   number_of_persons_injured  injuries_per_collision  \n",
       "0                        139                    0.67  \n",
       "1                        101                    0.31  \n",
       "2                        240                    0.49  \n",
       "3                        153                    0.58  \n",
       "4                        250                    0.48  "
      ]
     },
     "execution_count": 20,
     "metadata": {},
     "output_type": "execute_result"
    }
   ],
   "source": [
    "df_gb_boro_neigh.head()"
   ]
  },
  {
   "cell_type": "markdown",
   "metadata": {},
   "source": [
    "**Neighboorhood Map**"
   ]
  },
  {
   "cell_type": "code",
   "execution_count": 24,
   "metadata": {},
   "outputs": [],
   "source": [
    "neighborhood_fig = px.choropleth_mapbox(\n",
    "    df_gb_boro_neigh,\n",
    "    locations = \"ntaname\",\n",
    "    geojson = hood_json,\n",
    "    color = \"number_of_persons_injured\",\n",
    "    featureidkey=\"properties.NTAName\",\n",
    "    #color_continuous_scale=px.colors.continuous.Viridis[::-1],\n",
    "    #colorscale = 'Reds',\n",
    "    color_continuous_scale=px.colors.sequential.YlOrRd,\n",
    "    #color_continuous_scale=\"viridis\",\n",
    "    #px.colors.sequential.Viridis,\n",
    "    hover_name=\"ntaname\",\n",
    "    hover_data={'number_of_persons_injured': True,\n",
    "                'number_of_collisions': True,\n",
    "                'injuries_per_collision': True,\n",
    "                #'boroname': False,\n",
    "                'ntaname': False},\n",
    "    mapbox_style=\"carto-positron\",\n",
    "    center={\"lat\": 40.730610, \"lon\": -73.9749},\n",
    "    zoom=10,\n",
    "    opacity=0.5,\n",
    "    title = \"Neighboorhood Map\")\n",
    "# fig.update_layout(\n",
    "#     title={\n",
    "#         'text': \"location of fatalities\",\n",
    "#         'y':0.9,\n",
    "#         'x':0.5,\n",
    "#         'xanchor': 'center',\n",
    "#         'yanchor': 'top'})"
   ]
  },
  {
   "cell_type": "code",
   "execution_count": 25,
   "metadata": {},
   "outputs": [],
   "source": [
    "neighborhood_fig.show()"
   ]
  },
  {
   "cell_type": "code",
   "execution_count": 26,
   "metadata": {},
   "outputs": [],
   "source": [
    "# Filtering Brooklyn data\n",
    "borough = 'Brooklyn'\n",
    "df_one_boro = df_gb_boro_neigh[df_gb_boro_neigh['boroname'] == borough]"
   ]
  },
  {
   "cell_type": "code",
   "execution_count": null,
   "metadata": {},
   "outputs": [],
   "source": [
    "#df_one_boro = df_gb_boro_neigh.loc[(df_gb_boro_neigh['boroname'] == Boro_name) & (df_gb_boro_neigh['number_of_collisions']> 100)]\n"
   ]
  },
  {
   "cell_type": "markdown",
   "metadata": {},
   "source": [
    "#### Map of Neighborhoods from selected Borough"
   ]
  },
  {
   "cell_type": "code",
   "execution_count": 30,
   "metadata": {},
   "outputs": [],
   "source": [
    "one_boro_fig = px.choropleth_mapbox(\n",
    "    df_one_boro,\n",
    "    locations = \"ntaname\",\n",
    "    geojson = hood_json,\n",
    "    color = \"number_of_persons_injured\",\n",
    "    featureidkey=\"properties.NTAName\",\n",
    "    #color_continuous_scale=px.colors.continuous.Viridis[::-1],\n",
    "    #colorscale = 'Reds',\n",
    "    color_continuous_scale=px.colors.sequential.YlOrRd,\n",
    "    #color_continuous_scale=\"viridis\",\n",
    "    #px.colors.sequential.Viridis,\n",
    "    hover_name=\"ntaname\",\n",
    "    hover_data={'number_of_persons_injured': True,\n",
    "                'number_of_collisions': True,\n",
    "                'injuries_per_collision': True,\n",
    "                #'boroname': False,\n",
    "                'ntaname': False},\n",
    "    mapbox_style=\"carto-positron\",\n",
    "    center={\"lat\": 40.730610, \"lon\": -73.9749},\n",
    "    zoom=10,\n",
    "    opacity=0.5,\n",
    "    title = \"Map of : \" + borough,)"
   ]
  },
  {
   "cell_type": "code",
   "execution_count": 31,
   "metadata": {},
   "outputs": [],
   "source": [
    "one_boro_fig.show()"
   ]
  },
  {
   "cell_type": "markdown",
   "metadata": {},
   "source": [
    "# Visualizing Collisions with H3  \n",
    "[H3 Documentation](https://h3geo.org/docs/)"
   ]
  },
  {
   "cell_type": "code",
   "execution_count": 33,
   "metadata": {},
   "outputs": [],
   "source": [
    "import h3\n",
    "from shapely.geometry import Polygon     "
   ]
  },
  {
   "cell_type": "markdown",
   "metadata": {},
   "source": [
    "### Create data frame that includes collision_id, borough name, neighborhood name, lat, lon and persons injured columns\n",
    "- Lat and lon will be used to create he3 cells and to populate cells with corresponding data\n",
    "- Collision id for counting the total number of collisions per location (h3 cell)\n",
    "- Number of persons injured (sum total per corresponding location)\n",
    "- Borough name column will allow data filtering by borough\n",
    "- Neighborhood column will allow data filtering by neigborhood name\n",
    "\n"
   ]
  },
  {
   "cell_type": "code",
   "execution_count": 63,
   "metadata": {},
   "outputs": [
    {
     "data": {
      "text/plain": [
       "Index(['collision_id', 'crash date', 'crash time', 'latitude', 'longitude',\n",
       "       'boroname', 'ntaname', 'cdtaname', 'geometry',\n",
       "       'number_of_persons_killed', 'number_of_persons_injured', 'year'],\n",
       "      dtype='object')"
      ]
     },
     "execution_count": 63,
     "metadata": {},
     "output_type": "execute_result"
    }
   ],
   "source": [
    "df_motor_vehicle.columns"
   ]
  },
  {
   "cell_type": "code",
   "execution_count": 35,
   "metadata": {},
   "outputs": [],
   "source": [
    "\n",
    "df_h3 = (df_motor_vehicle[['collision_id','boroname','ntaname','latitude','longitude','number_of_persons_injured']])"
   ]
  },
  {
   "cell_type": "code",
   "execution_count": 36,
   "metadata": {},
   "outputs": [
    {
     "data": {
      "text/html": [
       "<div>\n",
       "<style scoped>\n",
       "    .dataframe tbody tr th:only-of-type {\n",
       "        vertical-align: middle;\n",
       "    }\n",
       "\n",
       "    .dataframe tbody tr th {\n",
       "        vertical-align: top;\n",
       "    }\n",
       "\n",
       "    .dataframe thead th {\n",
       "        text-align: right;\n",
       "    }\n",
       "</style>\n",
       "<table border=\"1\" class=\"dataframe\">\n",
       "  <thead>\n",
       "    <tr style=\"text-align: right;\">\n",
       "      <th></th>\n",
       "      <th>collision_id</th>\n",
       "      <th>boroname</th>\n",
       "      <th>ntaname</th>\n",
       "      <th>latitude</th>\n",
       "      <th>longitude</th>\n",
       "      <th>number_of_persons_injured</th>\n",
       "    </tr>\n",
       "  </thead>\n",
       "  <tbody>\n",
       "    <tr>\n",
       "      <th>0</th>\n",
       "      <td>4407147</td>\n",
       "      <td>Brooklyn</td>\n",
       "      <td>Park Slope</td>\n",
       "      <td>40.683580</td>\n",
       "      <td>-73.97617</td>\n",
       "      <td>1</td>\n",
       "    </tr>\n",
       "    <tr>\n",
       "      <th>1</th>\n",
       "      <td>4407702</td>\n",
       "      <td>Brooklyn</td>\n",
       "      <td>Park Slope</td>\n",
       "      <td>40.669067</td>\n",
       "      <td>-73.98780</td>\n",
       "      <td>0</td>\n",
       "    </tr>\n",
       "    <tr>\n",
       "      <th>2</th>\n",
       "      <td>4407489</td>\n",
       "      <td>Brooklyn</td>\n",
       "      <td>Park Slope</td>\n",
       "      <td>40.673008</td>\n",
       "      <td>-73.97851</td>\n",
       "      <td>0</td>\n",
       "    </tr>\n",
       "    <tr>\n",
       "      <th>3</th>\n",
       "      <td>4407699</td>\n",
       "      <td>Brooklyn</td>\n",
       "      <td>Park Slope</td>\n",
       "      <td>40.681335</td>\n",
       "      <td>-73.97667</td>\n",
       "      <td>1</td>\n",
       "    </tr>\n",
       "    <tr>\n",
       "      <th>4</th>\n",
       "      <td>4407890</td>\n",
       "      <td>Brooklyn</td>\n",
       "      <td>Park Slope</td>\n",
       "      <td>40.682842</td>\n",
       "      <td>-73.97660</td>\n",
       "      <td>1</td>\n",
       "    </tr>\n",
       "  </tbody>\n",
       "</table>\n",
       "</div>"
      ],
      "text/plain": [
       "   collision_id  boroname     ntaname   latitude  longitude  \\\n",
       "0       4407147  Brooklyn  Park Slope  40.683580  -73.97617   \n",
       "1       4407702  Brooklyn  Park Slope  40.669067  -73.98780   \n",
       "2       4407489  Brooklyn  Park Slope  40.673008  -73.97851   \n",
       "3       4407699  Brooklyn  Park Slope  40.681335  -73.97667   \n",
       "4       4407890  Brooklyn  Park Slope  40.682842  -73.97660   \n",
       "\n",
       "   number_of_persons_injured  \n",
       "0                          1  \n",
       "1                          0  \n",
       "2                          0  \n",
       "3                          1  \n",
       "4                          1  "
      ]
     },
     "execution_count": 36,
     "metadata": {},
     "output_type": "execute_result"
    }
   ],
   "source": [
    "df_h3.head()"
   ]
  },
  {
   "cell_type": "markdown",
   "metadata": {},
   "source": [
    "- Function to map car collision points to the H3 cells.\n",
    "- H3 resolution 9 (.1 square km hexagon) "
   ]
  },
  {
   "cell_type": "code",
   "execution_count": 37,
   "metadata": {},
   "outputs": [],
   "source": [
    "H3_res = 9 # H3 Resolution (.1km^2)\n",
    "def geo_to_h3(row):\n",
    "  return h3.geo_to_h3(lat=row.latitude,lng=row.longitude,resolution = H3_res)"
   ]
  },
  {
   "cell_type": "code",
   "execution_count": 38,
   "metadata": {},
   "outputs": [
    {
     "name": "stderr",
     "output_type": "stream",
     "text": [
      "/Users/jorgegranda/anaconda3/lib/python3.7/site-packages/ipykernel_launcher.py:1: SettingWithCopyWarning:\n",
      "\n",
      "\n",
      "A value is trying to be set on a copy of a slice from a DataFrame.\n",
      "Try using .loc[row_indexer,col_indexer] = value instead\n",
      "\n",
      "See the caveats in the documentation: https://pandas.pydata.org/pandas-docs/stable/user_guide/indexing.html#returning-a-view-versus-a-copy\n",
      "\n"
     ]
    }
   ],
   "source": [
    "df_h3['h3_cell'] = df_h3.apply(geo_to_h3,axis=1)"
   ]
  },
  {
   "cell_type": "code",
   "execution_count": 39,
   "metadata": {},
   "outputs": [
    {
     "data": {
      "text/plain": [
       "(96580, 7)"
      ]
     },
     "execution_count": 39,
     "metadata": {},
     "output_type": "execute_result"
    }
   ],
   "source": [
    "df_h3.shape"
   ]
  },
  {
   "cell_type": "markdown",
   "metadata": {},
   "source": [
    "### Group dataframe by h3 column, boroname, ntaname and aggregates collition id (count), number of persons injured (sum)"
   ]
  },
  {
   "cell_type": "code",
   "execution_count": 40,
   "metadata": {},
   "outputs": [],
   "source": [
    "# df_gb_boro_neigh = df_motor_vehicle.groupby(['boroname','ntaname']).agg(\n",
    "#             number_of_collisions = ('collision_id', 'count'),\n",
    "#             number_of_persons_injured = ('number_of_persons_injured', sum)).reset_index()\n",
    "#df_h3_gb = (df_h3.groupby('h3_cell').number_of_persons_injured.sum()).reset_index()\n",
    "## Grouping by h3 (counting ids, adding number of persons injured)\n",
    "# df_h3_gb = df_h3.groupby('h3_cell').agg(\n",
    "#         # Get count of id per cell\n",
    "#         number_of_collisions = ('collision_id', \"count\"),\n",
    "#         number_of_persons_injured = ('number_of_persons_injured', sum)).reset_index()\n"
   ]
  },
  {
   "cell_type": "code",
   "execution_count": 40,
   "metadata": {},
   "outputs": [],
   "source": [
    "df_h3_gb = df_h3.groupby(['h3_cell','boroname','ntaname']).agg(\n",
    "        # Get count of id per cell\n",
    "        number_of_collisions = ('collision_id', \"count\"),\n",
    "        number_of_persons_injured = ('number_of_persons_injured', sum)).reset_index()"
   ]
  },
  {
   "cell_type": "code",
   "execution_count": 41,
   "metadata": {},
   "outputs": [
    {
     "data": {
      "text/plain": [
       "(7749, 5)"
      ]
     },
     "execution_count": 41,
     "metadata": {},
     "output_type": "execute_result"
    }
   ],
   "source": [
    "df_h3_gb.shape"
   ]
  },
  {
   "cell_type": "code",
   "execution_count": 75,
   "metadata": {},
   "outputs": [
    {
     "data": {
      "text/html": [
       "<div>\n",
       "<style scoped>\n",
       "    .dataframe tbody tr th:only-of-type {\n",
       "        vertical-align: middle;\n",
       "    }\n",
       "\n",
       "    .dataframe tbody tr th {\n",
       "        vertical-align: top;\n",
       "    }\n",
       "\n",
       "    .dataframe thead th {\n",
       "        text-align: right;\n",
       "    }\n",
       "</style>\n",
       "<table border=\"1\" class=\"dataframe\">\n",
       "  <thead>\n",
       "    <tr style=\"text-align: right;\">\n",
       "      <th></th>\n",
       "      <th>h3_cell</th>\n",
       "      <th>boroname</th>\n",
       "      <th>ntaname</th>\n",
       "      <th>number_of_collisions</th>\n",
       "      <th>number_of_persons_injured</th>\n",
       "      <th>geometry</th>\n",
       "    </tr>\n",
       "  </thead>\n",
       "  <tbody>\n",
       "    <tr>\n",
       "      <th>6989</th>\n",
       "      <td>892a1076203ffff</td>\n",
       "      <td>Brooklyn</td>\n",
       "      <td>Flatbush</td>\n",
       "      <td>8</td>\n",
       "      <td>6</td>\n",
       "      <td>POLYGON ((-73.95342596865591 40.63367083801214...</td>\n",
       "    </tr>\n",
       "  </tbody>\n",
       "</table>\n",
       "</div>"
      ],
      "text/plain": [
       "              h3_cell  boroname   ntaname  number_of_collisions  \\\n",
       "6989  892a1076203ffff  Brooklyn  Flatbush                     8   \n",
       "\n",
       "      number_of_persons_injured  \\\n",
       "6989                          6   \n",
       "\n",
       "                                               geometry  \n",
       "6989  POLYGON ((-73.95342596865591 40.63367083801214...  "
      ]
     },
     "execution_count": 75,
     "metadata": {},
     "output_type": "execute_result"
    }
   ],
   "source": [
    "# One h3 cell may partly be included in more than one neighborhood\n",
    "df_h3_gb.loc[df_h3_gb.h3_cell.str.contains('892a1076203ffff')] #892a100dea7ffff\n",
    "#df_neiborhood = df_h3_gb3.loc[df_h3_gb3.ntaname.str.contains('astoria', case = False)]\n"
   ]
  },
  {
   "cell_type": "markdown",
   "metadata": {},
   "source": [
    "Needed for plotting\n",
    "- Use shapely (import Polygon)\n",
    "- Function to generate hexagon geometry for each cell\n"
   ]
  },
  {
   "cell_type": "code",
   "execution_count": 42,
   "metadata": {},
   "outputs": [],
   "source": [
    "# Function to generate hexagon geometry for each hexagon\n",
    "def add_geometry(row):\n",
    "  points = h3.h3_to_geo_boundary(row['h3_cell'], True)\n",
    "  return Polygon(points)"
   ]
  },
  {
   "cell_type": "code",
   "execution_count": 43,
   "metadata": {},
   "outputs": [],
   "source": [
    "df_h3_gb['geometry'] = (df_h3_gb.apply(add_geometry,axis=1))"
   ]
  },
  {
   "cell_type": "code",
   "execution_count": 44,
   "metadata": {},
   "outputs": [
    {
     "data": {
      "text/html": [
       "<div>\n",
       "<style scoped>\n",
       "    .dataframe tbody tr th:only-of-type {\n",
       "        vertical-align: middle;\n",
       "    }\n",
       "\n",
       "    .dataframe tbody tr th {\n",
       "        vertical-align: top;\n",
       "    }\n",
       "\n",
       "    .dataframe thead th {\n",
       "        text-align: right;\n",
       "    }\n",
       "</style>\n",
       "<table border=\"1\" class=\"dataframe\">\n",
       "  <thead>\n",
       "    <tr style=\"text-align: right;\">\n",
       "      <th></th>\n",
       "      <th>h3_cell</th>\n",
       "      <th>boroname</th>\n",
       "      <th>ntaname</th>\n",
       "      <th>number_of_collisions</th>\n",
       "      <th>number_of_persons_injured</th>\n",
       "      <th>geometry</th>\n",
       "    </tr>\n",
       "  </thead>\n",
       "  <tbody>\n",
       "    <tr>\n",
       "      <th>0</th>\n",
       "      <td>892a1000047ffff</td>\n",
       "      <td>Bronx</td>\n",
       "      <td>Pelham Bay-Country Club-City Island</td>\n",
       "      <td>1</td>\n",
       "      <td>0</td>\n",
       "      <td>POLYGON ((-73.79056100760786 40.85996287572233...</td>\n",
       "    </tr>\n",
       "    <tr>\n",
       "      <th>1</th>\n",
       "      <td>892a1000063ffff</td>\n",
       "      <td>Bronx</td>\n",
       "      <td>Pelham Bay-Country Club-City Island</td>\n",
       "      <td>6</td>\n",
       "      <td>1</td>\n",
       "      <td>POLYGON ((-73.79037556521729 40.85467378813006...</td>\n",
       "    </tr>\n",
       "    <tr>\n",
       "      <th>2</th>\n",
       "      <td>892a1000067ffff</td>\n",
       "      <td>Bronx</td>\n",
       "      <td>Pelham Bay-Country Club-City Island</td>\n",
       "      <td>8</td>\n",
       "      <td>4</td>\n",
       "      <td>POLYGON ((-73.78814034418616 40.85208351682743...</td>\n",
       "    </tr>\n",
       "    <tr>\n",
       "      <th>3</th>\n",
       "      <td>892a1000073ffff</td>\n",
       "      <td>Bronx</td>\n",
       "      <td>Pelham Bay-Country Club-City Island</td>\n",
       "      <td>1</td>\n",
       "      <td>0</td>\n",
       "      <td>POLYGON ((-73.78832552397652 40.85737243243801...</td>\n",
       "    </tr>\n",
       "    <tr>\n",
       "      <th>4</th>\n",
       "      <td>892a100007bffff</td>\n",
       "      <td>Bronx</td>\n",
       "      <td>Pelham Bay-Country Club-City Island</td>\n",
       "      <td>4</td>\n",
       "      <td>3</td>\n",
       "      <td>POLYGON ((-73.79261103722521 40.85726410455732...</td>\n",
       "    </tr>\n",
       "  </tbody>\n",
       "</table>\n",
       "</div>"
      ],
      "text/plain": [
       "           h3_cell boroname                              ntaname  \\\n",
       "0  892a1000047ffff    Bronx  Pelham Bay-Country Club-City Island   \n",
       "1  892a1000063ffff    Bronx  Pelham Bay-Country Club-City Island   \n",
       "2  892a1000067ffff    Bronx  Pelham Bay-Country Club-City Island   \n",
       "3  892a1000073ffff    Bronx  Pelham Bay-Country Club-City Island   \n",
       "4  892a100007bffff    Bronx  Pelham Bay-Country Club-City Island   \n",
       "\n",
       "   number_of_collisions  number_of_persons_injured  \\\n",
       "0                     1                          0   \n",
       "1                     6                          1   \n",
       "2                     8                          4   \n",
       "3                     1                          0   \n",
       "4                     4                          3   \n",
       "\n",
       "                                            geometry  \n",
       "0  POLYGON ((-73.79056100760786 40.85996287572233...  \n",
       "1  POLYGON ((-73.79037556521729 40.85467378813006...  \n",
       "2  POLYGON ((-73.78814034418616 40.85208351682743...  \n",
       "3  POLYGON ((-73.78832552397652 40.85737243243801...  \n",
       "4  POLYGON ((-73.79261103722521 40.85726410455732...  "
      ]
     },
     "execution_count": 44,
     "metadata": {},
     "output_type": "execute_result"
    }
   ],
   "source": [
    "df_h3_gb.head()"
   ]
  },
  {
   "cell_type": "markdown",
   "metadata": {},
   "source": [
    "### For the Choropleth map\n",
    "- Data frame + Geojson-dictionary\n",
    "    - Create a GeoJSON-formatted dictionary using Dataframe\n",
    "    - Need a location column to assign color to map\n"
   ]
  },
  {
   "cell_type": "code",
   "execution_count": 45,
   "metadata": {},
   "outputs": [],
   "source": [
    "def hexagons_dataframe_to_geojson(df_hex, hex_id_field,geometry_field, value_field,file_output = None):\n",
    "\n",
    "    list_features = []\n",
    "\n",
    "    for i, row in df_hex.iterrows():\n",
    "        feature = Feature(geometry = row[geometry_field],\n",
    "                          id = row[hex_id_field],\n",
    "                          properties = {\"value\": row[value_field]})\n",
    "        list_features.append(feature)\n",
    "\n",
    "    feat_collection = FeatureCollection(list_features)\n",
    "\n",
    "    if file_output is not None:\n",
    "        with open(file_output, \"w\") as f:\n",
    "            json.dump(feat_collection, f)\n",
    "\n",
    "    else :\n",
    "      return feat_collection"
   ]
  },
  {
   "cell_type": "code",
   "execution_count": 46,
   "metadata": {},
   "outputs": [],
   "source": [
    "# GeoJson object\n",
    "# Only one file needs to be created for H3 resolution\n",
    "geojson_obj = (hexagons_dataframe_to_geojson\n",
    "                       (df_h3_gb,\n",
    "                        hex_id_field='h3_cell',\n",
    "                        value_field='number_of_persons_injured',\n",
    "                        geometry_field='geometry'))"
   ]
  },
  {
   "cell_type": "code",
   "execution_count": 71,
   "metadata": {},
   "outputs": [
    {
     "data": {
      "text/plain": [
       "Index(['h3_cell', 'boroname', 'ntaname', 'number_of_collisions',\n",
       "       'number_of_persons_injured', 'geometry'],\n",
       "      dtype='object')"
      ]
     },
     "execution_count": 71,
     "metadata": {},
     "output_type": "execute_result"
    }
   ],
   "source": [
    "df_h3_gb.columns"
   ]
  },
  {
   "cell_type": "code",
   "execution_count": 77,
   "metadata": {},
   "outputs": [
    {
     "data": {
      "text/plain": [
       "array(['Bronx', 'Queens', 'Manhattan', 'Brooklyn', 'Staten Island'],\n",
       "      dtype=object)"
      ]
     },
     "execution_count": 77,
     "metadata": {},
     "output_type": "execute_result"
    }
   ],
   "source": [
    "df_h3_gb.boroname.unique()"
   ]
  },
  {
   "cell_type": "markdown",
   "metadata": {},
   "source": [
    "### Filter df_h3_gb dataset to view data from one Borough**\n",
    "- Further filter data from borough to view data from one neighboorhood"
   ]
  },
  {
   "cell_type": "code",
   "execution_count": 64,
   "metadata": {},
   "outputs": [],
   "source": [
    "borough = 'Brooklyn'\n",
    "df_boro = df_h3_gb[df_h3_gb['boroname'] == borough]"
   ]
  },
  {
   "cell_type": "markdown",
   "metadata": {},
   "source": [
    "Figure of hexagones covering selected borough (data from one of the boroughs)\n"
   ]
  },
  {
   "cell_type": "code",
   "execution_count": 65,
   "metadata": {},
   "outputs": [],
   "source": [
    "# Fig colored by number of persons injured\n",
    "boro_hex_fig = (px.choropleth_mapbox(\n",
    "                    df_boro, # Passing selected neighborhood\n",
    "                    #df_h3_gb3, # Passing dataframe covering all neighborhoods\n",
    "                    geojson=geojson_obj, \n",
    "                    locations='h3_cell',\n",
    "                    #featureidkey = \"features.NTAName\",\n",
    "                    color='number_of_persons_injured',\n",
    "                    #color_continuous_scale=px.colors.continuous.Viridis[::-1],\n",
    "                    #color_continuous_scale=px.colors.sequential.Inferno[::-1],\n",
    "                    color_continuous_scale=px.colors.sequential.Inferno[::-1],\n",
    "                    #color_continuous_scale=\"viridis\",\n",
    "                    mapbox_style='carto-positron',\n",
    "                    zoom=8,\n",
    "                    center = {\"lat\": 40.730610, \"lon\": -73.9749},\n",
    "                    opacity=0.7,\n",
    "                    title = \"Number of Persons Injured at Location\",\n",
    "                    hover_name=\"ntaname\",\n",
    "                    #hover_data= [\"number_of_persons_injured\"], {'h3_cell':False}\n",
    "                    hover_data={'h3_cell':False,\n",
    "                               'number_of_persons_injured': True,\n",
    "                               'number_of_collisions': True,\n",
    "                               'ntaname': False}\n",
    "))"
   ]
  },
  {
   "cell_type": "code",
   "execution_count": 66,
   "metadata": {},
   "outputs": [],
   "source": [
    "boro_hex_fig.show()"
   ]
  },
  {
   "cell_type": "markdown",
   "metadata": {},
   "source": [
    "**Filter df_boro to view data from selected neighborhood**"
   ]
  },
  {
   "cell_type": "code",
   "execution_count": 50,
   "metadata": {},
   "outputs": [],
   "source": [
    "# Pick neighborhood from selected borough\n",
    "neighborhood = 'Flatbush'\n",
    "df_neighborhood = df_boro[df_boro['ntaname'] == neighborhood]"
   ]
  },
  {
   "cell_type": "code",
   "execution_count": 74,
   "metadata": {},
   "outputs": [
    {
     "data": {
      "text/html": [
       "<div>\n",
       "<style scoped>\n",
       "    .dataframe tbody tr th:only-of-type {\n",
       "        vertical-align: middle;\n",
       "    }\n",
       "\n",
       "    .dataframe tbody tr th {\n",
       "        vertical-align: top;\n",
       "    }\n",
       "\n",
       "    .dataframe thead th {\n",
       "        text-align: right;\n",
       "    }\n",
       "</style>\n",
       "<table border=\"1\" class=\"dataframe\">\n",
       "  <thead>\n",
       "    <tr style=\"text-align: right;\">\n",
       "      <th></th>\n",
       "      <th>h3_cell</th>\n",
       "      <th>boroname</th>\n",
       "      <th>ntaname</th>\n",
       "      <th>number_of_collisions</th>\n",
       "      <th>number_of_persons_injured</th>\n",
       "      <th>geometry</th>\n",
       "    </tr>\n",
       "  </thead>\n",
       "  <tbody>\n",
       "    <tr>\n",
       "      <th>6989</th>\n",
       "      <td>892a1076203ffff</td>\n",
       "      <td>Brooklyn</td>\n",
       "      <td>Flatbush</td>\n",
       "      <td>8</td>\n",
       "      <td>6</td>\n",
       "      <td>POLYGON ((-73.95342596865591 40.63367083801214...</td>\n",
       "    </tr>\n",
       "    <tr>\n",
       "      <th>6990</th>\n",
       "      <td>892a1076207ffff</td>\n",
       "      <td>Brooklyn</td>\n",
       "      <td>Flatbush</td>\n",
       "      <td>3</td>\n",
       "      <td>1</td>\n",
       "      <td>POLYGON ((-73.95119199394261 40.63109089320743...</td>\n",
       "    </tr>\n",
       "    <tr>\n",
       "      <th>6992</th>\n",
       "      <td>892a107620bffff</td>\n",
       "      <td>Brooklyn</td>\n",
       "      <td>Flatbush</td>\n",
       "      <td>3</td>\n",
       "      <td>1</td>\n",
       "      <td>POLYGON ((-73.95769129184109 40.6335563373286,...</td>\n",
       "    </tr>\n",
       "    <tr>\n",
       "      <th>6994</th>\n",
       "      <td>892a107620fffff</td>\n",
       "      <td>Brooklyn</td>\n",
       "      <td>Flatbush</td>\n",
       "      <td>2</td>\n",
       "      <td>0</td>\n",
       "      <td>POLYGON ((-73.95545708095921 40.63097647419458...</td>\n",
       "    </tr>\n",
       "    <tr>\n",
       "      <th>6997</th>\n",
       "      <td>892a1076213ffff</td>\n",
       "      <td>Brooklyn</td>\n",
       "      <td>Flatbush</td>\n",
       "      <td>37</td>\n",
       "      <td>21</td>\n",
       "      <td>POLYGON ((-73.95139462674628 40.63636525335176...</td>\n",
       "    </tr>\n",
       "  </tbody>\n",
       "</table>\n",
       "</div>"
      ],
      "text/plain": [
       "              h3_cell  boroname   ntaname  number_of_collisions  \\\n",
       "6989  892a1076203ffff  Brooklyn  Flatbush                     8   \n",
       "6990  892a1076207ffff  Brooklyn  Flatbush                     3   \n",
       "6992  892a107620bffff  Brooklyn  Flatbush                     3   \n",
       "6994  892a107620fffff  Brooklyn  Flatbush                     2   \n",
       "6997  892a1076213ffff  Brooklyn  Flatbush                    37   \n",
       "\n",
       "      number_of_persons_injured  \\\n",
       "6989                          6   \n",
       "6990                          1   \n",
       "6992                          1   \n",
       "6994                          0   \n",
       "6997                         21   \n",
       "\n",
       "                                               geometry  \n",
       "6989  POLYGON ((-73.95342596865591 40.63367083801214...  \n",
       "6990  POLYGON ((-73.95119199394261 40.63109089320743...  \n",
       "6992  POLYGON ((-73.95769129184109 40.6335563373286,...  \n",
       "6994  POLYGON ((-73.95545708095921 40.63097647419458...  \n",
       "6997  POLYGON ((-73.95139462674628 40.63636525335176...  "
      ]
     },
     "execution_count": 74,
     "metadata": {},
     "output_type": "execute_result"
    }
   ],
   "source": [
    "df_neighborhood.head()"
   ]
  },
  {
   "cell_type": "markdown",
   "metadata": {},
   "source": [
    "Figure of hexagones covering selected neighborhood\n"
   ]
  },
  {
   "cell_type": "code",
   "execution_count": 76,
   "metadata": {},
   "outputs": [],
   "source": [
    "hex_neighborhood_fig = (px.choropleth_mapbox(\n",
    "                    df_neighborhood, # Passing selected neighborhood\n",
    "                    #df_h3_gb3, # Passing dataframe covering all neighborhoods\n",
    "                    geojson=geojson_obj, \n",
    "                    locations='h3_cell',\n",
    "                    #featureidkey = \"features.NTAName\", #feature key from neighboorhood geojson file\n",
    "                    color='number_of_persons_injured',\n",
    "                    #color_continuous_scale=px.colors.continuous.Viridis[::-1],\n",
    "                    #color_continuous_scale=px.colors.sequential.Inferno[::-1],\n",
    "                    #color_continuous_scale=px.colors.sequential.Inferno[::-1],\n",
    "                    color_continuous_scale=px.colors.sequential.YlOrRd,\n",
    "                    #color_continuous_scale=\"viridis\",\n",
    "                    mapbox_style='carto-positron',\n",
    "                    zoom=12,\n",
    "                    center = {\"lat\": 40.633670, \"lon\": -73.953425},\n",
    "                    opacity=0.7,\n",
    "                    title = \"Number of Persons Injured at Location\",\n",
    "                    hover_name=\"ntaname\",\n",
    "                    #hover_data= [\"number_of_persons_injured\"], {'h3_cell':False}\n",
    "                    hover_data={'h3_cell':False,\n",
    "                               'number_of_persons_injured': True,\n",
    "                               'number_of_collisions': True,\n",
    "                               'ntaname': False}\n",
    "))"
   ]
  },
  {
   "cell_type": "code",
   "execution_count": 77,
   "metadata": {},
   "outputs": [],
   "source": [
    "hex_neighborhood_fig.show()"
   ]
  },
  {
   "cell_type": "code",
   "execution_count": 72,
   "metadata": {},
   "outputs": [
    {
     "data": {
      "text/plain": [
       "array(['Pelham Bay-Country Club-City Island', 'Co-op City',\n",
       "       'Pelham Bay Park', 'Eastchester-Edenwald-Baychester',\n",
       "       'Fort Totten', 'Douglaston-Little Neck', 'Whitestone-Beechhurst',\n",
       "       'Throgs Neck-Schuylerville', 'Bay Terrace-Clearview', 'Bayside',\n",
       "       'Auburndale', 'Williamsbridge-Olinville', 'Pelham Gardens',\n",
       "       'Allerton', 'Bronx Park', 'Norwood', 'Morris Park',\n",
       "       'Hutchinson Metro Center', 'Westchester Square', 'Bedford Park',\n",
       "       'Belmont', 'Kingsbridge Heights-Van Cortlandt Village',\n",
       "       'University Heights (North)-Fordham', 'Van Cortlandt Park',\n",
       "       'Pelham Parkway-Van Nest', 'West Farms', 'Tremont',\n",
       "       'Wakefield-Woodlawn', 'Woodlawn Cemetery', 'Castle Hill-Unionport',\n",
       "       'Ferry Point Park-St. Raymond Cemetery', 'Soundview-Clason Point',\n",
       "       'College Point', 'Soundview Park',\n",
       "       'Soundview-Bruckner-Bronx River', 'Hunts Point',\n",
       "       'Crotona Park East', 'Parkchester',\n",
       "       'Glen Oaks-Floral Park-New Hyde Park', 'Bellerose',\n",
       "       'Oakland Gardens-Hollis Hills', 'Alley Pond Park',\n",
       "       'Queens Village', 'Fresh Meadows-Utopia', 'Cunningham Park',\n",
       "       'Jamaica Estates-Holliswood', 'Hollis', 'Cambria Heights',\n",
       "       'Laurelton', 'Rosedale', 'St. Albans', 'Montefiore Cemetery',\n",
       "       'Springfield Gardens (North)-Rochdale Village', 'Baisley Park',\n",
       "       'Springfield Gardens (South)-Brookville',\n",
       "       'Washington Heights (North)', 'Upper West Side (Central)',\n",
       "       'Upper West Side-Manhattan Valley', 'Central Park',\n",
       "       'Morningside Heights', 'Upper East Side-Carnegie Hill',\n",
       "       'Upper East Side-Yorkville',\n",
       "       'Upper East Side-Lenox Hill-Roosevelt Island',\n",
       "       'East Harlem (South)', 'Upper West Side-Lincoln Square',\n",
       "       \"Hell's Kitchen\", 'Manhattanville-West Harlem', 'Harlem (South)',\n",
       "       'Hamilton Heights-Sugar Hill', 'Harlem (North)',\n",
       "       'East Harlem (North)', 'Inwood', 'Inwood Hill Park',\n",
       "       'Kingsbridge-Marble Hill', 'Riverdale-Spuyten Duyvil',\n",
       "       'Concourse-Concourse Village', 'Mount Eden-Claremont (West)',\n",
       "       'Highbridge', 'Yankee Stadium-Macombs Dam Park', 'Morrisania',\n",
       "       'Claremont Village-Claremont (East)', 'Highbridge Park',\n",
       "       'Claremont Park', 'Mount Hope',\n",
       "       'University Heights (South)-Morris Heights', 'Longwood', 'Melrose',\n",
       "       'Mott Haven-Port Morris', 'Washington Heights (South)',\n",
       "       'Fordham Heights', 'Crotona Park', 'Middle Village', 'Maspeth',\n",
       "       'Elmhurst', 'Rego Park', 'Glendale', 'St. John Cemetery',\n",
       "       'Forest Park', 'Middle Village Cemetery',\n",
       "       'Highland Park-Cypress Hills Cemeteries (North)', 'Forest Hills',\n",
       "       'Ridgewood', 'Sunnyside', 'Calvary & Mount Zion Cemeteries',\n",
       "       'Woodside', 'Mount Olivet & All Faiths Cemeteries',\n",
       "       'Bushwick (East)', 'Corona', 'Jackson Heights', 'North Corona',\n",
       "       'Flushing Meadows-Corona Park', 'Astoria (East)-Woodside (North)',\n",
       "       'East New York-City Line', 'East New York-New Lots',\n",
       "       'Spring Creek-Starrett City', 'East New York (North)',\n",
       "       'Ozone Park', 'Howard Beach-Lindenwood', 'Ozone Park (North)',\n",
       "       'Cypress Hills', 'Shirley Chisholm State Park',\n",
       "       'Spring Creek Park', 'Brownsville', 'Ocean Hill', 'Canarsie',\n",
       "       'Woodhaven', 'Richmond Hill', 'South Ozone Park',\n",
       "       'South Richmond Hill',\n",
       "       'Highland Park-Cypress Hills Cemeteries (South)',\n",
       "       'Long Island City-Hunters Point', 'Greenpoint',\n",
       "       'Murray Hill-Kips Bay', 'United Nations',\n",
       "       'East Midtown-Turtle Bay', 'East Williamsburg', 'Williamsburg',\n",
       "       'Gramercy', 'Midtown South-Flatiron-Union Square',\n",
       "       'Chelsea-Hudson Yards', 'East Village',\n",
       "       'Stuyvesant Town-Peter Cooper Village', 'Greenwich Village',\n",
       "       'West Village', 'Midtown-Times Square', 'Lower East Side',\n",
       "       'Queensbridge-Ravenswood-Dutch Kills', 'Old Astoria-Hallets Point',\n",
       "       'Astoria (Central)', 'Sunnyside Yards (North)',\n",
       "       'Sunnyside Yards (South)', 'Bedford-Stuyvesant (East)',\n",
       "       'Bedford-Stuyvesant (West)', 'Crown Heights (North)',\n",
       "       'Bushwick (West)', 'Lincoln Terrace Park',\n",
       "       'East Flatbush-Remsen Village', 'Crown Heights (South)',\n",
       "       'East Flatbush-Rugby', 'Prospect Lefferts Gardens-Wingate',\n",
       "       'Clinton Hill', 'Fort Greene', 'Park Slope', 'Prospect Heights',\n",
       "       'Downtown Brooklyn-DUMBO-Boerum Hill',\n",
       "       'Carroll Gardens-Cobble Hill-Gowanus-Red Hook', 'Prospect Park',\n",
       "       'South Williamsburg', 'Brooklyn Navy Yard',\n",
       "       'Flushing-Willets Point', 'Murray Hill-Broadway Flushing',\n",
       "       'East Flushing', 'Kissena Park', 'Queensboro Hill',\n",
       "       'Pomonok-Electchester-Hillcrest', 'Kew Gardens Hills',\n",
       "       'East Elmhurst', 'LaGuardia Airport', 'Jamaica',\n",
       "       'Jamaica Hills-Briarwood', 'Kew Gardens', 'South Jamaica',\n",
       "       'Astoria (North)-Ditmars-Steinway', \"St. Michael's Cemetery\",\n",
       "       'Astoria Park', \"Randall's Island\", 'Far Rockaway-Bayswater',\n",
       "       'Rockaway Beach-Arverne-Edgemere', 'Rockaway Community Park',\n",
       "       'Breezy Point-Belle Harbor-Rockaway Park-Broad Channel',\n",
       "       'Jamaica Bay (East)', 'Canarsie Park & Pier',\n",
       "       'John F. Kennedy International Airport',\n",
       "       'New Springville-Willowbrook-Bulls Head-Travis',\n",
       "       'Freshkills Park (North)', 'Arden Heights-Rossville',\n",
       "       'Great Kills-Eltingville', 'Freshkills Park (South)',\n",
       "       'Todt Hill-Emerson Hill-Lighthouse Hill-Manor Heights',\n",
       "       \"Annadale-Huguenot-Prince's Bay-Woodrow\", 'Tottenville-Charleston',\n",
       "       'Westerleigh-Castleton Corners', 'Port Richmond',\n",
       "       \"Mariner's Harbor-Arlington-Graniteville\",\n",
       "       'West New Brighton-Silver Lake-Grymes Hill', 'Snug Harbor',\n",
       "       'New Dorp-Midland Beach', 'Oakwood-Richmondtown',\n",
       "       'Great Kills Park', 'Grasmere-Arrochar-South Beach-Dongan Hills',\n",
       "       'Miller Field', 'St. George-New Brighton',\n",
       "       'Tompkinsville-Stapleton-Clifton-Fox Hills',\n",
       "       'Financial District-Battery Park City',\n",
       "       'The Battery-Governors Island-Ellis Island-Liberty Island',\n",
       "       'Tribeca-Civic Center', 'Brooklyn Heights',\n",
       "       'SoHo-Little Italy-Hudson Square', 'Chinatown-Two Bridges',\n",
       "       'Gravesend (East)-Homecrest', 'Gravesend (South)',\n",
       "       'Gravesend (West)', 'Coney Island-Sea Gate', 'Bath Beach',\n",
       "       'Brighton Beach', 'Sheepshead Bay-Manhattan Beach-Gerritsen Beach',\n",
       "       'Mapleton-Midwood (West)', 'Midwood', 'Bensonhurst', 'Madison',\n",
       "       'Dyker Beach Park', 'Dyker Heights',\n",
       "       'Rosebank-Shore Acres-Park Hill', 'Bay Ridge', 'Fort Hamilton',\n",
       "       'Flatlands', 'East Flatbush-Farragut',\n",
       "       'Marine Park-Mill Basin-Bergen Beach', 'Marine Park-Plumb Island',\n",
       "       'McGuire Fields', 'Flatbush',\n",
       "       'Flatbush (West)-Ditmas Park-Parkville', 'East Flatbush-Erasmus',\n",
       "       'Holy Cross Cemetery', 'Barren Island-Floyd Bennett Field',\n",
       "       'Jacob Riis Park-Fort Tilden-Breezy Point Tip',\n",
       "       'Green-Wood Cemetery', 'Sunset Park (Central)',\n",
       "       'Sunset Park (East)-Borough Park (West)', 'Borough Park',\n",
       "       'Sunset Park (West)', 'Kensington', 'Windsor Terrace-South Slope'],\n",
       "      dtype=object)"
      ]
     },
     "execution_count": 72,
     "metadata": {},
     "output_type": "execute_result"
    }
   ],
   "source": [
    "df_h3_gb.ntaname.unique()"
   ]
  },
  {
   "cell_type": "markdown",
   "metadata": {},
   "source": [
    "**Neighborhood data can also be selected directly from original df_h3_gb dataset**"
   ]
  },
  {
   "cell_type": "code",
   "execution_count": 60,
   "metadata": {},
   "outputs": [],
   "source": [
    "# Pick a neighborhood in Brooklyn from df_h3_gb original data\n",
    "neighborhood = 'Flatbush'\n",
    "df_neighborhood = df_h3_gb[df_h3_gb['ntaname'] == neighborhood]"
   ]
  },
  {
   "cell_type": "code",
   "execution_count": 61,
   "metadata": {},
   "outputs": [],
   "source": [
    "# Fig colored by number of persons\n",
    "hex_neighborhood_fig2 = (px.choropleth_mapbox(\n",
    "                    df_neighborhood, # Passing selected neighborhood\n",
    "                    #df_h3_gb3, # Passing dataframe covering all neighborhoods\n",
    "                    geojson=geojson_obj, \n",
    "                    locations='h3_cell',\n",
    "                    #featureidkey = \"features.NTAName\",\n",
    "                    color='number_of_persons_injured',\n",
    "                    #color_continuous_scale=px.colors.continuous.Viridis[::-1],\n",
    "                    #color_continuous_scale=px.colors.sequential.Inferno[::-1],\n",
    "                    #color_continuous_scale=px.colors.sequential.Inferno[::-1],\n",
    "                    color_continuous_scale=px.colors.sequential.YlOrRd,\n",
    "                    mapbox_style='carto-positron',\n",
    "                    zoom=7,\n",
    "                    center = {\"lat\": 40.730610, \"lon\": -73.9749},\n",
    "                    opacity=0.7,\n",
    "                    title = \"Number of Persons Injured at Location\",\n",
    "                    hover_name=\"ntaname\",\n",
    "                    #hover_data= [\"number_of_persons_injured\"], {'h3_cell':False}\n",
    "                    hover_data={'h3_cell':False,\n",
    "                               'number_of_persons_injured': True,\n",
    "                               'number_of_collisions': True,\n",
    "                               'ntaname': False}\n",
    "))\n"
   ]
  },
  {
   "cell_type": "code",
   "execution_count": 62,
   "metadata": {},
   "outputs": [],
   "source": [
    "hex_neighborhood_fig2.show()"
   ]
  }
 ],
 "metadata": {
  "kernelspec": {
   "display_name": "Python 3",
   "language": "python",
   "name": "python3"
  },
  "language_info": {
   "codemirror_mode": {
    "name": "ipython",
    "version": 3
   },
   "file_extension": ".py",
   "mimetype": "text/x-python",
   "name": "python",
   "nbconvert_exporter": "python",
   "pygments_lexer": "ipython3",
   "version": "3.7.3"
  }
 },
 "nbformat": 4,
 "nbformat_minor": 2
}

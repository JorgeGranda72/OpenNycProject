{
 "cells": [
  {
   "cell_type": "markdown",
   "metadata": {},
   "source": [
    "# Introduction\n",
    "\n",
    "This notebook aims to explore trends in recent data on motor vehicle collisions. Cleaned data will be joined (inner join) to the Vehicle Collisions - Crashes Joined to Neighborhood Data.csv file. The the latter contains the neighborhood information\n",
    "\n",
    "### Tasks\n",
    "- First, Visualizing data by neigborhood boundary\n",
    "- Second, Visualizing data using H3\n",
    "- Third, Visializing data using hexagon boundaries within neiboorhoods\n",
    "- Using plotly for vis\n"
   ]
  },
  {
   "cell_type": "markdown",
   "metadata": {},
   "source": [
    "# Data Source\n",
    "\n",
    "The data used in this notebook was obtained from: \n",
    "\n",
    "- [NYC Open Data's Motor Vehicle Collision-Crashes](https://data.cityofnewyork.us/Public-Safety/Motor-Vehicle-Collisions-Crashes/h9gi-nx95)\n",
    "  - This dataset contains information from all police reported motor vehicle collisions in NYC. Each row represents a crash event.The police report (MV104-AN) is required to be filled out for collisions where someone is injured or killed, or where there is at least 1000 dollars worth of damage. This notebook uses a subset of the data and was accessed with the [Socrata Open Data (SODA) API](https://dev.socrata.com/consumers/getting-started.html). \n",
    " "
   ]
  },
  {
   "cell_type": "markdown",
   "metadata": {},
   "source": [
    "# Loading Dependencies"
   ]
  },
  {
   "cell_type": "code",
   "execution_count": null,
   "metadata": {},
   "outputs": [],
   "source": [
    "import json\n",
    "import requests\n",
    "import pandas as pd\n",
    "from sodapy import Socrata\n",
    "import numpy as np\n",
    "import urllib.request\n",
    "import plotly.express as px\n",
    "import plotly.io as pio\n",
    "pio.renderers.default = 'browser'\n",
    "#from urllib.request import urlopen\n",
    "import geopandas as gdp\n",
    "from geojson import Feature, Point, FeatureCollection, Polygon"
   ]
  },
  {
   "cell_type": "markdown",
   "metadata": {},
   "source": [
    "Create access token (set of permissions that allow the token to make certain types of requests to Mapbox APIs)"
   ]
  },
  {
   "cell_type": "code",
   "execution_count": 38,
   "metadata": {},
   "outputs": [],
   "source": [
    "px.set_mapbox_access_token(open(\".mapbox_token\").read())"
   ]
  },
  {
   "cell_type": "code",
   "execution_count": null,
   "metadata": {},
   "outputs": [],
   "source": [
    "# “I suggested to use edit distance + agglomerative clustering + spell checking to cleaning up mispelled categories”."
   ]
  },
  {
   "cell_type": "markdown",
   "metadata": {},
   "source": [
    "# Neighborhoods Visualization"
   ]
  },
  {
   "cell_type": "code",
   "execution_count": 61,
   "metadata": {},
   "outputs": [],
   "source": [
    "url = 'https://services5.arcgis.com/GfwWNkhOj9bNBqoJ/arcgis/rest/services/NYC_Neighborhood_Tabulation_Areas_2020/FeatureServer/0/query?where=1=1&outFields=*&outSR=4326&f=pgeojson'"
   ]
  },
  {
   "cell_type": "code",
   "execution_count": 62,
   "metadata": {},
   "outputs": [],
   "source": [
    "hood_json = requests.get(url)\n",
    "hood_json = hood_json.json()"
   ]
  },
  {
   "cell_type": "code",
   "execution_count": 3,
   "metadata": {},
   "outputs": [],
   "source": [
    "#hood_json"
   ]
  },
  {
   "cell_type": "markdown",
   "metadata": {},
   "source": [
    "# Importing the Data\n"
   ]
  },
  {
   "cell_type": "code",
   "execution_count": 4,
   "metadata": {},
   "outputs": [],
   "source": [
    "\n",
    "df_crash_count = pd.read_csv('Data/Borough and Neighborhood Crash Counts (2012-07-01 through 2022-03-15).csv')\n",
    "df_motor_vehicle = pd.read_csv('Data/Motor Vehicle Collisions - Crashes Joined to Neighborhood Data.csv')\n",
    "df_original = pd.read_csv('Data/NYC-Open-Data-Motor-Vehicle-Collision-Crashes.csv')#"
   ]
  },
  {
   "cell_type": "code",
   "execution_count": 5,
   "metadata": {},
   "outputs": [],
   "source": [
    "# Lower columns to allow matching mergin data frame column names\n",
    "df_motor_vehicle.columns= df_motor_vehicle.columns.str.lower()"
   ]
  },
  {
   "cell_type": "code",
   "execution_count": 6,
   "metadata": {},
   "outputs": [
    {
     "data": {
      "text/plain": [
       "Index(['collision_id', 'crash_date', 'crash_time', 'number_of_persons_killed',\n",
       "       'number_of_persons_injured', 'latitude', 'longitude', 'year', 'month',\n",
       "       'day_of_week', 'hour'],\n",
       "      dtype='object')"
      ]
     },
     "execution_count": 6,
     "metadata": {},
     "output_type": "execute_result"
    }
   ],
   "source": [
    "df_original.columns"
   ]
  },
  {
   "cell_type": "code",
   "execution_count": 7,
   "metadata": {},
   "outputs": [
    {
     "data": {
      "text/plain": [
       "Index(['collision_id', 'crash date', 'crash time', 'latitude', 'longitude',\n",
       "       'boroname', 'ntaname', 'cdtaname', 'geometry'],\n",
       "      dtype='object')"
      ]
     },
     "execution_count": 7,
     "metadata": {},
     "output_type": "execute_result"
    }
   ],
   "source": [
    "df_motor_vehicle.columns"
   ]
  },
  {
   "cell_type": "code",
   "execution_count": 8,
   "metadata": {},
   "outputs": [
    {
     "data": {
      "text/plain": [
       "(1644913, 9)"
      ]
     },
     "execution_count": 8,
     "metadata": {},
     "output_type": "execute_result"
    }
   ],
   "source": [
    "df_motor_vehicle.shape"
   ]
  },
  {
   "cell_type": "code",
   "execution_count": 9,
   "metadata": {},
   "outputs": [
    {
     "data": {
      "text/plain": [
       "(1657292, 11)"
      ]
     },
     "execution_count": 9,
     "metadata": {},
     "output_type": "execute_result"
    }
   ],
   "source": [
    "df_original.shape"
   ]
  },
  {
   "cell_type": "markdown",
   "metadata": {},
   "source": [
    "### Joining datasets (Original + Crashes Joined to Neighborhood Data)\n"
   ]
  },
  {
   "cell_type": "code",
   "execution_count": 10,
   "metadata": {},
   "outputs": [],
   "source": [
    "\n",
    "# Join on collition id (add injured, killed, month, year columns)\n",
    "#df_motor_vehicle.merge(df_original[['number_of_persons_killed','number_of_persons_injured','latitude','longitude']])  # df2 but only with columns x, a, and b\n",
    "df_motor_vehicle = pd.merge(df_motor_vehicle,df_original[['collision_id','number_of_persons_killed',\n",
    "       'number_of_persons_injured','year', 'month']],on='collision_id', how='inner')"
   ]
  },
  {
   "cell_type": "code",
   "execution_count": 11,
   "metadata": {},
   "outputs": [
    {
     "data": {
      "text/plain": [
       "(1644603, 13)"
      ]
     },
     "execution_count": 11,
     "metadata": {},
     "output_type": "execute_result"
    }
   ],
   "source": [
    "df_motor_vehicle.shape"
   ]
  },
  {
   "cell_type": "code",
   "execution_count": 12,
   "metadata": {},
   "outputs": [
    {
     "data": {
      "text/plain": [
       "Index(['collision_id', 'crash date', 'crash time', 'latitude', 'longitude',\n",
       "       'boroname', 'ntaname', 'cdtaname', 'geometry',\n",
       "       'number_of_persons_killed', 'number_of_persons_injured', 'year',\n",
       "       'month'],\n",
       "      dtype='object')"
      ]
     },
     "execution_count": 12,
     "metadata": {},
     "output_type": "execute_result"
    }
   ],
   "source": [
    "df_motor_vehicle.columns"
   ]
  },
  {
   "cell_type": "code",
   "execution_count": 13,
   "metadata": {},
   "outputs": [],
   "source": [
    "# Rename Neighborhood column for clarity of map labels\n",
    "df_crash_count = df_crash_count.rename(columns = {'NTAName': 'Neighborhood'}) \n",
    "# df_motor_vehicle = df_motor_vehicle.rename(columns = {'ntaname': 'Neighborhood'}) "
   ]
  },
  {
   "cell_type": "markdown",
   "metadata": {},
   "source": [
    "#### Choropleth map of collitions per NYC neigborhood"
   ]
  },
  {
   "cell_type": "code",
   "execution_count": 18,
   "metadata": {},
   "outputs": [],
   "source": [
    "\n",
    "collition_fig = px.choropleth_mapbox(\n",
    "    df_crash_count,\n",
    "    locations = \"Neighborhood\",\n",
    "    geojson = hood_json,\n",
    "    color = \"Crashes\",\n",
    "    featureidkey=\"properties.NTAName\",\n",
    "    #color_continuous_scale=px.colors.continuous.Viridis[::-1],\n",
    "    color_continuous_scale=px.colors.sequential.Inferno[::-1],\n",
    "    #color_continuous_scale=\"viridis\",\n",
    "    #px.colors.sequential.Viridis,\n",
    "    hover_name=\"Neighborhood\",\n",
    "    #hover_data= [\"Count\"],\n",
    "    mapbox_style=\"carto-positron\",\n",
    "    center={\"lat\": 40.730610, \"lon\": -73.9749},\n",
    "    zoom=8.5,\n",
    "    opacity=0.5,\n",
    "    title = \"NYC Neighborhood\",)\n",
    "collition_fig.update_layout(\n",
    "    title={\n",
    "        'text': \"location of fatalities\",\n",
    "        'y':0.9,\n",
    "        'x':0.5,\n",
    "        'xanchor': 'center',\n",
    "        'yanchor': 'top'})"
   ]
  },
  {
   "cell_type": "code",
   "execution_count": 37,
   "metadata": {},
   "outputs": [],
   "source": [
    "#collition_fig.show()"
   ]
  },
  {
   "cell_type": "markdown",
   "metadata": {},
   "source": [
    "#### Create choropleth map of number of persons injured per NYC neigborhood"
   ]
  },
  {
   "cell_type": "markdown",
   "metadata": {},
   "source": [
    "**Filtering**\n",
    "- Previous 12 months \n",
    "\n",
    "\n"
   ]
  },
  {
   "cell_type": "code",
   "execution_count": 14,
   "metadata": {},
   "outputs": [],
   "source": [
    "# Filter the last 12 months of data and collitions with at least 1 injured person\n",
    "prev_12_months = df_motor_vehicle.loc[(df_motor_vehicle['crash date'] >= '2021-04-01')\n",
    "                     & (df_motor_vehicle['crash date'] < '2022-03-31')]\n",
    "# prev_12_months = df_motor_vehicle.loc[(df_motor_vehicle['crash date'] >= '2021-04-01')\n",
    "#                      & (df_motor_vehicle['crash date'] < '2022-03-31') & (df_motor_vehicle['number_of_persons_injured']>=1)]"
   ]
  },
  {
   "cell_type": "code",
   "execution_count": 16,
   "metadata": {},
   "outputs": [
    {
     "data": {
      "text/plain": [
       "(96580, 13)"
      ]
     },
     "execution_count": 16,
     "metadata": {},
     "output_type": "execute_result"
    }
   ],
   "source": [
    "prev_12_months.shape"
   ]
  },
  {
   "cell_type": "code",
   "execution_count": 15,
   "metadata": {},
   "outputs": [],
   "source": [
    "df_gb = prev_12_months.groupby('ntaname')['number_of_persons_injured'].sum().reset_index()"
   ]
  },
  {
   "cell_type": "code",
   "execution_count": 16,
   "metadata": {},
   "outputs": [
    {
     "data": {
      "text/html": [
       "<div>\n",
       "<style scoped>\n",
       "    .dataframe tbody tr th:only-of-type {\n",
       "        vertical-align: middle;\n",
       "    }\n",
       "\n",
       "    .dataframe tbody tr th {\n",
       "        vertical-align: top;\n",
       "    }\n",
       "\n",
       "    .dataframe thead th {\n",
       "        text-align: right;\n",
       "    }\n",
       "</style>\n",
       "<table border=\"1\" class=\"dataframe\">\n",
       "  <thead>\n",
       "    <tr style=\"text-align: right;\">\n",
       "      <th></th>\n",
       "      <th>ntaname</th>\n",
       "      <th>number_of_persons_injured</th>\n",
       "    </tr>\n",
       "  </thead>\n",
       "  <tbody>\n",
       "    <tr>\n",
       "      <th>0</th>\n",
       "      <td>Allerton</td>\n",
       "      <td>139</td>\n",
       "    </tr>\n",
       "    <tr>\n",
       "      <th>1</th>\n",
       "      <td>Alley Pond Park</td>\n",
       "      <td>132</td>\n",
       "    </tr>\n",
       "    <tr>\n",
       "      <th>2</th>\n",
       "      <td>Annadale-Huguenot-Prince's Bay-Woodrow</td>\n",
       "      <td>131</td>\n",
       "    </tr>\n",
       "    <tr>\n",
       "      <th>3</th>\n",
       "      <td>Arden Heights-Rossville</td>\n",
       "      <td>47</td>\n",
       "    </tr>\n",
       "    <tr>\n",
       "      <th>4</th>\n",
       "      <td>Astoria (Central)</td>\n",
       "      <td>191</td>\n",
       "    </tr>\n",
       "  </tbody>\n",
       "</table>\n",
       "</div>"
      ],
      "text/plain": [
       "                                  ntaname  number_of_persons_injured\n",
       "0                                Allerton                        139\n",
       "1                         Alley Pond Park                        132\n",
       "2  Annadale-Huguenot-Prince's Bay-Woodrow                        131\n",
       "3                 Arden Heights-Rossville                         47\n",
       "4                       Astoria (Central)                        191"
      ]
     },
     "execution_count": 16,
     "metadata": {},
     "output_type": "execute_result"
    }
   ],
   "source": [
    "df_gb.head()"
   ]
  },
  {
   "cell_type": "code",
   "execution_count": 17,
   "metadata": {},
   "outputs": [
    {
     "data": {
      "text/html": [
       "<div>\n",
       "<style scoped>\n",
       "    .dataframe tbody tr th:only-of-type {\n",
       "        vertical-align: middle;\n",
       "    }\n",
       "\n",
       "    .dataframe tbody tr th {\n",
       "        vertical-align: top;\n",
       "    }\n",
       "\n",
       "    .dataframe thead th {\n",
       "        text-align: right;\n",
       "    }\n",
       "</style>\n",
       "<table border=\"1\" class=\"dataframe\">\n",
       "  <thead>\n",
       "    <tr style=\"text-align: right;\">\n",
       "      <th></th>\n",
       "      <th>ntaname</th>\n",
       "      <th>number_of_persons_injured</th>\n",
       "    </tr>\n",
       "  </thead>\n",
       "  <tbody>\n",
       "    <tr>\n",
       "      <th>32</th>\n",
       "      <td>Canarsie</td>\n",
       "      <td>681</td>\n",
       "    </tr>\n",
       "    <tr>\n",
       "      <th>202</th>\n",
       "      <td>South Ozone Park</td>\n",
       "      <td>673</td>\n",
       "    </tr>\n",
       "    <tr>\n",
       "      <th>68</th>\n",
       "      <td>East New York-New Lots</td>\n",
       "      <td>623</td>\n",
       "    </tr>\n",
       "    <tr>\n",
       "      <th>155</th>\n",
       "      <td>Mott Haven-Port Morris</td>\n",
       "      <td>602</td>\n",
       "    </tr>\n",
       "    <tr>\n",
       "      <th>17</th>\n",
       "      <td>Bedford-Stuyvesant (West)</td>\n",
       "      <td>544</td>\n",
       "    </tr>\n",
       "    <tr>\n",
       "      <th>...</th>\n",
       "      <td>...</td>\n",
       "      <td>...</td>\n",
       "    </tr>\n",
       "    <tr>\n",
       "      <th>150</th>\n",
       "      <td>Miller Field</td>\n",
       "      <td>0</td>\n",
       "    </tr>\n",
       "    <tr>\n",
       "      <th>151</th>\n",
       "      <td>Montefiore Cemetery</td>\n",
       "      <td>0</td>\n",
       "    </tr>\n",
       "    <tr>\n",
       "      <th>158</th>\n",
       "      <td>Mount Olivet &amp; All Faiths Cemeteries</td>\n",
       "      <td>0</td>\n",
       "    </tr>\n",
       "    <tr>\n",
       "      <th>191</th>\n",
       "      <td>Rockaway Community Park</td>\n",
       "      <td>0</td>\n",
       "    </tr>\n",
       "    <tr>\n",
       "      <th>118</th>\n",
       "      <td>Jacob Riis Park-Fort Tilden-Breezy Point Tip</td>\n",
       "      <td>0</td>\n",
       "    </tr>\n",
       "  </tbody>\n",
       "</table>\n",
       "<p>253 rows × 2 columns</p>\n",
       "</div>"
      ],
      "text/plain": [
       "                                          ntaname  number_of_persons_injured\n",
       "32                                       Canarsie                        681\n",
       "202                              South Ozone Park                        673\n",
       "68                         East New York-New Lots                        623\n",
       "155                        Mott Haven-Port Morris                        602\n",
       "17                      Bedford-Stuyvesant (West)                        544\n",
       "..                                            ...                        ...\n",
       "150                                  Miller Field                          0\n",
       "151                           Montefiore Cemetery                          0\n",
       "158          Mount Olivet & All Faiths Cemeteries                          0\n",
       "191                       Rockaway Community Park                          0\n",
       "118  Jacob Riis Park-Fort Tilden-Breezy Point Tip                          0\n",
       "\n",
       "[253 rows x 2 columns]"
      ]
     },
     "execution_count": 17,
     "metadata": {},
     "output_type": "execute_result"
    }
   ],
   "source": [
    "# View number of persons injured in descending order\n",
    "df_gb.sort_values('number_of_persons_injured',ascending=False)"
   ]
  },
  {
   "cell_type": "code",
   "execution_count": 18,
   "metadata": {},
   "outputs": [],
   "source": [
    "# Rename neiborhood name column for clarity on map labels\n",
    "df_gb = df_gb.rename(columns = {'ntaname': 'Neighborhood'}) "
   ]
  },
  {
   "cell_type": "code",
   "execution_count": 63,
   "metadata": {},
   "outputs": [],
   "source": [
    "injured_fig = px.choropleth_mapbox(\n",
    "    df_gb,\n",
    "    locations = \"Neighborhood\",\n",
    "    geojson = hood_json,\n",
    "    color = \"number_of_persons_injured\",\n",
    "    featureidkey=\"properties.NTAName\",\n",
    "    #color_continuous_scale=px.colors.continuous.Viridis[::-1],\n",
    "    color_continuous_scale=px.colors.sequential.Inferno[::-1],\n",
    "    #color_continuous_scale=\"viridis\",\n",
    "    #px.colors.sequential.Viridis,\n",
    "    hover_name=\"Neighborhood\",\n",
    "    hover_data= [\"number_of_persons_injured\"],\n",
    "    mapbox_style=\"carto-positron\",\n",
    "    center={\"lat\": 40.730610, \"lon\": -73.9749},\n",
    "    zoom=8.5,\n",
    "    opacity=0.5,\n",
    "    title = \"NYC Neighborhood\",)\n",
    "# fig.update_layout(\n",
    "#     title={\n",
    "#         'text': \"location of fatalities\",\n",
    "#         'y':0.9,\n",
    "#         'x':0.5,\n",
    "#         'xanchor': 'center',\n",
    "#         'yanchor': 'top'})"
   ]
  },
  {
   "cell_type": "code",
   "execution_count": 64,
   "metadata": {},
   "outputs": [],
   "source": [
    "injured_fig.show()"
   ]
  },
  {
   "cell_type": "markdown",
   "metadata": {},
   "source": [
    "# Visualizing Collisions with H3"
   ]
  },
  {
   "cell_type": "code",
   "execution_count": 19,
   "metadata": {},
   "outputs": [],
   "source": [
    "import h3\n",
    "from shapely.geometry import Polygon"
   ]
  },
  {
   "cell_type": "markdown",
   "metadata": {},
   "source": [
    "##### Create data frame that includes collision_id, neighborhood name, lat, lon and persons_injured columns\n",
    "- Lat and lon will be used to create he3 cells and to to populate the hexagones with corresponding data\n",
    "- Collision id for counting the total number of collisions per location (h3 cell)\n",
    "- Number of persons injured (sum total per corresponding location)\n",
    "- Neighborhood column will allow to filter visualization by neigborhood name\n",
    "\n"
   ]
  },
  {
   "cell_type": "code",
   "execution_count": 73,
   "metadata": {},
   "outputs": [
    {
     "data": {
      "text/plain": [
       "Index(['collision_id', 'crash date', 'crash time', 'latitude', 'longitude',\n",
       "       'boroname', 'ntaname', 'cdtaname', 'geometry',\n",
       "       'number_of_persons_killed', 'number_of_persons_injured', 'year',\n",
       "       'month'],\n",
       "      dtype='object')"
      ]
     },
     "execution_count": 73,
     "metadata": {},
     "output_type": "execute_result"
    }
   ],
   "source": [
    "prev_12_months.columns"
   ]
  },
  {
   "cell_type": "code",
   "execution_count": 20,
   "metadata": {},
   "outputs": [],
   "source": [
    "\n",
    "df_h3 = (prev_12_months[['collision_id','ntaname','latitude','longitude','number_of_persons_injured']])"
   ]
  },
  {
   "cell_type": "code",
   "execution_count": 21,
   "metadata": {},
   "outputs": [
    {
     "data": {
      "text/html": [
       "<div>\n",
       "<style scoped>\n",
       "    .dataframe tbody tr th:only-of-type {\n",
       "        vertical-align: middle;\n",
       "    }\n",
       "\n",
       "    .dataframe tbody tr th {\n",
       "        vertical-align: top;\n",
       "    }\n",
       "\n",
       "    .dataframe thead th {\n",
       "        text-align: right;\n",
       "    }\n",
       "</style>\n",
       "<table border=\"1\" class=\"dataframe\">\n",
       "  <thead>\n",
       "    <tr style=\"text-align: right;\">\n",
       "      <th></th>\n",
       "      <th>collision_id</th>\n",
       "      <th>ntaname</th>\n",
       "      <th>latitude</th>\n",
       "      <th>longitude</th>\n",
       "      <th>number_of_persons_injured</th>\n",
       "    </tr>\n",
       "  </thead>\n",
       "  <tbody>\n",
       "    <tr>\n",
       "      <th>0</th>\n",
       "      <td>4407147</td>\n",
       "      <td>Park Slope</td>\n",
       "      <td>40.683580</td>\n",
       "      <td>-73.97617</td>\n",
       "      <td>1</td>\n",
       "    </tr>\n",
       "    <tr>\n",
       "      <th>1</th>\n",
       "      <td>4407702</td>\n",
       "      <td>Park Slope</td>\n",
       "      <td>40.669067</td>\n",
       "      <td>-73.98780</td>\n",
       "      <td>0</td>\n",
       "    </tr>\n",
       "    <tr>\n",
       "      <th>2</th>\n",
       "      <td>4407489</td>\n",
       "      <td>Park Slope</td>\n",
       "      <td>40.673008</td>\n",
       "      <td>-73.97851</td>\n",
       "      <td>0</td>\n",
       "    </tr>\n",
       "    <tr>\n",
       "      <th>3</th>\n",
       "      <td>4407699</td>\n",
       "      <td>Park Slope</td>\n",
       "      <td>40.681335</td>\n",
       "      <td>-73.97667</td>\n",
       "      <td>1</td>\n",
       "    </tr>\n",
       "    <tr>\n",
       "      <th>4</th>\n",
       "      <td>4407890</td>\n",
       "      <td>Park Slope</td>\n",
       "      <td>40.682842</td>\n",
       "      <td>-73.97660</td>\n",
       "      <td>1</td>\n",
       "    </tr>\n",
       "  </tbody>\n",
       "</table>\n",
       "</div>"
      ],
      "text/plain": [
       "   collision_id     ntaname   latitude  longitude  number_of_persons_injured\n",
       "0       4407147  Park Slope  40.683580  -73.97617                          1\n",
       "1       4407702  Park Slope  40.669067  -73.98780                          0\n",
       "2       4407489  Park Slope  40.673008  -73.97851                          0\n",
       "3       4407699  Park Slope  40.681335  -73.97667                          1\n",
       "4       4407890  Park Slope  40.682842  -73.97660                          1"
      ]
     },
     "execution_count": 21,
     "metadata": {},
     "output_type": "execute_result"
    }
   ],
   "source": [
    "df_h3.head()"
   ]
  },
  {
   "cell_type": "markdown",
   "metadata": {},
   "source": [
    "- Function to map car collision points to the H3 cells.\n",
    "- H3 resolution 9 (.1 square km hexagon) "
   ]
  },
  {
   "cell_type": "code",
   "execution_count": 22,
   "metadata": {},
   "outputs": [],
   "source": [
    "H3_res = 9 # H3 Resolution (.1km^2)\n",
    "def geo_to_h3(row):\n",
    "  return h3.geo_to_h3(lat=row.latitude,lng=row.longitude,resolution = H3_res)"
   ]
  },
  {
   "cell_type": "code",
   "execution_count": 23,
   "metadata": {},
   "outputs": [
    {
     "name": "stderr",
     "output_type": "stream",
     "text": [
      "/Users/jorgegranda/anaconda3/lib/python3.7/site-packages/ipykernel_launcher.py:1: SettingWithCopyWarning:\n",
      "\n",
      "\n",
      "A value is trying to be set on a copy of a slice from a DataFrame.\n",
      "Try using .loc[row_indexer,col_indexer] = value instead\n",
      "\n",
      "See the caveats in the documentation: https://pandas.pydata.org/pandas-docs/stable/user_guide/indexing.html#returning-a-view-versus-a-copy\n",
      "\n"
     ]
    }
   ],
   "source": [
    "df_h3['h3_cell'] = df_h3.apply(geo_to_h3,axis=1)"
   ]
  },
  {
   "cell_type": "code",
   "execution_count": 24,
   "metadata": {},
   "outputs": [
    {
     "data": {
      "text/plain": [
       "(96580, 6)"
      ]
     },
     "execution_count": 24,
     "metadata": {},
     "output_type": "execute_result"
    }
   ],
   "source": [
    "df_h3.shape"
   ]
  },
  {
   "cell_type": "markdown",
   "metadata": {},
   "source": [
    "Visualization that groups by h3 and aggregates collition id (count), number of persons injured (sum)"
   ]
  },
  {
   "cell_type": "code",
   "execution_count": 27,
   "metadata": {},
   "outputs": [],
   "source": [
    "\n",
    "#df_h3_gb = (df_h3.groupby('h3_cell').number_of_persons_injured.sum()).reset_index()\n",
    "## Grouping by h3 (counting ids, adding number of persons injured)\n",
    "df_h3_gb = df_h3.groupby('h3_cell').agg(\n",
    "        # Get count of id per cell\n",
    "        number_of_collisions = ('collision_id', \"count\"),\n",
    "        number_of_persons_injured = ('number_of_persons_injured', sum)).reset_index()\n"
   ]
  },
  {
   "cell_type": "code",
   "execution_count": 25,
   "metadata": {},
   "outputs": [],
   "source": [
    "df_h3_gb3 = df_h3.groupby(['h3_cell','ntaname']).agg(\n",
    "        # Get count of id per cell\n",
    "        number_of_collisions = ('collision_id', \"count\"),\n",
    "        number_of_persons_injured = ('number_of_persons_injured', sum)).reset_index()"
   ]
  },
  {
   "cell_type": "code",
   "execution_count": 27,
   "metadata": {},
   "outputs": [
    {
     "data": {
      "text/plain": [
       "(7749, 4)"
      ]
     },
     "execution_count": 27,
     "metadata": {},
     "output_type": "execute_result"
    }
   ],
   "source": [
    "df_h3_gb3.shape"
   ]
  },
  {
   "cell_type": "code",
   "execution_count": 53,
   "metadata": {},
   "outputs": [
    {
     "data": {
      "text/plain": [
       "h3_cell                      object\n",
       "ntaname                      object\n",
       "number_of_collisions          int64\n",
       "number_of_persons_injured     int64\n",
       "geometry                     object\n",
       "dtype: object"
      ]
     },
     "execution_count": 53,
     "metadata": {},
     "output_type": "execute_result"
    }
   ],
   "source": [
    "df_h3_gb3.dtypes"
   ]
  },
  {
   "cell_type": "code",
   "execution_count": 57,
   "metadata": {},
   "outputs": [
    {
     "data": {
      "text/html": [
       "<div>\n",
       "<style scoped>\n",
       "    .dataframe tbody tr th:only-of-type {\n",
       "        vertical-align: middle;\n",
       "    }\n",
       "\n",
       "    .dataframe tbody tr th {\n",
       "        vertical-align: top;\n",
       "    }\n",
       "\n",
       "    .dataframe thead th {\n",
       "        text-align: right;\n",
       "    }\n",
       "</style>\n",
       "<table border=\"1\" class=\"dataframe\">\n",
       "  <thead>\n",
       "    <tr style=\"text-align: right;\">\n",
       "      <th></th>\n",
       "      <th>h3_cell</th>\n",
       "      <th>ntaname</th>\n",
       "      <th>number_of_collisions</th>\n",
       "      <th>number_of_persons_injured</th>\n",
       "      <th>geometry</th>\n",
       "    </tr>\n",
       "  </thead>\n",
       "  <tbody>\n",
       "    <tr>\n",
       "      <th>3847</th>\n",
       "      <td>892a100dea7ffff</td>\n",
       "      <td>Bedford-Stuyvesant (East)</td>\n",
       "      <td>29</td>\n",
       "      <td>17</td>\n",
       "      <td>POLYGON ((-73.94325245463516 40.70260990419921...</td>\n",
       "    </tr>\n",
       "    <tr>\n",
       "      <th>3848</th>\n",
       "      <td>892a100dea7ffff</td>\n",
       "      <td>Bedford-Stuyvesant (West)</td>\n",
       "      <td>24</td>\n",
       "      <td>11</td>\n",
       "      <td>POLYGON ((-73.94325245463516 40.70260990419921...</td>\n",
       "    </tr>\n",
       "    <tr>\n",
       "      <th>3849</th>\n",
       "      <td>892a100dea7ffff</td>\n",
       "      <td>Bushwick (West)</td>\n",
       "      <td>2</td>\n",
       "      <td>2</td>\n",
       "      <td>POLYGON ((-73.94325245463516 40.70260990419921...</td>\n",
       "    </tr>\n",
       "    <tr>\n",
       "      <th>3850</th>\n",
       "      <td>892a100dea7ffff</td>\n",
       "      <td>East Williamsburg</td>\n",
       "      <td>6</td>\n",
       "      <td>2</td>\n",
       "      <td>POLYGON ((-73.94325245463516 40.70260990419921...</td>\n",
       "    </tr>\n",
       "    <tr>\n",
       "      <th>3851</th>\n",
       "      <td>892a100dea7ffff</td>\n",
       "      <td>South Williamsburg</td>\n",
       "      <td>39</td>\n",
       "      <td>19</td>\n",
       "      <td>POLYGON ((-73.94325245463516 40.70260990419921...</td>\n",
       "    </tr>\n",
       "  </tbody>\n",
       "</table>\n",
       "</div>"
      ],
      "text/plain": [
       "              h3_cell                    ntaname  number_of_collisions  \\\n",
       "3847  892a100dea7ffff  Bedford-Stuyvesant (East)                    29   \n",
       "3848  892a100dea7ffff  Bedford-Stuyvesant (West)                    24   \n",
       "3849  892a100dea7ffff            Bushwick (West)                     2   \n",
       "3850  892a100dea7ffff          East Williamsburg                     6   \n",
       "3851  892a100dea7ffff         South Williamsburg                    39   \n",
       "\n",
       "      number_of_persons_injured  \\\n",
       "3847                         17   \n",
       "3848                         11   \n",
       "3849                          2   \n",
       "3850                          2   \n",
       "3851                         19   \n",
       "\n",
       "                                               geometry  \n",
       "3847  POLYGON ((-73.94325245463516 40.70260990419921...  \n",
       "3848  POLYGON ((-73.94325245463516 40.70260990419921...  \n",
       "3849  POLYGON ((-73.94325245463516 40.70260990419921...  \n",
       "3850  POLYGON ((-73.94325245463516 40.70260990419921...  \n",
       "3851  POLYGON ((-73.94325245463516 40.70260990419921...  "
      ]
     },
     "execution_count": 57,
     "metadata": {},
     "output_type": "execute_result"
    }
   ],
   "source": [
    "df_h3_gb3.loc[df_h3_gb3.h3_cell.str.contains('892a100dea7ffff')] #892a100dea7ffff\n",
    "#df_neiborhood = df_h3_gb3.loc[df_h3_gb3.ntaname.str.contains('astoria', case = False)]\n"
   ]
  },
  {
   "cell_type": "code",
   "execution_count": 51,
   "metadata": {},
   "outputs": [
    {
     "data": {
      "text/plain": [
       "892a100dea7ffff    5\n",
       "892a100d907ffff    5\n",
       "892a1077473ffff    4\n",
       "892a100de67ffff    4\n",
       "892a1001e8bffff    4\n",
       "                  ..\n",
       "892a100d1bbffff    1\n",
       "892a100d1b3ffff    1\n",
       "892a100d1abffff    1\n",
       "892a100d19bffff    1\n",
       "892a10776d7ffff    1\n",
       "Name: h3_cell, Length: 5964, dtype: int64"
      ]
     },
     "execution_count": 51,
     "metadata": {},
     "output_type": "execute_result"
    }
   ],
   "source": [
    "df_h3_gb3.h3_cell.value_counts()"
   ]
  },
  {
   "cell_type": "markdown",
   "metadata": {},
   "source": [
    "Needed for plotting\n",
    "- Use shapely (import Polygon)\n",
    "- Function to generate hexagon geometry for each hexagon\n"
   ]
  },
  {
   "cell_type": "code",
   "execution_count": 29,
   "metadata": {},
   "outputs": [],
   "source": [
    "# Function to generate hexagon geometry for each hexagon\n",
    "def add_geometry(row):\n",
    "  points = h3.h3_to_geo_boundary(row['h3_cell'], True)\n",
    "  return Polygon(points)"
   ]
  },
  {
   "cell_type": "code",
   "execution_count": 32,
   "metadata": {},
   "outputs": [],
   "source": [
    "df_h3_gb3['geometry'] = (df_h3_gb3.apply(add_geometry,axis=1))"
   ]
  },
  {
   "cell_type": "code",
   "execution_count": 33,
   "metadata": {},
   "outputs": [
    {
     "data": {
      "text/html": [
       "<div>\n",
       "<style scoped>\n",
       "    .dataframe tbody tr th:only-of-type {\n",
       "        vertical-align: middle;\n",
       "    }\n",
       "\n",
       "    .dataframe tbody tr th {\n",
       "        vertical-align: top;\n",
       "    }\n",
       "\n",
       "    .dataframe thead th {\n",
       "        text-align: right;\n",
       "    }\n",
       "</style>\n",
       "<table border=\"1\" class=\"dataframe\">\n",
       "  <thead>\n",
       "    <tr style=\"text-align: right;\">\n",
       "      <th></th>\n",
       "      <th>h3_cell</th>\n",
       "      <th>ntaname</th>\n",
       "      <th>number_of_collisions</th>\n",
       "      <th>number_of_persons_injured</th>\n",
       "      <th>geometry</th>\n",
       "    </tr>\n",
       "  </thead>\n",
       "  <tbody>\n",
       "    <tr>\n",
       "      <th>0</th>\n",
       "      <td>892a1000047ffff</td>\n",
       "      <td>Pelham Bay-Country Club-City Island</td>\n",
       "      <td>1</td>\n",
       "      <td>0</td>\n",
       "      <td>POLYGON ((-73.79056100760786 40.85996287572233...</td>\n",
       "    </tr>\n",
       "    <tr>\n",
       "      <th>1</th>\n",
       "      <td>892a1000063ffff</td>\n",
       "      <td>Pelham Bay-Country Club-City Island</td>\n",
       "      <td>6</td>\n",
       "      <td>1</td>\n",
       "      <td>POLYGON ((-73.79037556521729 40.85467378813006...</td>\n",
       "    </tr>\n",
       "    <tr>\n",
       "      <th>2</th>\n",
       "      <td>892a1000067ffff</td>\n",
       "      <td>Pelham Bay-Country Club-City Island</td>\n",
       "      <td>8</td>\n",
       "      <td>4</td>\n",
       "      <td>POLYGON ((-73.78814034418616 40.85208351682743...</td>\n",
       "    </tr>\n",
       "    <tr>\n",
       "      <th>3</th>\n",
       "      <td>892a1000073ffff</td>\n",
       "      <td>Pelham Bay-Country Club-City Island</td>\n",
       "      <td>1</td>\n",
       "      <td>0</td>\n",
       "      <td>POLYGON ((-73.78832552397652 40.85737243243801...</td>\n",
       "    </tr>\n",
       "    <tr>\n",
       "      <th>4</th>\n",
       "      <td>892a100007bffff</td>\n",
       "      <td>Pelham Bay-Country Club-City Island</td>\n",
       "      <td>4</td>\n",
       "      <td>3</td>\n",
       "      <td>POLYGON ((-73.79261103722521 40.85726410455732...</td>\n",
       "    </tr>\n",
       "  </tbody>\n",
       "</table>\n",
       "</div>"
      ],
      "text/plain": [
       "           h3_cell                              ntaname  number_of_collisions  \\\n",
       "0  892a1000047ffff  Pelham Bay-Country Club-City Island                     1   \n",
       "1  892a1000063ffff  Pelham Bay-Country Club-City Island                     6   \n",
       "2  892a1000067ffff  Pelham Bay-Country Club-City Island                     8   \n",
       "3  892a1000073ffff  Pelham Bay-Country Club-City Island                     1   \n",
       "4  892a100007bffff  Pelham Bay-Country Club-City Island                     4   \n",
       "\n",
       "   number_of_persons_injured  \\\n",
       "0                          0   \n",
       "1                          1   \n",
       "2                          4   \n",
       "3                          0   \n",
       "4                          3   \n",
       "\n",
       "                                            geometry  \n",
       "0  POLYGON ((-73.79056100760786 40.85996287572233...  \n",
       "1  POLYGON ((-73.79037556521729 40.85467378813006...  \n",
       "2  POLYGON ((-73.78814034418616 40.85208351682743...  \n",
       "3  POLYGON ((-73.78832552397652 40.85737243243801...  \n",
       "4  POLYGON ((-73.79261103722521 40.85726410455732...  "
      ]
     },
     "execution_count": 33,
     "metadata": {},
     "output_type": "execute_result"
    }
   ],
   "source": [
    "df_h3_gb3.head()"
   ]
  },
  {
   "cell_type": "markdown",
   "metadata": {},
   "source": [
    "##### For the Choropleth map\n",
    "- Data frame + Geojson-dictionary\n",
    "    - Create a GeoJSON-formatted dictionary using Dataframe\n",
    "    - Need a location column to assign color to map\n"
   ]
  },
  {
   "cell_type": "code",
   "execution_count": 34,
   "metadata": {},
   "outputs": [],
   "source": [
    "def hexagons_dataframe_to_geojson(df_hex, hex_id_field,geometry_field, value_field,file_output = None):\n",
    "\n",
    "    list_features = []\n",
    "\n",
    "    for i, row in df_hex.iterrows():\n",
    "        feature = Feature(geometry = row[geometry_field],\n",
    "                          id = row[hex_id_field],\n",
    "                          properties = {\"value\": row[value_field]})\n",
    "        list_features.append(feature)\n",
    "\n",
    "    feat_collection = FeatureCollection(list_features)\n",
    "\n",
    "    if file_output is not None:\n",
    "        with open(file_output, \"w\") as f:\n",
    "            json.dump(feat_collection, f)\n",
    "\n",
    "    else :\n",
    "      return feat_collection"
   ]
  },
  {
   "cell_type": "code",
   "execution_count": 35,
   "metadata": {},
   "outputs": [],
   "source": [
    "# GeoJson object\n",
    "# Only one needs to be created at picked resolution\n",
    "geojson_obj = (hexagons_dataframe_to_geojson\n",
    "                       (df_h3_gb3,\n",
    "                        hex_id_field='h3_cell',\n",
    "                        value_field='number_of_persons_injured',\n",
    "                        geometry_field='geometry'))"
   ]
  },
  {
   "cell_type": "code",
   "execution_count": 41,
   "metadata": {},
   "outputs": [
    {
     "data": {
      "text/plain": [
       "Index(['h3_cell', 'ntaname', 'number_of_collisions',\n",
       "       'number_of_persons_injured', 'geometry'],\n",
       "      dtype='object')"
      ]
     },
     "execution_count": 41,
     "metadata": {},
     "output_type": "execute_result"
    }
   ],
   "source": [
    "df_h3_gb3.columns"
   ]
  },
  {
   "cell_type": "code",
   "execution_count": 43,
   "metadata": {},
   "outputs": [
    {
     "data": {
      "text/plain": [
       "array(['Pelham Bay-Country Club-City Island', 'Co-op City',\n",
       "       'Pelham Bay Park', 'Eastchester-Edenwald-Baychester',\n",
       "       'Fort Totten', 'Douglaston-Little Neck', 'Whitestone-Beechhurst',\n",
       "       'Throgs Neck-Schuylerville', 'Bay Terrace-Clearview', 'Bayside',\n",
       "       'Auburndale', 'Williamsbridge-Olinville', 'Pelham Gardens',\n",
       "       'Allerton', 'Bronx Park', 'Norwood', 'Morris Park',\n",
       "       'Hutchinson Metro Center', 'Westchester Square', 'Bedford Park',\n",
       "       'Belmont', 'Kingsbridge Heights-Van Cortlandt Village',\n",
       "       'University Heights (North)-Fordham', 'Van Cortlandt Park',\n",
       "       'Pelham Parkway-Van Nest', 'West Farms', 'Tremont',\n",
       "       'Wakefield-Woodlawn', 'Woodlawn Cemetery', 'Castle Hill-Unionport',\n",
       "       'Ferry Point Park-St. Raymond Cemetery', 'Soundview-Clason Point',\n",
       "       'College Point', 'Soundview Park',\n",
       "       'Soundview-Bruckner-Bronx River', 'Hunts Point',\n",
       "       'Crotona Park East', 'Parkchester',\n",
       "       'Glen Oaks-Floral Park-New Hyde Park', 'Bellerose',\n",
       "       'Oakland Gardens-Hollis Hills', 'Alley Pond Park',\n",
       "       'Queens Village', 'Fresh Meadows-Utopia', 'Cunningham Park',\n",
       "       'Jamaica Estates-Holliswood', 'Hollis', 'Cambria Heights',\n",
       "       'Laurelton', 'Rosedale', 'St. Albans', 'Montefiore Cemetery',\n",
       "       'Springfield Gardens (North)-Rochdale Village', 'Baisley Park',\n",
       "       'Springfield Gardens (South)-Brookville',\n",
       "       'Washington Heights (North)', 'Upper West Side (Central)',\n",
       "       'Upper West Side-Manhattan Valley', 'Central Park',\n",
       "       'Morningside Heights', 'Upper East Side-Carnegie Hill',\n",
       "       'Upper East Side-Yorkville',\n",
       "       'Upper East Side-Lenox Hill-Roosevelt Island',\n",
       "       'East Harlem (South)', 'Upper West Side-Lincoln Square',\n",
       "       \"Hell's Kitchen\", 'Manhattanville-West Harlem', 'Harlem (South)',\n",
       "       'Hamilton Heights-Sugar Hill', 'Harlem (North)',\n",
       "       'East Harlem (North)', 'Inwood', 'Inwood Hill Park',\n",
       "       'Kingsbridge-Marble Hill', 'Riverdale-Spuyten Duyvil',\n",
       "       'Concourse-Concourse Village', 'Mount Eden-Claremont (West)',\n",
       "       'Highbridge', 'Yankee Stadium-Macombs Dam Park', 'Morrisania',\n",
       "       'Claremont Village-Claremont (East)', 'Highbridge Park',\n",
       "       'Claremont Park', 'Mount Hope',\n",
       "       'University Heights (South)-Morris Heights', 'Longwood', 'Melrose',\n",
       "       'Mott Haven-Port Morris', 'Washington Heights (South)',\n",
       "       'Fordham Heights', 'Crotona Park', 'Middle Village', 'Maspeth',\n",
       "       'Elmhurst', 'Rego Park', 'Glendale', 'St. John Cemetery',\n",
       "       'Forest Park', 'Middle Village Cemetery',\n",
       "       'Highland Park-Cypress Hills Cemeteries (North)', 'Forest Hills',\n",
       "       'Ridgewood', 'Sunnyside', 'Calvary & Mount Zion Cemeteries',\n",
       "       'Woodside', 'Mount Olivet & All Faiths Cemeteries',\n",
       "       'Bushwick (East)', 'Corona', 'Jackson Heights', 'North Corona',\n",
       "       'Flushing Meadows-Corona Park', 'Astoria (East)-Woodside (North)',\n",
       "       'East New York-City Line', 'East New York-New Lots',\n",
       "       'Spring Creek-Starrett City', 'East New York (North)',\n",
       "       'Ozone Park', 'Howard Beach-Lindenwood', 'Ozone Park (North)',\n",
       "       'Cypress Hills', 'Shirley Chisholm State Park',\n",
       "       'Spring Creek Park', 'Brownsville', 'Ocean Hill', 'Canarsie',\n",
       "       'Woodhaven', 'Richmond Hill', 'South Ozone Park',\n",
       "       'South Richmond Hill',\n",
       "       'Highland Park-Cypress Hills Cemeteries (South)',\n",
       "       'Long Island City-Hunters Point', 'Greenpoint',\n",
       "       'Murray Hill-Kips Bay', 'United Nations',\n",
       "       'East Midtown-Turtle Bay', 'East Williamsburg', 'Williamsburg',\n",
       "       'Gramercy', 'Midtown South-Flatiron-Union Square',\n",
       "       'Chelsea-Hudson Yards', 'East Village',\n",
       "       'Stuyvesant Town-Peter Cooper Village', 'Greenwich Village',\n",
       "       'West Village', 'Midtown-Times Square', 'Lower East Side',\n",
       "       'Queensbridge-Ravenswood-Dutch Kills', 'Old Astoria-Hallets Point',\n",
       "       'Astoria (Central)', 'Sunnyside Yards (North)',\n",
       "       'Sunnyside Yards (South)', 'Bedford-Stuyvesant (East)',\n",
       "       'Bedford-Stuyvesant (West)', 'Crown Heights (North)',\n",
       "       'Bushwick (West)', 'Lincoln Terrace Park',\n",
       "       'East Flatbush-Remsen Village', 'Crown Heights (South)',\n",
       "       'East Flatbush-Rugby', 'Prospect Lefferts Gardens-Wingate',\n",
       "       'Clinton Hill', 'Fort Greene', 'Park Slope', 'Prospect Heights',\n",
       "       'Downtown Brooklyn-DUMBO-Boerum Hill',\n",
       "       'Carroll Gardens-Cobble Hill-Gowanus-Red Hook', 'Prospect Park',\n",
       "       'South Williamsburg', 'Brooklyn Navy Yard',\n",
       "       'Flushing-Willets Point', 'Murray Hill-Broadway Flushing',\n",
       "       'East Flushing', 'Kissena Park', 'Queensboro Hill',\n",
       "       'Pomonok-Electchester-Hillcrest', 'Kew Gardens Hills',\n",
       "       'East Elmhurst', 'LaGuardia Airport', 'Jamaica',\n",
       "       'Jamaica Hills-Briarwood', 'Kew Gardens', 'South Jamaica',\n",
       "       'Astoria (North)-Ditmars-Steinway', \"St. Michael's Cemetery\",\n",
       "       'Astoria Park', \"Randall's Island\", 'Far Rockaway-Bayswater',\n",
       "       'Rockaway Beach-Arverne-Edgemere', 'Rockaway Community Park',\n",
       "       'Breezy Point-Belle Harbor-Rockaway Park-Broad Channel',\n",
       "       'Jamaica Bay (East)', 'Canarsie Park & Pier',\n",
       "       'John F. Kennedy International Airport',\n",
       "       'New Springville-Willowbrook-Bulls Head-Travis',\n",
       "       'Freshkills Park (North)', 'Arden Heights-Rossville',\n",
       "       'Great Kills-Eltingville', 'Freshkills Park (South)',\n",
       "       'Todt Hill-Emerson Hill-Lighthouse Hill-Manor Heights',\n",
       "       \"Annadale-Huguenot-Prince's Bay-Woodrow\", 'Tottenville-Charleston',\n",
       "       'Westerleigh-Castleton Corners', 'Port Richmond',\n",
       "       \"Mariner's Harbor-Arlington-Graniteville\",\n",
       "       'West New Brighton-Silver Lake-Grymes Hill', 'Snug Harbor',\n",
       "       'New Dorp-Midland Beach', 'Oakwood-Richmondtown',\n",
       "       'Great Kills Park', 'Grasmere-Arrochar-South Beach-Dongan Hills',\n",
       "       'Miller Field', 'St. George-New Brighton',\n",
       "       'Tompkinsville-Stapleton-Clifton-Fox Hills',\n",
       "       'Financial District-Battery Park City',\n",
       "       'The Battery-Governors Island-Ellis Island-Liberty Island',\n",
       "       'Tribeca-Civic Center', 'Brooklyn Heights',\n",
       "       'SoHo-Little Italy-Hudson Square', 'Chinatown-Two Bridges',\n",
       "       'Gravesend (East)-Homecrest', 'Gravesend (South)',\n",
       "       'Gravesend (West)', 'Coney Island-Sea Gate', 'Bath Beach',\n",
       "       'Brighton Beach', 'Sheepshead Bay-Manhattan Beach-Gerritsen Beach',\n",
       "       'Mapleton-Midwood (West)', 'Midwood', 'Bensonhurst', 'Madison',\n",
       "       'Dyker Beach Park', 'Dyker Heights',\n",
       "       'Rosebank-Shore Acres-Park Hill', 'Bay Ridge', 'Fort Hamilton',\n",
       "       'Flatlands', 'East Flatbush-Farragut',\n",
       "       'Marine Park-Mill Basin-Bergen Beach', 'Marine Park-Plumb Island',\n",
       "       'McGuire Fields', 'Flatbush',\n",
       "       'Flatbush (West)-Ditmas Park-Parkville', 'East Flatbush-Erasmus',\n",
       "       'Holy Cross Cemetery', 'Barren Island-Floyd Bennett Field',\n",
       "       'Jacob Riis Park-Fort Tilden-Breezy Point Tip',\n",
       "       'Green-Wood Cemetery', 'Sunset Park (Central)',\n",
       "       'Sunset Park (East)-Borough Park (West)', 'Borough Park',\n",
       "       'Sunset Park (West)', 'Kensington', 'Windsor Terrace-South Slope'],\n",
       "      dtype=object)"
      ]
     },
     "execution_count": 43,
     "metadata": {},
     "output_type": "execute_result"
    }
   ],
   "source": [
    "df_h3_gb3.ntaname.unique()"
   ]
  },
  {
   "cell_type": "code",
   "execution_count": 74,
   "metadata": {},
   "outputs": [],
   "source": [
    "neighborhood = 'Rosedale'\n",
    "df_neighborhood = df_h3_gb3[df_h3_gb3['ntaname'] == neighborhood]"
   ]
  },
  {
   "cell_type": "code",
   "execution_count": 65,
   "metadata": {},
   "outputs": [],
   "source": [
    "#df_neiborhood = df_h3_gb3.loc[df_h3_gb3.ntaname.str.contains('canarsie', case = False)]\n",
    "#df.loc[df.words.str.contains('word',case=False)]\n"
   ]
  },
  {
   "cell_type": "code",
   "execution_count": 75,
   "metadata": {},
   "outputs": [],
   "source": [
    "# Fig colored by number of persons\n",
    "hex_fig = (px.choropleth_mapbox(\n",
    "                    df_neighborhood, # Passing selected neighborhood\n",
    "                    #df_h3_gb3, # Passing dataframe covering all neighborhoods\n",
    "                    geojson=geojson_obj, \n",
    "                    locations='h3_cell',\n",
    "                    #featureidkey = \"features.NTAName\",\n",
    "                    color='number_of_persons_injured',\n",
    "                    #color_continuous_scale=px.colors.continuous.Viridis[::-1],\n",
    "                    #color_continuous_scale=px.colors.sequential.Inferno[::-1],\n",
    "                    color_continuous_scale=px.colors.sequential.Inferno[::-1],\n",
    "                    #color_continuous_scale=\"viridis\",\n",
    "                    #range_color=(0,fire_ignitions_g['count'].mean()           ),                  mapbox_style='carto-positron',\n",
    "                    zoom=7,\n",
    "                    center = {\"lat\": 40.730610, \"lon\": -73.9749},\n",
    "                    opacity=0.7,\n",
    "                    title = \"Number of Persons Injured at Location\",\n",
    "                    hover_name=\"ntaname\",\n",
    "                    #hover_data= [\"number_of_persons_injured\"], {'h3_cell':False}\n",
    "                    hover_data={'h3_cell':False,\n",
    "                               'number_of_persons_injured': True,\n",
    "                               'number_of_collisions': True,\n",
    "                               'ntaname': False}\n",
    "))\n"
   ]
  },
  {
   "cell_type": "code",
   "execution_count": 76,
   "metadata": {},
   "outputs": [],
   "source": [
    "hex_fig.show()"
   ]
  },
  {
   "cell_type": "markdown",
   "metadata": {},
   "source": [
    "### Visualization that groups by h3 and aggregates collition id (count), number of persons injured (sum)\n"
   ]
  },
  {
   "cell_type": "markdown",
   "metadata": {},
   "source": [
    "Can we request the previous 12 months of data (or 2021 and 2022 and filter past 12 months on our end)???"
   ]
  },
  {
   "cell_type": "markdown",
   "metadata": {},
   "source": [
    "**Filtering**\n",
    "- Previous 12 months "
   ]
  },
  {
   "cell_type": "code",
   "execution_count": 68,
   "metadata": {},
   "outputs": [
    {
     "data": {
      "text/html": [
       "<div>\n",
       "<style scoped>\n",
       "    .dataframe tbody tr th:only-of-type {\n",
       "        vertical-align: middle;\n",
       "    }\n",
       "\n",
       "    .dataframe tbody tr th {\n",
       "        vertical-align: top;\n",
       "    }\n",
       "\n",
       "    .dataframe thead th {\n",
       "        text-align: right;\n",
       "    }\n",
       "</style>\n",
       "<table border=\"1\" class=\"dataframe\">\n",
       "  <thead>\n",
       "    <tr style=\"text-align: right;\">\n",
       "      <th></th>\n",
       "      <th>collision_id</th>\n",
       "      <th>crash date</th>\n",
       "      <th>crash time</th>\n",
       "      <th>latitude</th>\n",
       "      <th>longitude</th>\n",
       "      <th>boroname</th>\n",
       "      <th>ntaname</th>\n",
       "      <th>cdtaname</th>\n",
       "      <th>geometry</th>\n",
       "      <th>number_of_persons_killed</th>\n",
       "      <th>number_of_persons_injured</th>\n",
       "      <th>year</th>\n",
       "      <th>month</th>\n",
       "    </tr>\n",
       "  </thead>\n",
       "  <tbody>\n",
       "    <tr>\n",
       "      <th>0</th>\n",
       "      <td>4407147</td>\n",
       "      <td>2021-04-13 00:00:00</td>\n",
       "      <td>1900-01-01 21:35:00</td>\n",
       "      <td>40.683580</td>\n",
       "      <td>-73.97617</td>\n",
       "      <td>Brooklyn</td>\n",
       "      <td>Park Slope</td>\n",
       "      <td>BK06 Park Slope-Carroll Gardens (CD 6 Approxim...</td>\n",
       "      <td>POINT (-73.97617 40.68358)</td>\n",
       "      <td>0</td>\n",
       "      <td>1</td>\n",
       "      <td>2021</td>\n",
       "      <td>4</td>\n",
       "    </tr>\n",
       "    <tr>\n",
       "      <th>1</th>\n",
       "      <td>4407702</td>\n",
       "      <td>2021-04-16 00:00:00</td>\n",
       "      <td>1900-01-01 06:40:00</td>\n",
       "      <td>40.669067</td>\n",
       "      <td>-73.98780</td>\n",
       "      <td>Brooklyn</td>\n",
       "      <td>Park Slope</td>\n",
       "      <td>BK06 Park Slope-Carroll Gardens (CD 6 Approxim...</td>\n",
       "      <td>POINT (-73.9878 40.669067)</td>\n",
       "      <td>0</td>\n",
       "      <td>0</td>\n",
       "      <td>2021</td>\n",
       "      <td>4</td>\n",
       "    </tr>\n",
       "    <tr>\n",
       "      <th>2</th>\n",
       "      <td>4407489</td>\n",
       "      <td>2021-04-14 00:00:00</td>\n",
       "      <td>1900-01-01 12:37:00</td>\n",
       "      <td>40.673008</td>\n",
       "      <td>-73.97851</td>\n",
       "      <td>Brooklyn</td>\n",
       "      <td>Park Slope</td>\n",
       "      <td>BK06 Park Slope-Carroll Gardens (CD 6 Approxim...</td>\n",
       "      <td>POINT (-73.97851 40.673008)</td>\n",
       "      <td>0</td>\n",
       "      <td>0</td>\n",
       "      <td>2021</td>\n",
       "      <td>4</td>\n",
       "    </tr>\n",
       "    <tr>\n",
       "      <th>3</th>\n",
       "      <td>4407699</td>\n",
       "      <td>2021-04-15 00:00:00</td>\n",
       "      <td>1900-01-01 16:20:00</td>\n",
       "      <td>40.681335</td>\n",
       "      <td>-73.97667</td>\n",
       "      <td>Brooklyn</td>\n",
       "      <td>Park Slope</td>\n",
       "      <td>BK06 Park Slope-Carroll Gardens (CD 6 Approxim...</td>\n",
       "      <td>POINT (-73.97667 40.681335)</td>\n",
       "      <td>0</td>\n",
       "      <td>1</td>\n",
       "      <td>2021</td>\n",
       "      <td>4</td>\n",
       "    </tr>\n",
       "    <tr>\n",
       "      <th>4</th>\n",
       "      <td>4407890</td>\n",
       "      <td>2021-04-15 00:00:00</td>\n",
       "      <td>1900-01-01 20:50:00</td>\n",
       "      <td>40.682842</td>\n",
       "      <td>-73.97660</td>\n",
       "      <td>Brooklyn</td>\n",
       "      <td>Park Slope</td>\n",
       "      <td>BK06 Park Slope-Carroll Gardens (CD 6 Approxim...</td>\n",
       "      <td>POINT (-73.9766 40.682842)</td>\n",
       "      <td>0</td>\n",
       "      <td>1</td>\n",
       "      <td>2021</td>\n",
       "      <td>4</td>\n",
       "    </tr>\n",
       "  </tbody>\n",
       "</table>\n",
       "</div>"
      ],
      "text/plain": [
       "   collision_id           crash date           crash time   latitude  \\\n",
       "0       4407147  2021-04-13 00:00:00  1900-01-01 21:35:00  40.683580   \n",
       "1       4407702  2021-04-16 00:00:00  1900-01-01 06:40:00  40.669067   \n",
       "2       4407489  2021-04-14 00:00:00  1900-01-01 12:37:00  40.673008   \n",
       "3       4407699  2021-04-15 00:00:00  1900-01-01 16:20:00  40.681335   \n",
       "4       4407890  2021-04-15 00:00:00  1900-01-01 20:50:00  40.682842   \n",
       "\n",
       "   longitude  boroname     ntaname  \\\n",
       "0  -73.97617  Brooklyn  Park Slope   \n",
       "1  -73.98780  Brooklyn  Park Slope   \n",
       "2  -73.97851  Brooklyn  Park Slope   \n",
       "3  -73.97667  Brooklyn  Park Slope   \n",
       "4  -73.97660  Brooklyn  Park Slope   \n",
       "\n",
       "                                            cdtaname  \\\n",
       "0  BK06 Park Slope-Carroll Gardens (CD 6 Approxim...   \n",
       "1  BK06 Park Slope-Carroll Gardens (CD 6 Approxim...   \n",
       "2  BK06 Park Slope-Carroll Gardens (CD 6 Approxim...   \n",
       "3  BK06 Park Slope-Carroll Gardens (CD 6 Approxim...   \n",
       "4  BK06 Park Slope-Carroll Gardens (CD 6 Approxim...   \n",
       "\n",
       "                      geometry  number_of_persons_killed  \\\n",
       "0   POINT (-73.97617 40.68358)                         0   \n",
       "1   POINT (-73.9878 40.669067)                         0   \n",
       "2  POINT (-73.97851 40.673008)                         0   \n",
       "3  POINT (-73.97667 40.681335)                         0   \n",
       "4   POINT (-73.9766 40.682842)                         0   \n",
       "\n",
       "   number_of_persons_injured  year  month  \n",
       "0                          1  2021      4  \n",
       "1                          0  2021      4  \n",
       "2                          0  2021      4  \n",
       "3                          1  2021      4  \n",
       "4                          1  2021      4  "
      ]
     },
     "execution_count": 68,
     "metadata": {},
     "output_type": "execute_result"
    }
   ],
   "source": [
    "prev_12_months.head()"
   ]
  },
  {
   "cell_type": "markdown",
   "metadata": {},
   "source": [
    "**Filtering one neighborhood for h3 Visualization (Lower East Side in example)**"
   ]
  },
  {
   "cell_type": "code",
   "execution_count": 107,
   "metadata": {},
   "outputs": [
    {
     "data": {
      "text/plain": [
       "array(['Park Slope', 'Downtown Brooklyn-DUMBO-Boerum Hill',\n",
       "       'Throgs Neck-Schuylerville', 'Brooklyn Heights', 'Flatlands',\n",
       "       \"Annadale-Huguenot-Prince's Bay-Woodrow\",\n",
       "       'Pelham Parkway-Van Nest', 'Cambria Heights', 'Morris Park',\n",
       "       'Bushwick (West)', 'Queens Village', 'Hunts Point',\n",
       "       'Arden Heights-Rossville', 'East New York-New Lots',\n",
       "       'Eastchester-Edenwald-Baychester', 'Canarsie',\n",
       "       'Upper West Side (Central)', 'SoHo-Little Italy-Hudson Square',\n",
       "       'Woodside', 'Flatbush', 'Bedford-Stuyvesant (East)',\n",
       "       'East Williamsburg', 'Harlem (South)', 'Bay Ridge',\n",
       "       'Sunset Park (West)', 'East Flatbush-Remsen Village', 'Melrose',\n",
       "       'Lincoln Terrace Park', 'Parkchester', 'Williamsburg', 'Rego Park',\n",
       "       'South Williamsburg', 'West Farms',\n",
       "       'Springfield Gardens (South)-Brookville', 'Bayside', 'Corona',\n",
       "       'Fresh Meadows-Utopia', 'Flushing-Willets Point',\n",
       "       'Springfield Gardens (North)-Rochdale Village',\n",
       "       'East Flatbush-Farragut', 'Bronx Park', 'Coney Island-Sea Gate',\n",
       "       'Astoria (North)-Ditmars-Steinway', 'Mount Hope',\n",
       "       'Great Kills-Eltingville', 'Whitestone-Beechhurst',\n",
       "       'Middle Village', 'Bushwick (East)', 'Washington Heights (South)',\n",
       "       'Co-op City', 'University Heights (South)-Morris Heights',\n",
       "       'Concourse-Concourse Village', 'Borough Park', 'Glendale',\n",
       "       'East Flatbush-Rugby', 'Bedford-Stuyvesant (West)',\n",
       "       'Chelsea-Hudson Yards', 'Murray Hill-Kips Bay', 'Dyker Heights',\n",
       "       'Upper East Side-Carnegie Hill', 'East New York (North)',\n",
       "       'New Dorp-Midland Beach', 'Forest Hills',\n",
       "       'Mapleton-Midwood (West)', 'Bath Beach', 'Harlem (North)',\n",
       "       'Soundview-Clason Point', 'Flatbush (West)-Ditmas Park-Parkville',\n",
       "       'Greenpoint', 'Baisley Park',\n",
       "       'Sheepshead Bay-Manhattan Beach-Gerritsen Beach', 'Ocean Hill',\n",
       "       'New Springville-Willowbrook-Bulls Head-Travis',\n",
       "       'East Harlem (North)', 'Fordham Heights', 'Gravesend (West)',\n",
       "       'Castle Hill-Unionport', 'Crotona Park East', 'South Ozone Park',\n",
       "       'Jamaica Hills-Briarwood', 'United Nations',\n",
       "       'Long Island City-Hunters Point', 'Midtown-Times Square',\n",
       "       'Gravesend (East)-Homecrest', 'Oakwood-Richmondtown',\n",
       "       'Clinton Hill', 'Lower East Side', 'Norwood', 'Allerton',\n",
       "       'Belmont', 'Brownsville', 'Highbridge', 'Elmhurst', 'Hollis',\n",
       "       'Richmond Hill', 'Bensonhurst', 'Longwood',\n",
       "       'Crown Heights (South)', 'Crown Heights (North)',\n",
       "       'Astoria (East)-Woodside (North)', 'West Village',\n",
       "       'Upper East Side-Lenox Hill-Roosevelt Island',\n",
       "       'Mott Haven-Port Morris', 'Rosedale', 'Sunnyside',\n",
       "       'Upper West Side-Lincoln Square', 'Jackson Heights',\n",
       "       'Far Rockaway-Bayswater', 'Fort Greene', 'Tremont',\n",
       "       \"Hell's Kitchen\", 'Midwood',\n",
       "       'West New Brighton-Silver Lake-Grymes Hill',\n",
       "       'Williamsbridge-Olinville', 'Ozone Park',\n",
       "       'Soundview-Bruckner-Bronx River', 'Washington Heights (North)',\n",
       "       'Canarsie Park & Pier', 'Upper East Side-Yorkville',\n",
       "       'Glen Oaks-Floral Park-New Hyde Park', 'East Harlem (South)',\n",
       "       'Dyker Beach Park', 'University Heights (North)-Fordham',\n",
       "       'College Point', 'Midtown South-Flatiron-Union Square',\n",
       "       'East Village', 'Cypress Hills', 'Gramercy', 'Westchester Square',\n",
       "       'Jamaica Estates-Holliswood', 'Maspeth', 'Ridgewood',\n",
       "       'Murray Hill-Broadway Flushing', 'Flushing Meadows-Corona Park',\n",
       "       'South Jamaica', 'Queensbridge-Ravenswood-Dutch Kills', 'Jamaica',\n",
       "       'Wakefield-Woodlawn', 'Rockaway Beach-Arverne-Edgemere',\n",
       "       'Forest Park', 'Tompkinsville-Stapleton-Clifton-Fox Hills',\n",
       "       'Spring Creek-Starrett City', 'Douglaston-Little Neck',\n",
       "       'Stuyvesant Town-Peter Cooper Village', 'Pelham Bay Park',\n",
       "       'Manhattanville-West Harlem',\n",
       "       'Kingsbridge Heights-Van Cortlandt Village', 'Bellerose',\n",
       "       'Gravesend (South)', 'Kensington',\n",
       "       \"Mariner's Harbor-Arlington-Graniteville\",\n",
       "       'Kingsbridge-Marble Hill', 'Howard Beach-Lindenwood',\n",
       "       'Rosebank-Shore Acres-Park Hill', 'East New York-City Line',\n",
       "       'Kew Gardens', 'St. Albans',\n",
       "       'Highland Park-Cypress Hills Cemeteries (North)',\n",
       "       'Prospect Lefferts Gardens-Wingate',\n",
       "       'Calvary & Mount Zion Cemeteries', 'East Flatbush-Erasmus',\n",
       "       'East Elmhurst', 'Westerleigh-Castleton Corners', 'Port Richmond',\n",
       "       'Sunset Park (Central)', 'Marine Park-Mill Basin-Bergen Beach',\n",
       "       'Fort Hamilton',\n",
       "       'Breezy Point-Belle Harbor-Rockaway Park-Broad Channel',\n",
       "       'Morrisania', 'Queensboro Hill', 'Hamilton Heights-Sugar Hill',\n",
       "       'Laurelton', 'Carroll Gardens-Cobble Hill-Gowanus-Red Hook',\n",
       "       'Central Park', 'Pelham Bay-Country Club-City Island',\n",
       "       'Mount Eden-Claremont (West)',\n",
       "       'Sunset Park (East)-Borough Park (West)', 'Prospect Park',\n",
       "       'Bay Terrace-Clearview',\n",
       "       'Todt Hill-Emerson Hill-Lighthouse Hill-Manor Heights',\n",
       "       'Brighton Beach', 'Financial District-Battery Park City',\n",
       "       'Pelham Gardens', 'Inwood', 'Claremont Village-Claremont (East)',\n",
       "       'East Midtown-Turtle Bay', 'Morningside Heights',\n",
       "       'Chinatown-Two Bridges', 'Woodhaven', 'Tottenville-Charleston',\n",
       "       'Sunnyside Yards (North)', 'Ozone Park (North)', 'East Flushing',\n",
       "       'Marine Park-Plumb Island', 'Pomonok-Electchester-Hillcrest',\n",
       "       'Van Cortlandt Park', 'Grasmere-Arrochar-South Beach-Dongan Hills',\n",
       "       'Astoria (Central)', 'Freshkills Park (North)',\n",
       "       'Kew Gardens Hills', 'Riverdale-Spuyten Duyvil',\n",
       "       'Holy Cross Cemetery', 'Crotona Park', 'McGuire Fields',\n",
       "       'Yankee Stadium-Macombs Dam Park', 'Prospect Heights',\n",
       "       'South Richmond Hill', 'Madison', 'Greenwich Village',\n",
       "       'Highbridge Park', 'Alley Pond Park', 'North Corona',\n",
       "       'Green-Wood Cemetery', 'Windsor Terrace-South Slope',\n",
       "       'St. George-New Brighton', 'Shirley Chisholm State Park',\n",
       "       'Upper West Side-Manhattan Valley', 'Bedford Park',\n",
       "       'Hutchinson Metro Center', 'Oakland Gardens-Hollis Hills',\n",
       "       'John F. Kennedy International Airport', 'Freshkills Park (South)',\n",
       "       'Barren Island-Floyd Bennett Field', 'Auburndale',\n",
       "       'Tribeca-Civic Center', 'Inwood Hill Park', 'Brooklyn Navy Yard',\n",
       "       'Cunningham Park', 'Woodlawn Cemetery', 'Soundview Park',\n",
       "       'Ferry Point Park-St. Raymond Cemetery', 'Snug Harbor',\n",
       "       'Old Astoria-Hallets Point', 'Middle Village Cemetery',\n",
       "       'LaGuardia Airport', 'Spring Creek Park', 'Kissena Park',\n",
       "       'St. John Cemetery', 'Sunnyside Yards (South)', 'Miller Field',\n",
       "       'Astoria Park', \"St. Michael's Cemetery\",\n",
       "       'Jacob Riis Park-Fort Tilden-Breezy Point Tip', 'Fort Totten',\n",
       "       'Great Kills Park', 'Claremont Park', 'Jamaica Bay (East)',\n",
       "       'The Battery-Governors Island-Ellis Island-Liberty Island',\n",
       "       'Montefiore Cemetery', \"Randall's Island\",\n",
       "       'Mount Olivet & All Faiths Cemeteries', 'Fort Wadsworth',\n",
       "       'Highland Park-Cypress Hills Cemeteries (South)',\n",
       "       'Rockaway Community Park', 'Rikers Island', 'Calvert Vaux Park',\n",
       "       'The Evergreens Cemetery'], dtype=object)"
      ]
     },
     "execution_count": 107,
     "metadata": {},
     "output_type": "execute_result"
    }
   ],
   "source": [
    "df_motor_vehicle.ntaname.unique()"
   ]
  },
  {
   "cell_type": "code",
   "execution_count": 71,
   "metadata": {},
   "outputs": [],
   "source": [
    "df_one = prev_12_months.loc[(prev_12_months['ntaname']=='Lower East Side')]"
   ]
  },
  {
   "cell_type": "code",
   "execution_count": 72,
   "metadata": {},
   "outputs": [
    {
     "data": {
      "text/html": [
       "<div>\n",
       "<style scoped>\n",
       "    .dataframe tbody tr th:only-of-type {\n",
       "        vertical-align: middle;\n",
       "    }\n",
       "\n",
       "    .dataframe tbody tr th {\n",
       "        vertical-align: top;\n",
       "    }\n",
       "\n",
       "    .dataframe thead th {\n",
       "        text-align: right;\n",
       "    }\n",
       "</style>\n",
       "<table border=\"1\" class=\"dataframe\">\n",
       "  <thead>\n",
       "    <tr style=\"text-align: right;\">\n",
       "      <th></th>\n",
       "      <th>collision_id</th>\n",
       "      <th>crash date</th>\n",
       "      <th>crash time</th>\n",
       "      <th>latitude</th>\n",
       "      <th>longitude</th>\n",
       "      <th>boroname</th>\n",
       "      <th>ntaname</th>\n",
       "      <th>cdtaname</th>\n",
       "      <th>geometry</th>\n",
       "      <th>number_of_persons_killed</th>\n",
       "      <th>number_of_persons_injured</th>\n",
       "      <th>year</th>\n",
       "      <th>month</th>\n",
       "    </tr>\n",
       "  </thead>\n",
       "  <tbody>\n",
       "    <tr>\n",
       "      <th>787300</th>\n",
       "      <td>4407653</td>\n",
       "      <td>2021-04-15 00:00:00</td>\n",
       "      <td>1900-01-01 09:28:00</td>\n",
       "      <td>40.716490</td>\n",
       "      <td>-73.984840</td>\n",
       "      <td>Manhattan</td>\n",
       "      <td>Lower East Side</td>\n",
       "      <td>MN03 Lower East Side-Chinatown (CD 3 Equivalent)</td>\n",
       "      <td>POINT (-73.98484 40.71649)</td>\n",
       "      <td>0</td>\n",
       "      <td>0</td>\n",
       "      <td>2021</td>\n",
       "      <td>4</td>\n",
       "    </tr>\n",
       "    <tr>\n",
       "      <th>787301</th>\n",
       "      <td>4407400</td>\n",
       "      <td>2021-04-14 00:00:00</td>\n",
       "      <td>1900-01-01 02:30:00</td>\n",
       "      <td>40.718826</td>\n",
       "      <td>-73.984240</td>\n",
       "      <td>Manhattan</td>\n",
       "      <td>Lower East Side</td>\n",
       "      <td>MN03 Lower East Side-Chinatown (CD 3 Equivalent)</td>\n",
       "      <td>POINT (-73.98424 40.718826)</td>\n",
       "      <td>0</td>\n",
       "      <td>0</td>\n",
       "      <td>2021</td>\n",
       "      <td>4</td>\n",
       "    </tr>\n",
       "    <tr>\n",
       "      <th>787302</th>\n",
       "      <td>4407868</td>\n",
       "      <td>2021-04-16 00:00:00</td>\n",
       "      <td>1900-01-01 08:40:00</td>\n",
       "      <td>40.721985</td>\n",
       "      <td>-73.985520</td>\n",
       "      <td>Manhattan</td>\n",
       "      <td>Lower East Side</td>\n",
       "      <td>MN03 Lower East Side-Chinatown (CD 3 Equivalent)</td>\n",
       "      <td>POINT (-73.98552 40.721985)</td>\n",
       "      <td>0</td>\n",
       "      <td>0</td>\n",
       "      <td>2021</td>\n",
       "      <td>4</td>\n",
       "    </tr>\n",
       "    <tr>\n",
       "      <th>787303</th>\n",
       "      <td>4408030</td>\n",
       "      <td>2021-04-10 00:00:00</td>\n",
       "      <td>1900-01-01 11:15:00</td>\n",
       "      <td>40.719750</td>\n",
       "      <td>-73.992165</td>\n",
       "      <td>Manhattan</td>\n",
       "      <td>Lower East Side</td>\n",
       "      <td>MN03 Lower East Side-Chinatown (CD 3 Equivalent)</td>\n",
       "      <td>POINT (-73.992165 40.71975)</td>\n",
       "      <td>0</td>\n",
       "      <td>1</td>\n",
       "      <td>2021</td>\n",
       "      <td>4</td>\n",
       "    </tr>\n",
       "    <tr>\n",
       "      <th>787304</th>\n",
       "      <td>4409360</td>\n",
       "      <td>2021-04-19 00:00:00</td>\n",
       "      <td>1900-01-01 10:04:00</td>\n",
       "      <td>40.720980</td>\n",
       "      <td>-73.986960</td>\n",
       "      <td>Manhattan</td>\n",
       "      <td>Lower East Side</td>\n",
       "      <td>MN03 Lower East Side-Chinatown (CD 3 Equivalent)</td>\n",
       "      <td>POINT (-73.98696 40.72098)</td>\n",
       "      <td>0</td>\n",
       "      <td>0</td>\n",
       "      <td>2021</td>\n",
       "      <td>4</td>\n",
       "    </tr>\n",
       "  </tbody>\n",
       "</table>\n",
       "</div>"
      ],
      "text/plain": [
       "        collision_id           crash date           crash time   latitude  \\\n",
       "787300       4407653  2021-04-15 00:00:00  1900-01-01 09:28:00  40.716490   \n",
       "787301       4407400  2021-04-14 00:00:00  1900-01-01 02:30:00  40.718826   \n",
       "787302       4407868  2021-04-16 00:00:00  1900-01-01 08:40:00  40.721985   \n",
       "787303       4408030  2021-04-10 00:00:00  1900-01-01 11:15:00  40.719750   \n",
       "787304       4409360  2021-04-19 00:00:00  1900-01-01 10:04:00  40.720980   \n",
       "\n",
       "        longitude   boroname          ntaname  \\\n",
       "787300 -73.984840  Manhattan  Lower East Side   \n",
       "787301 -73.984240  Manhattan  Lower East Side   \n",
       "787302 -73.985520  Manhattan  Lower East Side   \n",
       "787303 -73.992165  Manhattan  Lower East Side   \n",
       "787304 -73.986960  Manhattan  Lower East Side   \n",
       "\n",
       "                                                cdtaname  \\\n",
       "787300  MN03 Lower East Side-Chinatown (CD 3 Equivalent)   \n",
       "787301  MN03 Lower East Side-Chinatown (CD 3 Equivalent)   \n",
       "787302  MN03 Lower East Side-Chinatown (CD 3 Equivalent)   \n",
       "787303  MN03 Lower East Side-Chinatown (CD 3 Equivalent)   \n",
       "787304  MN03 Lower East Side-Chinatown (CD 3 Equivalent)   \n",
       "\n",
       "                           geometry  number_of_persons_killed  \\\n",
       "787300   POINT (-73.98484 40.71649)                         0   \n",
       "787301  POINT (-73.98424 40.718826)                         0   \n",
       "787302  POINT (-73.98552 40.721985)                         0   \n",
       "787303  POINT (-73.992165 40.71975)                         0   \n",
       "787304   POINT (-73.98696 40.72098)                         0   \n",
       "\n",
       "        number_of_persons_injured  year  month  \n",
       "787300                          0  2021      4  \n",
       "787301                          0  2021      4  \n",
       "787302                          0  2021      4  \n",
       "787303                          1  2021      4  \n",
       "787304                          0  2021      4  "
      ]
     },
     "execution_count": 72,
     "metadata": {},
     "output_type": "execute_result"
    }
   ],
   "source": [
    "df_one.head()"
   ]
  },
  {
   "cell_type": "code",
   "execution_count": 32,
   "metadata": {},
   "outputs": [],
   "source": [
    "# Pick relevant collumns\n",
    "df_h3 = (df_one[['collision_id','latitude','longitude','number_of_persons_injured']])"
   ]
  },
  {
   "cell_type": "code",
   "execution_count": 33,
   "metadata": {},
   "outputs": [
    {
     "name": "stderr",
     "output_type": "stream",
     "text": [
      "/Users/jorgegranda/anaconda3/lib/python3.7/site-packages/ipykernel_launcher.py:1: SettingWithCopyWarning:\n",
      "\n",
      "\n",
      "A value is trying to be set on a copy of a slice from a DataFrame.\n",
      "Try using .loc[row_indexer,col_indexer] = value instead\n",
      "\n",
      "See the caveats in the documentation: https://pandas.pydata.org/pandas-docs/stable/user_guide/indexing.html#returning-a-view-versus-a-copy\n",
      "\n"
     ]
    }
   ],
   "source": [
    "df_h3['h3_cell'] = df_h3.apply(geo_to_h3,axis=1)"
   ]
  },
  {
   "cell_type": "code",
   "execution_count": 84,
   "metadata": {},
   "outputs": [
    {
     "data": {
      "text/html": [
       "<div>\n",
       "<style scoped>\n",
       "    .dataframe tbody tr th:only-of-type {\n",
       "        vertical-align: middle;\n",
       "    }\n",
       "\n",
       "    .dataframe tbody tr th {\n",
       "        vertical-align: top;\n",
       "    }\n",
       "\n",
       "    .dataframe thead th {\n",
       "        text-align: right;\n",
       "    }\n",
       "</style>\n",
       "<table border=\"1\" class=\"dataframe\">\n",
       "  <thead>\n",
       "    <tr style=\"text-align: right;\">\n",
       "      <th></th>\n",
       "      <th>collision_id</th>\n",
       "      <th>latitude</th>\n",
       "      <th>longitude</th>\n",
       "      <th>number_of_persons_injured</th>\n",
       "      <th>h3_cell</th>\n",
       "    </tr>\n",
       "  </thead>\n",
       "  <tbody>\n",
       "    <tr>\n",
       "      <th>787300</th>\n",
       "      <td>4407653</td>\n",
       "      <td>40.716490</td>\n",
       "      <td>-73.984840</td>\n",
       "      <td>0</td>\n",
       "      <td>892a1072dd3ffff</td>\n",
       "    </tr>\n",
       "    <tr>\n",
       "      <th>787301</th>\n",
       "      <td>4407400</td>\n",
       "      <td>40.718826</td>\n",
       "      <td>-73.984240</td>\n",
       "      <td>0</td>\n",
       "      <td>892a100d36bffff</td>\n",
       "    </tr>\n",
       "    <tr>\n",
       "      <th>787302</th>\n",
       "      <td>4407868</td>\n",
       "      <td>40.721985</td>\n",
       "      <td>-73.985520</td>\n",
       "      <td>0</td>\n",
       "      <td>892a1072cb7ffff</td>\n",
       "    </tr>\n",
       "    <tr>\n",
       "      <th>787303</th>\n",
       "      <td>4408030</td>\n",
       "      <td>40.719750</td>\n",
       "      <td>-73.992165</td>\n",
       "      <td>1</td>\n",
       "      <td>892a1072ca3ffff</td>\n",
       "    </tr>\n",
       "    <tr>\n",
       "      <th>787304</th>\n",
       "      <td>4409360</td>\n",
       "      <td>40.720980</td>\n",
       "      <td>-73.986960</td>\n",
       "      <td>0</td>\n",
       "      <td>892a1072cb7ffff</td>\n",
       "    </tr>\n",
       "  </tbody>\n",
       "</table>\n",
       "</div>"
      ],
      "text/plain": [
       "        collision_id   latitude  longitude  number_of_persons_injured  \\\n",
       "787300       4407653  40.716490 -73.984840                          0   \n",
       "787301       4407400  40.718826 -73.984240                          0   \n",
       "787302       4407868  40.721985 -73.985520                          0   \n",
       "787303       4408030  40.719750 -73.992165                          1   \n",
       "787304       4409360  40.720980 -73.986960                          0   \n",
       "\n",
       "                h3_cell  \n",
       "787300  892a1072dd3ffff  \n",
       "787301  892a100d36bffff  \n",
       "787302  892a1072cb7ffff  \n",
       "787303  892a1072ca3ffff  \n",
       "787304  892a1072cb7ffff  "
      ]
     },
     "execution_count": 84,
     "metadata": {},
     "output_type": "execute_result"
    }
   ],
   "source": [
    "df_h3.head()"
   ]
  },
  {
   "cell_type": "code",
   "execution_count": 34,
   "metadata": {},
   "outputs": [],
   "source": [
    "# Grouping by h3 (counting ids, adding number of persons injured)\n",
    "df_h3_gb2 = df_h3.groupby('h3_cell').agg(\n",
    "        # Get count of id per cell\n",
    "        number_of_collisions = ('collision_id', \"count\"),\n",
    "        number_of_persons_injured = ('number_of_persons_injured', sum)).reset_index()"
   ]
  },
  {
   "cell_type": "code",
   "execution_count": 113,
   "metadata": {},
   "outputs": [
    {
     "data": {
      "text/html": [
       "<div>\n",
       "<style scoped>\n",
       "    .dataframe tbody tr th:only-of-type {\n",
       "        vertical-align: middle;\n",
       "    }\n",
       "\n",
       "    .dataframe tbody tr th {\n",
       "        vertical-align: top;\n",
       "    }\n",
       "\n",
       "    .dataframe thead th {\n",
       "        text-align: right;\n",
       "    }\n",
       "</style>\n",
       "<table border=\"1\" class=\"dataframe\">\n",
       "  <thead>\n",
       "    <tr style=\"text-align: right;\">\n",
       "      <th></th>\n",
       "      <th>h3_cell</th>\n",
       "      <th>number_of_collisions</th>\n",
       "      <th>number_of_persons_injured</th>\n",
       "    </tr>\n",
       "  </thead>\n",
       "  <tbody>\n",
       "    <tr>\n",
       "      <th>0</th>\n",
       "      <td>892a100ca43ffff</td>\n",
       "      <td>30</td>\n",
       "      <td>9</td>\n",
       "    </tr>\n",
       "    <tr>\n",
       "      <th>1</th>\n",
       "      <td>892a100ca47ffff</td>\n",
       "      <td>20</td>\n",
       "      <td>11</td>\n",
       "    </tr>\n",
       "    <tr>\n",
       "      <th>2</th>\n",
       "      <td>892a100ca4bffff</td>\n",
       "      <td>7</td>\n",
       "      <td>3</td>\n",
       "    </tr>\n",
       "    <tr>\n",
       "      <th>3</th>\n",
       "      <td>892a100ca4fffff</td>\n",
       "      <td>43</td>\n",
       "      <td>24</td>\n",
       "    </tr>\n",
       "    <tr>\n",
       "      <th>4</th>\n",
       "      <td>892a100ca53ffff</td>\n",
       "      <td>13</td>\n",
       "      <td>2</td>\n",
       "    </tr>\n",
       "  </tbody>\n",
       "</table>\n",
       "</div>"
      ],
      "text/plain": [
       "           h3_cell  number_of_collisions  number_of_persons_injured\n",
       "0  892a100ca43ffff                    30                          9\n",
       "1  892a100ca47ffff                    20                         11\n",
       "2  892a100ca4bffff                     7                          3\n",
       "3  892a100ca4fffff                    43                         24\n",
       "4  892a100ca53ffff                    13                          2"
      ]
     },
     "execution_count": 113,
     "metadata": {},
     "output_type": "execute_result"
    }
   ],
   "source": [
    "df_h3_gb2.head()"
   ]
  },
  {
   "cell_type": "code",
   "execution_count": 35,
   "metadata": {},
   "outputs": [],
   "source": [
    "df_h3_gb2['geometry'] = (df_h3_gb2.apply(add_geometry,axis=1))"
   ]
  },
  {
   "cell_type": "code",
   "execution_count": 88,
   "metadata": {},
   "outputs": [
    {
     "data": {
      "text/html": [
       "<div>\n",
       "<style scoped>\n",
       "    .dataframe tbody tr th:only-of-type {\n",
       "        vertical-align: middle;\n",
       "    }\n",
       "\n",
       "    .dataframe tbody tr th {\n",
       "        vertical-align: top;\n",
       "    }\n",
       "\n",
       "    .dataframe thead th {\n",
       "        text-align: right;\n",
       "    }\n",
       "</style>\n",
       "<table border=\"1\" class=\"dataframe\">\n",
       "  <thead>\n",
       "    <tr style=\"text-align: right;\">\n",
       "      <th></th>\n",
       "      <th>h3_cell</th>\n",
       "      <th>number_of_collisions</th>\n",
       "      <th>number_of_persons_injured</th>\n",
       "      <th>geometry</th>\n",
       "    </tr>\n",
       "  </thead>\n",
       "  <tbody>\n",
       "    <tr>\n",
       "      <th>0</th>\n",
       "      <td>892a100d32bffff</td>\n",
       "      <td>7</td>\n",
       "      <td>4</td>\n",
       "      <td>POLYGON ((-73.97376971671147 40.71764607231747...</td>\n",
       "    </tr>\n",
       "    <tr>\n",
       "      <th>1</th>\n",
       "      <td>892a100d363ffff</td>\n",
       "      <td>5</td>\n",
       "      <td>3</td>\n",
       "      <td>POLYGON ((-73.98028229967294 40.72011317399058...</td>\n",
       "    </tr>\n",
       "    <tr>\n",
       "      <th>2</th>\n",
       "      <td>892a100d367ffff</td>\n",
       "      <td>13</td>\n",
       "      <td>11</td>\n",
       "      <td>POLYGON ((-73.97804268787144 40.71753084085164...</td>\n",
       "    </tr>\n",
       "    <tr>\n",
       "      <th>3</th>\n",
       "      <td>892a100d36bffff</td>\n",
       "      <td>52</td>\n",
       "      <td>19</td>\n",
       "      <td>POLYGON ((-73.98455550101015 40.7199977026327,...</td>\n",
       "    </tr>\n",
       "    <tr>\n",
       "      <th>4</th>\n",
       "      <td>892a100d36fffff</td>\n",
       "      <td>38</td>\n",
       "      <td>27</td>\n",
       "      <td>POLYGON ((-73.98231565232341 40.71741545161098...</td>\n",
       "    </tr>\n",
       "  </tbody>\n",
       "</table>\n",
       "</div>"
      ],
      "text/plain": [
       "           h3_cell  number_of_collisions  number_of_persons_injured  \\\n",
       "0  892a100d32bffff                     7                          4   \n",
       "1  892a100d363ffff                     5                          3   \n",
       "2  892a100d367ffff                    13                         11   \n",
       "3  892a100d36bffff                    52                         19   \n",
       "4  892a100d36fffff                    38                         27   \n",
       "\n",
       "                                            geometry  \n",
       "0  POLYGON ((-73.97376971671147 40.71764607231747...  \n",
       "1  POLYGON ((-73.98028229967294 40.72011317399058...  \n",
       "2  POLYGON ((-73.97804268787144 40.71753084085164...  \n",
       "3  POLYGON ((-73.98455550101015 40.7199977026327,...  \n",
       "4  POLYGON ((-73.98231565232341 40.71741545161098...  "
      ]
     },
     "execution_count": 88,
     "metadata": {},
     "output_type": "execute_result"
    }
   ],
   "source": [
    "df_h3_gb2.head()"
   ]
  },
  {
   "cell_type": "code",
   "execution_count": 36,
   "metadata": {},
   "outputs": [],
   "source": [
    "df_h3_gb2['injuries_per_collision'] = round((df_h3_gb2['number_of_persons_injured']/df_h3_gb2['number_of_collisions']),2)"
   ]
  },
  {
   "cell_type": "code",
   "execution_count": 76,
   "metadata": {},
   "outputs": [],
   "source": [
    "#df_h3_gb2.sort_values('number_of_collisions',ascending=False)"
   ]
  },
  {
   "cell_type": "markdown",
   "metadata": {},
   "source": [
    "##### Map colored by number of collisions\n"
   ]
  },
  {
   "cell_type": "code",
   "execution_count": 37,
   "metadata": {},
   "outputs": [],
   "source": [
    "# Visualization of filter neighborhood\n",
    "# Choropleth mat with collored by number of collitions\n",
    "#fig that includes every collision that has injured people\n",
    "hex_fig = (px.choropleth_mapbox(\n",
    "                    df_h3_gb2, \n",
    "                    geojson=geojson_obj, \n",
    "                    locations='h3_cell',\n",
    "                    #featureidkey = \"features.NTAName\",\n",
    "                    color='number_of_collisions',\n",
    "                    #color_continuous_scale=px.colors.continuous.Viridis[::-1],\n",
    "                    #color_continuous_scale=px.colors.sequential.Inferno[::-1],\n",
    "                    color_continuous_scale=px.colors.sequential.Viridis[::-1],\n",
    "                    #color_continuous_scale=\"viridis\",\n",
    "                    #range_color=(0,fire_ignitions_g['count'].mean()           ),                  mapbox_style='carto-positron',\n",
    "                    zoom=11,\n",
    "                    center = {\"lat\": 40.730610, \"lon\": -73.9749},\n",
    "                    opacity=0.7,\n",
    "                    title = \"Map Colored by Number of Collisions in the Lower East Side\",\n",
    "                    hover_name=\"number_of_collisions\",\n",
    "                    #hover_data= [\"number_of_persons_injured\"], {'h3_cell':False}\n",
    "                    hover_data={'h3_cell':False,\n",
    "                                'number_of_collisions':True,\n",
    "                               'number_of_persons_injured': True,\n",
    "                               'injuries_per_collision': True}\n",
    "))"
   ]
  },
  {
   "cell_type": "code",
   "execution_count": 38,
   "metadata": {},
   "outputs": [],
   "source": [
    "hex_fig.show()"
   ]
  },
  {
   "cell_type": "code",
   "execution_count": 143,
   "metadata": {},
   "outputs": [
    {
     "data": {
      "text/plain": [
       "0    POLYGON ((-73.86704796411296 40.66499839215409...\n",
       "1    POLYGON ((-73.87374115313263 40.67274635914418...\n",
       "Name: geometry, dtype: object"
      ]
     },
     "execution_count": 143,
     "metadata": {},
     "output_type": "execute_result"
    }
   ],
   "source": [
    "df_h3_gb2.geometry.loc[:1]"
   ]
  },
  {
   "cell_type": "code",
   "execution_count": 138,
   "metadata": {},
   "outputs": [],
   "source": [
    "d"
   ]
  },
  {
   "cell_type": "markdown",
   "metadata": {},
   "source": [
    "##### Map colored by number of persons injured"
   ]
  },
  {
   "cell_type": "code",
   "execution_count": 136,
   "metadata": {},
   "outputs": [
    {
     "ename": "AttributeError",
     "evalue": "module 'plotly.express.colors' has no attribute 'continuous'",
     "output_type": "error",
     "traceback": [
      "\u001b[0;31m---------------------------------------------------------------------------\u001b[0m",
      "\u001b[0;31mAttributeError\u001b[0m                            Traceback (most recent call last)",
      "\u001b[0;32m<ipython-input-136-e83e7f5b1656>\u001b[0m in \u001b[0;36m<module>\u001b[0;34m\u001b[0m\n\u001b[1;32m      6\u001b[0m                     \u001b[0;31m#featureidkey = \"features.NTAName\",\u001b[0m\u001b[0;34m\u001b[0m\u001b[0;34m\u001b[0m\u001b[0;34m\u001b[0m\u001b[0m\n\u001b[1;32m      7\u001b[0m                     \u001b[0mcolor\u001b[0m\u001b[0;34m=\u001b[0m\u001b[0;34m'number_of_persons_injured'\u001b[0m\u001b[0;34m,\u001b[0m\u001b[0;34m\u001b[0m\u001b[0;34m\u001b[0m\u001b[0m\n\u001b[0;32m----> 8\u001b[0;31m                     \u001b[0mcolor_continuous_scale\u001b[0m\u001b[0;34m=\u001b[0m\u001b[0mpx\u001b[0m\u001b[0;34m.\u001b[0m\u001b[0mcolors\u001b[0m\u001b[0;34m.\u001b[0m\u001b[0mcontinuous\u001b[0m\u001b[0;34m.\u001b[0m\u001b[0mViridis\u001b[0m\u001b[0;34m[\u001b[0m\u001b[0;34m:\u001b[0m\u001b[0;34m:\u001b[0m\u001b[0;34m-\u001b[0m\u001b[0;36m1\u001b[0m\u001b[0;34m]\u001b[0m\u001b[0;34m,\u001b[0m\u001b[0;34m\u001b[0m\u001b[0;34m\u001b[0m\u001b[0m\n\u001b[0m\u001b[1;32m      9\u001b[0m                     \u001b[0;31m#color_continuous_scale=px.colors.sequential.Inferno[::-1],\u001b[0m\u001b[0;34m\u001b[0m\u001b[0;34m\u001b[0m\u001b[0;34m\u001b[0m\u001b[0m\n\u001b[1;32m     10\u001b[0m                     \u001b[0;31m#color_continuous_scale=px.colors.sequential.Inferno[::-1],\u001b[0m\u001b[0;34m\u001b[0m\u001b[0;34m\u001b[0m\u001b[0;34m\u001b[0m\u001b[0m\n",
      "\u001b[0;31mAttributeError\u001b[0m: module 'plotly.express.colors' has no attribute 'continuous'"
     ]
    }
   ],
   "source": [
    "#fig that includes every collision that has injured people\n",
    "hex_fig2 = (px.choropleth_mapbox(\n",
    "                    df_h3_gb2, \n",
    "                    geojson=geojson_obj, \n",
    "                    locations='h3_cell',\n",
    "                    #featureidkey = \"features.NTAName\",\n",
    "                    color='number_of_persons_injured',\n",
    "                    color_continuous_scale=px.colors.continuous.Viridis[::-1],\n",
    "                    #color_continuous_scale=px.colors.sequential.Inferno[::-1],\n",
    "                    #color_continuous_scale=px.colors.sequential.Inferno[::-1],\n",
    "                    #color_continuous_scale=\"viridis\",\n",
    "                    #range_color=(0,fire_ignitions_g['count'].mean()           ),                  mapbox_style='carto-positron',\n",
    "                    zoom=11,\n",
    "                    center = {\"lat\": 40.730610, \"lon\": -73.9749},\n",
    "                    opacity=0.7,\n",
    "                    title = \"Map Colored by Number of Persons Injured at Location\",\n",
    "                    hover_name=\"number_of_persons_injured\",\n",
    "                    #hover_data= [\"number_of_persons_injured\"], {'h3_cell':False}\n",
    "                    hover_data={'h3_cell':False,\n",
    "                                'number_of_collisions':True,\n",
    "                               'number_of_persons_injured': True,\n",
    "                               'injuries_per_collision': True}\n",
    "))"
   ]
  },
  {
   "cell_type": "code",
   "execution_count": 94,
   "metadata": {},
   "outputs": [],
   "source": [
    "hex_fig2.show()"
   ]
  },
  {
   "cell_type": "markdown",
   "metadata": {},
   "source": [
    "##### Visualize rate of injuries per collision (check locations with over a 100  collisions)"
   ]
  },
  {
   "cell_type": "code",
   "execution_count": 96,
   "metadata": {},
   "outputs": [],
   "source": [
    "over_100_collitions = df_h3_gb2.loc[(df_h3_gb2['number_of_collisions']>50)]"
   ]
  },
  {
   "cell_type": "code",
   "execution_count": 98,
   "metadata": {},
   "outputs": [],
   "source": [
    "hex_fig_100 = (px.choropleth_mapbox(\n",
    "                    over_100_collitions, \n",
    "                    geojson=geojson_obj, \n",
    "                    locations='h3_cell',\n",
    "                    #featureidkey = \"features.NTAName\",\n",
    "                    color='injuries_per_collision',\n",
    "                    color_continuous_scale=px.colors.continuous.Viridis[::-1],\n",
    "                    #color_continuous_scale=px.colors.sequential.Inferno[::-1],\n",
    "                    #color_continuous_scale=px.colors.sequential.Inferno[::-1],\n",
    "                    #color_continuous_scale=\"viridis\",\n",
    "                    #range_color=(0,fire_ignitions_g['count'].mean()           ),                  mapbox_style='carto-positron',\n",
    "                    zoom=7,\n",
    "                    center = {\"lat\": 40.730610, \"lon\": -73.9749},\n",
    "                    opacity=0.7,\n",
    "                    title = \"Locations with over a 100 Collisions\",\n",
    "                    hover_name=\"injuries_per_collision\",\n",
    "                    #hover_data= [\"number_of_persons_injured\"], {'h3_cell':False}\n",
    "                    hover_data={'h3_cell':False,\n",
    "                                'number_of_collisions':True,\n",
    "                               'number_of_persons_injured': True,\n",
    "                               'injuries_per_collision': True}\n",
    "))"
   ]
  },
  {
   "cell_type": "code",
   "execution_count": 99,
   "metadata": {},
   "outputs": [],
   "source": [
    "hex_fig_100.show()"
   ]
  },
  {
   "cell_type": "code",
   "execution_count": null,
   "metadata": {},
   "outputs": [],
   "source": []
  }
 ],
 "metadata": {
  "kernelspec": {
   "display_name": "Python 3",
   "language": "python",
   "name": "python3"
  },
  "language_info": {
   "codemirror_mode": {
    "name": "ipython",
    "version": 3
   },
   "file_extension": ".py",
   "mimetype": "text/x-python",
   "name": "python",
   "nbconvert_exporter": "python",
   "pygments_lexer": "ipython3",
   "version": "3.7.3"
  }
 },
 "nbformat": 4,
 "nbformat_minor": 2
}

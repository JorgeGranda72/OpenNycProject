{
 "cells": [
  {
   "cell_type": "code",
   "execution_count": 2,
   "metadata": {},
   "outputs": [],
   "source": [
    "import json\n",
    "import requests\n",
    "import pandas as pd\n",
    "from sodapy import Socrata\n",
    "import numpy as np\n",
    "import urllib.request\n",
    "import plotly.express as px\n",
    "import plotly.io as pio\n",
    "pio.renderers.default = 'browser'\n",
    "from urllib.request import urlopen\n",
    "#import plotly.graph_objs as go\n",
    "#from urllib.request import urlopen"
   ]
  },
  {
   "cell_type": "markdown",
   "metadata": {},
   "source": [
    "# Introduction\n",
    "\n",
    "This notebook aims to explore trends in recent data on motor vehicle collisions. Project members can have a fuller understanding of the content, timing, frequency, and location of collisions. This notebook seeks to contribute to that understanding through the exploratory analysis and visualization of vehicle collision data. "
   ]
  },
  {
   "cell_type": "markdown",
   "metadata": {},
   "source": [
    "# Data Source\n",
    "\n",
    "The data used in this notebook was obtained from: \n",
    "\n",
    "- [NYC Open Data's Motor Vehicle Collision-Crashes](https://data.cityofnewyork.us/Public-Safety/Motor-Vehicle-Collisions-Crashes/h9gi-nx95)\n",
    "  - This dataset contains information from all police reported motor vehicle collisions in NYC. Each row represents a crash event.The police report (MV104-AN) is required to be filled out for collisions where someone is injured or killed, or where there is at least 1000 dollars worth of damage. This notebook uses a subset of the data and was accessed with the [Socrata Open Data (SODA) API](https://dev.socrata.com/consumers/getting-started.html). \n",
    " "
   ]
  },
  {
   "cell_type": "markdown",
   "metadata": {},
   "source": [
    "# Accessing Data\n",
    "Items needed to obtain data:\n",
    "- Create app token\n",
    "- Get domain name\n",
    "- Get data identifier"
   ]
  },
  {
   "cell_type": "code",
   "execution_count": 3,
   "metadata": {},
   "outputs": [],
   "source": [
    "socrata_domain = 'data.cityofnewyork.us'\n",
    "socrata_dataset_identifier = 'h9gi-nx95'\n",
    "client = Socrata(socrata_domain, app_token=\"zrfGJViqm8hhU7PFyRqvPZcyF\")\n",
    "client.timeout = 1000"
   ]
  },
  {
   "cell_type": "code",
   "execution_count": 4,
   "metadata": {},
   "outputs": [],
   "source": [
    "# Pull data from Socrata API\n",
    "results = client.get(socrata_dataset_identifier, limit = 400000)\n"
   ]
  },
  {
   "cell_type": "code",
   "execution_count": 5,
   "metadata": {},
   "outputs": [],
   "source": [
    "# Convert data into a pandas dataframe\n",
    "df = pd.DataFrame(results)"
   ]
  },
  {
   "cell_type": "code",
   "execution_count": 6,
   "metadata": {},
   "outputs": [],
   "source": [
    "dff = df.copy()"
   ]
  },
  {
   "cell_type": "code",
   "execution_count": 7,
   "metadata": {},
   "outputs": [
    {
     "data": {
      "text/plain": [
       "(400000, 29)"
      ]
     },
     "execution_count": 7,
     "metadata": {},
     "output_type": "execute_result"
    }
   ],
   "source": [
    "dff.shape"
   ]
  },
  {
   "cell_type": "code",
   "execution_count": 8,
   "metadata": {},
   "outputs": [
    {
     "data": {
      "text/html": [
       "<div>\n",
       "<style scoped>\n",
       "    .dataframe tbody tr th:only-of-type {\n",
       "        vertical-align: middle;\n",
       "    }\n",
       "\n",
       "    .dataframe tbody tr th {\n",
       "        vertical-align: top;\n",
       "    }\n",
       "\n",
       "    .dataframe thead th {\n",
       "        text-align: right;\n",
       "    }\n",
       "</style>\n",
       "<table border=\"1\" class=\"dataframe\">\n",
       "  <thead>\n",
       "    <tr style=\"text-align: right;\">\n",
       "      <th></th>\n",
       "      <th>crash_date</th>\n",
       "      <th>crash_time</th>\n",
       "      <th>on_street_name</th>\n",
       "      <th>number_of_persons_injured</th>\n",
       "      <th>number_of_persons_killed</th>\n",
       "      <th>number_of_pedestrians_injured</th>\n",
       "      <th>number_of_pedestrians_killed</th>\n",
       "      <th>number_of_cyclist_injured</th>\n",
       "      <th>number_of_cyclist_killed</th>\n",
       "      <th>number_of_motorist_injured</th>\n",
       "      <th>...</th>\n",
       "      <th>longitude</th>\n",
       "      <th>location</th>\n",
       "      <th>cross_street_name</th>\n",
       "      <th>off_street_name</th>\n",
       "      <th>contributing_factor_vehicle_3</th>\n",
       "      <th>contributing_factor_vehicle_4</th>\n",
       "      <th>vehicle_type_code_3</th>\n",
       "      <th>vehicle_type_code_4</th>\n",
       "      <th>contributing_factor_vehicle_5</th>\n",
       "      <th>vehicle_type_code_5</th>\n",
       "    </tr>\n",
       "  </thead>\n",
       "  <tbody>\n",
       "    <tr>\n",
       "      <th>0</th>\n",
       "      <td>2021-04-14T00:00:00.000</td>\n",
       "      <td>5:32</td>\n",
       "      <td>BRONX WHITESTONE BRIDGE</td>\n",
       "      <td>0</td>\n",
       "      <td>0</td>\n",
       "      <td>0</td>\n",
       "      <td>0</td>\n",
       "      <td>0</td>\n",
       "      <td>0</td>\n",
       "      <td>0</td>\n",
       "      <td>...</td>\n",
       "      <td>NaN</td>\n",
       "      <td>NaN</td>\n",
       "      <td>NaN</td>\n",
       "      <td>NaN</td>\n",
       "      <td>NaN</td>\n",
       "      <td>NaN</td>\n",
       "      <td>NaN</td>\n",
       "      <td>NaN</td>\n",
       "      <td>NaN</td>\n",
       "      <td>NaN</td>\n",
       "    </tr>\n",
       "    <tr>\n",
       "      <th>1</th>\n",
       "      <td>2021-04-13T00:00:00.000</td>\n",
       "      <td>21:35</td>\n",
       "      <td>NaN</td>\n",
       "      <td>1</td>\n",
       "      <td>0</td>\n",
       "      <td>1</td>\n",
       "      <td>0</td>\n",
       "      <td>0</td>\n",
       "      <td>0</td>\n",
       "      <td>0</td>\n",
       "      <td>...</td>\n",
       "      <td>-73.9761700</td>\n",
       "      <td>{'latitude': '40.68358', 'longitude': '-73.976...</td>\n",
       "      <td>620       ATLANTIC AVENUE</td>\n",
       "      <td>NaN</td>\n",
       "      <td>NaN</td>\n",
       "      <td>NaN</td>\n",
       "      <td>NaN</td>\n",
       "      <td>NaN</td>\n",
       "      <td>NaN</td>\n",
       "      <td>NaN</td>\n",
       "    </tr>\n",
       "    <tr>\n",
       "      <th>2</th>\n",
       "      <td>2021-04-15T00:00:00.000</td>\n",
       "      <td>16:15</td>\n",
       "      <td>HUTCHINSON RIVER PARKWAY</td>\n",
       "      <td>0</td>\n",
       "      <td>0</td>\n",
       "      <td>0</td>\n",
       "      <td>0</td>\n",
       "      <td>0</td>\n",
       "      <td>0</td>\n",
       "      <td>0</td>\n",
       "      <td>...</td>\n",
       "      <td>NaN</td>\n",
       "      <td>NaN</td>\n",
       "      <td>NaN</td>\n",
       "      <td>NaN</td>\n",
       "      <td>NaN</td>\n",
       "      <td>NaN</td>\n",
       "      <td>NaN</td>\n",
       "      <td>NaN</td>\n",
       "      <td>NaN</td>\n",
       "      <td>NaN</td>\n",
       "    </tr>\n",
       "    <tr>\n",
       "      <th>3</th>\n",
       "      <td>2021-04-13T00:00:00.000</td>\n",
       "      <td>16:00</td>\n",
       "      <td>VANDERVORT AVENUE</td>\n",
       "      <td>0</td>\n",
       "      <td>0</td>\n",
       "      <td>0</td>\n",
       "      <td>0</td>\n",
       "      <td>0</td>\n",
       "      <td>0</td>\n",
       "      <td>0</td>\n",
       "      <td>...</td>\n",
       "      <td>NaN</td>\n",
       "      <td>NaN</td>\n",
       "      <td>NaN</td>\n",
       "      <td>ANTHONY STREET</td>\n",
       "      <td>NaN</td>\n",
       "      <td>NaN</td>\n",
       "      <td>NaN</td>\n",
       "      <td>NaN</td>\n",
       "      <td>NaN</td>\n",
       "      <td>NaN</td>\n",
       "    </tr>\n",
       "    <tr>\n",
       "      <th>4</th>\n",
       "      <td>2021-04-12T00:00:00.000</td>\n",
       "      <td>8:25</td>\n",
       "      <td>EDSON AVENUE</td>\n",
       "      <td>0</td>\n",
       "      <td>0</td>\n",
       "      <td>0</td>\n",
       "      <td>0</td>\n",
       "      <td>0</td>\n",
       "      <td>0</td>\n",
       "      <td>0</td>\n",
       "      <td>...</td>\n",
       "      <td>0.0000000</td>\n",
       "      <td>{'latitude': '0.0', 'longitude': '0.0'}</td>\n",
       "      <td>NaN</td>\n",
       "      <td>NaN</td>\n",
       "      <td>NaN</td>\n",
       "      <td>NaN</td>\n",
       "      <td>NaN</td>\n",
       "      <td>NaN</td>\n",
       "      <td>NaN</td>\n",
       "      <td>NaN</td>\n",
       "    </tr>\n",
       "  </tbody>\n",
       "</table>\n",
       "<p>5 rows × 29 columns</p>\n",
       "</div>"
      ],
      "text/plain": [
       "                crash_date crash_time                    on_street_name  \\\n",
       "0  2021-04-14T00:00:00.000       5:32           BRONX WHITESTONE BRIDGE   \n",
       "1  2021-04-13T00:00:00.000      21:35                               NaN   \n",
       "2  2021-04-15T00:00:00.000      16:15          HUTCHINSON RIVER PARKWAY   \n",
       "3  2021-04-13T00:00:00.000      16:00                 VANDERVORT AVENUE   \n",
       "4  2021-04-12T00:00:00.000       8:25  EDSON AVENUE                       \n",
       "\n",
       "  number_of_persons_injured number_of_persons_killed  \\\n",
       "0                         0                        0   \n",
       "1                         1                        0   \n",
       "2                         0                        0   \n",
       "3                         0                        0   \n",
       "4                         0                        0   \n",
       "\n",
       "  number_of_pedestrians_injured number_of_pedestrians_killed  \\\n",
       "0                             0                            0   \n",
       "1                             1                            0   \n",
       "2                             0                            0   \n",
       "3                             0                            0   \n",
       "4                             0                            0   \n",
       "\n",
       "  number_of_cyclist_injured number_of_cyclist_killed  \\\n",
       "0                         0                        0   \n",
       "1                         0                        0   \n",
       "2                         0                        0   \n",
       "3                         0                        0   \n",
       "4                         0                        0   \n",
       "\n",
       "  number_of_motorist_injured  ...    longitude  \\\n",
       "0                          0  ...          NaN   \n",
       "1                          0  ...  -73.9761700   \n",
       "2                          0  ...          NaN   \n",
       "3                          0  ...          NaN   \n",
       "4                          0  ...    0.0000000   \n",
       "\n",
       "                                            location  \\\n",
       "0                                                NaN   \n",
       "1  {'latitude': '40.68358', 'longitude': '-73.976...   \n",
       "2                                                NaN   \n",
       "3                                                NaN   \n",
       "4            {'latitude': '0.0', 'longitude': '0.0'}   \n",
       "\n",
       "                          cross_street_name off_street_name  \\\n",
       "0                                       NaN             NaN   \n",
       "1  620       ATLANTIC AVENUE                            NaN   \n",
       "2                                       NaN             NaN   \n",
       "3                                       NaN  ANTHONY STREET   \n",
       "4                                       NaN             NaN   \n",
       "\n",
       "  contributing_factor_vehicle_3 contributing_factor_vehicle_4  \\\n",
       "0                           NaN                           NaN   \n",
       "1                           NaN                           NaN   \n",
       "2                           NaN                           NaN   \n",
       "3                           NaN                           NaN   \n",
       "4                           NaN                           NaN   \n",
       "\n",
       "  vehicle_type_code_3 vehicle_type_code_4 contributing_factor_vehicle_5  \\\n",
       "0                 NaN                 NaN                           NaN   \n",
       "1                 NaN                 NaN                           NaN   \n",
       "2                 NaN                 NaN                           NaN   \n",
       "3                 NaN                 NaN                           NaN   \n",
       "4                 NaN                 NaN                           NaN   \n",
       "\n",
       "  vehicle_type_code_5  \n",
       "0                 NaN  \n",
       "1                 NaN  \n",
       "2                 NaN  \n",
       "3                 NaN  \n",
       "4                 NaN  \n",
       "\n",
       "[5 rows x 29 columns]"
      ]
     },
     "execution_count": 8,
     "metadata": {},
     "output_type": "execute_result"
    }
   ],
   "source": [
    "dff.head()"
   ]
  },
  {
   "cell_type": "code",
   "execution_count": 9,
   "metadata": {},
   "outputs": [
    {
     "name": "stdout",
     "output_type": "stream",
     "text": [
      "<class 'pandas.core.frame.DataFrame'>\n",
      "RangeIndex: 400000 entries, 0 to 399999\n",
      "Data columns (total 29 columns):\n",
      " #   Column                         Non-Null Count   Dtype \n",
      "---  ------                         --------------   ----- \n",
      " 0   crash_date                     400000 non-null  object\n",
      " 1   crash_time                     400000 non-null  object\n",
      " 2   on_street_name                 297762 non-null  object\n",
      " 3   number_of_persons_injured      399999 non-null  object\n",
      " 4   number_of_persons_killed       400000 non-null  object\n",
      " 5   number_of_pedestrians_injured  400000 non-null  object\n",
      " 6   number_of_pedestrians_killed   400000 non-null  object\n",
      " 7   number_of_cyclist_injured      400000 non-null  object\n",
      " 8   number_of_cyclist_killed       400000 non-null  object\n",
      " 9   number_of_motorist_injured     400000 non-null  object\n",
      " 10  number_of_motorist_killed      400000 non-null  object\n",
      " 11  contributing_factor_vehicle_1  398315 non-null  object\n",
      " 12  contributing_factor_vehicle_2  321549 non-null  object\n",
      " 13  collision_id                   400000 non-null  object\n",
      " 14  vehicle_type_code1             396384 non-null  object\n",
      " 15  vehicle_type_code2             290138 non-null  object\n",
      " 16  borough                        260407 non-null  object\n",
      " 17  zip_code                       260355 non-null  object\n",
      " 18  latitude                       367380 non-null  object\n",
      " 19  longitude                      367380 non-null  object\n",
      " 20  location                       367380 non-null  object\n",
      " 21  cross_street_name              102217 non-null  object\n",
      " 22  off_street_name                190744 non-null  object\n",
      " 23  contributing_factor_vehicle_3  34464 non-null   object\n",
      " 24  contributing_factor_vehicle_4  8703 non-null    object\n",
      " 25  vehicle_type_code_3            32484 non-null   object\n",
      " 26  vehicle_type_code_4            8318 non-null    object\n",
      " 27  contributing_factor_vehicle_5  2559 non-null    object\n",
      " 28  vehicle_type_code_5            2480 non-null    object\n",
      "dtypes: object(29)\n",
      "memory usage: 88.5+ MB\n"
     ]
    }
   ],
   "source": [
    "dff.info()"
   ]
  },
  {
   "cell_type": "code",
   "execution_count": 10,
   "metadata": {},
   "outputs": [],
   "source": [
    "# Eliminate rows witout lat/lon \n",
    "dff = dff[dff.longitude.notnull()]\n",
    "dff = dff[dff.latitude.notnull()]\n"
   ]
  },
  {
   "cell_type": "code",
   "execution_count": 11,
   "metadata": {},
   "outputs": [],
   "source": [
    "# Exclude unnecessary columns\n",
    "dff = dff[['crash_date', 'crash_time', 'number_of_persons_killed', 'number_of_pedestrians_injured', 'number_of_pedestrians_killed', 'number_of_cyclist_injured','number_of_cyclist_killed', 'number_of_motorist_injured', 'number_of_motorist_killed', 'contributing_factor_vehicle_1', 'contributing_factor_vehicle_2', 'collision_id', 'vehicle_type_code1', 'vehicle_type_code2', 'borough', 'zip_code', 'latitude', 'longitude', 'cross_street_name', 'off_street_name']]"
   ]
  },
  {
   "cell_type": "code",
   "execution_count": 12,
   "metadata": {},
   "outputs": [
    {
     "data": {
      "text/plain": [
       "Index(['crash_date', 'crash_time', 'number_of_persons_killed',\n",
       "       'number_of_pedestrians_injured', 'number_of_pedestrians_killed',\n",
       "       'number_of_cyclist_injured', 'number_of_cyclist_killed',\n",
       "       'number_of_motorist_injured', 'number_of_motorist_killed',\n",
       "       'contributing_factor_vehicle_1', 'contributing_factor_vehicle_2',\n",
       "       'collision_id', 'vehicle_type_code1', 'vehicle_type_code2', 'borough',\n",
       "       'zip_code', 'latitude', 'longitude', 'cross_street_name',\n",
       "       'off_street_name'],\n",
       "      dtype='object')"
      ]
     },
     "execution_count": 12,
     "metadata": {},
     "output_type": "execute_result"
    }
   ],
   "source": [
    "dff.columns"
   ]
  },
  {
   "cell_type": "markdown",
   "metadata": {},
   "source": [
    "#  Overview of Vehicles Involved in Collitions\n",
    "\n"
   ]
  },
  {
   "cell_type": "markdown",
   "metadata": {},
   "source": [
    "Now lets compute the percentage of vehicle types involve in crashes\n",
    "- Vehicle 1"
   ]
  },
  {
   "cell_type": "code",
   "execution_count": 13,
   "metadata": {},
   "outputs": [],
   "source": [
    "v1 = dff.vehicle_type_code1\n",
    "counts = v1.value_counts()\n",
    "percent = v1.value_counts(normalize=True)\n",
    "percent100 = percent.mul(100).round(1).astype(str) + '%'\n",
    "vehicle1_df = pd.DataFrame({'counts': counts, 'percent': percent, 'percent100': percent100})"
   ]
  },
  {
   "cell_type": "code",
   "execution_count": 14,
   "metadata": {},
   "outputs": [
    {
     "data": {
      "text/html": [
       "<div>\n",
       "<style scoped>\n",
       "    .dataframe tbody tr th:only-of-type {\n",
       "        vertical-align: middle;\n",
       "    }\n",
       "\n",
       "    .dataframe tbody tr th {\n",
       "        vertical-align: top;\n",
       "    }\n",
       "\n",
       "    .dataframe thead th {\n",
       "        text-align: right;\n",
       "    }\n",
       "</style>\n",
       "<table border=\"1\" class=\"dataframe\">\n",
       "  <thead>\n",
       "    <tr style=\"text-align: right;\">\n",
       "      <th></th>\n",
       "      <th>counts</th>\n",
       "      <th>percent</th>\n",
       "      <th>percent100</th>\n",
       "    </tr>\n",
       "  </thead>\n",
       "  <tbody>\n",
       "    <tr>\n",
       "      <th>Sedan</th>\n",
       "      <td>168930</td>\n",
       "      <td>0.464167</td>\n",
       "      <td>46.4%</td>\n",
       "    </tr>\n",
       "    <tr>\n",
       "      <th>Station Wagon/Sport Utility Vehicle</th>\n",
       "      <td>134196</td>\n",
       "      <td>0.368729</td>\n",
       "      <td>36.9%</td>\n",
       "    </tr>\n",
       "    <tr>\n",
       "      <th>Taxi</th>\n",
       "      <td>13258</td>\n",
       "      <td>0.036429</td>\n",
       "      <td>3.6%</td>\n",
       "    </tr>\n",
       "    <tr>\n",
       "      <th>Pick-up Truck</th>\n",
       "      <td>9209</td>\n",
       "      <td>0.025303</td>\n",
       "      <td>2.5%</td>\n",
       "    </tr>\n",
       "    <tr>\n",
       "      <th>Box Truck</th>\n",
       "      <td>6928</td>\n",
       "      <td>0.019036</td>\n",
       "      <td>1.9%</td>\n",
       "    </tr>\n",
       "    <tr>\n",
       "      <th>Bus</th>\n",
       "      <td>5808</td>\n",
       "      <td>0.015959</td>\n",
       "      <td>1.6%</td>\n",
       "    </tr>\n",
       "    <tr>\n",
       "      <th>Bike</th>\n",
       "      <td>4025</td>\n",
       "      <td>0.011059</td>\n",
       "      <td>1.1%</td>\n",
       "    </tr>\n",
       "    <tr>\n",
       "      <th>Tractor Truck Diesel</th>\n",
       "      <td>2663</td>\n",
       "      <td>0.007317</td>\n",
       "      <td>0.7%</td>\n",
       "    </tr>\n",
       "    <tr>\n",
       "      <th>Motorcycle</th>\n",
       "      <td>2451</td>\n",
       "      <td>0.006735</td>\n",
       "      <td>0.7%</td>\n",
       "    </tr>\n",
       "    <tr>\n",
       "      <th>Van</th>\n",
       "      <td>2247</td>\n",
       "      <td>0.006174</td>\n",
       "      <td>0.6%</td>\n",
       "    </tr>\n",
       "  </tbody>\n",
       "</table>\n",
       "</div>"
      ],
      "text/plain": [
       "                                     counts   percent percent100\n",
       "Sedan                                168930  0.464167      46.4%\n",
       "Station Wagon/Sport Utility Vehicle  134196  0.368729      36.9%\n",
       "Taxi                                  13258  0.036429       3.6%\n",
       "Pick-up Truck                          9209  0.025303       2.5%\n",
       "Box Truck                              6928  0.019036       1.9%\n",
       "Bus                                    5808  0.015959       1.6%\n",
       "Bike                                   4025  0.011059       1.1%\n",
       "Tractor Truck Diesel                   2663  0.007317       0.7%\n",
       "Motorcycle                             2451  0.006735       0.7%\n",
       "Van                                    2247  0.006174       0.6%"
      ]
     },
     "execution_count": 14,
     "metadata": {},
     "output_type": "execute_result"
    }
   ],
   "source": [
    "vehicle1_df.head(10)"
   ]
  },
  {
   "cell_type": "markdown",
   "metadata": {},
   "source": [
    "- Vehicle 2 "
   ]
  },
  {
   "cell_type": "code",
   "execution_count": 15,
   "metadata": {},
   "outputs": [],
   "source": [
    "v2 = dff.vehicle_type_code2\n",
    "# s = df.keywords\n",
    "counts2 = v2.value_counts()\n",
    "percent2 = v2.value_counts(normalize=True)\n",
    "percent2_100 = v2.value_counts(normalize=True).mul(100).round(1).astype(str) + '%'\n",
    "vehicle2_df = pd.DataFrame({'counts': counts2, 'percent': percent2, 'percent100': percent2_100})"
   ]
  },
  {
   "cell_type": "code",
   "execution_count": 16,
   "metadata": {},
   "outputs": [
    {
     "data": {
      "text/html": [
       "<div>\n",
       "<style scoped>\n",
       "    .dataframe tbody tr th:only-of-type {\n",
       "        vertical-align: middle;\n",
       "    }\n",
       "\n",
       "    .dataframe tbody tr th {\n",
       "        vertical-align: top;\n",
       "    }\n",
       "\n",
       "    .dataframe thead th {\n",
       "        text-align: right;\n",
       "    }\n",
       "</style>\n",
       "<table border=\"1\" class=\"dataframe\">\n",
       "  <thead>\n",
       "    <tr style=\"text-align: right;\">\n",
       "      <th></th>\n",
       "      <th>counts</th>\n",
       "      <th>percent</th>\n",
       "      <th>percent100</th>\n",
       "    </tr>\n",
       "  </thead>\n",
       "  <tbody>\n",
       "    <tr>\n",
       "      <th>Sedan</th>\n",
       "      <td>112080</td>\n",
       "      <td>0.422755</td>\n",
       "      <td>42.3%</td>\n",
       "    </tr>\n",
       "    <tr>\n",
       "      <th>Station Wagon/Sport Utility Vehicle</th>\n",
       "      <td>90725</td>\n",
       "      <td>0.342206</td>\n",
       "      <td>34.2%</td>\n",
       "    </tr>\n",
       "    <tr>\n",
       "      <th>Bike</th>\n",
       "      <td>10761</td>\n",
       "      <td>0.040589</td>\n",
       "      <td>4.1%</td>\n",
       "    </tr>\n",
       "    <tr>\n",
       "      <th>Taxi</th>\n",
       "      <td>8377</td>\n",
       "      <td>0.031597</td>\n",
       "      <td>3.2%</td>\n",
       "    </tr>\n",
       "    <tr>\n",
       "      <th>Box Truck</th>\n",
       "      <td>8095</td>\n",
       "      <td>0.030534</td>\n",
       "      <td>3.1%</td>\n",
       "    </tr>\n",
       "    <tr>\n",
       "      <th>Pick-up Truck</th>\n",
       "      <td>7986</td>\n",
       "      <td>0.030122</td>\n",
       "      <td>3.0%</td>\n",
       "    </tr>\n",
       "    <tr>\n",
       "      <th>Bus</th>\n",
       "      <td>4985</td>\n",
       "      <td>0.018803</td>\n",
       "      <td>1.9%</td>\n",
       "    </tr>\n",
       "    <tr>\n",
       "      <th>Tractor Truck Diesel</th>\n",
       "      <td>2637</td>\n",
       "      <td>0.009947</td>\n",
       "      <td>1.0%</td>\n",
       "    </tr>\n",
       "    <tr>\n",
       "      <th>E-Bike</th>\n",
       "      <td>2422</td>\n",
       "      <td>0.009136</td>\n",
       "      <td>0.9%</td>\n",
       "    </tr>\n",
       "    <tr>\n",
       "      <th>Motorcycle</th>\n",
       "      <td>2132</td>\n",
       "      <td>0.008042</td>\n",
       "      <td>0.8%</td>\n",
       "    </tr>\n",
       "  </tbody>\n",
       "</table>\n",
       "</div>"
      ],
      "text/plain": [
       "                                     counts   percent percent100\n",
       "Sedan                                112080  0.422755      42.3%\n",
       "Station Wagon/Sport Utility Vehicle   90725  0.342206      34.2%\n",
       "Bike                                  10761  0.040589       4.1%\n",
       "Taxi                                   8377  0.031597       3.2%\n",
       "Box Truck                              8095  0.030534       3.1%\n",
       "Pick-up Truck                          7986  0.030122       3.0%\n",
       "Bus                                    4985  0.018803       1.9%\n",
       "Tractor Truck Diesel                   2637  0.009947       1.0%\n",
       "E-Bike                                 2422  0.009136       0.9%\n",
       "Motorcycle                             2132  0.008042       0.8%"
      ]
     },
     "execution_count": 16,
     "metadata": {},
     "output_type": "execute_result"
    }
   ],
   "source": [
    "vehicle2_df.head(10)"
   ]
  },
  {
   "cell_type": "markdown",
   "metadata": {},
   "source": [
    "The crash_date columns currently contains string values\n",
    "\n"
   ]
  },
  {
   "cell_type": "code",
   "execution_count": 17,
   "metadata": {},
   "outputs": [
    {
     "data": {
      "text/plain": [
       "str"
      ]
     },
     "execution_count": 17,
     "metadata": {},
     "output_type": "execute_result"
    }
   ],
   "source": [
    "type(df.crash_date[1])"
   ]
  },
  {
   "cell_type": "markdown",
   "metadata": {},
   "source": [
    "The pandas.to_datetime() method converts each string value to a datetime object below"
   ]
  },
  {
   "cell_type": "code",
   "execution_count": 18,
   "metadata": {},
   "outputs": [],
   "source": [
    "dff['crash_date'] = pd.to_datetime(dff['crash_date'], format='%Y-%m-%dT%H:%M:%S.%f')\n"
   ]
  },
  {
   "cell_type": "code",
   "execution_count": 19,
   "metadata": {},
   "outputs": [
    {
     "data": {
      "text/plain": [
       "pandas._libs.tslibs.timestamps.Timestamp"
      ]
     },
     "execution_count": 19,
     "metadata": {},
     "output_type": "execute_result"
    }
   ],
   "source": [
    "type(dff.crash_date[1])"
   ]
  },
  {
   "cell_type": "code",
   "execution_count": 20,
   "metadata": {},
   "outputs": [],
   "source": [
    "# Create year, month, day_of_week columns\n",
    "dff['year'] = dff['crash_date'].dt.year\n",
    "dff['month'] = [str(i.month) for i in dff.crash_date]\n",
    "dff['day_of_week'] = [int(i.weekday()) for i in dff.crash_date]\n"
   ]
  },
  {
   "cell_type": "code",
   "execution_count": 21,
   "metadata": {},
   "outputs": [],
   "source": [
    "# Create hour column\n",
    "dff['hour'] = pd.to_datetime(dff['crash_time'], format='%H:%M').dt.hour"
   ]
  },
  {
   "cell_type": "code",
   "execution_count": 22,
   "metadata": {},
   "outputs": [
    {
     "data": {
      "text/html": [
       "<div>\n",
       "<style scoped>\n",
       "    .dataframe tbody tr th:only-of-type {\n",
       "        vertical-align: middle;\n",
       "    }\n",
       "\n",
       "    .dataframe tbody tr th {\n",
       "        vertical-align: top;\n",
       "    }\n",
       "\n",
       "    .dataframe thead th {\n",
       "        text-align: right;\n",
       "    }\n",
       "</style>\n",
       "<table border=\"1\" class=\"dataframe\">\n",
       "  <thead>\n",
       "    <tr style=\"text-align: right;\">\n",
       "      <th></th>\n",
       "      <th>crash_date</th>\n",
       "      <th>crash_time</th>\n",
       "      <th>number_of_persons_killed</th>\n",
       "      <th>number_of_pedestrians_injured</th>\n",
       "      <th>number_of_pedestrians_killed</th>\n",
       "      <th>number_of_cyclist_injured</th>\n",
       "      <th>number_of_cyclist_killed</th>\n",
       "      <th>number_of_motorist_injured</th>\n",
       "      <th>number_of_motorist_killed</th>\n",
       "      <th>contributing_factor_vehicle_1</th>\n",
       "      <th>...</th>\n",
       "      <th>borough</th>\n",
       "      <th>zip_code</th>\n",
       "      <th>latitude</th>\n",
       "      <th>longitude</th>\n",
       "      <th>cross_street_name</th>\n",
       "      <th>off_street_name</th>\n",
       "      <th>year</th>\n",
       "      <th>month</th>\n",
       "      <th>day_of_week</th>\n",
       "      <th>hour</th>\n",
       "    </tr>\n",
       "  </thead>\n",
       "  <tbody>\n",
       "    <tr>\n",
       "      <th>1</th>\n",
       "      <td>2021-04-13</td>\n",
       "      <td>21:35</td>\n",
       "      <td>0</td>\n",
       "      <td>1</td>\n",
       "      <td>0</td>\n",
       "      <td>0</td>\n",
       "      <td>0</td>\n",
       "      <td>0</td>\n",
       "      <td>0</td>\n",
       "      <td>Unspecified</td>\n",
       "      <td>...</td>\n",
       "      <td>BROOKLYN</td>\n",
       "      <td>11217</td>\n",
       "      <td>40.6835800</td>\n",
       "      <td>-73.9761700</td>\n",
       "      <td>620       ATLANTIC AVENUE</td>\n",
       "      <td>NaN</td>\n",
       "      <td>2021</td>\n",
       "      <td>4</td>\n",
       "      <td>1</td>\n",
       "      <td>21</td>\n",
       "    </tr>\n",
       "    <tr>\n",
       "      <th>4</th>\n",
       "      <td>2021-04-12</td>\n",
       "      <td>8:25</td>\n",
       "      <td>0</td>\n",
       "      <td>0</td>\n",
       "      <td>0</td>\n",
       "      <td>0</td>\n",
       "      <td>0</td>\n",
       "      <td>0</td>\n",
       "      <td>0</td>\n",
       "      <td>Unspecified</td>\n",
       "      <td>...</td>\n",
       "      <td>NaN</td>\n",
       "      <td>NaN</td>\n",
       "      <td>0.0000000</td>\n",
       "      <td>0.0000000</td>\n",
       "      <td>NaN</td>\n",
       "      <td>NaN</td>\n",
       "      <td>2021</td>\n",
       "      <td>4</td>\n",
       "      <td>0</td>\n",
       "      <td>8</td>\n",
       "    </tr>\n",
       "    <tr>\n",
       "      <th>13</th>\n",
       "      <td>2019-05-21</td>\n",
       "      <td>22:50</td>\n",
       "      <td>0</td>\n",
       "      <td>0</td>\n",
       "      <td>0</td>\n",
       "      <td>0</td>\n",
       "      <td>0</td>\n",
       "      <td>0</td>\n",
       "      <td>0</td>\n",
       "      <td>Passing or Lane Usage Improper</td>\n",
       "      <td>...</td>\n",
       "      <td>BROOKLYN</td>\n",
       "      <td>11201</td>\n",
       "      <td>40.6975400</td>\n",
       "      <td>-73.9831200</td>\n",
       "      <td>NaN</td>\n",
       "      <td>CONCORD STREET</td>\n",
       "      <td>2019</td>\n",
       "      <td>5</td>\n",
       "      <td>1</td>\n",
       "      <td>22</td>\n",
       "    </tr>\n",
       "    <tr>\n",
       "      <th>15</th>\n",
       "      <td>2021-02-26</td>\n",
       "      <td>14:50</td>\n",
       "      <td>0</td>\n",
       "      <td>0</td>\n",
       "      <td>0</td>\n",
       "      <td>0</td>\n",
       "      <td>0</td>\n",
       "      <td>0</td>\n",
       "      <td>0</td>\n",
       "      <td>Unspecified</td>\n",
       "      <td>...</td>\n",
       "      <td>BRONX</td>\n",
       "      <td>10461</td>\n",
       "      <td>40.843464</td>\n",
       "      <td>-73.836</td>\n",
       "      <td>2819      MIDDLETOWN ROAD</td>\n",
       "      <td>NaN</td>\n",
       "      <td>2021</td>\n",
       "      <td>2</td>\n",
       "      <td>4</td>\n",
       "      <td>14</td>\n",
       "    </tr>\n",
       "    <tr>\n",
       "      <th>16</th>\n",
       "      <td>2021-03-09</td>\n",
       "      <td>11:00</td>\n",
       "      <td>0</td>\n",
       "      <td>0</td>\n",
       "      <td>0</td>\n",
       "      <td>0</td>\n",
       "      <td>0</td>\n",
       "      <td>1</td>\n",
       "      <td>0</td>\n",
       "      <td>Following Too Closely</td>\n",
       "      <td>...</td>\n",
       "      <td>NaN</td>\n",
       "      <td>NaN</td>\n",
       "      <td>40.6925470</td>\n",
       "      <td>-73.9909740</td>\n",
       "      <td>NaN</td>\n",
       "      <td>JORALEMON STREET</td>\n",
       "      <td>2021</td>\n",
       "      <td>3</td>\n",
       "      <td>1</td>\n",
       "      <td>11</td>\n",
       "    </tr>\n",
       "  </tbody>\n",
       "</table>\n",
       "<p>5 rows × 24 columns</p>\n",
       "</div>"
      ],
      "text/plain": [
       "   crash_date crash_time number_of_persons_killed  \\\n",
       "1  2021-04-13      21:35                        0   \n",
       "4  2021-04-12       8:25                        0   \n",
       "13 2019-05-21      22:50                        0   \n",
       "15 2021-02-26      14:50                        0   \n",
       "16 2021-03-09      11:00                        0   \n",
       "\n",
       "   number_of_pedestrians_injured number_of_pedestrians_killed  \\\n",
       "1                              1                            0   \n",
       "4                              0                            0   \n",
       "13                             0                            0   \n",
       "15                             0                            0   \n",
       "16                             0                            0   \n",
       "\n",
       "   number_of_cyclist_injured number_of_cyclist_killed  \\\n",
       "1                          0                        0   \n",
       "4                          0                        0   \n",
       "13                         0                        0   \n",
       "15                         0                        0   \n",
       "16                         0                        0   \n",
       "\n",
       "   number_of_motorist_injured number_of_motorist_killed  \\\n",
       "1                           0                         0   \n",
       "4                           0                         0   \n",
       "13                          0                         0   \n",
       "15                          0                         0   \n",
       "16                          1                         0   \n",
       "\n",
       "     contributing_factor_vehicle_1  ...   borough zip_code    latitude  \\\n",
       "1                      Unspecified  ...  BROOKLYN    11217  40.6835800   \n",
       "4                      Unspecified  ...       NaN      NaN   0.0000000   \n",
       "13  Passing or Lane Usage Improper  ...  BROOKLYN    11201  40.6975400   \n",
       "15                     Unspecified  ...     BRONX    10461   40.843464   \n",
       "16           Following Too Closely  ...       NaN      NaN  40.6925470   \n",
       "\n",
       "      longitude                         cross_street_name   off_street_name  \\\n",
       "1   -73.9761700  620       ATLANTIC AVENUE                              NaN   \n",
       "4     0.0000000                                       NaN               NaN   \n",
       "13  -73.9831200                                       NaN    CONCORD STREET   \n",
       "15      -73.836                 2819      MIDDLETOWN ROAD               NaN   \n",
       "16  -73.9909740                                       NaN  JORALEMON STREET   \n",
       "\n",
       "    year month day_of_week hour  \n",
       "1   2021     4           1   21  \n",
       "4   2021     4           0    8  \n",
       "13  2019     5           1   22  \n",
       "15  2021     2           4   14  \n",
       "16  2021     3           1   11  \n",
       "\n",
       "[5 rows x 24 columns]"
      ]
     },
     "execution_count": 22,
     "metadata": {},
     "output_type": "execute_result"
    }
   ],
   "source": [
    "dff.head()"
   ]
  },
  {
   "cell_type": "code",
   "execution_count": 21,
   "metadata": {},
   "outputs": [
    {
     "name": "stdout",
     "output_type": "stream",
     "text": [
      "<class 'pandas.core.frame.DataFrame'>\n",
      "Int64Index: 740584 entries, 1 to 799999\n",
      "Data columns (total 24 columns):\n",
      " #   Column                         Non-Null Count   Dtype         \n",
      "---  ------                         --------------   -----         \n",
      " 0   crash_date                     740584 non-null  datetime64[ns]\n",
      " 1   crash_time                     740584 non-null  object        \n",
      " 2   number_of_persons_killed       740567 non-null  object        \n",
      " 3   number_of_pedestrians_injured  740584 non-null  object        \n",
      " 4   number_of_pedestrians_killed   740584 non-null  object        \n",
      " 5   number_of_cyclist_injured      740584 non-null  object        \n",
      " 6   number_of_cyclist_killed       740584 non-null  object        \n",
      " 7   number_of_motorist_injured     740584 non-null  object        \n",
      " 8   number_of_motorist_killed      740584 non-null  object        \n",
      " 9   contributing_factor_vehicle_1  737770 non-null  object        \n",
      " 10  contributing_factor_vehicle_2  611377 non-null  object        \n",
      " 11  collision_id                   740584 non-null  object        \n",
      " 12  vehicle_type_code1             734751 non-null  object        \n",
      " 13  vehicle_type_code2             561056 non-null  object        \n",
      " 14  borough                        498143 non-null  object        \n",
      " 15  zip_code                       498016 non-null  object        \n",
      " 16  latitude                       740584 non-null  object        \n",
      " 17  longitude                      740584 non-null  object        \n",
      " 18  cross_street_name              190782 non-null  object        \n",
      " 19  off_street_name                353323 non-null  object        \n",
      " 20  year                           740584 non-null  int64         \n",
      " 21  month                          740584 non-null  object        \n",
      " 22  day_of_week                    740584 non-null  int64         \n",
      " 23  hour                           740584 non-null  int64         \n",
      "dtypes: datetime64[ns](1), int64(3), object(20)\n",
      "memory usage: 157.4+ MB\n"
     ]
    }
   ],
   "source": [
    "dff.info()"
   ]
  },
  {
   "cell_type": "markdown",
   "metadata": {},
   "source": [
    "# Visualization of collisions with fatalities in 2021"
   ]
  },
  {
   "cell_type": "code",
   "execution_count": 23,
   "metadata": {},
   "outputs": [],
   "source": [
    "# Filter out null values\n",
    "dff = dff[dff.number_of_persons_killed.notnull()]\n",
    "# Convert person killed column value to int\n",
    "dff[\"number_of_persons_killed\"] = pd.to_numeric(dff[\"number_of_persons_killed\"])"
   ]
  },
  {
   "cell_type": "code",
   "execution_count": 24,
   "metadata": {},
   "outputs": [
    {
     "name": "stdout",
     "output_type": "stream",
     "text": [
      "<class 'pandas.core.frame.DataFrame'>\n",
      "Int64Index: 367380 entries, 1 to 399999\n",
      "Data columns (total 24 columns):\n",
      " #   Column                         Non-Null Count   Dtype         \n",
      "---  ------                         --------------   -----         \n",
      " 0   crash_date                     367380 non-null  datetime64[ns]\n",
      " 1   crash_time                     367380 non-null  object        \n",
      " 2   number_of_persons_killed       367380 non-null  int64         \n",
      " 3   number_of_pedestrians_injured  367380 non-null  object        \n",
      " 4   number_of_pedestrians_killed   367380 non-null  object        \n",
      " 5   number_of_cyclist_injured      367380 non-null  object        \n",
      " 6   number_of_cyclist_killed       367380 non-null  object        \n",
      " 7   number_of_motorist_injured     367380 non-null  object        \n",
      " 8   number_of_motorist_killed      367380 non-null  object        \n",
      " 9   contributing_factor_vehicle_1  365791 non-null  object        \n",
      " 10  contributing_factor_vehicle_2  294726 non-null  object        \n",
      " 11  collision_id                   367380 non-null  object        \n",
      " 12  vehicle_type_code1             363942 non-null  object        \n",
      " 13  vehicle_type_code2             265118 non-null  object        \n",
      " 14  borough                        252802 non-null  object        \n",
      " 15  zip_code                       252752 non-null  object        \n",
      " 16  latitude                       367380 non-null  object        \n",
      " 17  longitude                      367380 non-null  object        \n",
      " 18  cross_street_name              99020 non-null   object        \n",
      " 19  off_street_name                175693 non-null  object        \n",
      " 20  year                           367380 non-null  int64         \n",
      " 21  month                          367380 non-null  object        \n",
      " 22  day_of_week                    367380 non-null  int64         \n",
      " 23  hour                           367380 non-null  int64         \n",
      "dtypes: datetime64[ns](1), int64(4), object(19)\n",
      "memory usage: 70.1+ MB\n"
     ]
    }
   ],
   "source": [
    "dff.info()"
   ]
  },
  {
   "cell_type": "code",
   "execution_count": 25,
   "metadata": {},
   "outputs": [],
   "source": [
    "dff = dff.astype({\"latitude\": np.float64, \"longitude\": np.float64})"
   ]
  },
  {
   "cell_type": "code",
   "execution_count": 26,
   "metadata": {},
   "outputs": [],
   "source": [
    "# Condition to filter year and records with person killed\n",
    "fatal_2021_cond = (dff['year'] == 2021 ) & (dff['number_of_persons_killed']>=1)"
   ]
  },
  {
   "cell_type": "code",
   "execution_count": 28,
   "metadata": {},
   "outputs": [],
   "source": [
    "# Create new DataFrame that meets conditions\n",
    "df_2021_p_killed = dff[fatal_2021_cond]"
   ]
  },
  {
   "cell_type": "code",
   "execution_count": 29,
   "metadata": {},
   "outputs": [
    {
     "data": {
      "text/html": [
       "<div>\n",
       "<style scoped>\n",
       "    .dataframe tbody tr th:only-of-type {\n",
       "        vertical-align: middle;\n",
       "    }\n",
       "\n",
       "    .dataframe tbody tr th {\n",
       "        vertical-align: top;\n",
       "    }\n",
       "\n",
       "    .dataframe thead th {\n",
       "        text-align: right;\n",
       "    }\n",
       "</style>\n",
       "<table border=\"1\" class=\"dataframe\">\n",
       "  <thead>\n",
       "    <tr style=\"text-align: right;\">\n",
       "      <th></th>\n",
       "      <th>crash_date</th>\n",
       "      <th>crash_time</th>\n",
       "      <th>number_of_persons_killed</th>\n",
       "      <th>number_of_pedestrians_injured</th>\n",
       "      <th>number_of_pedestrians_killed</th>\n",
       "      <th>number_of_cyclist_injured</th>\n",
       "      <th>number_of_cyclist_killed</th>\n",
       "      <th>number_of_motorist_injured</th>\n",
       "      <th>number_of_motorist_killed</th>\n",
       "      <th>contributing_factor_vehicle_1</th>\n",
       "      <th>...</th>\n",
       "      <th>borough</th>\n",
       "      <th>zip_code</th>\n",
       "      <th>latitude</th>\n",
       "      <th>longitude</th>\n",
       "      <th>cross_street_name</th>\n",
       "      <th>off_street_name</th>\n",
       "      <th>year</th>\n",
       "      <th>month</th>\n",
       "      <th>day_of_week</th>\n",
       "      <th>hour</th>\n",
       "    </tr>\n",
       "  </thead>\n",
       "  <tbody>\n",
       "    <tr>\n",
       "      <th>150</th>\n",
       "      <td>2021-04-15</td>\n",
       "      <td>15:18</td>\n",
       "      <td>1</td>\n",
       "      <td>0</td>\n",
       "      <td>1</td>\n",
       "      <td>0</td>\n",
       "      <td>0</td>\n",
       "      <td>0</td>\n",
       "      <td>0</td>\n",
       "      <td>Driver Inattention/Distraction</td>\n",
       "      <td>...</td>\n",
       "      <td>BROOKLYN</td>\n",
       "      <td>11209</td>\n",
       "      <td>40.620487</td>\n",
       "      <td>-74.029305</td>\n",
       "      <td>NaN</td>\n",
       "      <td>FOREST PLACE</td>\n",
       "      <td>2021</td>\n",
       "      <td>4</td>\n",
       "      <td>3</td>\n",
       "      <td>15</td>\n",
       "    </tr>\n",
       "    <tr>\n",
       "      <th>1143</th>\n",
       "      <td>2021-04-18</td>\n",
       "      <td>23:56</td>\n",
       "      <td>1</td>\n",
       "      <td>0</td>\n",
       "      <td>1</td>\n",
       "      <td>0</td>\n",
       "      <td>0</td>\n",
       "      <td>0</td>\n",
       "      <td>0</td>\n",
       "      <td>Unspecified</td>\n",
       "      <td>...</td>\n",
       "      <td>NaN</td>\n",
       "      <td>NaN</td>\n",
       "      <td>40.770527</td>\n",
       "      <td>-73.980120</td>\n",
       "      <td>NaN</td>\n",
       "      <td>NaN</td>\n",
       "      <td>2021</td>\n",
       "      <td>4</td>\n",
       "      <td>6</td>\n",
       "      <td>23</td>\n",
       "    </tr>\n",
       "    <tr>\n",
       "      <th>1337</th>\n",
       "      <td>2021-04-08</td>\n",
       "      <td>19:55</td>\n",
       "      <td>1</td>\n",
       "      <td>0</td>\n",
       "      <td>0</td>\n",
       "      <td>0</td>\n",
       "      <td>0</td>\n",
       "      <td>0</td>\n",
       "      <td>0</td>\n",
       "      <td>Driver Inexperience</td>\n",
       "      <td>...</td>\n",
       "      <td>BRONX</td>\n",
       "      <td>10459</td>\n",
       "      <td>40.830307</td>\n",
       "      <td>-73.898730</td>\n",
       "      <td>1281      UNION AVENUE</td>\n",
       "      <td>NaN</td>\n",
       "      <td>2021</td>\n",
       "      <td>4</td>\n",
       "      <td>3</td>\n",
       "      <td>19</td>\n",
       "    </tr>\n",
       "    <tr>\n",
       "      <th>1638</th>\n",
       "      <td>2021-04-19</td>\n",
       "      <td>19:13</td>\n",
       "      <td>1</td>\n",
       "      <td>0</td>\n",
       "      <td>1</td>\n",
       "      <td>0</td>\n",
       "      <td>0</td>\n",
       "      <td>0</td>\n",
       "      <td>0</td>\n",
       "      <td>Driver Inattention/Distraction</td>\n",
       "      <td>...</td>\n",
       "      <td>MANHATTAN</td>\n",
       "      <td>10039</td>\n",
       "      <td>40.822890</td>\n",
       "      <td>-73.942080</td>\n",
       "      <td>300       WEST 145 STREET</td>\n",
       "      <td>NaN</td>\n",
       "      <td>2021</td>\n",
       "      <td>4</td>\n",
       "      <td>0</td>\n",
       "      <td>19</td>\n",
       "    </tr>\n",
       "    <tr>\n",
       "      <th>2075</th>\n",
       "      <td>2021-04-22</td>\n",
       "      <td>8:01</td>\n",
       "      <td>1</td>\n",
       "      <td>0</td>\n",
       "      <td>1</td>\n",
       "      <td>0</td>\n",
       "      <td>0</td>\n",
       "      <td>0</td>\n",
       "      <td>0</td>\n",
       "      <td>Failure to Yield Right-of-Way</td>\n",
       "      <td>...</td>\n",
       "      <td>MANHATTAN</td>\n",
       "      <td>10035</td>\n",
       "      <td>40.803698</td>\n",
       "      <td>-73.937912</td>\n",
       "      <td>NaN</td>\n",
       "      <td>LEXINGTON AVENUE</td>\n",
       "      <td>2021</td>\n",
       "      <td>4</td>\n",
       "      <td>3</td>\n",
       "      <td>8</td>\n",
       "    </tr>\n",
       "  </tbody>\n",
       "</table>\n",
       "<p>5 rows × 24 columns</p>\n",
       "</div>"
      ],
      "text/plain": [
       "     crash_date crash_time  number_of_persons_killed  \\\n",
       "150  2021-04-15      15:18                         1   \n",
       "1143 2021-04-18      23:56                         1   \n",
       "1337 2021-04-08      19:55                         1   \n",
       "1638 2021-04-19      19:13                         1   \n",
       "2075 2021-04-22       8:01                         1   \n",
       "\n",
       "     number_of_pedestrians_injured number_of_pedestrians_killed  \\\n",
       "150                              0                            1   \n",
       "1143                             0                            1   \n",
       "1337                             0                            0   \n",
       "1638                             0                            1   \n",
       "2075                             0                            1   \n",
       "\n",
       "     number_of_cyclist_injured number_of_cyclist_killed  \\\n",
       "150                          0                        0   \n",
       "1143                         0                        0   \n",
       "1337                         0                        0   \n",
       "1638                         0                        0   \n",
       "2075                         0                        0   \n",
       "\n",
       "     number_of_motorist_injured number_of_motorist_killed  \\\n",
       "150                           0                         0   \n",
       "1143                          0                         0   \n",
       "1337                          0                         0   \n",
       "1638                          0                         0   \n",
       "2075                          0                         0   \n",
       "\n",
       "       contributing_factor_vehicle_1  ...    borough zip_code   latitude  \\\n",
       "150   Driver Inattention/Distraction  ...   BROOKLYN    11209  40.620487   \n",
       "1143                     Unspecified  ...        NaN      NaN  40.770527   \n",
       "1337             Driver Inexperience  ...      BRONX    10459  40.830307   \n",
       "1638  Driver Inattention/Distraction  ...  MANHATTAN    10039  40.822890   \n",
       "2075   Failure to Yield Right-of-Way  ...  MANHATTAN    10035  40.803698   \n",
       "\n",
       "      longitude          cross_street_name   off_street_name  year  month  \\\n",
       "150  -74.029305                        NaN      FOREST PLACE  2021      4   \n",
       "1143 -73.980120                        NaN               NaN  2021      4   \n",
       "1337 -73.898730     1281      UNION AVENUE               NaN  2021      4   \n",
       "1638 -73.942080  300       WEST 145 STREET               NaN  2021      4   \n",
       "2075 -73.937912                        NaN  LEXINGTON AVENUE  2021      4   \n",
       "\n",
       "     day_of_week hour  \n",
       "150            3   15  \n",
       "1143           6   23  \n",
       "1337           3   19  \n",
       "1638           0   19  \n",
       "2075           3    8  \n",
       "\n",
       "[5 rows x 24 columns]"
      ]
     },
     "execution_count": 29,
     "metadata": {},
     "output_type": "execute_result"
    }
   ],
   "source": [
    "df_2021_p_killed.head()"
   ]
  },
  {
   "cell_type": "code",
   "execution_count": 30,
   "metadata": {},
   "outputs": [],
   "source": [
    "px.set_mapbox_access_token(open(\".mapbox_token\").read())"
   ]
  },
  {
   "cell_type": "code",
   "execution_count": 31,
   "metadata": {},
   "outputs": [],
   "source": [
    "# Scatter plot of crash with fatalities (color by hour and size by number of persons killed)\n",
    "p_killed_2021_fig = px.scatter_mapbox(df_2021_p_killed,\n",
    "                                      lat=\"latitude\",\n",
    "                                      lon=\"longitude\",\n",
    "                                      color=\"hour\",\n",
    "                                      size=\"number_of_persons_killed\",\n",
    "                                      #hover_data = \"off_street_name\",\n",
    "                                      mapbox_style=\"streets\",\n",
    "                                      color_continuous_scale=px.colors.cyclical.IceFire,\n",
    "                                      size_max=15,\n",
    "                                      zoom=10,\n",
    "                                      title = \"Crash Reports with Fatalities in 2021\",)"
   ]
  },
  {
   "cell_type": "code",
   "execution_count": 32,
   "metadata": {},
   "outputs": [],
   "source": [
    "p_killed_2021_fig.show()"
   ]
  },
  {
   "cell_type": "markdown",
   "metadata": {},
   "source": [
    "# Visualization of Collition Resulting in Persons Injured (2021)"
   ]
  },
  {
   "cell_type": "code",
   "execution_count": 33,
   "metadata": {},
   "outputs": [],
   "source": [
    "# Convert person injured columns to int"
   ]
  },
  {
   "cell_type": "code",
   "execution_count": 40,
   "metadata": {},
   "outputs": [],
   "source": [
    "injured_list = [\"number_of_motorist_injured\", \"number_of_cyclist_injured\",\"number_of_pedestrians_injured\"]"
   ]
  },
  {
   "cell_type": "code",
   "execution_count": 41,
   "metadata": {},
   "outputs": [
    {
     "data": {
      "text/plain": [
       "['number_of_motorist_injured',\n",
       " 'number_of_cyclist_injured',\n",
       " 'number_of_pedestrians_injured']"
      ]
     },
     "execution_count": 41,
     "metadata": {},
     "output_type": "execute_result"
    }
   ],
   "source": [
    "injured_list"
   ]
  },
  {
   "cell_type": "code",
   "execution_count": 42,
   "metadata": {},
   "outputs": [],
   "source": [
    "dff[injured_list] = dff[injured_list].apply(pd.to_numeric)"
   ]
  },
  {
   "cell_type": "code",
   "execution_count": 44,
   "metadata": {},
   "outputs": [],
   "source": [
    "# Create persons_injured column\n",
    "dff['number_persons_injured'] = dff['number_of_pedestrians_injured'] + dff['number_of_motorist_injured'] + dff['number_of_cyclist_injured']"
   ]
  },
  {
   "cell_type": "code",
   "execution_count": 45,
   "metadata": {},
   "outputs": [],
   "source": [
    "# Condition includes year 2021 and events with persons injured\n",
    "df_injured_cond = (dff['year'] == 2021 ) & (dff['number_persons_injured']>=1)\n",
    "#injured_cond = (dff['year'] == 2021 ) | (dff['number_of_pedestrians_injured']>=1) | (dff['number_of_cyclist_injured']>=1) | (dff['number_of_motorist_injured']>=1)"
   ]
  },
  {
   "cell_type": "code",
   "execution_count": 46,
   "metadata": {},
   "outputs": [],
   "source": [
    "# New dataFrame includes person injured from collision (2021)\n",
    "df_2021_p_injured = dff[df_injured_cond]"
   ]
  },
  {
   "cell_type": "code",
   "execution_count": 60,
   "metadata": {},
   "outputs": [],
   "source": [
    "# Scatter plot of crash with injuries (color by hour and size by number of persons injured)\n",
    "p_injured_2021_fig = px.scatter_mapbox(df_2021_p_injured,\n",
    "                                       lat=\"latitude\",\n",
    "                                       lon=\"longitude\",\n",
    "                                       color=\"hour\",\n",
    "                                       size=\"number_persons_injured\",\n",
    "                                       color_continuous_scale=px.colors.cyclical.IceFire,\n",
    "                                       size_max=15,\n",
    "                                       zoom=10,\n",
    "                                       center={\"lat\": 40.730610, \"lon\": -73.9749},\n",
    "                                       title = \"Crash Reports with Persons Injured in 2021\",)\n",
    "p_injured_2021_fig.show()"
   ]
  },
  {
   "cell_type": "markdown",
   "metadata": {},
   "source": [
    "# Visualization of Collitions by Borough"
   ]
  },
  {
   "cell_type": "code",
   "execution_count": 41,
   "metadata": {},
   "outputs": [],
   "source": [
    "boro_url = ('https://raw.githubusercontent.com/codeforgermany/click_that_hood/main/public/data/new-york-city-boroughs.geojson')"
   ]
  },
  {
   "cell_type": "code",
   "execution_count": 42,
   "metadata": {},
   "outputs": [],
   "source": [
    "nyc_boro = requests.get(boro_url)\n",
    "nyc_boro = nyc_boro.json()"
   ]
  },
  {
   "cell_type": "code",
   "execution_count": 43,
   "metadata": {},
   "outputs": [
    {
     "data": {
      "text/plain": [
       "{'name': 'Queens',\n",
       " 'cartodb_id': 2,\n",
       " 'created_at': '2013-03-09T02:42:03.692Z',\n",
       " 'updated_at': '2013-03-09T02:42:03.989Z'}"
      ]
     },
     "execution_count": 43,
     "metadata": {},
     "output_type": "execute_result"
    }
   ],
   "source": [
    "nyc_boro['features'][1]['properties']\n"
   ]
  },
  {
   "cell_type": "code",
   "execution_count": 44,
   "metadata": {},
   "outputs": [
    {
     "name": "stdout",
     "output_type": "stream",
     "text": [
      "['BROOKLYN' nan 'BRONX' 'STATEN ISLAND' 'QUEENS' 'MANHATTAN']\n"
     ]
    }
   ],
   "source": [
    "print(dff.borough.unique())"
   ]
  },
  {
   "cell_type": "code",
   "execution_count": 45,
   "metadata": {},
   "outputs": [],
   "source": [
    "dff = dff[dff['borough'].notna()]\n",
    "dff['borough'] = dff['borough'].str.title()"
   ]
  },
  {
   "cell_type": "code",
   "execution_count": 46,
   "metadata": {},
   "outputs": [],
   "source": [
    "# Create dictionary with key and value to link json file to dataframe\n",
    "# Dictionary key must match a column value in dataframe \n",
    "nyc_boro_map = {}\n",
    "for feature in nyc_boro['features']:\n",
    "    feature['id'] = feature['properties']['cartodb_id']\n",
    "    nyc_boro_map[feature['properties']['name']] = feature['id']\n"
   ]
  },
  {
   "cell_type": "code",
   "execution_count": 47,
   "metadata": {},
   "outputs": [],
   "source": [
    "dff['boro_id'] = dff['borough'].apply(lambda x: nyc_boro_map[x])\n",
    "#grouped_multiple = df.groupby(['Team', 'Pos']).agg({'Age': ['mean', 'min', 'max']})"
   ]
  },
  {
   "cell_type": "code",
   "execution_count": 48,
   "metadata": {},
   "outputs": [],
   "source": [
    "df_boro_gb = dff.groupby(['borough','boro_id']).agg({'number_of_persons_killed': 'sum'}).reset_index()"
   ]
  },
  {
   "cell_type": "code",
   "execution_count": 49,
   "metadata": {},
   "outputs": [
    {
     "data": {
      "text/html": [
       "<div>\n",
       "<style scoped>\n",
       "    .dataframe tbody tr th:only-of-type {\n",
       "        vertical-align: middle;\n",
       "    }\n",
       "\n",
       "    .dataframe tbody tr th {\n",
       "        vertical-align: top;\n",
       "    }\n",
       "\n",
       "    .dataframe thead th {\n",
       "        text-align: right;\n",
       "    }\n",
       "</style>\n",
       "<table border=\"1\" class=\"dataframe\">\n",
       "  <thead>\n",
       "    <tr style=\"text-align: right;\">\n",
       "      <th></th>\n",
       "      <th>borough</th>\n",
       "      <th>boro_id</th>\n",
       "      <th>number_of_persons_killed</th>\n",
       "    </tr>\n",
       "  </thead>\n",
       "  <tbody>\n",
       "    <tr>\n",
       "      <th>0</th>\n",
       "      <td>Bronx</td>\n",
       "      <td>5</td>\n",
       "      <td>81</td>\n",
       "    </tr>\n",
       "    <tr>\n",
       "      <th>1</th>\n",
       "      <td>Brooklyn</td>\n",
       "      <td>3</td>\n",
       "      <td>220</td>\n",
       "    </tr>\n",
       "    <tr>\n",
       "      <th>2</th>\n",
       "      <td>Manhattan</td>\n",
       "      <td>4</td>\n",
       "      <td>109</td>\n",
       "    </tr>\n",
       "    <tr>\n",
       "      <th>3</th>\n",
       "      <td>Queens</td>\n",
       "      <td>2</td>\n",
       "      <td>189</td>\n",
       "    </tr>\n",
       "    <tr>\n",
       "      <th>4</th>\n",
       "      <td>Staten Island</td>\n",
       "      <td>1</td>\n",
       "      <td>28</td>\n",
       "    </tr>\n",
       "  </tbody>\n",
       "</table>\n",
       "</div>"
      ],
      "text/plain": [
       "         borough  boro_id  number_of_persons_killed\n",
       "0          Bronx        5                        81\n",
       "1       Brooklyn        3                       220\n",
       "2      Manhattan        4                       109\n",
       "3         Queens        2                       189\n",
       "4  Staten Island        1                        28"
      ]
     },
     "execution_count": 49,
     "metadata": {},
     "output_type": "execute_result"
    }
   ],
   "source": [
    "df_boro_gb"
   ]
  },
  {
   "cell_type": "code",
   "execution_count": 51,
   "metadata": {},
   "outputs": [],
   "source": [
    "# Choropleth map of crashses involving fatalities (borough)\n",
    "boro_fig = px.choropleth_mapbox(\n",
    "    df_boro_gb,\n",
    "    locations = \"boro_id\",\n",
    "    geojson = nyc_boro,\n",
    "    color = \"number_of_persons_killed\",\n",
    "    #color_continuous_scale=px.colors.continuous.Viridis[::-1],\n",
    "    #px.colors.sequential.Viridis\n",
    "    hover_name=\"borough\",\n",
    "    #hover_data= [\"Count\"],\n",
    "    mapbox_style=\"carto-positron\",\n",
    "    center={\"lat\": 40.730610, \"lon\": -73.9749},\n",
    "    zoom=8.5,\n",
    "    opacity=0.5,\n",
    "    title = \"NYC Boroughs\",)\n",
    "# fig.update_layout(\n",
    "#     title={\n",
    "#         'text': \"location of fatalities\",\n",
    "#         'y':0.9,\n",
    "#         'x':0.5,\n",
    "#         'xanchor': 'center',\n",
    "#         'yanchor': 'top'})"
   ]
  },
  {
   "cell_type": "code",
   "execution_count": 52,
   "metadata": {},
   "outputs": [],
   "source": [
    "boro_fig.show()"
   ]
  },
  {
   "cell_type": "markdown",
   "metadata": {},
   "source": [
    "# Visualization of Persons Killed in Collisions per Zip Code (2019 to 2022)"
   ]
  },
  {
   "cell_type": "code",
   "execution_count": 49,
   "metadata": {},
   "outputs": [],
   "source": [
    "url = ('https://data.beta.nyc/dataset/3bf5fb73-edb5-4b05-bb29-7c95f4a727fc/resource/6df127b1-6d04-4bb7-b983-07402a2c3f90/download/f4129d9aa6dd4281bc98d0f701629b76nyczipcodetabulationareas.geojson')"
   ]
  },
  {
   "cell_type": "code",
   "execution_count": 50,
   "metadata": {},
   "outputs": [],
   "source": [
    "nyc_zip = requests.get(url)"
   ]
  },
  {
   "cell_type": "code",
   "execution_count": 51,
   "metadata": {},
   "outputs": [],
   "source": [
    "nyc_zip = nyc_zip.json()"
   ]
  },
  {
   "cell_type": "code",
   "execution_count": 52,
   "metadata": {},
   "outputs": [
    {
     "data": {
      "text/plain": [
       "{'OBJECTID': 2,\n",
       " 'postalCode': '11004',\n",
       " 'PO_NAME': 'Glen Oaks',\n",
       " 'STATE': 'NY',\n",
       " 'borough': 'Queens',\n",
       " 'ST_FIPS': '36',\n",
       " 'CTY_FIPS': '081',\n",
       " 'BLDGpostal': 0,\n",
       " '@id': 'http://nyc.pediacities.com/Resource/PostalCode/11004',\n",
       " 'longitude': -73.711608312,\n",
       " 'latitude': 40.745365835}"
      ]
     },
     "execution_count": 52,
     "metadata": {},
     "output_type": "execute_result"
    }
   ],
   "source": [
    "# Geojson file to complete geographical features\n",
    "nyc_zip['features'][1]['properties']"
   ]
  },
  {
   "cell_type": "code",
   "execution_count": 53,
   "metadata": {},
   "outputs": [],
   "source": [
    "# Create dictionary with key and value to link json file to dataframe\n",
    "zip_id_map = {}\n",
    "for feature in nyc_zip['features']:\n",
    "    feature['id'] = feature['properties']['OBJECTID']\n",
    "    zip_id_map[feature['properties']['postalCode']] = feature['id']"
   ]
  },
  {
   "cell_type": "code",
   "execution_count": 61,
   "metadata": {},
   "outputs": [],
   "source": [
    "# Make sure dictionary key and corresponding dataframe value are of the same type\n",
    "#zip_id_map\n"
   ]
  },
  {
   "cell_type": "code",
   "execution_count": 54,
   "metadata": {},
   "outputs": [],
   "source": [
    "# Filter out nan values of dataframe zip_code column\n",
    "dff = dff[dff['zip_code'].notna()]"
   ]
  },
  {
   "cell_type": "code",
   "execution_count": 55,
   "metadata": {},
   "outputs": [],
   "source": [
    "# Filter out list of zipcodes (not in geojson file) and 'nan' values\n",
    "zipCodes = ['11249','10000','11695','nan','10179']\n",
    "dff = dff[~dff['zip_code'].isin(zipCodes)]"
   ]
  },
  {
   "cell_type": "code",
   "execution_count": 56,
   "metadata": {},
   "outputs": [],
   "source": [
    "dff['id'] = dff['zip_code'].apply(lambda x: zip_id_map[x])"
   ]
  },
  {
   "cell_type": "code",
   "execution_count": 57,
   "metadata": {},
   "outputs": [],
   "source": [
    "df_p_killed_gb = dff.groupby(['zip_code'])['number_of_persons_killed'].sum().reset_index()"
   ]
  },
  {
   "cell_type": "code",
   "execution_count": 58,
   "metadata": {},
   "outputs": [],
   "source": [
    "# Link dataFrame to json file\n",
    "df_p_killed_gb['id'] = df_p_killed_gb['zip_code'].apply(lambda x: zip_id_map[x])"
   ]
  },
  {
   "cell_type": "code",
   "execution_count": 61,
   "metadata": {},
   "outputs": [
    {
     "data": {
      "text/plain": [
       "Index(['zip_code', 'number_of_persons_killed', 'id'], dtype='object')"
      ]
     },
     "execution_count": 61,
     "metadata": {},
     "output_type": "execute_result"
    }
   ],
   "source": [
    "df_p_killed_gb.columns"
   ]
  },
  {
   "cell_type": "markdown",
   "metadata": {},
   "source": [
    "### Choropleth map collision fatalities"
   ]
  },
  {
   "cell_type": "code",
   "execution_count": 62,
   "metadata": {},
   "outputs": [],
   "source": [
    "# Choropleth map using zip code boundaries (number of persons killed per zip code)\n",
    "zip_fig = px.choropleth_mapbox(\n",
    "    df_p_killed_gb,\n",
    "    locations = \"id\",\n",
    "    geojson = nyc_zip,\n",
    "    color = \"number_of_persons_killed\",\n",
    "    color_continuous_scale=px.colors.sequential.Inferno[::-1],\n",
    "    hover_name=\"zip_code\",\n",
    "    #hover_data= [\"count\"],\n",
    "    mapbox_style=\"carto-positron\",\n",
    "    center={\"lat\": 40.730610, \"lon\": -73.9749},\n",
    "    zoom=8.5,\n",
    "    opacity=0.5,\n",
    "    title = \"Zip Code Boundaries (Number of Persons Killed from 2019 to 2022)\",)"
   ]
  },
  {
   "cell_type": "code",
   "execution_count": 63,
   "metadata": {},
   "outputs": [],
   "source": [
    "zip_fig.show()"
   ]
  }
 ],
 "metadata": {
  "kernelspec": {
   "display_name": "Python 3",
   "language": "python",
   "name": "python3"
  },
  "language_info": {
   "codemirror_mode": {
    "name": "ipython",
    "version": 3
   },
   "file_extension": ".py",
   "mimetype": "text/x-python",
   "name": "python",
   "nbconvert_exporter": "python",
   "pygments_lexer": "ipython3",
   "version": "3.7.3"
  }
 },
 "nbformat": 4,
 "nbformat_minor": 2
}

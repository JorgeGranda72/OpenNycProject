{
 "cells": [
  {
   "cell_type": "code",
   "execution_count": 2,
   "metadata": {},
   "outputs": [],
   "source": [
    "import json\n",
    "import requests\n",
    "import pandas as pd\n",
    "from sodapy import Socrata\n",
    "import numpy as np\n",
    "import urllib.request\n",
    "from sodapy import Socrata\n",
    "import plotly.express as px\n",
    "import plotly.io as pio\n",
    "pio.renderers.default = 'browser'\n",
    "from urllib.request import urlopen\n",
    "#import plotly.graph_objs as go\n",
    "#from urllib.request import urlopen"
   ]
  },
  {
   "cell_type": "markdown",
   "metadata": {},
   "source": [
    "# Introduction\n",
    "\n",
    "This notebook aims to explore trends in recent data on motor vehicle collisions. Project members can have a fuller understanding of the content, timing, frequency, and location of collisions. This notebook seeks to contribute to that understanding through the exploratory analysis and visualization of vehicle collision data. "
   ]
  },
  {
   "cell_type": "markdown",
   "metadata": {},
   "source": [
    "# Data Source\n",
    "\n",
    "The data used in this notebook was obtained from: \n",
    "\n",
    "- [NYC Open Data's Motor Vehicle Collision-Crashes](https://data.cityofnewyork.us/Public-Safety/Motor-Vehicle-Collisions-Crashes/h9gi-nx95)\n",
    "  - This dataset contains information from all police reported motor vehicle collisions in NYC. Each row represents a crash event.The police report (MV104-AN) is required to be filled out for collisions where someone is injured or killed, or where there is at least 1000 dollars worth of damage. This notebook uses a subset of the data and was accessed with the [Socrata Open Data (SODA) API](https://dev.socrata.com/consumers/getting-started.html). \n",
    " "
   ]
  },
  {
   "cell_type": "markdown",
   "metadata": {},
   "source": [
    "# Accessing Data\n",
    "Items needed to obtain data:\n",
    "- Create app token\n",
    "- Get domain name\n",
    "- Get data identifier"
   ]
  },
  {
   "cell_type": "code",
   "execution_count": 2,
   "metadata": {},
   "outputs": [],
   "source": [
    "socrata_domain = 'data.cityofnewyork.us'\n",
    "socrata_dataset_identifier = 'h9gi-nx95'\n",
    "client = Socrata(socrata_domain, app_token=\"zrfGJViqm8hhU7PFyRqvPZcyF\")\n",
    "client.timeout = 1000"
   ]
  },
  {
   "cell_type": "code",
   "execution_count": 3,
   "metadata": {},
   "outputs": [],
   "source": [
    "# Pull data from Socrata API\n",
    "results = client.get(socrata_dataset_identifier, limit = 1875241)\n"
   ]
  },
  {
   "cell_type": "code",
   "execution_count": 4,
   "metadata": {},
   "outputs": [],
   "source": [
    "# Convert data into a pandas dataframe\n",
    "collision_data = pd.DataFrame(results)"
   ]
  },
  {
   "cell_type": "code",
   "execution_count": 29,
   "metadata": {},
   "outputs": [],
   "source": [
    "dff = collision_data.copy()"
   ]
  },
  {
   "cell_type": "code",
   "execution_count": 26,
   "metadata": {},
   "outputs": [
    {
     "data": {
      "text/plain": [
       "2019    60321\n",
       "2018    60321\n",
       "2017    29358\n",
       "Name: aadt_year, dtype: int64"
      ]
     },
     "execution_count": 26,
     "metadata": {},
     "output_type": "execute_result"
    }
   ],
   "source": [
    "traffic_data.aadt_year.value_counts()"
   ]
  },
  {
   "cell_type": "code",
   "execution_count": 7,
   "metadata": {},
   "outputs": [
    {
     "data": {
      "text/plain": [
       "array(['Bronx'], dtype=object)"
      ]
     },
     "execution_count": 7,
     "metadata": {},
     "output_type": "execute_result"
    }
   ],
   "source": [
    "df_traffic.municipality.unique()"
   ]
  },
  {
   "cell_type": "code",
   "execution_count": null,
   "metadata": {},
   "outputs": [],
   "source": []
  },
  {
   "cell_type": "code",
   "execution_count": null,
   "metadata": {},
   "outputs": [],
   "source": []
  },
  {
   "cell_type": "code",
   "execution_count": null,
   "metadata": {},
   "outputs": [],
   "source": []
  },
  {
   "cell_type": "code",
   "execution_count": null,
   "metadata": {},
   "outputs": [],
   "source": []
  },
  {
   "cell_type": "code",
   "execution_count": 27,
   "metadata": {},
   "outputs": [
    {
     "data": {
      "text/plain": [
       "Index(['crash_date', 'crash_time', 'on_street_name',\n",
       "       'number_of_persons_injured', 'number_of_persons_killed',\n",
       "       'number_of_pedestrians_injured', 'number_of_pedestrians_killed',\n",
       "       'number_of_cyclist_injured', 'number_of_cyclist_killed',\n",
       "       'number_of_motorist_injured', 'number_of_motorist_killed',\n",
       "       'contributing_factor_vehicle_1', 'contributing_factor_vehicle_2',\n",
       "       'collision_id', 'vehicle_type_code1', 'vehicle_type_code2', 'borough',\n",
       "       'zip_code', 'latitude', 'longitude', 'location', 'cross_street_name',\n",
       "       'off_street_name', 'contributing_factor_vehicle_3',\n",
       "       'contributing_factor_vehicle_4', 'vehicle_type_code_3',\n",
       "       'vehicle_type_code_4', 'contributing_factor_vehicle_5',\n",
       "       'vehicle_type_code_5'],\n",
       "      dtype='object')"
      ]
     },
     "execution_count": 27,
     "metadata": {},
     "output_type": "execute_result"
    }
   ],
   "source": [
    "dff.columns"
   ]
  },
  {
   "cell_type": "markdown",
   "metadata": {},
   "source": [
    "# Data Cleaning"
   ]
  },
  {
   "cell_type": "code",
   "execution_count": 41,
   "metadata": {},
   "outputs": [
    {
     "data": {
      "text/plain": [
       "crash_date                            0\n",
       "crash_time                            0\n",
       "on_street_name                   102395\n",
       "number_of_persons_injured             1\n",
       "number_of_persons_killed              0\n",
       "number_of_pedestrians_injured         0\n",
       "number_of_pedestrians_killed          0\n",
       "number_of_cyclist_injured             0\n",
       "number_of_cyclist_killed              0\n",
       "number_of_motorist_injured            0\n",
       "number_of_motorist_killed             0\n",
       "contributing_factor_vehicle_1      1692\n",
       "contributing_factor_vehicle_2     78718\n",
       "collision_id                          0\n",
       "vehicle_type_code1                 3648\n",
       "vehicle_type_code2               110331\n",
       "borough                          139452\n",
       "zip_code                         139505\n",
       "latitude                          32494\n",
       "longitude                         32494\n",
       "location                          32494\n",
       "cross_street_name                297625\n",
       "off_street_name                  209316\n",
       "contributing_factor_vehicle_3    365451\n",
       "contributing_factor_vehicle_4    391249\n",
       "vehicle_type_code_3              367451\n",
       "vehicle_type_code_4              391643\n",
       "contributing_factor_vehicle_5    397427\n",
       "vehicle_type_code_5              397505\n",
       "dtype: int64"
      ]
     },
     "execution_count": 41,
     "metadata": {},
     "output_type": "execute_result"
    }
   ],
   "source": [
    "dff.isna().sum()"
   ]
  },
  {
   "cell_type": "code",
   "execution_count": 42,
   "metadata": {},
   "outputs": [
    {
     "name": "stdout",
     "output_type": "stream",
     "text": [
      "<class 'pandas.core.frame.DataFrame'>\n",
      "RangeIndex: 400000 entries, 0 to 399999\n",
      "Data columns (total 29 columns):\n",
      " #   Column                         Non-Null Count   Dtype \n",
      "---  ------                         --------------   ----- \n",
      " 0   crash_date                     400000 non-null  object\n",
      " 1   crash_time                     400000 non-null  object\n",
      " 2   on_street_name                 297605 non-null  object\n",
      " 3   number_of_persons_injured      399999 non-null  object\n",
      " 4   number_of_persons_killed       400000 non-null  object\n",
      " 5   number_of_pedestrians_injured  400000 non-null  object\n",
      " 6   number_of_pedestrians_killed   400000 non-null  object\n",
      " 7   number_of_cyclist_injured      400000 non-null  object\n",
      " 8   number_of_cyclist_killed       400000 non-null  object\n",
      " 9   number_of_motorist_injured     400000 non-null  object\n",
      " 10  number_of_motorist_killed      400000 non-null  object\n",
      " 11  contributing_factor_vehicle_1  398308 non-null  object\n",
      " 12  contributing_factor_vehicle_2  321282 non-null  object\n",
      " 13  collision_id                   400000 non-null  object\n",
      " 14  vehicle_type_code1             396352 non-null  object\n",
      " 15  vehicle_type_code2             289669 non-null  object\n",
      " 16  borough                        260548 non-null  object\n",
      " 17  zip_code                       260495 non-null  object\n",
      " 18  latitude                       367506 non-null  object\n",
      " 19  longitude                      367506 non-null  object\n",
      " 20  location                       367506 non-null  object\n",
      " 21  cross_street_name              102375 non-null  object\n",
      " 22  off_street_name                190684 non-null  object\n",
      " 23  contributing_factor_vehicle_3  34549 non-null   object\n",
      " 24  contributing_factor_vehicle_4  8751 non-null    object\n",
      " 25  vehicle_type_code_3            32549 non-null   object\n",
      " 26  vehicle_type_code_4            8357 non-null    object\n",
      " 27  contributing_factor_vehicle_5  2573 non-null    object\n",
      " 28  vehicle_type_code_5            2495 non-null    object\n",
      "dtypes: object(29)\n",
      "memory usage: 88.5+ MB\n"
     ]
    }
   ],
   "source": [
    "dff.info()"
   ]
  },
  {
   "cell_type": "code",
   "execution_count": 11,
   "metadata": {},
   "outputs": [
    {
     "data": {
      "text/plain": [
       "(400000, 29)"
      ]
     },
     "execution_count": 11,
     "metadata": {},
     "output_type": "execute_result"
    }
   ],
   "source": [
    "dff.shape"
   ]
  },
  {
   "cell_type": "code",
   "execution_count": 13,
   "metadata": {},
   "outputs": [
    {
     "data": {
      "text/plain": [
       "crash_date                        0.00\n",
       "crash_time                        0.00\n",
       "on_street_name                   25.62\n",
       "number_of_persons_injured         0.00\n",
       "number_of_persons_killed          0.00\n",
       "number_of_pedestrians_injured     0.00\n",
       "number_of_pedestrians_killed      0.00\n",
       "number_of_cyclist_injured         0.00\n",
       "number_of_cyclist_killed          0.00\n",
       "number_of_motorist_injured        0.00\n",
       "number_of_motorist_killed         0.00\n",
       "contributing_factor_vehicle_1     0.43\n",
       "contributing_factor_vehicle_2    19.73\n",
       "collision_id                      0.00\n",
       "vehicle_type_code1                0.92\n",
       "vehicle_type_code2               27.66\n",
       "borough                          34.85\n",
       "zip_code                         34.86\n",
       "latitude                          8.13\n",
       "longitude                         8.13\n",
       "location                          8.13\n",
       "cross_street_name                74.38\n",
       "off_street_name                  52.34\n",
       "contributing_factor_vehicle_3    91.35\n",
       "contributing_factor_vehicle_4    97.80\n",
       "vehicle_type_code_3              91.85\n",
       "vehicle_type_code_4              97.90\n",
       "contributing_factor_vehicle_5    99.35\n",
       "vehicle_type_code_5              99.37\n",
       "dtype: float64"
      ]
     },
     "execution_count": 13,
     "metadata": {},
     "output_type": "execute_result"
    }
   ],
   "source": [
    "round((dff.isnull().sum() * 100) / dff.shape[0], 2)"
   ]
  },
  {
   "cell_type": "code",
   "execution_count": 40,
   "metadata": {},
   "outputs": [],
   "source": [
    "# Function selects columns and drop/fill missing values\n",
    "def select_collision_columns(df):\n",
    "    df = df[['collision_id','crash_date', 'crash_time','number_of_persons_injured', 'number_of_persons_killed', 'number_of_pedestrians_injured', 'number_of_pedestrians_killed', 'number_of_cyclist_injured','number_of_cyclist_killed', 'number_of_motorist_injured', 'number_of_motorist_killed', 'contributing_factor_vehicle_1', 'contributing_factor_vehicle_2', 'vehicle_type_code1', 'vehicle_type_code2', 'borough', 'zip_code', 'latitude', 'longitude', 'on_street_name']]\n",
    "    values = {\"borough\": 'Not Recorded', \"on_street_name\": \"Not Recorded\"}\n",
    "    df.fillna(value=values,inplace = True)\n",
    "    df.dropna(subset=['longitude','latitude','number_of_persons_injured','vehicle_type_code1','contributing_factor_vehicle_1'],inplace = True)\n",
    "    return df\n",
    "    \n",
    "    \n",
    "\n",
    "    \n",
    "    "
   ]
  },
  {
   "cell_type": "code",
   "execution_count": 43,
   "metadata": {},
   "outputs": [],
   "source": [
    "#dff = select_collision_columns(dff)"
   ]
  },
  {
   "cell_type": "code",
   "execution_count": 22,
   "metadata": {},
   "outputs": [],
   "source": [
    "# Function converts df.types\n",
    "# def cols_to_numeric(df):\n",
    "#     to_numeric_list = ['number_of_persons_injured','number_of_persons_killed','number_of_pedestrians_injured','number_of_pedestrians_killed','number_of_cyclist_injured','number_of_cyclist_killed','number_of_motorist_injured','number_of_motorist_killed','latitude','longitude']\n",
    "#     # convert to_numeric_list columns to numeric type\n",
    "#     df[to_numeric_list] = dff[to_numeric_list].apply(pd.to_numeric)\n",
    "\n",
    "#     return df\n",
    "\n",
    "    \n",
    "    \n",
    "    "
   ]
  },
  {
   "cell_type": "code",
   "execution_count": 31,
   "metadata": {},
   "outputs": [],
   "source": [
    "# def convert_create_time_cols(df):\n",
    "#     df['crash_date'] = pd.to_datetime(df['crash_date'], format='%Y-%m-%dT%H:%M:%S.%f')\n",
    "#     df['crash_time'] = pd.to_datetime(df['crash_time'], format='%H:%M')\n",
    "#     # Create year, month, day_of_week columns\n",
    "#     df['year'] = df['crash_date'].dt.year\n",
    "#     df['month'] = [int(i.month) for i in df.crash_date]\n",
    "#     df['day_of_week'] = [int(i.weekday()) for i in df.crash_date]\n",
    "#     # Create hour column\n",
    "#     df['hour'] = df['crash_time'].dt.hour\n",
    "    \n",
    "#     return df"
   ]
  },
  {
   "cell_type": "code",
   "execution_count": 34,
   "metadata": {},
   "outputs": [],
   "source": [
    "#dff = cols_to_numeric(dff)\n",
    "#dff = convert_create_time_cols(dff)"
   ]
  },
  {
   "cell_type": "code",
   "execution_count": 36,
   "metadata": {},
   "outputs": [
    {
     "data": {
      "text/plain": [
       "crash_date                       datetime64[ns]\n",
       "crash_time                       datetime64[ns]\n",
       "on_street_name                           object\n",
       "number_of_persons_injured               float64\n",
       "number_of_persons_killed                  int64\n",
       "number_of_pedestrians_injured             int64\n",
       "number_of_pedestrians_killed              int64\n",
       "number_of_cyclist_injured                 int64\n",
       "number_of_cyclist_killed                  int64\n",
       "number_of_motorist_injured                int64\n",
       "number_of_motorist_killed                 int64\n",
       "contributing_factor_vehicle_1            object\n",
       "contributing_factor_vehicle_2            object\n",
       "collision_id                             object\n",
       "vehicle_type_code1                       object\n",
       "vehicle_type_code2                       object\n",
       "borough                                  object\n",
       "zip_code                                 object\n",
       "latitude                                float64\n",
       "longitude                               float64\n",
       "location                                 object\n",
       "cross_street_name                        object\n",
       "off_street_name                          object\n",
       "contributing_factor_vehicle_3            object\n",
       "contributing_factor_vehicle_4            object\n",
       "vehicle_type_code_3                      object\n",
       "vehicle_type_code_4                      object\n",
       "contributing_factor_vehicle_5            object\n",
       "vehicle_type_code_5                      object\n",
       "year                                      int64\n",
       "month                                     int64\n",
       "day_of_week                               int64\n",
       "hour                                      int64\n",
       "dtype: object"
      ]
     },
     "execution_count": 36,
     "metadata": {},
     "output_type": "execute_result"
    }
   ],
   "source": [
    "dff.dtypes"
   ]
  },
  {
   "cell_type": "code",
   "execution_count": 37,
   "metadata": {},
   "outputs": [
    {
     "data": {
      "text/plain": [
       "crash_date                            0\n",
       "crash_time                            0\n",
       "on_street_name                   102489\n",
       "number_of_persons_injured             1\n",
       "number_of_persons_killed              0\n",
       "number_of_pedestrians_injured         0\n",
       "number_of_pedestrians_killed          0\n",
       "number_of_cyclist_injured             0\n",
       "number_of_cyclist_killed              0\n",
       "number_of_motorist_injured            0\n",
       "number_of_motorist_killed             0\n",
       "contributing_factor_vehicle_1      1701\n",
       "contributing_factor_vehicle_2     78914\n",
       "collision_id                          0\n",
       "vehicle_type_code1                 3669\n",
       "vehicle_type_code2               110641\n",
       "borough                          139407\n",
       "zip_code                         139460\n",
       "latitude                          32534\n",
       "longitude                         32534\n",
       "location                          32534\n",
       "cross_street_name                297529\n",
       "off_street_name                  209365\n",
       "contributing_factor_vehicle_3    365386\n",
       "contributing_factor_vehicle_4    391218\n",
       "vehicle_type_code_3              367395\n",
       "vehicle_type_code_4              391615\n",
       "contributing_factor_vehicle_5    397417\n",
       "vehicle_type_code_5              397495\n",
       "year                                  0\n",
       "month                                 0\n",
       "day_of_week                           0\n",
       "hour                                  0\n",
       "dtype: int64"
      ]
     },
     "execution_count": 37,
     "metadata": {},
     "output_type": "execute_result"
    }
   ],
   "source": [
    "dff.isnull().sum()"
   ]
  },
  {
   "cell_type": "code",
   "execution_count": 45,
   "metadata": {},
   "outputs": [],
   "source": [
    "# Exclude unnecessary columns\n",
    "dff = dff[['collision_id','crash_date', 'crash_time','number_of_persons_injured', 'number_of_persons_killed', 'number_of_pedestrians_injured', 'number_of_pedestrians_killed', 'number_of_cyclist_injured','number_of_cyclist_killed', 'number_of_motorist_injured', 'number_of_motorist_killed', 'contributing_factor_vehicle_1', 'contributing_factor_vehicle_2', 'vehicle_type_code1', 'vehicle_type_code2', 'borough', 'zip_code', 'latitude', 'longitude', 'on_street_name']]\n"
   ]
  },
  {
   "cell_type": "code",
   "execution_count": 77,
   "metadata": {},
   "outputs": [
    {
     "data": {
      "text/plain": [
       "Index(['collision_id', 'crash_date', 'crash_time', 'number_of_persons_injured',\n",
       "       'number_of_persons_killed', 'number_of_pedestrians_injured',\n",
       "       'number_of_pedestrians_killed', 'number_of_cyclist_injured',\n",
       "       'number_of_cyclist_killed', 'number_of_motorist_injured',\n",
       "       'number_of_motorist_killed', 'contributing_factor_vehicle_1',\n",
       "       'contributing_factor_vehicle_2', 'vehicle_type_code1',\n",
       "       'vehicle_type_code2', 'borough', 'zip_code', 'latitude', 'longitude',\n",
       "       'on_street_name'],\n",
       "      dtype='object')"
      ]
     },
     "execution_count": 77,
     "metadata": {},
     "output_type": "execute_result"
    }
   ],
   "source": [
    "dff.columns"
   ]
  },
  {
   "cell_type": "markdown",
   "metadata": {},
   "source": [
    "## Description of  Columns\n",
    "The descriptions for every column are available on the dataset's NYCOpenData profile. The descriptions for the columns have been pasted below.\n",
    "\n",
    "- **collision_id**: Unique record code generated by system. Primary Key for Crash table\n",
    "- **crash_date**: Occurrence date of collision\n",
    "- **crash_time**: Occurrence time of collision\n",
    "- **number_of_persons_injured**: Number of persons injured\n",
    "- **number_of_persons_killed**: Number of persons killed\n",
    "- **number_of_pedestrians_injured**: Number of pedestrians injured\n",
    "- **number_of_pedestrians_killed**: Number of pedestrians killed\n",
    "- **number_of_cyclist_injured**: Number of cyclist injured\n",
    "- **number_of_cyclist_killed**: Number of cyclist killed\n",
    "- **number_of_motorist_injured**: Number of motorist injured\n",
    "- **number_of_motorist_killed**: Number of motorist killed\n",
    "- **contributing_factor_vehicle_1**: Factors contributing to the collision for designated vehicle\n",
    "- **contributing_factor_vehicle_2**: Factors contributing to the collision for designated vehicle\n",
    "- **vehicle_type_code1**: Type of vehicle based on the selected vehicle category (ATV, bicycle, car/suv, ebike, escooter, truck/bus, motorcycle, other)\n",
    "- **vehicle_type_code2**: Type of vehicle based on the selected vehicle category (ATV, bicycle, car/suv, ebike, escooter, truck/bus, motorcycle, other)\n",
    "- **borough**: Borough where collision occurred\n",
    "- **zip_code**: Postal code of incident occurrence\n",
    "- **latitude**: Geo based Lat of the incident location\n",
    "- **longitude**: Geo based Long of the incident location\n",
    "- **on_street_name**: Street on which the collision occurred"
   ]
  },
  {
   "cell_type": "code",
   "execution_count": 46,
   "metadata": {},
   "outputs": [
    {
     "data": {
      "text/plain": [
       "0"
      ]
     },
     "execution_count": 46,
     "metadata": {},
     "output_type": "execute_result"
    }
   ],
   "source": [
    "# Checks for duplicates\n",
    "dff.duplicated().sum()\n"
   ]
  },
  {
   "cell_type": "code",
   "execution_count": 72,
   "metadata": {},
   "outputs": [],
   "source": [
    "# Eliminating rows with missing values\n",
    "# 1\n",
    "dff.dropna(subset=['longitude','latitude','number_of_persons_injured','vehicle_type_code1','contributing_factor_vehicle_1'],inplace = True)\n",
    "# 2\n",
    "# dff = dff[dff.latitude.notnull()]\n",
    "# dff = dff[dff.longitude.notnull()]\n",
    "# dff = dff[dff.number_of_persons_injured.notnull()]\n",
    "\n"
   ]
  },
  {
   "cell_type": "code",
   "execution_count": 70,
   "metadata": {},
   "outputs": [],
   "source": [
    "# Fill rows with missing values\n",
    "values = {\"borough\": 'Not Recorded', \"on_street_name\": \"Not Recorded\"}\n",
    "dff.fillna(value=values,inplace = True)\n"
   ]
  },
  {
   "cell_type": "code",
   "execution_count": 42,
   "metadata": {},
   "outputs": [
    {
     "data": {
      "text/plain": [
       "collision_id                      0.00\n",
       "crash_date                        0.00\n",
       "crash_time                        0.00\n",
       "number_of_persons_injured         0.00\n",
       "number_of_persons_killed          0.00\n",
       "number_of_pedestrians_injured     0.00\n",
       "number_of_pedestrians_killed      0.00\n",
       "number_of_cyclist_injured         0.00\n",
       "number_of_cyclist_killed          0.00\n",
       "number_of_motorist_injured        0.00\n",
       "number_of_motorist_killed         0.00\n",
       "contributing_factor_vehicle_1     0.00\n",
       "contributing_factor_vehicle_2    19.07\n",
       "vehicle_type_code1                0.00\n",
       "vehicle_type_code2               27.27\n",
       "borough                           0.00\n",
       "zip_code                         31.28\n",
       "latitude                          0.00\n",
       "longitude                         0.00\n",
       "on_street_name                    0.00\n",
       "dtype: float64"
      ]
     },
     "execution_count": 42,
     "metadata": {},
     "output_type": "execute_result"
    }
   ],
   "source": [
    "round((dff.isnull().sum() * 100) / dff.shape[0], 2)"
   ]
  },
  {
   "cell_type": "code",
   "execution_count": 54,
   "metadata": {},
   "outputs": [],
   "source": [
    "# Convert columns to numeric values\n",
    "to_numeric_list = ['number_of_persons_injured','number_of_persons_killed','number_of_pedestrians_injured','number_of_pedestrians_killed','number_of_cyclist_injured','number_of_cyclist_killed','number_of_motorist_injured','number_of_motorist_killed','latitude','longitude']\n",
    "#print(numeric_convert_list)\n",
    "dff[to_numeric_list] = dff[to_numeric_list].apply(pd.to_numeric)\n",
    "# Column'number_of_persons_injured' converted to float64\n",
    "\n",
    "\n"
   ]
  },
  {
   "cell_type": "markdown",
   "metadata": {},
   "source": [
    "The crash_date, crash_time columns currently contain string values"
   ]
  },
  {
   "cell_type": "code",
   "execution_count": 55,
   "metadata": {},
   "outputs": [
    {
     "data": {
      "text/plain": [
       "str"
      ]
     },
     "execution_count": 55,
     "metadata": {},
     "output_type": "execute_result"
    }
   ],
   "source": [
    "type(dff.crash_date[1])"
   ]
  },
  {
   "cell_type": "markdown",
   "metadata": {},
   "source": [
    "The pandas.to_datetime() method converts each string value to a datetime object below"
   ]
  },
  {
   "cell_type": "code",
   "execution_count": 56,
   "metadata": {},
   "outputs": [],
   "source": [
    "dff['crash_date'] = pd.to_datetime(dff['crash_date'], format='%Y-%m-%dT%H:%M:%S.%f')\n"
   ]
  },
  {
   "cell_type": "code",
   "execution_count": 60,
   "metadata": {},
   "outputs": [],
   "source": [
    "dff['crash_time'] = pd.to_datetime(dff['crash_time'], format='%H:%M')"
   ]
  },
  {
   "cell_type": "code",
   "execution_count": 61,
   "metadata": {},
   "outputs": [
    {
     "name": "stdout",
     "output_type": "stream",
     "text": [
      "<class 'pandas.core.frame.DataFrame'>\n",
      "Int64Index: 367505 entries, 1 to 399999\n",
      "Data columns (total 20 columns):\n",
      " #   Column                         Non-Null Count   Dtype         \n",
      "---  ------                         --------------   -----         \n",
      " 0   collision_id                   367505 non-null  object        \n",
      " 1   crash_date                     367505 non-null  datetime64[ns]\n",
      " 2   crash_time                     367505 non-null  datetime64[ns]\n",
      " 3   number_of_persons_injured      367505 non-null  int64         \n",
      " 4   number_of_persons_killed       367505 non-null  int64         \n",
      " 5   number_of_pedestrians_injured  367505 non-null  int64         \n",
      " 6   number_of_pedestrians_killed   367505 non-null  int64         \n",
      " 7   number_of_cyclist_injured      367505 non-null  int64         \n",
      " 8   number_of_cyclist_killed       367505 non-null  int64         \n",
      " 9   number_of_motorist_injured     367505 non-null  int64         \n",
      " 10  number_of_motorist_killed      367505 non-null  int64         \n",
      " 11  contributing_factor_vehicle_1  365910 non-null  object        \n",
      " 12  contributing_factor_vehicle_2  294587 non-null  object        \n",
      " 13  vehicle_type_code1             364035 non-null  object        \n",
      " 14  vehicle_type_code2             264780 non-null  object        \n",
      " 15  borough                        252967 non-null  object        \n",
      " 16  zip_code                       252916 non-null  object        \n",
      " 17  latitude                       367505 non-null  float64       \n",
      " 18  longitude                      367505 non-null  float64       \n",
      " 19  on_street_name                 268316 non-null  object        \n",
      "dtypes: datetime64[ns](2), float64(2), int64(8), object(8)\n",
      "memory usage: 66.9+ MB\n"
     ]
    }
   ],
   "source": [
    "dff.info()"
   ]
  },
  {
   "cell_type": "code",
   "execution_count": 79,
   "metadata": {},
   "outputs": [],
   "source": [
    "# Create year, month, day_of_week columns\n",
    "dff['year'] = dff['crash_date'].dt.year\n",
    "dff['month'] = [int(i.month) for i in dff.crash_date]\n",
    "dff['day_of_week'] = [int(i.weekday()) for i in dff.crash_date]\n",
    "# Create hour column\n",
    "dff['hour'] = dff['crash_time'].dt.hour"
   ]
  },
  {
   "cell_type": "code",
   "execution_count": 80,
   "metadata": {},
   "outputs": [
    {
     "data": {
      "text/plain": [
       "collision_id                             object\n",
       "crash_date                       datetime64[ns]\n",
       "crash_time                       datetime64[ns]\n",
       "number_of_persons_injured                 int64\n",
       "number_of_persons_killed                  int64\n",
       "number_of_pedestrians_injured             int64\n",
       "number_of_pedestrians_killed              int64\n",
       "number_of_cyclist_injured                 int64\n",
       "number_of_cyclist_killed                  int64\n",
       "number_of_motorist_injured                int64\n",
       "number_of_motorist_killed                 int64\n",
       "contributing_factor_vehicle_1            object\n",
       "contributing_factor_vehicle_2            object\n",
       "vehicle_type_code1                       object\n",
       "vehicle_type_code2                       object\n",
       "borough                                  object\n",
       "zip_code                                 object\n",
       "latitude                                float64\n",
       "longitude                               float64\n",
       "on_street_name                           object\n",
       "year                                      int64\n",
       "month                                     int64\n",
       "day_of_week                               int64\n",
       "hour                                      int64\n",
       "dtype: object"
      ]
     },
     "execution_count": 80,
     "metadata": {},
     "output_type": "execute_result"
    }
   ],
   "source": [
    "dff.dtypes"
   ]
  },
  {
   "cell_type": "code",
   "execution_count": 81,
   "metadata": {},
   "outputs": [
    {
     "data": {
      "text/plain": [
       "array([21,  8, 22, 14, 11, 13, 17,  0, 10, 16, 23, 18, 20, 15, 19, 12,  1,\n",
       "        3,  6,  7,  9,  5,  2,  4])"
      ]
     },
     "execution_count": 81,
     "metadata": {},
     "output_type": "execute_result"
    }
   ],
   "source": [
    "dff.hour.unique()"
   ]
  },
  {
   "cell_type": "code",
   "execution_count": 45,
   "metadata": {},
   "outputs": [
    {
     "data": {
      "text/html": [
       "<div>\n",
       "<style scoped>\n",
       "    .dataframe tbody tr th:only-of-type {\n",
       "        vertical-align: middle;\n",
       "    }\n",
       "\n",
       "    .dataframe tbody tr th {\n",
       "        vertical-align: top;\n",
       "    }\n",
       "\n",
       "    .dataframe thead th {\n",
       "        text-align: right;\n",
       "    }\n",
       "</style>\n",
       "<table border=\"1\" class=\"dataframe\">\n",
       "  <thead>\n",
       "    <tr style=\"text-align: right;\">\n",
       "      <th></th>\n",
       "      <th>number_of_persons_injured</th>\n",
       "      <th>number_of_persons_killed</th>\n",
       "      <th>number_of_pedestrians_injured</th>\n",
       "      <th>number_of_pedestrians_killed</th>\n",
       "      <th>number_of_cyclist_injured</th>\n",
       "      <th>number_of_cyclist_killed</th>\n",
       "      <th>number_of_motorist_injured</th>\n",
       "      <th>number_of_motorist_killed</th>\n",
       "      <th>latitude</th>\n",
       "      <th>longitude</th>\n",
       "      <th>year</th>\n",
       "      <th>month</th>\n",
       "      <th>day_of_week</th>\n",
       "      <th>hour</th>\n",
       "    </tr>\n",
       "  </thead>\n",
       "  <tbody>\n",
       "    <tr>\n",
       "      <th>count</th>\n",
       "      <td>367338.000000</td>\n",
       "      <td>367339.000000</td>\n",
       "      <td>367339.000000</td>\n",
       "      <td>367339.000000</td>\n",
       "      <td>367339.000000</td>\n",
       "      <td>367339.000000</td>\n",
       "      <td>367339.000000</td>\n",
       "      <td>367339.000000</td>\n",
       "      <td>367339.000000</td>\n",
       "      <td>367339.000000</td>\n",
       "      <td>367339.000000</td>\n",
       "      <td>367339.000000</td>\n",
       "      <td>367339.000000</td>\n",
       "      <td>367339.000000</td>\n",
       "    </tr>\n",
       "    <tr>\n",
       "      <th>mean</th>\n",
       "      <td>0.374748</td>\n",
       "      <td>0.001936</td>\n",
       "      <td>0.060995</td>\n",
       "      <td>0.000882</td>\n",
       "      <td>0.039103</td>\n",
       "      <td>0.000182</td>\n",
       "      <td>0.268659</td>\n",
       "      <td>0.000836</td>\n",
       "      <td>40.567104</td>\n",
       "      <td>-73.624072</td>\n",
       "      <td>2019.949676</td>\n",
       "      <td>6.841852</td>\n",
       "      <td>2.939533</td>\n",
       "      <td>13.070101</td>\n",
       "    </tr>\n",
       "    <tr>\n",
       "      <th>std</th>\n",
       "      <td>0.734205</td>\n",
       "      <td>0.046069</td>\n",
       "      <td>0.251112</td>\n",
       "      <td>0.029869</td>\n",
       "      <td>0.197044</td>\n",
       "      <td>0.013504</td>\n",
       "      <td>0.698337</td>\n",
       "      <td>0.031769</td>\n",
       "      <td>2.542645</td>\n",
       "      <td>4.613007</td>\n",
       "      <td>0.910148</td>\n",
       "      <td>3.345443</td>\n",
       "      <td>1.959798</td>\n",
       "      <td>5.985283</td>\n",
       "    </tr>\n",
       "    <tr>\n",
       "      <th>min</th>\n",
       "      <td>0.000000</td>\n",
       "      <td>0.000000</td>\n",
       "      <td>0.000000</td>\n",
       "      <td>0.000000</td>\n",
       "      <td>0.000000</td>\n",
       "      <td>0.000000</td>\n",
       "      <td>0.000000</td>\n",
       "      <td>0.000000</td>\n",
       "      <td>0.000000</td>\n",
       "      <td>-74.253006</td>\n",
       "      <td>2012.000000</td>\n",
       "      <td>1.000000</td>\n",
       "      <td>0.000000</td>\n",
       "      <td>0.000000</td>\n",
       "    </tr>\n",
       "    <tr>\n",
       "      <th>25%</th>\n",
       "      <td>0.000000</td>\n",
       "      <td>0.000000</td>\n",
       "      <td>0.000000</td>\n",
       "      <td>0.000000</td>\n",
       "      <td>0.000000</td>\n",
       "      <td>0.000000</td>\n",
       "      <td>0.000000</td>\n",
       "      <td>0.000000</td>\n",
       "      <td>40.667430</td>\n",
       "      <td>-73.962135</td>\n",
       "      <td>2019.000000</td>\n",
       "      <td>4.000000</td>\n",
       "      <td>1.000000</td>\n",
       "      <td>9.000000</td>\n",
       "    </tr>\n",
       "    <tr>\n",
       "      <th>50%</th>\n",
       "      <td>0.000000</td>\n",
       "      <td>0.000000</td>\n",
       "      <td>0.000000</td>\n",
       "      <td>0.000000</td>\n",
       "      <td>0.000000</td>\n",
       "      <td>0.000000</td>\n",
       "      <td>0.000000</td>\n",
       "      <td>0.000000</td>\n",
       "      <td>40.717884</td>\n",
       "      <td>-73.918920</td>\n",
       "      <td>2020.000000</td>\n",
       "      <td>7.000000</td>\n",
       "      <td>3.000000</td>\n",
       "      <td>14.000000</td>\n",
       "    </tr>\n",
       "    <tr>\n",
       "      <th>75%</th>\n",
       "      <td>1.000000</td>\n",
       "      <td>0.000000</td>\n",
       "      <td>0.000000</td>\n",
       "      <td>0.000000</td>\n",
       "      <td>0.000000</td>\n",
       "      <td>0.000000</td>\n",
       "      <td>0.000000</td>\n",
       "      <td>0.000000</td>\n",
       "      <td>40.781680</td>\n",
       "      <td>-73.863250</td>\n",
       "      <td>2021.000000</td>\n",
       "      <td>10.000000</td>\n",
       "      <td>5.000000</td>\n",
       "      <td>18.000000</td>\n",
       "    </tr>\n",
       "    <tr>\n",
       "      <th>max</th>\n",
       "      <td>20.000000</td>\n",
       "      <td>4.000000</td>\n",
       "      <td>7.000000</td>\n",
       "      <td>2.000000</td>\n",
       "      <td>3.000000</td>\n",
       "      <td>1.000000</td>\n",
       "      <td>20.000000</td>\n",
       "      <td>4.000000</td>\n",
       "      <td>40.912884</td>\n",
       "      <td>0.000000</td>\n",
       "      <td>2022.000000</td>\n",
       "      <td>12.000000</td>\n",
       "      <td>6.000000</td>\n",
       "      <td>23.000000</td>\n",
       "    </tr>\n",
       "  </tbody>\n",
       "</table>\n",
       "</div>"
      ],
      "text/plain": [
       "       number_of_persons_injured  number_of_persons_killed  \\\n",
       "count              367338.000000             367339.000000   \n",
       "mean                    0.374748                  0.001936   \n",
       "std                     0.734205                  0.046069   \n",
       "min                     0.000000                  0.000000   \n",
       "25%                     0.000000                  0.000000   \n",
       "50%                     0.000000                  0.000000   \n",
       "75%                     1.000000                  0.000000   \n",
       "max                    20.000000                  4.000000   \n",
       "\n",
       "       number_of_pedestrians_injured  number_of_pedestrians_killed  \\\n",
       "count                  367339.000000                 367339.000000   \n",
       "mean                        0.060995                      0.000882   \n",
       "std                         0.251112                      0.029869   \n",
       "min                         0.000000                      0.000000   \n",
       "25%                         0.000000                      0.000000   \n",
       "50%                         0.000000                      0.000000   \n",
       "75%                         0.000000                      0.000000   \n",
       "max                         7.000000                      2.000000   \n",
       "\n",
       "       number_of_cyclist_injured  number_of_cyclist_killed  \\\n",
       "count              367339.000000             367339.000000   \n",
       "mean                    0.039103                  0.000182   \n",
       "std                     0.197044                  0.013504   \n",
       "min                     0.000000                  0.000000   \n",
       "25%                     0.000000                  0.000000   \n",
       "50%                     0.000000                  0.000000   \n",
       "75%                     0.000000                  0.000000   \n",
       "max                     3.000000                  1.000000   \n",
       "\n",
       "       number_of_motorist_injured  number_of_motorist_killed       latitude  \\\n",
       "count               367339.000000              367339.000000  367339.000000   \n",
       "mean                     0.268659                   0.000836      40.567104   \n",
       "std                      0.698337                   0.031769       2.542645   \n",
       "min                      0.000000                   0.000000       0.000000   \n",
       "25%                      0.000000                   0.000000      40.667430   \n",
       "50%                      0.000000                   0.000000      40.717884   \n",
       "75%                      0.000000                   0.000000      40.781680   \n",
       "max                     20.000000                   4.000000      40.912884   \n",
       "\n",
       "           longitude           year          month    day_of_week  \\\n",
       "count  367339.000000  367339.000000  367339.000000  367339.000000   \n",
       "mean      -73.624072    2019.949676       6.841852       2.939533   \n",
       "std         4.613007       0.910148       3.345443       1.959798   \n",
       "min       -74.253006    2012.000000       1.000000       0.000000   \n",
       "25%       -73.962135    2019.000000       4.000000       1.000000   \n",
       "50%       -73.918920    2020.000000       7.000000       3.000000   \n",
       "75%       -73.863250    2021.000000      10.000000       5.000000   \n",
       "max         0.000000    2022.000000      12.000000       6.000000   \n",
       "\n",
       "                hour  \n",
       "count  367339.000000  \n",
       "mean       13.070101  \n",
       "std         5.985283  \n",
       "min         0.000000  \n",
       "25%         9.000000  \n",
       "50%        14.000000  \n",
       "75%        18.000000  \n",
       "max        23.000000  "
      ]
     },
     "execution_count": 45,
     "metadata": {},
     "output_type": "execute_result"
    }
   ],
   "source": [
    "dff.describe()"
   ]
  },
  {
   "cell_type": "code",
   "execution_count": 89,
   "metadata": {},
   "outputs": [
    {
     "data": {
      "text/plain": [
       "array(['Brooklyn', 'Not Recorded', 'Bronx', 'Staten Island', 'Queens',\n",
       "       'Manhattan'], dtype=object)"
      ]
     },
     "execution_count": 89,
     "metadata": {},
     "output_type": "execute_result"
    }
   ],
   "source": [
    "# Turn borough values into titles\n",
    "dff['borough'] = dff['borough'].str.title()\n",
    "dff.borough.unique()"
   ]
  },
  {
   "cell_type": "markdown",
   "metadata": {},
   "source": [
    "Vehicle Types"
   ]
  },
  {
   "cell_type": "code",
   "execution_count": 86,
   "metadata": {},
   "outputs": [
    {
     "data": {
      "text/plain": [
       "Sedan                                  168892\n",
       "Station Wagon/Sport Utility Vehicle    134105\n",
       "Taxi                                    13181\n",
       "Pick-up Truck                            9177\n",
       "Box Truck                                6917\n",
       "                                        ...  \n",
       "Bucket Tru                                  1\n",
       "FOOD TRUCK                                  1\n",
       "cross                                       1\n",
       "Tractor                                     1\n",
       "semi                                        1\n",
       "Name: vehicle_type_code1, Length: 735, dtype: int64"
      ]
     },
     "execution_count": 86,
     "metadata": {},
     "output_type": "execute_result"
    }
   ],
   "source": [
    "dff.vehicle_type_code1.value_counts()"
   ]
  },
  {
   "cell_type": "code",
   "execution_count": 87,
   "metadata": {},
   "outputs": [
    {
     "data": {
      "text/plain": [
       "array(['Sedan', 'Station Wagon/Sport Utility Vehicle', '�MBU',\n",
       "       'Pick-up Truck', 'Box Truck', 'Ambulance', 'Tow Truck / Wrecker',\n",
       "       'Taxi', 'E-Bike', 'Van', 'Flat Bed', 'Moped',\n",
       "       'Tractor Truck Diesel', 'AMBULANCE', 'Trailer', 'Bus',\n",
       "       'Motorcycle', 'Garbage or Refuse', 'SCHOOL BUS', 'Lift Boom',\n",
       "       'Bike', 'scooter', 'CATER', 'PKUP', 'FDNY Ambul', '3-Door',\n",
       "       'Beverage Truck', 'SEMI TRAIL', 'Dump', 'Convertible', 'dump',\n",
       "       'Flat Rack', 'Carry All', 'GARBAGE TR', 'Motorbike', 'Tanker',\n",
       "       'Armored Truck', 'MOPED', 'Bulk Agriculture', 'Motorscooter',\n",
       "       'UTILITY', 'Concrete Mixer', 'Open Body', 'E-Scooter', 'unknown',\n",
       "       'fire truck', '4 dr sedan', 'Glass Rack', 'COMMERCIAL', 'PSD',\n",
       "       'Scooter', 'MTA', 'Multi-Wheeled Vehicle', 'PK', 'Minicycle',\n",
       "       'van', 'Truck', 'Chassis Cab', 'LIMO', 'School Bus',\n",
       "       'Tractor Truck Gasoline', 'MACK', 'Refrigerated Van', 'CARRIER',\n",
       "       'Fire truck', 'TRUCK', 'ambulance', 'NYPD VAN', '2 dr sedan',\n",
       "       'Pallet', 'AMBULANE', 'AMB', 'Mailtruck', 'Pick up tr', 'EMS bus',\n",
       "       'PAS', 'FORKLIFT', 'SANMEN COU', 'PUMP', 'FIRE TRUCK', 'forklift',\n",
       "       'Dirt Bike', 'FIRETRUCK', 'FDNY AMBUL', 'SHUTTLE BU', 'FDNY',\n",
       "       'NYS Ambula', 'TOW TRUCK', 'Stake or Rack', 'FORD', 'Van Camper',\n",
       "       'RV', 'USPS TRUCK', 'UHAL', 'Dodge', 'CITY', 'Mini Van',\n",
       "       'SELF INSUR', 'SCOOTER', 'VAN/TRUCK', 'EMS', 'kick scoot',\n",
       "       'LADDER CO', 'SEMI', 'MTA BUS', 'Commercial', 'NYPD TOW T', 'Ambu',\n",
       "       'TRUCK COMM', 'FORD VAN', 'Ford Van', 'MOTOR SCOO', 'DELIVERY T',\n",
       "       'Enclosed Body - Nonremovable Enclosure', 'Skywatch', 'DUMP TRUCK',\n",
       "       'COM', 'ELECTRIC S', 'Lunch Wagon', 'SPRINTER V', 'TL',\n",
       "       'MACK TRUCK', 'Minibike', 'PICK UP', 'tow truck', 'Hopper',\n",
       "       'UNKNOWN', 'Horse trai', 'AMBU', 'TF', 'Firetruck', 'Passenger',\n",
       "       'crane', 'DIRT BIKE', 'G COM', 'NYC FIRE T', 'truck', 'FDNY FIRE',\n",
       "       'pick up tr', 'SELF', 'Motorscoot', 'FORD SPRIN', 'AMBUKANCE',\n",
       "       'Backhoe Lo', 'Snow Plow', 'REFG', 'POWER LADD', 'BOX TRUCK',\n",
       "       'utility tr', 'UTILITY VE', 'Mercedes', 'PICKUP', 'firetruck',\n",
       "       'Fire', 'OML/OMNIBU', 'post offic', 'pick up', 'DELV BR',\n",
       "       'Well Driller', 'FDNY truck', 'MTA bus', 'Fire Truck', 'Vanette',\n",
       "       'AMBULENCE', 'FDNY ENGIN', 'EMS Ambula', 'TRAILER', 'TRAC',\n",
       "       'E-scooter', 'NYC AMBULA', 'Pickup with mounted Camper', 'pickup',\n",
       "       'Forklift', 'PASSENGER', 'TRACTOR TR', 'CMIXER', 'trailer',\n",
       "       'US POSTAL', 'FDNY TRUCK', 'DUMP', 'GAS SCOOTE', 'OTHER',\n",
       "       'TRAILER/FL', 'POSTAL VEH', 'FLAT', 'DELV', 'G PSD', 'USPS', 'PC',\n",
       "       'HERTZ RAM', 'Fire Engin', 'SUBN - AMB', 'SPARK150 S', 'MTA Bus',\n",
       "       'PICKUP TRU', 'Livestock Rack', 'TRAILEE', 'UPS TRUCK',\n",
       "       'FDNY CHIEF', 'SPECIAL CO', 'Quality tr', 'box truck',\n",
       "       'Garbage Tr', 'con ed tru', 'ROAD SWEEP', 'UTIL', 'BOBCAT', 'ford',\n",
       "       'Pick up', 'Amb', '7532433', 'SUBURBAN', 'Unk', '4DS', 'Tow Truck',\n",
       "       'FIRE ENGIN', 'sanitaion', 'POWER SHOV', 'Ram Promas', 'passenger',\n",
       "       'SKID LOADE', 'MARKED VAN', 'EXCAVATOR', 'Power Shov', 'BULLDOZER',\n",
       "       'HD', 'SANITATION', 'Excavator', 'SKYWATCH', 'NYNJ RAIL',\n",
       "       'truck trai', 'box', 'utility', 'AMUBULANCE', 'sedan', 'ambu',\n",
       "       'Postal tru', 'commercial', 'SNOW PLOW', 'Dump truck',\n",
       "       'FRHT TRAIL', 'TRK', 'Van truck', 'FDNY EMS', 'Unknown',\n",
       "       'MTA truck', 'STAK', 'NIU', 'TRACTOR', 'USPS TRUC,', 'na',\n",
       "       'Government', 'Sanitation', 'FIRET TRUC', 'G AMB', 'tow',\n",
       "       'UTILITY WH', 'Tk', 'Fedex', 'PICK UP TR', 'U HAUL TRU', 'Subr',\n",
       "       'USPS Truck', 'VAN TRUCK', 'fdny ambul', 'ambulette', 'TRAILOR',\n",
       "       'CEMENT TRU', 'Sprinter v', 'FORK LIFT', 'nyc EMS', 'road sweep',\n",
       "       'REP', 'Com', 'refuse tru', 'Motorized Home', 'Flat bed t',\n",
       "       'Box truck', 'TRUCK TRAI', 'Ambulette', 'USPS truck', 'FDNY FIRET',\n",
       "       'CMIX', 'util', 'LADDER TRU', 'sanitaton', 'tk', 'g com',\n",
       "       'E-SKATEBOA', 'Enclosed Body - Removable Enclosure', 'usps 88716',\n",
       "       'ebike', 'SEDAN', 'PERM', 'ESCOOTER S', 'FIRE', 'MOTOR HOME',\n",
       "       'CAMPER VAN', 'mini van', 'usps truck', 'tr', 'TANK', 'Grumman LL',\n",
       "       '994', 'Electric S', 'ESU REP', 'mailtruck', 'White Van',\n",
       "       'Dent and S', \"''lime mope\", 'Pick wh', 'NYC SANITA', 'gas scoote',\n",
       "       'NYS AMBULA', 'DODGE RAM', 'HWH', 'Unmarked V', 'BOX', 'Pedicab',\n",
       "       'Gas scoote', 'CHERV', 'Post offic', 'SKATEBOARD', 'MOVING TRU',\n",
       "       'Yamaha', 'MINI BUS', 'Work Van', 'Fork lift', 'commerical',\n",
       "       'SEDONA', 'TLC', 'FDNY LADDE', 'Mopd', 'UTILITY VA', 'GAS POWERE',\n",
       "       'GOLF CART', 'ENGINE SP0', 'Pass', 'US Mail Tr', 'gas mo ped',\n",
       "       'SCOOTER GA', 'Pro master', 'forlift', 'MOTOR SKAT', 'Can',\n",
       "       'FLATBED FR', 'N/A', 'postal van', 'UNK', 'FIRTRUCK', 'skateboard',\n",
       "       'TTAILER', 'fdny ems', 'AMBULACE', 'bus', 'Street Swe',\n",
       "       'FDNY fire', 'DELIVERY', 'Cement Tru', 'USPS/GOVT', 'TRUCK VAN',\n",
       "       'SUV', 'CATAPILLAR', 'SWT', 'Trac', 'FLAT  BED', 'E-BIKE',\n",
       "       'Fork Lift', 'COURIER', 'Courier', 'SMART CAR', 'message si',\n",
       "       'moped', 'E-UNICYCLE', 'Street Cle', 'F550', 'Lawnmower',\n",
       "       'BICYCLE', 'almbulance', 'dark color', 'ford van', 'Tractor tr',\n",
       "       'FD LADDER', 'FDNY Engin', 'OTH', 'Go kart', 'CHEVY EXPR',\n",
       "       'SLINGSHOT', 'dilevery t', 'FDNY #226', 'FREIGHT FL', 'UNKN',\n",
       "       'MOVING VAN', 'usps', 'backhoe', 'Delv', 'dump truck', 'Freight',\n",
       "       'Horse', 'Cargo Van', 'USPS VAN', 'TRUCK FLAT', 'BOBCAT FOR',\n",
       "       'Pumper', 'DELIVERY V', 'DOT EQUIPM', 'GEN  AMBUL', '18 WHEELER',\n",
       "       'MOTORSCOOT', 'government', 'Front-Load', 'DRILL RIG',\n",
       "       'Wh Ford co', 'suburban', 'E REVEL SC', 'LIGHT TRAI', 'Tractor',\n",
       "       'UT', 'cross', 'FOOD TRUCK', 'Bucket Tru', 'JOHN DEERE', 'f-250',\n",
       "       'PICK-UP TR', 'BACK HOE', 'MECHANICAL', 'postal tru', 'CHEVROLET',\n",
       "       'WORK VAN', 'Fdny ambul', 'NYC FD', 'E-bike', 'FUSION',\n",
       "       'POSTAL TRU', 'LCOMM', 'e skate bo', 'Ford sprin', 'Work van',\n",
       "       'FREIG', 'FLATBED', 'Trc', 'Pick up Tr', '0', 'postal bus', 'hrse',\n",
       "       'CAT', 'E bike', 'FDNY Fire', 'com', 'CARGO VAN', 'ELEC. UNIC',\n",
       "       'DEPARTMENT', 'work truck', 'FDNY Firet', 'Self', 'Delivery',\n",
       "       'E scooter', 'Garbage tr', '50cc Scoot', 'Cement tru',\n",
       "       'USPS POSTA', 'FDNY Truck', 'Mack Truck', 'USPS MAIL',\n",
       "       'crane boom', 'VMS', 'Ram', 'TLR', 'Constructi', 'School bus',\n",
       "       'SCHOOL  BU', 'NonMotordS', 'Mack', 'police rep', 'EC3',\n",
       "       'ECONOLINE', 'UPS', 'RGR', 'VAN WH', 'BOOM LIFT', 'White ambu',\n",
       "       'Utility.', 'FREIGHT TR', 'TRAIL', 'Tow truck', 'FDNY EMT', 'TRL',\n",
       "       'FREIG DELV', 'FREIGHTLIN', 'pc', 'delviery', 'Tow', 'E-Bik',\n",
       "       'Horse Trai', 'delivery v', 'escavator', 'OMR', 'P/SH',\n",
       "       'ford econo', 'pick', 'MAIL TRUCK', 'USPS #7530', 'Hearse', 'SE',\n",
       "       'PUSH SCOOT', 'postal ser', 'school bus', 'nat grid t',\n",
       "       'yellow cab', 'G com', 'COM TRANS', 'LIT DIRECT', 'backh',\n",
       "       'D/V WB', 'Bobcat', 'UTILITY TR', 'food truck', 'EMERGENCY',\n",
       "       'fdny truck', 'amb', 'WAGON', 'T880', 'pay loader', 'sprinter v',\n",
       "       'tractor tr', 'FDNY EMS V', 'CO', 'AMBULETTE', 'OMS', 'RV/VAN',\n",
       "       'TR-Trailer', 'ESU RESCUE', 'City', 'pedicab', 'TTRAILER',\n",
       "       'I-haul', 'Toyota', 'MINI SCHOO', 'U-Haul min', 'Pickup tru',\n",
       "       'freight', '12 PASSENG', 'STREET SWE', '12 passage', 'FIRE APPAR',\n",
       "       'STREET CLE', 'PUMPER', 'pas', 'UNK BOX TR', 'nys ambula', 'unk',\n",
       "       'M2', 'LOCOMOTIVE', 'Pas (4dr s', 'Horse carr', 'Backhoe',\n",
       "       'USPS small', 'FOOD CART', 'APP', 'DUMPTRUCK', 'SPR', 'CAT FORKLI',\n",
       "       'YELLOWPOWE', '197209', 'posta', 'E450', 'UTILI', 'Ambul', 'SCHOO',\n",
       "       'Tow t', 'E-Sco', 'towe truck', 'utili', 'St', 'amulance', 'UNKNO',\n",
       "       'DEPT VAN #', 'MOPD', 'GRUMM', 'Trail', 'FIRET', 'Wagon', 'AMBUL',\n",
       "       'E bik', 'PSH', 'US PO', 'TRACT', 'BOX T', 'UHUAL', 'BACKH',\n",
       "       'DELVI', 'box t', 'SCOOT', 'picku', 'trail', 'DELIV', 'van t',\n",
       "       'SKATE', 'POSTA', 'Box T', 'SANIT', 'Forkl', 'ECONO', 'VAN/T',\n",
       "       'tract', 'FUEL', 'TANKE', 'GARBA', '3 WHE', '2015', 'SPRIN',\n",
       "       'road', 'DOT T', 'CRANE', 'MTA B', 'FLAT/', 'Food', 'deliv',\n",
       "       'COMME', 'scoot', 'acces', 'ROAD', 'schoo', 'STREE', 'FEDEX',\n",
       "       'fdny', 'LIEBH', 'CAB', 'TOW T', 'USP M', 'SANTI', 'tow t',\n",
       "       'fork lift', 'e-scooter', 'comme', 'prks', 'Unkno', 'limo',\n",
       "       'ambul', 'g spc', 'CONT', 'HI TA', 'CAT.', 'POLIC', 'Parce',\n",
       "       'PICKU', 'fire', 'Const', 'COMM', '35 FT', 'WINEB', 'PU', 'BoxTr',\n",
       "       'forkl', 'Tow T', 'TOWTR', 'PICK-', 'E BIK', 'POWER', 'MINI',\n",
       "       'trl', 'ELECT', 'TRLR', 'stree', 'elect', 'VAN T', 'Golf', 'FORK',\n",
       "       'vespa', 'Sprin', 'MOBIL', 'back', 'LIMOU', 'UHAUL', 'BS', 'excav',\n",
       "       'APPOR', 'F650', 'Scoot', 'golf', 'Mta', 'Van T', 'SKID-', 'firet',\n",
       "       'E SCO', 'Schoo', 'ICE C', 'motor', 'KUBOT', 'NYS A', 'range',\n",
       "       'LMB', 'BULLD', 'horse', 'ACCES', 'FLATB', 'Barri', 'subn',\n",
       "       'comm.', 'MAIL', 'WHITE', 'unkow', 'FORKL', 'Acces', 'Van (',\n",
       "       'Motor', 'BTM', 'US Po', 'Pas', 'Attac', 'NTTRL', 'MOTOR', 'YELLO',\n",
       "       'movin', 'nypd', 'SUBUR', 'Elect', 'Rescu', 'E-BIK', 'COURI',\n",
       "       'E - B', 'NAVIG', 'Subn', 'Box t', 'mta b', 'COMMU', 'TIR', 'st',\n",
       "       'CONST', 'Motor Home', 'TRACK EXCA', 'concr', 'HINO', 'dumps',\n",
       "       'semi'], dtype=object)"
      ]
     },
     "execution_count": 87,
     "metadata": {},
     "output_type": "execute_result"
    }
   ],
   "source": [
    "dff.vehicle_type_code1.unique()"
   ]
  },
  {
   "cell_type": "code",
   "execution_count": null,
   "metadata": {},
   "outputs": [],
   "source": [
    "# A vehicle_type_code1 ( ckeck values and categories) \n",
    "# fdny truck, FDNY TRUCK, fire truck,fdny truck, Fire truck, FDNY, FIRE TRUCK, FIRETRUCK,FDNY FIRE, firetruck, Fire Truck, FDNY TRUCK, FIRET TRUC, DNY FIRET   \n",
    "# Motorcycle, Motorbike, Bike, Dirt Bike\n",
    "#MBULANCE, FDNY Ambul, AMBULANE, ambulance, FDNY AMBUL, NYS Ambula, EMS, Ambu, AMBU, AMBUKANCE, EMS Ambula, NYC AMBULA, FDNY EMS, AMBULACE, almbulance, ambul\n",
    "# "
   ]
  },
  {
   "cell_type": "code",
   "execution_count": 90,
   "metadata": {},
   "outputs": [],
   "source": [
    "dff['vehicle_type_code1'] = dff['vehicle_type_code1'].str.lower()"
   ]
  },
  {
   "cell_type": "code",
   "execution_count": 92,
   "metadata": {},
   "outputs": [
    {
     "data": {
      "text/plain": [
       "['fdny ambul',\n",
       " 'fdny',\n",
       " 'fdny fire',\n",
       " 'fdny truck',\n",
       " 'fdny engin',\n",
       " 'fdny chief',\n",
       " 'fdny ems',\n",
       " 'fdny firet',\n",
       " 'fdny ladde',\n",
       " 'fdny #226',\n",
       " 'fdny emt',\n",
       " 'fdny ems v']"
      ]
     },
     "execution_count": 92,
     "metadata": {},
     "output_type": "execute_result"
    }
   ],
   "source": [
    "fdny_columns = []\n",
    "for i in dff.vehicle_type_code1:\n",
    "   if i.startswith('fdny') and i not in fdny_columns:\n",
    "     fdny_columns.append(i)\n",
    "fdny_columns"
   ]
  },
  {
   "cell_type": "code",
   "execution_count": 95,
   "metadata": {},
   "outputs": [
    {
     "data": {
      "text/plain": [
       "['ambulance',\n",
       " 'ambulane',\n",
       " 'amb',\n",
       " 'ambu',\n",
       " 'ambukance',\n",
       " 'ambulence',\n",
       " 'amubulance',\n",
       " 'ambulette',\n",
       " 'ambulace',\n",
       " 'ambul',\n",
       " 'amulance']"
      ]
     },
     "execution_count": 95,
     "metadata": {},
     "output_type": "execute_result"
    }
   ],
   "source": [
    "\n",
    "ambu_columns = []\n",
    "for i in dff.vehicle_type_code1:\n",
    "   if i.startswith('am') and i not in ambu_columns:\n",
    "     ambu_columns.append(i)\n",
    "ambu_columns"
   ]
  },
  {
   "cell_type": "markdown",
   "metadata": {},
   "source": [
    "Contributing Factors "
   ]
  },
  {
   "cell_type": "code",
   "execution_count": 96,
   "metadata": {},
   "outputs": [
    {
     "data": {
      "text/plain": [
       "array(['Unspecified', 'Passing or Lane Usage Improper',\n",
       "       'Following Too Closely', 'Driver Inexperience',\n",
       "       'Failure to Yield Right-of-Way', 'Driver Inattention/Distraction',\n",
       "       'Brakes Defective', 'Passing Too Closely', 'Turning Improperly',\n",
       "       'Unsafe Speed', 'Backing Unsafely', 'View Obstructed/Limited',\n",
       "       'Steering Failure', 'Traffic Control Disregarded',\n",
       "       'Drugs (illegal)', 'Other Vehicular',\n",
       "       'Reaction to Uninvolved Vehicle', 'Aggressive Driving/Road Rage',\n",
       "       'Fell Asleep',\n",
       "       'Pedestrian/Bicyclist/Other Pedestrian Error/Confusion',\n",
       "       'Alcohol Involvement', 'Unsafe Lane Changing', 'Pavement Slippery',\n",
       "       'Pavement Defective', 'Other Lighting Defects',\n",
       "       'Oversized Vehicle', 'Animals Action', 'Outside Car Distraction',\n",
       "       'Illnes', 'Driverless/Runaway Vehicle', 'Passenger Distraction',\n",
       "       'Tire Failure/Inadequate', 'Lost Consciousness',\n",
       "       'Accelerator Defective', 'Obstruction/Debris', 'Glare',\n",
       "       'Eating or Drinking', 'Cell Phone (hands-free)',\n",
       "       'Lane Marking Improper/Inadequate', 'Failure to Keep Right',\n",
       "       'Using On Board Navigation Device', 'Fatigued/Drowsy',\n",
       "       'Tow Hitch Defective', 'Physical Disability',\n",
       "       'Cell Phone (hand-Held)', 'Headlights Defective', 'Tinted Windows',\n",
       "       'Vehicle Vandalism', 'Prescription Medication',\n",
       "       'Listening/Using Headphones', 'Texting',\n",
       "       'Traffic Control Device Improper/Non-Working',\n",
       "       'Other Electronic Device', 'Shoulders Defective/Improper',\n",
       "       'Windshield Inadequate'], dtype=object)"
      ]
     },
     "execution_count": 96,
     "metadata": {},
     "output_type": "execute_result"
    }
   ],
   "source": [
    "dff.contributing_factor_vehicle_1.unique()"
   ]
  },
  {
   "cell_type": "code",
   "execution_count": 58,
   "metadata": {},
   "outputs": [
    {
     "data": {
      "text/plain": [
       "Driver Inattention/Distraction    93948\n",
       "Unspecified                       91937\n",
       "Following Too Closely             25388\n",
       "Failure to Yield Right-of-Way     25208\n",
       "Passing or Lane Usage Improper    15277\n",
       "Name: contributing_factor_vehicle_1, dtype: int64"
      ]
     },
     "execution_count": 58,
     "metadata": {},
     "output_type": "execute_result"
    }
   ],
   "source": [
    "dff.contributing_factor_vehicle_1.value_counts().head()"
   ]
  },
  {
   "cell_type": "markdown",
   "metadata": {},
   "source": [
    "#  Overview of Vehicles Involved in Collitions\n",
    "\n"
   ]
  },
  {
   "cell_type": "markdown",
   "metadata": {},
   "source": [
    "Now lets compute the percentage of vehicle types involve in crashes\n",
    "- Vehicle 1"
   ]
  },
  {
   "cell_type": "code",
   "execution_count": 29,
   "metadata": {},
   "outputs": [],
   "source": [
    "v1 = dff.vehicle_type_code1\n",
    "counts = v1.value_counts()\n",
    "percent = v1.value_counts(normalize=True)\n",
    "percent100 = percent.mul(100).round(1).astype(str) + '%'\n",
    "vehicle1_df = pd.DataFrame({'counts': counts, 'percent': percent, 'percent100': percent100})"
   ]
  },
  {
   "cell_type": "code",
   "execution_count": 30,
   "metadata": {},
   "outputs": [
    {
     "data": {
      "text/html": [
       "<div>\n",
       "<style scoped>\n",
       "    .dataframe tbody tr th:only-of-type {\n",
       "        vertical-align: middle;\n",
       "    }\n",
       "\n",
       "    .dataframe tbody tr th {\n",
       "        vertical-align: top;\n",
       "    }\n",
       "\n",
       "    .dataframe thead th {\n",
       "        text-align: right;\n",
       "    }\n",
       "</style>\n",
       "<table border=\"1\" class=\"dataframe\">\n",
       "  <thead>\n",
       "    <tr style=\"text-align: right;\">\n",
       "      <th></th>\n",
       "      <th>counts</th>\n",
       "      <th>percent</th>\n",
       "      <th>percent100</th>\n",
       "    </tr>\n",
       "  </thead>\n",
       "  <tbody>\n",
       "    <tr>\n",
       "      <th>Sedan</th>\n",
       "      <td>168934</td>\n",
       "      <td>0.464237</td>\n",
       "      <td>46.4%</td>\n",
       "    </tr>\n",
       "    <tr>\n",
       "      <th>Station Wagon/Sport Utility Vehicle</th>\n",
       "      <td>134169</td>\n",
       "      <td>0.368701</td>\n",
       "      <td>36.9%</td>\n",
       "    </tr>\n",
       "    <tr>\n",
       "      <th>Taxi</th>\n",
       "      <td>13216</td>\n",
       "      <td>0.036318</td>\n",
       "      <td>3.6%</td>\n",
       "    </tr>\n",
       "    <tr>\n",
       "      <th>Pick-up Truck</th>\n",
       "      <td>9198</td>\n",
       "      <td>0.025276</td>\n",
       "      <td>2.5%</td>\n",
       "    </tr>\n",
       "    <tr>\n",
       "      <th>Box Truck</th>\n",
       "      <td>6932</td>\n",
       "      <td>0.019049</td>\n",
       "      <td>1.9%</td>\n",
       "    </tr>\n",
       "    <tr>\n",
       "      <th>Bus</th>\n",
       "      <td>5798</td>\n",
       "      <td>0.015933</td>\n",
       "      <td>1.6%</td>\n",
       "    </tr>\n",
       "    <tr>\n",
       "      <th>Bike</th>\n",
       "      <td>4031</td>\n",
       "      <td>0.011077</td>\n",
       "      <td>1.1%</td>\n",
       "    </tr>\n",
       "    <tr>\n",
       "      <th>Tractor Truck Diesel</th>\n",
       "      <td>2662</td>\n",
       "      <td>0.007315</td>\n",
       "      <td>0.7%</td>\n",
       "    </tr>\n",
       "    <tr>\n",
       "      <th>Motorcycle</th>\n",
       "      <td>2452</td>\n",
       "      <td>0.006738</td>\n",
       "      <td>0.7%</td>\n",
       "    </tr>\n",
       "    <tr>\n",
       "      <th>Van</th>\n",
       "      <td>2249</td>\n",
       "      <td>0.006180</td>\n",
       "      <td>0.6%</td>\n",
       "    </tr>\n",
       "  </tbody>\n",
       "</table>\n",
       "</div>"
      ],
      "text/plain": [
       "                                     counts   percent percent100\n",
       "Sedan                                168934  0.464237      46.4%\n",
       "Station Wagon/Sport Utility Vehicle  134169  0.368701      36.9%\n",
       "Taxi                                  13216  0.036318       3.6%\n",
       "Pick-up Truck                          9198  0.025276       2.5%\n",
       "Box Truck                              6932  0.019049       1.9%\n",
       "Bus                                    5798  0.015933       1.6%\n",
       "Bike                                   4031  0.011077       1.1%\n",
       "Tractor Truck Diesel                   2662  0.007315       0.7%\n",
       "Motorcycle                             2452  0.006738       0.7%\n",
       "Van                                    2249  0.006180       0.6%"
      ]
     },
     "execution_count": 30,
     "metadata": {},
     "output_type": "execute_result"
    }
   ],
   "source": [
    "vehicle1_df.head(10)"
   ]
  },
  {
   "cell_type": "markdown",
   "metadata": {},
   "source": [
    "- Vehicle 2 "
   ]
  },
  {
   "cell_type": "code",
   "execution_count": 31,
   "metadata": {},
   "outputs": [],
   "source": [
    "v2 = dff.vehicle_type_code2\n",
    "# s = df.keywords\n",
    "counts2 = v2.value_counts()\n",
    "percent2 = v2.value_counts(normalize=True)\n",
    "percent2_100 = v2.value_counts(normalize=True).mul(100).round(1).astype(str) + '%'\n",
    "vehicle2_df = pd.DataFrame({'counts': counts2, 'percent': percent2, 'percent100': percent2_100})"
   ]
  },
  {
   "cell_type": "code",
   "execution_count": 32,
   "metadata": {},
   "outputs": [
    {
     "data": {
      "text/html": [
       "<div>\n",
       "<style scoped>\n",
       "    .dataframe tbody tr th:only-of-type {\n",
       "        vertical-align: middle;\n",
       "    }\n",
       "\n",
       "    .dataframe tbody tr th {\n",
       "        vertical-align: top;\n",
       "    }\n",
       "\n",
       "    .dataframe thead th {\n",
       "        text-align: right;\n",
       "    }\n",
       "</style>\n",
       "<table border=\"1\" class=\"dataframe\">\n",
       "  <thead>\n",
       "    <tr style=\"text-align: right;\">\n",
       "      <th></th>\n",
       "      <th>counts</th>\n",
       "      <th>percent</th>\n",
       "      <th>percent100</th>\n",
       "    </tr>\n",
       "  </thead>\n",
       "  <tbody>\n",
       "    <tr>\n",
       "      <th>Sedan</th>\n",
       "      <td>112003</td>\n",
       "      <td>0.422771</td>\n",
       "      <td>42.3%</td>\n",
       "    </tr>\n",
       "    <tr>\n",
       "      <th>Station Wagon/Sport Utility Vehicle</th>\n",
       "      <td>90620</td>\n",
       "      <td>0.342058</td>\n",
       "      <td>34.2%</td>\n",
       "    </tr>\n",
       "    <tr>\n",
       "      <th>Bike</th>\n",
       "      <td>10778</td>\n",
       "      <td>0.040683</td>\n",
       "      <td>4.1%</td>\n",
       "    </tr>\n",
       "    <tr>\n",
       "      <th>Taxi</th>\n",
       "      <td>8349</td>\n",
       "      <td>0.031514</td>\n",
       "      <td>3.2%</td>\n",
       "    </tr>\n",
       "    <tr>\n",
       "      <th>Box Truck</th>\n",
       "      <td>8088</td>\n",
       "      <td>0.030529</td>\n",
       "      <td>3.1%</td>\n",
       "    </tr>\n",
       "    <tr>\n",
       "      <th>Pick-up Truck</th>\n",
       "      <td>7974</td>\n",
       "      <td>0.030099</td>\n",
       "      <td>3.0%</td>\n",
       "    </tr>\n",
       "    <tr>\n",
       "      <th>Bus</th>\n",
       "      <td>4984</td>\n",
       "      <td>0.018813</td>\n",
       "      <td>1.9%</td>\n",
       "    </tr>\n",
       "    <tr>\n",
       "      <th>Tractor Truck Diesel</th>\n",
       "      <td>2637</td>\n",
       "      <td>0.009954</td>\n",
       "      <td>1.0%</td>\n",
       "    </tr>\n",
       "    <tr>\n",
       "      <th>E-Bike</th>\n",
       "      <td>2435</td>\n",
       "      <td>0.009191</td>\n",
       "      <td>0.9%</td>\n",
       "    </tr>\n",
       "    <tr>\n",
       "      <th>Motorcycle</th>\n",
       "      <td>2131</td>\n",
       "      <td>0.008044</td>\n",
       "      <td>0.8%</td>\n",
       "    </tr>\n",
       "  </tbody>\n",
       "</table>\n",
       "</div>"
      ],
      "text/plain": [
       "                                     counts   percent percent100\n",
       "Sedan                                112003  0.422771      42.3%\n",
       "Station Wagon/Sport Utility Vehicle   90620  0.342058      34.2%\n",
       "Bike                                  10778  0.040683       4.1%\n",
       "Taxi                                   8349  0.031514       3.2%\n",
       "Box Truck                              8088  0.030529       3.1%\n",
       "Pick-up Truck                          7974  0.030099       3.0%\n",
       "Bus                                    4984  0.018813       1.9%\n",
       "Tractor Truck Diesel                   2637  0.009954       1.0%\n",
       "E-Bike                                 2435  0.009191       0.9%\n",
       "Motorcycle                             2131  0.008044       0.8%"
      ]
     },
     "execution_count": 32,
     "metadata": {},
     "output_type": "execute_result"
    }
   ],
   "source": [
    "vehicle2_df.head(10)"
   ]
  },
  {
   "cell_type": "markdown",
   "metadata": {},
   "source": [
    "# Visualization of collisions with fatalities in 2021"
   ]
  },
  {
   "cell_type": "code",
   "execution_count": 42,
   "metadata": {},
   "outputs": [],
   "source": [
    "# Condition to filter year and records with person killed\n",
    "fatal_2021_cond = (dff['year'] == 2021 ) & (dff['number_of_persons_killed']>=1)"
   ]
  },
  {
   "cell_type": "code",
   "execution_count": 43,
   "metadata": {},
   "outputs": [],
   "source": [
    "# Create new DataFrame that meets conditions\n",
    "df_2021_p_killed = dff[fatal_2021_cond]"
   ]
  },
  {
   "cell_type": "code",
   "execution_count": 44,
   "metadata": {},
   "outputs": [
    {
     "data": {
      "text/html": [
       "<div>\n",
       "<style scoped>\n",
       "    .dataframe tbody tr th:only-of-type {\n",
       "        vertical-align: middle;\n",
       "    }\n",
       "\n",
       "    .dataframe tbody tr th {\n",
       "        vertical-align: top;\n",
       "    }\n",
       "\n",
       "    .dataframe thead th {\n",
       "        text-align: right;\n",
       "    }\n",
       "</style>\n",
       "<table border=\"1\" class=\"dataframe\">\n",
       "  <thead>\n",
       "    <tr style=\"text-align: right;\">\n",
       "      <th></th>\n",
       "      <th>crash_date</th>\n",
       "      <th>crash_time</th>\n",
       "      <th>number_of_persons_killed</th>\n",
       "      <th>number_of_pedestrians_injured</th>\n",
       "      <th>number_of_pedestrians_killed</th>\n",
       "      <th>number_of_cyclist_injured</th>\n",
       "      <th>number_of_cyclist_killed</th>\n",
       "      <th>number_of_motorist_injured</th>\n",
       "      <th>number_of_motorist_killed</th>\n",
       "      <th>contributing_factor_vehicle_1</th>\n",
       "      <th>...</th>\n",
       "      <th>zip_code</th>\n",
       "      <th>latitude</th>\n",
       "      <th>longitude</th>\n",
       "      <th>cross_street_name</th>\n",
       "      <th>on_street_name</th>\n",
       "      <th>number_persons_injured</th>\n",
       "      <th>year</th>\n",
       "      <th>month</th>\n",
       "      <th>day_of_week</th>\n",
       "      <th>hour</th>\n",
       "    </tr>\n",
       "  </thead>\n",
       "  <tbody>\n",
       "    <tr>\n",
       "      <th>151</th>\n",
       "      <td>2021-04-15</td>\n",
       "      <td>15:18</td>\n",
       "      <td>1</td>\n",
       "      <td>0</td>\n",
       "      <td>1</td>\n",
       "      <td>0</td>\n",
       "      <td>0</td>\n",
       "      <td>0</td>\n",
       "      <td>0</td>\n",
       "      <td>Driver Inattention/Distraction</td>\n",
       "      <td>...</td>\n",
       "      <td>11209</td>\n",
       "      <td>40.620487</td>\n",
       "      <td>-74.029305</td>\n",
       "      <td>NaN</td>\n",
       "      <td>4 AVENUE</td>\n",
       "      <td>0</td>\n",
       "      <td>2021</td>\n",
       "      <td>4</td>\n",
       "      <td>3</td>\n",
       "      <td>15</td>\n",
       "    </tr>\n",
       "    <tr>\n",
       "      <th>1156</th>\n",
       "      <td>2021-04-18</td>\n",
       "      <td>23:56</td>\n",
       "      <td>1</td>\n",
       "      <td>0</td>\n",
       "      <td>1</td>\n",
       "      <td>0</td>\n",
       "      <td>0</td>\n",
       "      <td>0</td>\n",
       "      <td>0</td>\n",
       "      <td>Unspecified</td>\n",
       "      <td>...</td>\n",
       "      <td>NaN</td>\n",
       "      <td>40.770527</td>\n",
       "      <td>-73.980120</td>\n",
       "      <td>NaN</td>\n",
       "      <td>CENTRAL PARK WEST</td>\n",
       "      <td>0</td>\n",
       "      <td>2021</td>\n",
       "      <td>4</td>\n",
       "      <td>6</td>\n",
       "      <td>23</td>\n",
       "    </tr>\n",
       "    <tr>\n",
       "      <th>1350</th>\n",
       "      <td>2021-04-08</td>\n",
       "      <td>19:55</td>\n",
       "      <td>1</td>\n",
       "      <td>0</td>\n",
       "      <td>0</td>\n",
       "      <td>0</td>\n",
       "      <td>0</td>\n",
       "      <td>0</td>\n",
       "      <td>0</td>\n",
       "      <td>Driver Inexperience</td>\n",
       "      <td>...</td>\n",
       "      <td>10459</td>\n",
       "      <td>40.830307</td>\n",
       "      <td>-73.898730</td>\n",
       "      <td>1281      UNION AVENUE</td>\n",
       "      <td>NaN</td>\n",
       "      <td>0</td>\n",
       "      <td>2021</td>\n",
       "      <td>4</td>\n",
       "      <td>3</td>\n",
       "      <td>19</td>\n",
       "    </tr>\n",
       "    <tr>\n",
       "      <th>1650</th>\n",
       "      <td>2021-04-19</td>\n",
       "      <td>19:13</td>\n",
       "      <td>1</td>\n",
       "      <td>0</td>\n",
       "      <td>1</td>\n",
       "      <td>0</td>\n",
       "      <td>0</td>\n",
       "      <td>0</td>\n",
       "      <td>0</td>\n",
       "      <td>Driver Inattention/Distraction</td>\n",
       "      <td>...</td>\n",
       "      <td>10039</td>\n",
       "      <td>40.822890</td>\n",
       "      <td>-73.942080</td>\n",
       "      <td>300       WEST 145 STREET</td>\n",
       "      <td>NaN</td>\n",
       "      <td>0</td>\n",
       "      <td>2021</td>\n",
       "      <td>4</td>\n",
       "      <td>0</td>\n",
       "      <td>19</td>\n",
       "    </tr>\n",
       "    <tr>\n",
       "      <th>2061</th>\n",
       "      <td>2021-04-22</td>\n",
       "      <td>8:01</td>\n",
       "      <td>1</td>\n",
       "      <td>0</td>\n",
       "      <td>1</td>\n",
       "      <td>0</td>\n",
       "      <td>0</td>\n",
       "      <td>0</td>\n",
       "      <td>0</td>\n",
       "      <td>Failure to Yield Right-of-Way</td>\n",
       "      <td>...</td>\n",
       "      <td>10035</td>\n",
       "      <td>40.803698</td>\n",
       "      <td>-73.937912</td>\n",
       "      <td>NaN</td>\n",
       "      <td>EAST 124 STREET</td>\n",
       "      <td>0</td>\n",
       "      <td>2021</td>\n",
       "      <td>4</td>\n",
       "      <td>3</td>\n",
       "      <td>8</td>\n",
       "    </tr>\n",
       "  </tbody>\n",
       "</table>\n",
       "<p>5 rows × 27 columns</p>\n",
       "</div>"
      ],
      "text/plain": [
       "     crash_date crash_time  number_of_persons_killed  \\\n",
       "151  2021-04-15      15:18                         1   \n",
       "1156 2021-04-18      23:56                         1   \n",
       "1350 2021-04-08      19:55                         1   \n",
       "1650 2021-04-19      19:13                         1   \n",
       "2061 2021-04-22       8:01                         1   \n",
       "\n",
       "      number_of_pedestrians_injured  number_of_pedestrians_killed  \\\n",
       "151                               0                             1   \n",
       "1156                              0                             1   \n",
       "1350                              0                             0   \n",
       "1650                              0                             1   \n",
       "2061                              0                             1   \n",
       "\n",
       "      number_of_cyclist_injured  number_of_cyclist_killed  \\\n",
       "151                           0                         0   \n",
       "1156                          0                         0   \n",
       "1350                          0                         0   \n",
       "1650                          0                         0   \n",
       "2061                          0                         0   \n",
       "\n",
       "      number_of_motorist_injured  number_of_motorist_killed  \\\n",
       "151                            0                          0   \n",
       "1156                           0                          0   \n",
       "1350                           0                          0   \n",
       "1650                           0                          0   \n",
       "2061                           0                          0   \n",
       "\n",
       "       contributing_factor_vehicle_1  ... zip_code   latitude  longitude  \\\n",
       "151   Driver Inattention/Distraction  ...    11209  40.620487 -74.029305   \n",
       "1156                     Unspecified  ...      NaN  40.770527 -73.980120   \n",
       "1350             Driver Inexperience  ...    10459  40.830307 -73.898730   \n",
       "1650  Driver Inattention/Distraction  ...    10039  40.822890 -73.942080   \n",
       "2061   Failure to Yield Right-of-Way  ...    10035  40.803698 -73.937912   \n",
       "\n",
       "              cross_street_name     on_street_name number_persons_injured  \\\n",
       "151                         NaN           4 AVENUE                      0   \n",
       "1156                        NaN  CENTRAL PARK WEST                      0   \n",
       "1350     1281      UNION AVENUE                NaN                      0   \n",
       "1650  300       WEST 145 STREET                NaN                      0   \n",
       "2061                        NaN    EAST 124 STREET                      0   \n",
       "\n",
       "      year month  day_of_week  hour  \n",
       "151   2021     4            3    15  \n",
       "1156  2021     4            6    23  \n",
       "1350  2021     4            3    19  \n",
       "1650  2021     4            0    19  \n",
       "2061  2021     4            3     8  \n",
       "\n",
       "[5 rows x 27 columns]"
      ]
     },
     "execution_count": 44,
     "metadata": {},
     "output_type": "execute_result"
    }
   ],
   "source": [
    "df_2021_p_killed.head()"
   ]
  },
  {
   "cell_type": "code",
   "execution_count": 45,
   "metadata": {},
   "outputs": [],
   "source": [
    "px.set_mapbox_access_token(open(\".mapbox_token\").read())"
   ]
  },
  {
   "cell_type": "code",
   "execution_count": 46,
   "metadata": {},
   "outputs": [],
   "source": [
    "# Scatter plot of crash with fatalities (color by hour and size by number of persons killed)\n",
    "p_killed_2021_fig = px.scatter_mapbox(df_2021_p_killed,\n",
    "                                      lat=\"latitude\",\n",
    "                                      lon=\"longitude\",\n",
    "                                      color=\"hour\",\n",
    "                                      size=\"number_of_persons_killed\",\n",
    "                                      #hover_data = \"off_street_name\",\n",
    "                                      mapbox_style=\"streets\",\n",
    "                                      color_continuous_scale=px.colors.cyclical.IceFire,\n",
    "                                      size_max=15,\n",
    "                                      zoom=10,\n",
    "                                      title = \"Crash Reports with Fatalities in 2021\",)"
   ]
  },
  {
   "cell_type": "code",
   "execution_count": 47,
   "metadata": {},
   "outputs": [],
   "source": [
    "p_killed_2021_fig.show()"
   ]
  },
  {
   "cell_type": "markdown",
   "metadata": {},
   "source": [
    "# Visualization of Collition Resulting in Persons Injured (2021)"
   ]
  },
  {
   "cell_type": "code",
   "execution_count": 1,
   "metadata": {},
   "outputs": [
    {
     "ename": "NameError",
     "evalue": "name 'dff' is not defined",
     "output_type": "error",
     "traceback": [
      "\u001b[0;31m---------------------------------------------------------------------------\u001b[0m",
      "\u001b[0;31mNameError\u001b[0m                                 Traceback (most recent call last)",
      "\u001b[0;32m<ipython-input-1-74a79e3e30b7>\u001b[0m in \u001b[0;36m<module>\u001b[0;34m\u001b[0m\n\u001b[1;32m      1\u001b[0m \u001b[0;31m# Condition includes year 2021 and events with persons injured\u001b[0m\u001b[0;34m\u001b[0m\u001b[0;34m\u001b[0m\u001b[0;34m\u001b[0m\u001b[0m\n\u001b[0;32m----> 2\u001b[0;31m \u001b[0mdf_injured_cond\u001b[0m \u001b[0;34m=\u001b[0m \u001b[0;34m(\u001b[0m\u001b[0mdff\u001b[0m\u001b[0;34m[\u001b[0m\u001b[0;34m'year'\u001b[0m\u001b[0;34m]\u001b[0m \u001b[0;34m==\u001b[0m \u001b[0;36m2021\u001b[0m \u001b[0;34m)\u001b[0m \u001b[0;34m&\u001b[0m \u001b[0;34m(\u001b[0m\u001b[0mdff\u001b[0m\u001b[0;34m[\u001b[0m\u001b[0;34m'number_persons_injured'\u001b[0m\u001b[0;34m]\u001b[0m\u001b[0;34m>=\u001b[0m\u001b[0;36m2\u001b[0m\u001b[0;34m)\u001b[0m\u001b[0;34m\u001b[0m\u001b[0;34m\u001b[0m\u001b[0m\n\u001b[0m",
      "\u001b[0;31mNameError\u001b[0m: name 'dff' is not defined"
     ]
    }
   ],
   "source": [
    "# Condition includes year 2021 and events with persons injured\n",
    "df_injured_cond = (dff['year'] == 2021 ) & (dff['number_persons_injured']>=2)\n"
   ]
  },
  {
   "cell_type": "code",
   "execution_count": 49,
   "metadata": {},
   "outputs": [],
   "source": [
    "# New dataFrame includes person injured from collision (2021)\n",
    "df_2021_p_injured = dff[df_injured_cond]"
   ]
  },
  {
   "cell_type": "code",
   "execution_count": 50,
   "metadata": {},
   "outputs": [],
   "source": [
    "# Scatter plot of crash with injuries (color by hour and size by number of persons injured)\n",
    "p_injured_2021_fig = px.scatter_mapbox(df_2021_p_injured,\n",
    "                                       lat=\"latitude\",\n",
    "                                       lon=\"longitude\",\n",
    "                                       color=\"hour\",\n",
    "                                       size=\"number_persons_injured\",\n",
    "                                       color_continuous_scale=px.colors.cyclical.IceFire,\n",
    "                                       size_max=15,\n",
    "                                       zoom=10,\n",
    "                                       center={\"lat\": 40.730610, \"lon\": -73.9749},\n",
    "                                       title = \"Crash Reports with Persons Injured in 2021\",)\n",
    "p_injured_2021_fig.show()"
   ]
  },
  {
   "cell_type": "markdown",
   "metadata": {},
   "source": [
    "# Visualization of Collitions by Borough"
   ]
  },
  {
   "cell_type": "code",
   "execution_count": 1,
   "metadata": {},
   "outputs": [],
   "source": [
    "boro_url = ('https://raw.githubusercontent.com/codeforgermany/click_that_hood/main/public/data/new-york-city-boroughs.geojson')"
   ]
  },
  {
   "cell_type": "code",
   "execution_count": 2,
   "metadata": {},
   "outputs": [
    {
     "ename": "NameError",
     "evalue": "name 'requests' is not defined",
     "output_type": "error",
     "traceback": [
      "\u001b[0;31m---------------------------------------------------------------------------\u001b[0m",
      "\u001b[0;31mNameError\u001b[0m                                 Traceback (most recent call last)",
      "\u001b[0;32m<ipython-input-2-1f8172fc4a54>\u001b[0m in \u001b[0;36m<module>\u001b[0;34m\u001b[0m\n\u001b[0;32m----> 1\u001b[0;31m \u001b[0mnyc_boro\u001b[0m \u001b[0;34m=\u001b[0m \u001b[0mrequests\u001b[0m\u001b[0;34m.\u001b[0m\u001b[0mget\u001b[0m\u001b[0;34m(\u001b[0m\u001b[0mboro_url\u001b[0m\u001b[0;34m)\u001b[0m\u001b[0;34m\u001b[0m\u001b[0;34m\u001b[0m\u001b[0m\n\u001b[0m\u001b[1;32m      2\u001b[0m \u001b[0mnyc_boro\u001b[0m \u001b[0;34m=\u001b[0m \u001b[0mnyc_boro\u001b[0m\u001b[0;34m.\u001b[0m\u001b[0mjson\u001b[0m\u001b[0;34m(\u001b[0m\u001b[0;34m)\u001b[0m\u001b[0;34m\u001b[0m\u001b[0;34m\u001b[0m\u001b[0m\n",
      "\u001b[0;31mNameError\u001b[0m: name 'requests' is not defined"
     ]
    }
   ],
   "source": [
    "nyc_boro = requests.get(boro_url)\n",
    "nyc_boro = nyc_boro.json()"
   ]
  },
  {
   "cell_type": "code",
   "execution_count": 43,
   "metadata": {},
   "outputs": [
    {
     "data": {
      "text/plain": [
       "{'name': 'Queens',\n",
       " 'cartodb_id': 2,\n",
       " 'created_at': '2013-03-09T02:42:03.692Z',\n",
       " 'updated_at': '2013-03-09T02:42:03.989Z'}"
      ]
     },
     "execution_count": 43,
     "metadata": {},
     "output_type": "execute_result"
    }
   ],
   "source": [
    "nyc_boro['features'][1]['properties']\n"
   ]
  },
  {
   "cell_type": "code",
   "execution_count": 44,
   "metadata": {},
   "outputs": [
    {
     "name": "stdout",
     "output_type": "stream",
     "text": [
      "['BROOKLYN' nan 'BRONX' 'STATEN ISLAND' 'QUEENS' 'MANHATTAN']\n"
     ]
    }
   ],
   "source": [
    "print(dff.borough.unique())"
   ]
  },
  {
   "cell_type": "code",
   "execution_count": 45,
   "metadata": {},
   "outputs": [],
   "source": [
    "dff = dff[dff['borough'].notna()]\n",
    "dff['borough'] = dff['borough'].str.title()"
   ]
  },
  {
   "cell_type": "code",
   "execution_count": 46,
   "metadata": {},
   "outputs": [],
   "source": [
    "# Create dictionary with key and value to link json file to dataframe\n",
    "# Dictionary key must match a column value in dataframe \n",
    "nyc_boro_map = {}\n",
    "for feature in nyc_boro['features']:\n",
    "    feature['id'] = feature['properties']['cartodb_id']\n",
    "    nyc_boro_map[feature['properties']['name']] = feature['id']\n"
   ]
  },
  {
   "cell_type": "code",
   "execution_count": 47,
   "metadata": {},
   "outputs": [],
   "source": [
    "dff['boro_id'] = dff['borough'].apply(lambda x: nyc_boro_map[x])\n",
    "#grouped_multiple = df.groupby(['Team', 'Pos']).agg({'Age': ['mean', 'min', 'max']})"
   ]
  },
  {
   "cell_type": "code",
   "execution_count": 48,
   "metadata": {},
   "outputs": [],
   "source": [
    "df_boro_gb = dff.groupby(['borough','boro_id']).agg({'number_of_persons_killed': 'sum'}).reset_index()"
   ]
  },
  {
   "cell_type": "code",
   "execution_count": 49,
   "metadata": {},
   "outputs": [
    {
     "data": {
      "text/html": [
       "<div>\n",
       "<style scoped>\n",
       "    .dataframe tbody tr th:only-of-type {\n",
       "        vertical-align: middle;\n",
       "    }\n",
       "\n",
       "    .dataframe tbody tr th {\n",
       "        vertical-align: top;\n",
       "    }\n",
       "\n",
       "    .dataframe thead th {\n",
       "        text-align: right;\n",
       "    }\n",
       "</style>\n",
       "<table border=\"1\" class=\"dataframe\">\n",
       "  <thead>\n",
       "    <tr style=\"text-align: right;\">\n",
       "      <th></th>\n",
       "      <th>borough</th>\n",
       "      <th>boro_id</th>\n",
       "      <th>number_of_persons_killed</th>\n",
       "    </tr>\n",
       "  </thead>\n",
       "  <tbody>\n",
       "    <tr>\n",
       "      <th>0</th>\n",
       "      <td>Bronx</td>\n",
       "      <td>5</td>\n",
       "      <td>81</td>\n",
       "    </tr>\n",
       "    <tr>\n",
       "      <th>1</th>\n",
       "      <td>Brooklyn</td>\n",
       "      <td>3</td>\n",
       "      <td>220</td>\n",
       "    </tr>\n",
       "    <tr>\n",
       "      <th>2</th>\n",
       "      <td>Manhattan</td>\n",
       "      <td>4</td>\n",
       "      <td>109</td>\n",
       "    </tr>\n",
       "    <tr>\n",
       "      <th>3</th>\n",
       "      <td>Queens</td>\n",
       "      <td>2</td>\n",
       "      <td>189</td>\n",
       "    </tr>\n",
       "    <tr>\n",
       "      <th>4</th>\n",
       "      <td>Staten Island</td>\n",
       "      <td>1</td>\n",
       "      <td>28</td>\n",
       "    </tr>\n",
       "  </tbody>\n",
       "</table>\n",
       "</div>"
      ],
      "text/plain": [
       "         borough  boro_id  number_of_persons_killed\n",
       "0          Bronx        5                        81\n",
       "1       Brooklyn        3                       220\n",
       "2      Manhattan        4                       109\n",
       "3         Queens        2                       189\n",
       "4  Staten Island        1                        28"
      ]
     },
     "execution_count": 49,
     "metadata": {},
     "output_type": "execute_result"
    }
   ],
   "source": [
    "df_boro_gb"
   ]
  },
  {
   "cell_type": "code",
   "execution_count": 51,
   "metadata": {},
   "outputs": [],
   "source": [
    "# Choropleth map of crashses involving fatalities (borough)\n",
    "boro_fig = px.choropleth_mapbox(\n",
    "    df_boro_gb,\n",
    "    locations = \"boro_id\",\n",
    "    geojson = nyc_boro,\n",
    "    color = \"number_of_persons_killed\",\n",
    "    #color_continuous_scale=px.colors.continuous.Viridis[::-1],\n",
    "    #px.colors.sequential.Viridis\n",
    "    hover_name=\"borough\",\n",
    "    #hover_data= [\"Count\"],\n",
    "    mapbox_style=\"carto-positron\",\n",
    "    center={\"lat\": 40.730610, \"lon\": -73.9749},\n",
    "    zoom=8.5,\n",
    "    opacity=0.5,\n",
    "    title = \"NYC Boroughs\",)\n",
    "# fig.update_layout(\n",
    "#     title={\n",
    "#         'text': \"location of fatalities\",\n",
    "#         'y':0.9,\n",
    "#         'x':0.5,\n",
    "#         'xanchor': 'center',\n",
    "#         'yanchor': 'top'})"
   ]
  },
  {
   "cell_type": "code",
   "execution_count": 52,
   "metadata": {},
   "outputs": [],
   "source": [
    "boro_fig.show()"
   ]
  },
  {
   "cell_type": "markdown",
   "metadata": {},
   "source": [
    "# Visualization of Persons Killed in Collisions per Zip Code (2019 to 2022)"
   ]
  },
  {
   "cell_type": "code",
   "execution_count": 44,
   "metadata": {},
   "outputs": [],
   "source": [
    "url = ('https://data.beta.nyc/dataset/3bf5fb73-edb5-4b05-bb29-7c95f4a727fc/resource/6df127b1-6d04-4bb7-b983-07402a2c3f90/download/f4129d9aa6dd4281bc98d0f701629b76nyczipcodetabulationareas.geojson')"
   ]
  },
  {
   "cell_type": "code",
   "execution_count": 45,
   "metadata": {},
   "outputs": [],
   "source": [
    "nyc_zip = requests.get(url)"
   ]
  },
  {
   "cell_type": "code",
   "execution_count": 46,
   "metadata": {},
   "outputs": [],
   "source": [
    "nyc_zip = nyc_zip.json()"
   ]
  },
  {
   "cell_type": "code",
   "execution_count": 47,
   "metadata": {},
   "outputs": [
    {
     "data": {
      "text/plain": [
       "{'OBJECTID': 2,\n",
       " 'postalCode': '11004',\n",
       " 'PO_NAME': 'Glen Oaks',\n",
       " 'STATE': 'NY',\n",
       " 'borough': 'Queens',\n",
       " 'ST_FIPS': '36',\n",
       " 'CTY_FIPS': '081',\n",
       " 'BLDGpostal': 0,\n",
       " '@id': 'http://nyc.pediacities.com/Resource/PostalCode/11004',\n",
       " 'longitude': -73.711608312,\n",
       " 'latitude': 40.745365835}"
      ]
     },
     "execution_count": 47,
     "metadata": {},
     "output_type": "execute_result"
    }
   ],
   "source": [
    "# Geojson file to complete geographical features\n",
    "nyc_zip['features'][1]['properties']"
   ]
  },
  {
   "cell_type": "code",
   "execution_count": 53,
   "metadata": {},
   "outputs": [],
   "source": [
    "# Create dictionary with key and value to link json file to dataframe\n",
    "zip_id_map = {}\n",
    "for feature in nyc_zip['features']:\n",
    "    feature['id'] = feature['properties']['OBJECTID']\n",
    "    zip_id_map[feature['properties']['postalCode']] = feature['id']"
   ]
  },
  {
   "cell_type": "code",
   "execution_count": 61,
   "metadata": {},
   "outputs": [],
   "source": [
    "# Make sure dictionary key and corresponding dataframe value are of the same type\n",
    "#zip_id_map\n"
   ]
  },
  {
   "cell_type": "code",
   "execution_count": 54,
   "metadata": {},
   "outputs": [],
   "source": [
    "# Filter out nan values of dataframe zip_code column\n",
    "dff = dff[dff['zip_code'].notna()]"
   ]
  },
  {
   "cell_type": "code",
   "execution_count": 55,
   "metadata": {},
   "outputs": [],
   "source": [
    "# Filter out list of zipcodes (not in geojson file) and 'nan' values\n",
    "zipCodes = ['11249','10000','11695','nan','10179']\n",
    "dff = dff[~dff['zip_code'].isin(zipCodes)]"
   ]
  },
  {
   "cell_type": "code",
   "execution_count": 56,
   "metadata": {},
   "outputs": [],
   "source": [
    "dff['id'] = dff['zip_code'].apply(lambda x: zip_id_map[x])"
   ]
  },
  {
   "cell_type": "code",
   "execution_count": 57,
   "metadata": {},
   "outputs": [],
   "source": [
    "df_p_killed_gb = dff.groupby(['zip_code'])['number_of_persons_killed'].sum().reset_index()"
   ]
  },
  {
   "cell_type": "code",
   "execution_count": 58,
   "metadata": {},
   "outputs": [],
   "source": [
    "# Link dataFrame to json file\n",
    "df_p_killed_gb['id'] = df_p_killed_gb['zip_code'].apply(lambda x: zip_id_map[x])"
   ]
  },
  {
   "cell_type": "code",
   "execution_count": 61,
   "metadata": {},
   "outputs": [
    {
     "data": {
      "text/plain": [
       "Index(['zip_code', 'number_of_persons_killed', 'id'], dtype='object')"
      ]
     },
     "execution_count": 61,
     "metadata": {},
     "output_type": "execute_result"
    }
   ],
   "source": [
    "df_p_killed_gb.columns"
   ]
  },
  {
   "cell_type": "markdown",
   "metadata": {},
   "source": [
    "### Choropleth map collision fatalities"
   ]
  },
  {
   "cell_type": "code",
   "execution_count": 62,
   "metadata": {},
   "outputs": [],
   "source": [
    "# Choropleth map using zip code boundaries (number of persons killed per zip code)\n",
    "zip_fig = px.choropleth_mapbox(\n",
    "    df_p_killed_gb,\n",
    "    locations = \"id\",\n",
    "    geojson = nyc_zip,\n",
    "    color = \"number_of_persons_killed\",\n",
    "    color_continuous_scale=px.colors.sequential.Inferno[::-1],\n",
    "    hover_name=\"zip_code\",\n",
    "    #hover_data= [\"count\"],\n",
    "    mapbox_style=\"carto-positron\",\n",
    "    center={\"lat\": 40.730610, \"lon\": -73.9749},\n",
    "    zoom=8.5,\n",
    "    opacity=0.5,\n",
    "    title = \"Zip Code Boundaries (Number of Persons Killed from 2019 to 2022)\",)"
   ]
  },
  {
   "cell_type": "code",
   "execution_count": 63,
   "metadata": {},
   "outputs": [],
   "source": [
    "zip_fig.show()"
   ]
  },
  {
   "cell_type": "markdown",
   "metadata": {},
   "source": [
    "# Distribution of Collisions per Time Periods"
   ]
  },
  {
   "cell_type": "code",
   "execution_count": 45,
   "metadata": {},
   "outputs": [],
   "source": [
    "#boro_df = dff_2021[dff_2021['boro_nm'] == boro_selected]\n",
    "dff['month'] = dff['month'].apply(pd.to_numeric)"
   ]
  },
  {
   "cell_type": "code",
   "execution_count": 19,
   "metadata": {},
   "outputs": [
    {
     "data": {
      "text/plain": [
       "Index(['crash_date', 'crash_time', 'number_of_persons_killed',\n",
       "       'number_of_pedestrians_injured', 'number_of_pedestrians_killed',\n",
       "       'number_of_cyclist_injured', 'number_of_cyclist_killed',\n",
       "       'number_of_motorist_injured', 'number_of_motorist_killed',\n",
       "       'contributing_factor_vehicle_1', 'contributing_factor_vehicle_2',\n",
       "       'collision_id', 'vehicle_type_code1', 'contributing_factor_vehicle_1',\n",
       "       'vehicle_type_code2', 'contributing_factor_vehicle_2', 'borough',\n",
       "       'zip_code', 'latitude', 'longitude', 'cross_street_name',\n",
       "       'on_street_name', 'number_persons_injured', 'year', 'month',\n",
       "       'day_of_week', 'hour'],\n",
       "      dtype='object')"
      ]
     },
     "execution_count": 19,
     "metadata": {},
     "output_type": "execute_result"
    }
   ],
   "source": [
    "dff.columns"
   ]
  },
  {
   "cell_type": "code",
   "execution_count": 20,
   "metadata": {},
   "outputs": [],
   "source": [
    "df_2021 = dff[dff[\"year\"]==2021]"
   ]
  },
  {
   "cell_type": "code",
   "execution_count": null,
   "metadata": {},
   "outputs": [],
   "source": [
    "#df_gb= df.groupby(['Month','susp_sex','boro_nm'],as_index=False)['Complaint Count'].count()"
   ]
  },
  {
   "cell_type": "code",
   "execution_count": 46,
   "metadata": {},
   "outputs": [],
   "source": [
    "accidents_months = dff.groupby(['month','year'], as_index = False)['collision_id'].count()"
   ]
  },
  {
   "cell_type": "code",
   "execution_count": 41,
   "metadata": {},
   "outputs": [],
   "source": [
    "#df = df.sort_values(by='Value', ascending=False)\n",
    "#accidents_months = accidents_months.sort_values(by = \"month\")"
   ]
  },
  {
   "cell_type": "code",
   "execution_count": 47,
   "metadata": {},
   "outputs": [
    {
     "data": {
      "text/plain": [
       "month           int64\n",
       "year            int64\n",
       "collision_id    int64\n",
       "dtype: object"
      ]
     },
     "execution_count": 47,
     "metadata": {},
     "output_type": "execute_result"
    }
   ],
   "source": [
    "accidents_months.dtypes"
   ]
  },
  {
   "cell_type": "code",
   "execution_count": null,
   "metadata": {},
   "outputs": [],
   "source": [
    "# fig = px.line(df, x=\"year\", y=\"lifeExp\", color='country')\n",
    "# fig.show()"
   ]
  },
  {
   "cell_type": "code",
   "execution_count": 48,
   "metadata": {},
   "outputs": [],
   "source": [
    "line_fig = px.line(accidents_months, x = 'month', y= 'collision_id', color = 'year')"
   ]
  },
  {
   "cell_type": "code",
   "execution_count": 49,
   "metadata": {},
   "outputs": [],
   "source": [
    "line_fig.show()"
   ]
  },
  {
   "cell_type": "code",
   "execution_count": 31,
   "metadata": {},
   "outputs": [],
   "source": [
    "# barchart = px.bar(\n",
    "#         accidents_months,\n",
    "#         x='month',\n",
    "#         y='collision_id',\n",
    "#         #color=\"susp_sex\",\n",
    "#         opacity=0.9,                  # set opacity of markers (from 0 to 1)\n",
    "#         orientation=\"v\",              # 'v','h': orientation of the marks\n",
    "#         #barmode='group',\n",
    "#         template='gridon',\n",
    "#         #labels={\"susp_sex\":\"Suspect Gender\"},\n",
    "#         #title=(\"Monthly Reports in %s\" % boro_selected)\n",
    "# )\n",
    "#     barchart.update_layout(title={'xanchor': 'center', 'yanchor': 'top', 'y': 0.9, 'x': 0.5,},\n",
    "#                            legend = dict(orientation= \"h\",\n",
    "#                            yanchor=\"bottom\",\n",
    "#                            y=1.02,\n",
    "#                            xanchor=\"right\",\n",
    "#                            x=1),\n",
    "#                           )"
   ]
  },
  {
   "cell_type": "code",
   "execution_count": 32,
   "metadata": {},
   "outputs": [],
   "source": [
    "#barchart.show()"
   ]
  },
  {
   "cell_type": "code",
   "execution_count": null,
   "metadata": {},
   "outputs": [],
   "source": []
  },
  {
   "cell_type": "markdown",
   "metadata": {},
   "source": [
    "# Daily Vehicle Miles of Travel\n",
    "- Dataset Identifier: fsr4-j7q5\n",
    "- Total Rows: 1700\n",
    "- Source Domain: data.ny.gov\n",
    "- Created: 5/14/2013, 4:08:08 PM\n",
    "- Last Updated: 12/6/2018, 6:00:23 PM\n",
    "- Category: Transportation\n",
    "- Attribution: New York State Department of Transportation\n",
    "- Owner: NY Open Data\n"
   ]
  },
  {
   "cell_type": "code",
   "execution_count": 3,
   "metadata": {},
   "outputs": [],
   "source": [
    "socrata_domain = 'data.ny.gov'\n",
    "socrata_dataset_identifier = '6amx-2pbv'\n",
    "client = Socrata(socrata_domain, app_token=\"zrfGJViqm8hhU7PFyRqvPZcyF\")\n",
    "client.timeout = 1000"
   ]
  },
  {
   "cell_type": "code",
   "execution_count": 4,
   "metadata": {},
   "outputs": [],
   "source": [
    "results = client.get(socrata_dataset_identifier, limit = 50000)"
   ]
  },
  {
   "cell_type": "code",
   "execution_count": 5,
   "metadata": {},
   "outputs": [],
   "source": [
    "traffic_data = pd.DataFrame(results)"
   ]
  },
  {
   "cell_type": "code",
   "execution_count": 6,
   "metadata": {},
   "outputs": [
    {
     "data": {
      "text/html": [
       "<div>\n",
       "<style scoped>\n",
       "    .dataframe tbody tr th:only-of-type {\n",
       "        vertical-align: middle;\n",
       "    }\n",
       "\n",
       "    .dataframe tbody tr th {\n",
       "        vertical-align: top;\n",
       "    }\n",
       "\n",
       "    .dataframe thead th {\n",
       "        text-align: right;\n",
       "    }\n",
       "</style>\n",
       "<table border=\"1\" class=\"dataframe\">\n",
       "  <thead>\n",
       "    <tr style=\"text-align: right;\">\n",
       "      <th></th>\n",
       "      <th>aadt_year</th>\n",
       "      <th>station_id</th>\n",
       "      <th>county</th>\n",
       "      <th>signing</th>\n",
       "      <th>state_route</th>\n",
       "      <th>road_name</th>\n",
       "      <th>beginning_description</th>\n",
       "      <th>ending_description</th>\n",
       "      <th>municipality</th>\n",
       "      <th>length</th>\n",
       "      <th>fc</th>\n",
       "      <th>bridge</th>\n",
       "      <th>count</th>\n",
       "      <th>oneway</th>\n",
       "      <th>ramp</th>\n",
       "      <th>rr_xing</th>\n",
       "      <th>county_road</th>\n",
       "    </tr>\n",
       "  </thead>\n",
       "  <tbody>\n",
       "    <tr>\n",
       "      <th>0</th>\n",
       "      <td>2019</td>\n",
       "      <td>10001</td>\n",
       "      <td>Bronx</td>\n",
       "      <td>Interstate</td>\n",
       "      <td>95</td>\n",
       "      <td>Alexander Hamil</td>\n",
       "      <td>NY/Bronx Co Line</td>\n",
       "      <td>I-87 MAJ DEEGAN EXP UNDER</td>\n",
       "      <td>Bronx</td>\n",
       "      <td>7</td>\n",
       "      <td>11</td>\n",
       "      <td>Y</td>\n",
       "      <td>81839</td>\n",
       "      <td>NaN</td>\n",
       "      <td>NaN</td>\n",
       "      <td>NaN</td>\n",
       "      <td>NaN</td>\n",
       "    </tr>\n",
       "    <tr>\n",
       "      <th>1</th>\n",
       "      <td>2019</td>\n",
       "      <td>10002</td>\n",
       "      <td>Bronx</td>\n",
       "      <td>Interstate</td>\n",
       "      <td>95</td>\n",
       "      <td>Cross Bronx Exp</td>\n",
       "      <td>I-87 MAJ DEEGAN EXP UNDER</td>\n",
       "      <td>MACOMBS RD OVER</td>\n",
       "      <td>Bronx</td>\n",
       "      <td>51</td>\n",
       "      <td>11</td>\n",
       "      <td>Y</td>\n",
       "      <td>92512</td>\n",
       "      <td>NaN</td>\n",
       "      <td>NaN</td>\n",
       "      <td>NaN</td>\n",
       "      <td>NaN</td>\n",
       "    </tr>\n",
       "    <tr>\n",
       "      <th>2</th>\n",
       "      <td>2019</td>\n",
       "      <td>10003</td>\n",
       "      <td>Bronx</td>\n",
       "      <td>Interstate</td>\n",
       "      <td>95</td>\n",
       "      <td>Cross Bronx Exp</td>\n",
       "      <td>MACOMBS RD OVER</td>\n",
       "      <td>END I-95/US1 OLAP WEBSTER AV</td>\n",
       "      <td>Bronx</td>\n",
       "      <td>63</td>\n",
       "      <td>11</td>\n",
       "      <td>NaN</td>\n",
       "      <td>140871</td>\n",
       "      <td>NaN</td>\n",
       "      <td>NaN</td>\n",
       "      <td>NaN</td>\n",
       "      <td>NaN</td>\n",
       "    </tr>\n",
       "    <tr>\n",
       "      <th>3</th>\n",
       "      <td>2019</td>\n",
       "      <td>10004</td>\n",
       "      <td>Bronx</td>\n",
       "      <td>US</td>\n",
       "      <td>1</td>\n",
       "      <td>WEBSTER AVE</td>\n",
       "      <td>END I-95/US1 OLAP WEBSTER AV</td>\n",
       "      <td>E FORDHAM RD</td>\n",
       "      <td>Bronx</td>\n",
       "      <td>151</td>\n",
       "      <td>14</td>\n",
       "      <td>NaN</td>\n",
       "      <td>15198</td>\n",
       "      <td>NaN</td>\n",
       "      <td>NaN</td>\n",
       "      <td>NaN</td>\n",
       "      <td>NaN</td>\n",
       "    </tr>\n",
       "    <tr>\n",
       "      <th>4</th>\n",
       "      <td>2019</td>\n",
       "      <td>10005</td>\n",
       "      <td>Bronx</td>\n",
       "      <td>US</td>\n",
       "      <td>1</td>\n",
       "      <td>E FORDHAM RD</td>\n",
       "      <td>E FORDHAM RD</td>\n",
       "      <td>RT 907H BRONX RIVER PKWY SOU</td>\n",
       "      <td>Bronx</td>\n",
       "      <td>112</td>\n",
       "      <td>14</td>\n",
       "      <td>Y</td>\n",
       "      <td>32254</td>\n",
       "      <td>NaN</td>\n",
       "      <td>NaN</td>\n",
       "      <td>NaN</td>\n",
       "      <td>NaN</td>\n",
       "    </tr>\n",
       "  </tbody>\n",
       "</table>\n",
       "</div>"
      ],
      "text/plain": [
       "  aadt_year station_id county     signing state_route        road_name  \\\n",
       "0      2019      10001  Bronx  Interstate          95  Alexander Hamil   \n",
       "1      2019      10002  Bronx  Interstate          95  Cross Bronx Exp   \n",
       "2      2019      10003  Bronx  Interstate          95  Cross Bronx Exp   \n",
       "3      2019      10004  Bronx          US           1      WEBSTER AVE   \n",
       "4      2019      10005  Bronx          US           1     E FORDHAM RD   \n",
       "\n",
       "          beginning_description            ending_description municipality  \\\n",
       "0              NY/Bronx Co Line     I-87 MAJ DEEGAN EXP UNDER        Bronx   \n",
       "1     I-87 MAJ DEEGAN EXP UNDER               MACOMBS RD OVER        Bronx   \n",
       "2               MACOMBS RD OVER  END I-95/US1 OLAP WEBSTER AV        Bronx   \n",
       "3  END I-95/US1 OLAP WEBSTER AV                  E FORDHAM RD        Bronx   \n",
       "4                  E FORDHAM RD  RT 907H BRONX RIVER PKWY SOU        Bronx   \n",
       "\n",
       "  length  fc bridge   count oneway ramp rr_xing county_road  \n",
       "0      7  11      Y   81839    NaN  NaN     NaN         NaN  \n",
       "1     51  11      Y   92512    NaN  NaN     NaN         NaN  \n",
       "2     63  11    NaN  140871    NaN  NaN     NaN         NaN  \n",
       "3    151  14    NaN   15198    NaN  NaN     NaN         NaN  \n",
       "4    112  14      Y   32254    NaN  NaN     NaN         NaN  "
      ]
     },
     "execution_count": 6,
     "metadata": {},
     "output_type": "execute_result"
    }
   ],
   "source": [
    "traffic_data.head()"
   ]
  },
  {
   "cell_type": "code",
   "execution_count": 7,
   "metadata": {},
   "outputs": [
    {
     "data": {
      "text/plain": [
       "2019    50000\n",
       "Name: aadt_year, dtype: int64"
      ]
     },
     "execution_count": 7,
     "metadata": {},
     "output_type": "execute_result"
    }
   ],
   "source": [
    "traffic_data.aadt_year.value_counts()"
   ]
  },
  {
   "cell_type": "code",
   "execution_count": 9,
   "metadata": {},
   "outputs": [
    {
     "data": {
      "text/plain": [
       "array(['Bronx', 'Brooklyn', 'Hempstead', ..., 'Mount Hope',\n",
       "       'Cornwall-on-Hudson', 'Kiryas Joel'], dtype=object)"
      ]
     },
     "execution_count": 9,
     "metadata": {},
     "output_type": "execute_result"
    }
   ],
   "source": [
    "traffic_data.municipality.unique()"
   ]
  },
  {
   "cell_type": "code",
   "execution_count": 11,
   "metadata": {},
   "outputs": [
    {
     "data": {
      "text/plain": [
       "Index(['aadt_year', 'station_id', 'county', 'signing', 'state_route',\n",
       "       'road_name', 'beginning_description', 'ending_description',\n",
       "       'municipality', 'length', 'fc', 'bridge', 'count', 'oneway', 'ramp',\n",
       "       'rr_xing', 'county_road'],\n",
       "      dtype='object')"
      ]
     },
     "execution_count": 11,
     "metadata": {},
     "output_type": "execute_result"
    }
   ],
   "source": [
    "traffic_data.columns"
   ]
  },
  {
   "cell_type": "code",
   "execution_count": 12,
   "metadata": {},
   "outputs": [
    {
     "data": {
      "text/plain": [
       "Niagara Falls         3657\n",
       "Queens                2211\n",
       "Brooklyn              1593\n",
       "Hempstead             1096\n",
       "Bronx                 1094\n",
       "                      ... \n",
       "Belle Terre              1\n",
       "Clayville                1\n",
       "Delanson                 1\n",
       "Cornwall-on-Hudson       1\n",
       "Maybrook                 1\n",
       "Name: municipality, Length: 1058, dtype: int64"
      ]
     },
     "execution_count": 12,
     "metadata": {},
     "output_type": "execute_result"
    }
   ],
   "source": [
    "traffic_data.municipality.value_counts()"
   ]
  },
  {
   "cell_type": "code",
   "execution_count": 13,
   "metadata": {},
   "outputs": [],
   "source": [
    "broo_traffic = traffic_data[traffic_data['municipality'] == 'Brooklyn']"
   ]
  },
  {
   "cell_type": "code",
   "execution_count": 14,
   "metadata": {},
   "outputs": [
    {
     "data": {
      "text/html": [
       "<div>\n",
       "<style scoped>\n",
       "    .dataframe tbody tr th:only-of-type {\n",
       "        vertical-align: middle;\n",
       "    }\n",
       "\n",
       "    .dataframe tbody tr th {\n",
       "        vertical-align: top;\n",
       "    }\n",
       "\n",
       "    .dataframe thead th {\n",
       "        text-align: right;\n",
       "    }\n",
       "</style>\n",
       "<table border=\"1\" class=\"dataframe\">\n",
       "  <thead>\n",
       "    <tr style=\"text-align: right;\">\n",
       "      <th></th>\n",
       "      <th>aadt_year</th>\n",
       "      <th>station_id</th>\n",
       "      <th>county</th>\n",
       "      <th>signing</th>\n",
       "      <th>state_route</th>\n",
       "      <th>road_name</th>\n",
       "      <th>beginning_description</th>\n",
       "      <th>ending_description</th>\n",
       "      <th>municipality</th>\n",
       "      <th>length</th>\n",
       "      <th>fc</th>\n",
       "      <th>bridge</th>\n",
       "      <th>count</th>\n",
       "      <th>oneway</th>\n",
       "      <th>ramp</th>\n",
       "      <th>rr_xing</th>\n",
       "      <th>county_road</th>\n",
       "    </tr>\n",
       "  </thead>\n",
       "  <tbody>\n",
       "    <tr>\n",
       "      <th>1094</th>\n",
       "      <td>2019</td>\n",
       "      <td>20001</td>\n",
       "      <td>Kings</td>\n",
       "      <td>NY</td>\n",
       "      <td>27</td>\n",
       "      <td>NaN</td>\n",
       "      <td>RT I278 ACC RAMP GOWANUS EXP</td>\n",
       "      <td>17TH ENT / PROSPECT AV EXIT</td>\n",
       "      <td>Brooklyn</td>\n",
       "      <td>30</td>\n",
       "      <td>12</td>\n",
       "      <td>Y</td>\n",
       "      <td>87618</td>\n",
       "      <td>NaN</td>\n",
       "      <td>NaN</td>\n",
       "      <td>NaN</td>\n",
       "      <td>NaN</td>\n",
       "    </tr>\n",
       "    <tr>\n",
       "      <th>1095</th>\n",
       "      <td>2019</td>\n",
       "      <td>20002</td>\n",
       "      <td>Kings</td>\n",
       "      <td>Interstate</td>\n",
       "      <td>278</td>\n",
       "      <td>Gowanus Express</td>\n",
       "      <td>Rich/Kings Co Line</td>\n",
       "      <td>92ND ST OVER</td>\n",
       "      <td>Brooklyn</td>\n",
       "      <td>119</td>\n",
       "      <td>11</td>\n",
       "      <td>Y</td>\n",
       "      <td>182155</td>\n",
       "      <td>NaN</td>\n",
       "      <td>NaN</td>\n",
       "      <td>NaN</td>\n",
       "      <td>NaN</td>\n",
       "    </tr>\n",
       "    <tr>\n",
       "      <th>1096</th>\n",
       "      <td>2019</td>\n",
       "      <td>20003</td>\n",
       "      <td>Kings</td>\n",
       "      <td>NY</td>\n",
       "      <td>27</td>\n",
       "      <td>NaN</td>\n",
       "      <td>10TH AVE  11TH AVE EXIT</td>\n",
       "      <td>FORT HAMILTON PKWY</td>\n",
       "      <td>Brooklyn</td>\n",
       "      <td>55</td>\n",
       "      <td>12</td>\n",
       "      <td>NaN</td>\n",
       "      <td>97588</td>\n",
       "      <td>NaN</td>\n",
       "      <td>NaN</td>\n",
       "      <td>NaN</td>\n",
       "      <td>NaN</td>\n",
       "    </tr>\n",
       "    <tr>\n",
       "      <th>1097</th>\n",
       "      <td>2019</td>\n",
       "      <td>20004</td>\n",
       "      <td>Kings</td>\n",
       "      <td>NY</td>\n",
       "      <td>27</td>\n",
       "      <td>NaN</td>\n",
       "      <td>FORT HAMILTON PKWY</td>\n",
       "      <td>E 5TH ST/CATON AVE</td>\n",
       "      <td>Brooklyn</td>\n",
       "      <td>10</td>\n",
       "      <td>12</td>\n",
       "      <td>NaN</td>\n",
       "      <td>72443</td>\n",
       "      <td>NaN</td>\n",
       "      <td>NaN</td>\n",
       "      <td>NaN</td>\n",
       "      <td>NaN</td>\n",
       "    </tr>\n",
       "    <tr>\n",
       "      <th>1098</th>\n",
       "      <td>2019</td>\n",
       "      <td>20005</td>\n",
       "      <td>Kings</td>\n",
       "      <td>NY</td>\n",
       "      <td>27</td>\n",
       "      <td>CATON AVE</td>\n",
       "      <td>E 5TH ST/CATON AVE</td>\n",
       "      <td>CONEY ISLAND AVE</td>\n",
       "      <td>Brooklyn</td>\n",
       "      <td>27</td>\n",
       "      <td>12</td>\n",
       "      <td>Y</td>\n",
       "      <td>68239</td>\n",
       "      <td>NaN</td>\n",
       "      <td>NaN</td>\n",
       "      <td>NaN</td>\n",
       "      <td>NaN</td>\n",
       "    </tr>\n",
       "  </tbody>\n",
       "</table>\n",
       "</div>"
      ],
      "text/plain": [
       "     aadt_year station_id county     signing state_route        road_name  \\\n",
       "1094      2019      20001  Kings          NY          27              NaN   \n",
       "1095      2019      20002  Kings  Interstate         278  Gowanus Express   \n",
       "1096      2019      20003  Kings          NY          27              NaN   \n",
       "1097      2019      20004  Kings          NY          27              NaN   \n",
       "1098      2019      20005  Kings          NY          27        CATON AVE   \n",
       "\n",
       "             beginning_description           ending_description municipality  \\\n",
       "1094  RT I278 ACC RAMP GOWANUS EXP  17TH ENT / PROSPECT AV EXIT     Brooklyn   \n",
       "1095            Rich/Kings Co Line                 92ND ST OVER     Brooklyn   \n",
       "1096       10TH AVE  11TH AVE EXIT           FORT HAMILTON PKWY     Brooklyn   \n",
       "1097            FORT HAMILTON PKWY           E 5TH ST/CATON AVE     Brooklyn   \n",
       "1098            E 5TH ST/CATON AVE             CONEY ISLAND AVE     Brooklyn   \n",
       "\n",
       "     length  fc bridge   count oneway ramp rr_xing county_road  \n",
       "1094     30  12      Y   87618    NaN  NaN     NaN         NaN  \n",
       "1095    119  11      Y  182155    NaN  NaN     NaN         NaN  \n",
       "1096     55  12    NaN   97588    NaN  NaN     NaN         NaN  \n",
       "1097     10  12    NaN   72443    NaN  NaN     NaN         NaN  \n",
       "1098     27  12      Y   68239    NaN  NaN     NaN         NaN  "
      ]
     },
     "execution_count": 14,
     "metadata": {},
     "output_type": "execute_result"
    }
   ],
   "source": [
    "broo_traffic.head()"
   ]
  },
  {
   "cell_type": "code",
   "execution_count": null,
   "metadata": {},
   "outputs": [],
   "source": []
  },
  {
   "cell_type": "code",
   "execution_count": null,
   "metadata": {},
   "outputs": [],
   "source": []
  },
  {
   "cell_type": "code",
   "execution_count": null,
   "metadata": {},
   "outputs": [],
   "source": []
  },
  {
   "cell_type": "code",
   "execution_count": null,
   "metadata": {},
   "outputs": [],
   "source": []
  },
  {
   "cell_type": "code",
   "execution_count": 8,
   "metadata": {},
   "outputs": [],
   "source": [
    "traffic_data = traffic_data[traffic_data['aadt_year'] == '2019']"
   ]
  },
  {
   "cell_type": "code",
   "execution_count": 9,
   "metadata": {},
   "outputs": [],
   "source": [
    "traffic_kings = traffic_data[traffic_data['county'] == 'Kings']"
   ]
  },
  {
   "cell_type": "code",
   "execution_count": 13,
   "metadata": {},
   "outputs": [],
   "source": [
    "traffic_kings = traffic_kings[traffic_kings.road_name.notnull()] #>df[df.Last_Name.notnull()]"
   ]
  },
  {
   "cell_type": "code",
   "execution_count": 19,
   "metadata": {},
   "outputs": [
    {
     "data": {
      "text/plain": [
       "aadt_year                   0\n",
       "station_id                  0\n",
       "county                      0\n",
       "signing                  1567\n",
       "state_route              1551\n",
       "road_name                   0\n",
       "beginning_description       2\n",
       "ending_description          2\n",
       "municipality                0\n",
       "length                      0\n",
       "fc                          0\n",
       "bridge                   1425\n",
       "count                       0\n",
       "oneway                    918\n",
       "ramp                     1511\n",
       "rr_xing                  1584\n",
       "county_road              1589\n",
       "dtype: int64"
      ]
     },
     "execution_count": 19,
     "metadata": {},
     "output_type": "execute_result"
    }
   ],
   "source": [
    "traffic_kings.isnull().sum()"
   ]
  },
  {
   "cell_type": "code",
   "execution_count": 38,
   "metadata": {},
   "outputs": [
    {
     "data": {
      "text/html": [
       "<div>\n",
       "<style scoped>\n",
       "    .dataframe tbody tr th:only-of-type {\n",
       "        vertical-align: middle;\n",
       "    }\n",
       "\n",
       "    .dataframe tbody tr th {\n",
       "        vertical-align: top;\n",
       "    }\n",
       "\n",
       "    .dataframe thead th {\n",
       "        text-align: right;\n",
       "    }\n",
       "</style>\n",
       "<table border=\"1\" class=\"dataframe\">\n",
       "  <thead>\n",
       "    <tr style=\"text-align: right;\">\n",
       "      <th></th>\n",
       "      <th>aadt_year</th>\n",
       "      <th>station_id</th>\n",
       "      <th>county</th>\n",
       "      <th>signing</th>\n",
       "      <th>state_route</th>\n",
       "      <th>road_name</th>\n",
       "      <th>beginning_description</th>\n",
       "      <th>ending_description</th>\n",
       "      <th>municipality</th>\n",
       "      <th>length</th>\n",
       "      <th>fc</th>\n",
       "      <th>bridge</th>\n",
       "      <th>count</th>\n",
       "      <th>oneway</th>\n",
       "      <th>ramp</th>\n",
       "      <th>rr_xing</th>\n",
       "      <th>county_road</th>\n",
       "    </tr>\n",
       "  </thead>\n",
       "  <tbody>\n",
       "    <tr>\n",
       "      <th>1353</th>\n",
       "      <td>2019</td>\n",
       "      <td>21328</td>\n",
       "      <td>Kings</td>\n",
       "      <td>NaN</td>\n",
       "      <td>NaN</td>\n",
       "      <td>PROSPECT PK SW</td>\n",
       "      <td>PARK CIR</td>\n",
       "      <td>10TH AVE</td>\n",
       "      <td>Brooklyn</td>\n",
       "      <td>70</td>\n",
       "      <td>14</td>\n",
       "      <td>NaN</td>\n",
       "      <td>9569</td>\n",
       "      <td>NaN</td>\n",
       "      <td>NaN</td>\n",
       "      <td>NaN</td>\n",
       "      <td>NaN</td>\n",
       "    </tr>\n",
       "    <tr>\n",
       "      <th>1354</th>\n",
       "      <td>2019</td>\n",
       "      <td>21329</td>\n",
       "      <td>Kings</td>\n",
       "      <td>NaN</td>\n",
       "      <td>NaN</td>\n",
       "      <td>PROSPECT PK SW</td>\n",
       "      <td>10TH AVE</td>\n",
       "      <td>PROSPECT PK W</td>\n",
       "      <td>Brooklyn</td>\n",
       "      <td>13</td>\n",
       "      <td>14</td>\n",
       "      <td>NaN</td>\n",
       "      <td>8578</td>\n",
       "      <td>NaN</td>\n",
       "      <td>NaN</td>\n",
       "      <td>NaN</td>\n",
       "      <td>NaN</td>\n",
       "    </tr>\n",
       "    <tr>\n",
       "      <th>1355</th>\n",
       "      <td>2019</td>\n",
       "      <td>21330</td>\n",
       "      <td>Kings</td>\n",
       "      <td>NaN</td>\n",
       "      <td>NaN</td>\n",
       "      <td>PROSPECT PK W</td>\n",
       "      <td>PLAZA ST W</td>\n",
       "      <td>BARTEL PRITCHARD SQ</td>\n",
       "      <td>Brooklyn</td>\n",
       "      <td>93</td>\n",
       "      <td>14</td>\n",
       "      <td>NaN</td>\n",
       "      <td>17621</td>\n",
       "      <td>Y</td>\n",
       "      <td>NaN</td>\n",
       "      <td>NaN</td>\n",
       "      <td>NaN</td>\n",
       "    </tr>\n",
       "    <tr>\n",
       "      <th>1386</th>\n",
       "      <td>2019</td>\n",
       "      <td>21361</td>\n",
       "      <td>Kings</td>\n",
       "      <td>NaN</td>\n",
       "      <td>NaN</td>\n",
       "      <td>PROSPECT PK W</td>\n",
       "      <td>PROSPECT EXPY</td>\n",
       "      <td>BARTEL PRITCHARD SQ</td>\n",
       "      <td>Brooklyn</td>\n",
       "      <td>29</td>\n",
       "      <td>14</td>\n",
       "      <td>Y</td>\n",
       "      <td>7803</td>\n",
       "      <td>NaN</td>\n",
       "      <td>NaN</td>\n",
       "      <td>NaN</td>\n",
       "      <td>NaN</td>\n",
       "    </tr>\n",
       "    <tr>\n",
       "      <th>1579</th>\n",
       "      <td>2019</td>\n",
       "      <td>22059</td>\n",
       "      <td>Kings</td>\n",
       "      <td>NaN</td>\n",
       "      <td>NaN</td>\n",
       "      <td>PROSPECT AVE</td>\n",
       "      <td>OCEAN PKWY</td>\n",
       "      <td>3RD AVE</td>\n",
       "      <td>Brooklyn</td>\n",
       "      <td>162</td>\n",
       "      <td>16</td>\n",
       "      <td>NaN</td>\n",
       "      <td>4421</td>\n",
       "      <td>NaN</td>\n",
       "      <td>NaN</td>\n",
       "      <td>NaN</td>\n",
       "      <td>NaN</td>\n",
       "    </tr>\n",
       "    <tr>\n",
       "      <th>2266</th>\n",
       "      <td>2019</td>\n",
       "      <td>24300</td>\n",
       "      <td>Kings</td>\n",
       "      <td>NaN</td>\n",
       "      <td>NaN</td>\n",
       "      <td>PROSPECT ST</td>\n",
       "      <td>OLD FULTON ST</td>\n",
       "      <td>ADAMS ST</td>\n",
       "      <td>Brooklyn</td>\n",
       "      <td>13</td>\n",
       "      <td>16</td>\n",
       "      <td>NaN</td>\n",
       "      <td>13124</td>\n",
       "      <td>Y</td>\n",
       "      <td>NaN</td>\n",
       "      <td>NaN</td>\n",
       "      <td>NaN</td>\n",
       "    </tr>\n",
       "    <tr>\n",
       "      <th>2586</th>\n",
       "      <td>2019</td>\n",
       "      <td>26024</td>\n",
       "      <td>Kings</td>\n",
       "      <td>NaN</td>\n",
       "      <td>NaN</td>\n",
       "      <td>PROSPECT PK W</td>\n",
       "      <td>20TH ST</td>\n",
       "      <td>PROSPECT EXPY</td>\n",
       "      <td>Brooklyn</td>\n",
       "      <td>7</td>\n",
       "      <td>16</td>\n",
       "      <td>Y</td>\n",
       "      <td>8134</td>\n",
       "      <td>NaN</td>\n",
       "      <td>NaN</td>\n",
       "      <td>NaN</td>\n",
       "      <td>NaN</td>\n",
       "    </tr>\n",
       "  </tbody>\n",
       "</table>\n",
       "</div>"
      ],
      "text/plain": [
       "     aadt_year station_id county signing state_route       road_name  \\\n",
       "1353      2019      21328  Kings     NaN         NaN  PROSPECT PK SW   \n",
       "1354      2019      21329  Kings     NaN         NaN  PROSPECT PK SW   \n",
       "1355      2019      21330  Kings     NaN         NaN   PROSPECT PK W   \n",
       "1386      2019      21361  Kings     NaN         NaN   PROSPECT PK W   \n",
       "1579      2019      22059  Kings     NaN         NaN    PROSPECT AVE   \n",
       "2266      2019      24300  Kings     NaN         NaN     PROSPECT ST   \n",
       "2586      2019      26024  Kings     NaN         NaN   PROSPECT PK W   \n",
       "\n",
       "     beginning_description   ending_description municipality length  fc  \\\n",
       "1353              PARK CIR             10TH AVE     Brooklyn     70  14   \n",
       "1354              10TH AVE        PROSPECT PK W     Brooklyn     13  14   \n",
       "1355            PLAZA ST W  BARTEL PRITCHARD SQ     Brooklyn     93  14   \n",
       "1386         PROSPECT EXPY  BARTEL PRITCHARD SQ     Brooklyn     29  14   \n",
       "1579            OCEAN PKWY              3RD AVE     Brooklyn    162  16   \n",
       "2266         OLD FULTON ST             ADAMS ST     Brooklyn     13  16   \n",
       "2586               20TH ST        PROSPECT EXPY     Brooklyn      7  16   \n",
       "\n",
       "     bridge  count oneway ramp rr_xing county_road  \n",
       "1353    NaN   9569    NaN  NaN     NaN         NaN  \n",
       "1354    NaN   8578    NaN  NaN     NaN         NaN  \n",
       "1355    NaN  17621      Y  NaN     NaN         NaN  \n",
       "1386      Y   7803    NaN  NaN     NaN         NaN  \n",
       "1579    NaN   4421    NaN  NaN     NaN         NaN  \n",
       "2266    NaN  13124      Y  NaN     NaN         NaN  \n",
       "2586      Y   8134    NaN  NaN     NaN         NaN  "
      ]
     },
     "execution_count": 38,
     "metadata": {},
     "output_type": "execute_result"
    }
   ],
   "source": [
    "traffic_kings.loc[traffic_kings['road_name'].str.startswith(\"PROSPECT\")]\n",
    "#s.str.startswith('b', na=False)"
   ]
  },
  {
   "cell_type": "code",
   "execution_count": 37,
   "metadata": {},
   "outputs": [
    {
     "data": {
      "text/html": [
       "<div>\n",
       "<style scoped>\n",
       "    .dataframe tbody tr th:only-of-type {\n",
       "        vertical-align: middle;\n",
       "    }\n",
       "\n",
       "    .dataframe tbody tr th {\n",
       "        vertical-align: top;\n",
       "    }\n",
       "\n",
       "    .dataframe thead th {\n",
       "        text-align: right;\n",
       "    }\n",
       "</style>\n",
       "<table border=\"1\" class=\"dataframe\">\n",
       "  <thead>\n",
       "    <tr style=\"text-align: right;\">\n",
       "      <th></th>\n",
       "      <th>aadt_year</th>\n",
       "      <th>count</th>\n",
       "    </tr>\n",
       "  </thead>\n",
       "  <tbody>\n",
       "    <tr>\n",
       "      <th>0</th>\n",
       "      <td>2019</td>\n",
       "      <td>1821556823943214318511083711061201036851563431...</td>\n",
       "    </tr>\n",
       "  </tbody>\n",
       "</table>\n",
       "</div>"
      ],
      "text/plain": [
       "  aadt_year                                              count\n",
       "0      2019  1821556823943214318511083711061201036851563431..."
      ]
     },
     "execution_count": 37,
     "metadata": {},
     "output_type": "execute_result"
    }
   ],
   "source": [
    "traffic_kings.groupby(['aadt_year'])['count'].sum().reset_index()"
   ]
  },
  {
   "cell_type": "code",
   "execution_count": 34,
   "metadata": {},
   "outputs": [
    {
     "data": {
      "text/plain": [
       "array(['Gowanus Express', 'CATON AVE', 'LINDEN BLVD', 'BKLYN/QUEENS EX',\n",
       "       'Brooklyn-Batter', 'CHURCH AVE', 'OCEAN PKWY', 'SHORE PK/LF ERI',\n",
       "       'SHORE PWKY', 'SHORE PKWY', 'Jackie Robinson', 'Marine Pkwy Bri',\n",
       "       'PENNSYLVANIA AV', 'GREENPOINT AVE', 'BEDFORD AVE', '10TH AVE',\n",
       "       '15TH AVE', '2ND AVE', '39TH ST', '3RD AVE', '4TH AVE', '65TH ST',\n",
       "       '86TH ST', '8TH AVE', 'ADAMS ST', 'ATLANTIC AVE', 'AVENUE J',\n",
       "       'AVENUE N', 'AVENUE P', 'KINGS HWY', 'AVENUE U', 'BAY 8TH ST',\n",
       "       'BAY PKWY', 'BOERUM PL', 'BROOKLYN BR', 'BUSHWICK AVE',\n",
       "       'CADMAN PLAZA W', 'CLINTON ST', 'COLUMBIA ST', 'CONDUIT BLVD',\n",
       "       'CONEY ISLAND AV', 'COURT ST', 'CROPSEY AVE', 'W 5TH ST',\n",
       "       'DEGRAW ST', 'DEKALB AVE', 'E 98TH ST', 'E NEW YORK AVE',\n",
       "       'EASTERN PKWY', 'EASTRN PKY EXT', 'EMMONS AVE', 'EUCLID AVE',\n",
       "       'FLATBUSH AVE', 'FLATBSH AV EXT', 'FLATLANDS AVE', 'FLUSHING AVE',\n",
       "       'FT HAMILTON PKW', 'CYPRESS HILLS S', 'FULTON ST', 'GERRITSEN AVE',\n",
       "       'GRAND ST', 'BORINQUEN PL', 'HAMILTON AVE', 'HOWARD AVE',\n",
       "       'HUMBOLDT ST', 'JAMAICA AVE', 'JORALEMON ST', 'KNAPP ST',\n",
       "       'LAFAYETTE AVE', 'LEE AVE', 'MANHATTAN BR Up', 'McGUINNESS BLVD',\n",
       "       'MEEKER AVE S', 'MESEROLE ST', 'METROPOLITAN AV', 'MILL AVE',\n",
       "       'MONTROSE AVE', 'MYRTLE AVE', 'NEPTUNE AVE', 'NOSTRAND AVE',\n",
       "       'OCEAN AVE', 'OLD FULTON ST', 'PARKSIDE AVE', 'PLAZA ST E',\n",
       "       'PLAZA ST W', 'PROSPECT PK SW', 'PROSPECT PK W', 'RALPH AVE',\n",
       "       'REMSEN AVE', 'I278 Exit 29B', 'ROCKAWAY AVE', 'ROCKAWAY PKWY',\n",
       "       'ROGERS AVE', 'S 4TH ST', 'S 5TH ST', 'SURF AVE', 'TILLARY ST',\n",
       "       'UNION ST', 'UTICA AVE', 'VAN BRUNT ST', 'VANDERBILT AVE',\n",
       "       'W 37TH ST', 'WILLIAMSBRG BR', 'SHORE PKY S RD', 'BROADWAY',\n",
       "       'BERGEN ST', 'DEAN ST', 'SUTTER AVE', 'GATES AVE',\n",
       "       'BAY RIDGE PKWY', '60TH ST', '18TH AVE', 'NEW YORK AVE',\n",
       "       'HALSEY ST', 'FOSTER AVE', 'NEW UTRECHT AV', 'CORTELYOU RD',\n",
       "       'SHORE RD', 'FRANKLIN AVE', '50TH ST', '13TH AVE', 'LIBERTY AVE',\n",
       "       'WASHINGTON AVE', '49TH ST', 'ST JOHNS PL', 'STILLWELL AVE',\n",
       "       'PARK AVE', 'KENT AVE', 'RUTLAND RD', 'STANLEY AVE',\n",
       "       'SARATOGA AVE', '11TH AVE', 'AVENUE M', 'BAY RIDGE AVE',\n",
       "       'SNYDER AVE', 'CLARENDON RD', 'QUINCY ST', 'SCHENCK AVE',\n",
       "       'AVENUE Z', 'THROOP AVE', 'BROOKLYN AVE', 'LORIMER ST', 'AVENUE D',\n",
       "       'CENTRAL AVE', 'CLASSON AVE', 'AVENUE L', 'NEW LOTS AVE',\n",
       "       'WILSON AVE', 'PROSPECT AVE', 'RIDGE BLVD', 'AVENUE K',\n",
       "       'COLONIAL RD', 'EMPIRE BLVD', 'Marcus Garvey/S', 'AVENUE H',\n",
       "       'LEFFERTS AVE', 'MOTHER GASTON B', 'SMITH ST', 'TOMPKINS AVE',\n",
       "       'AVENUE S', 'MORGAN AVE', 'MARCY AVE', '3RD ST', 'AVENUE O',\n",
       "       'DRIGGS AVE', 'LEWIS AVE', 'ALBANY AVE', 'BENSON AVE',\n",
       "       'E 108TH ST', 'GRAHAM AVE', '37TH ST', 'BATH AVE',\n",
       "       'STUYVESANT AVE', 'COZINE AVE', 'DAHILL RD', 'MANHATTAN AVE',\n",
       "       '16TH AVE', 'GLENWOOD RD', 'WORTMAN AVE', 'MERMAID AVE',\n",
       "       'SCHENECTADY AVE', 'TROY AVE', 'KINGSTON AVE', 'WINTHROP ST',\n",
       "       'MALCOLM X BLVD', 'UNION AVE', 'CLARKSON AVE', 'E 36TH ST',\n",
       "       '15TH ST', 'JOHNSON AVE', 'CRESCENT ST', 'GRAVSND NCK RD',\n",
       "       '20TH ST', 'LINDEN ST', 'CLINTON AVE', 'FARRAGUT RD', 'HICKS ST',\n",
       "       'KNICKERBOCKER A', 'HEGEMAN AVE', '1ST AVE', 'THOMS BOYLAND S',\n",
       "       'SEAVIEW AVE', 'SHORE BLVD', '9TH ST', 'WALLABOUT ST',\n",
       "       'BEVERLYE RD', 'WYCKOFF AVE', 'E 80TH ST', 'LOUISIANA AVE',\n",
       "       'NASSAU AVE', 'GREENE AVE', 'FILLMORE AVE', 'FRANKLIN ST',\n",
       "       'CARLTON AVE', 'ORIENTAL BLVD', 'FURMAN ST', 'SCHERMERHRN ST',\n",
       "       'AVENUE R', 'BRIGHTON BEACH', 'LIVINGSTON ST', 'TILDEN AVE',\n",
       "       'SCHAEFFER ST', 'BOND ST', 'HARWAY AVE', 'HENRY ST', 'HOYT ST',\n",
       "       '52ND ST', 'KINGSLAND AVE', 'NEVINS ST', 'SHELL RD',\n",
       "       'VANDERVOORT AVE', 'WILLOUGHBY AVE', '24TH AVE', '67TH ST',\n",
       "       '47TH ST', '55TH ST', '58TH ST', '53RD ST', '12TH AVE',\n",
       "       'ST MARKS AVE', 'BERRIMAN ST', 'CLEVELAND ST', 'LOGAN ST',\n",
       "       'LENOX RD', 'MEEKER AVE N', 'DUMONT AVE', '9TH AVE', 'AVENUE V',\n",
       "       'AVENUE W', '78TH ST', 'HERKIMER ST', 'PUTNAM AVE',\n",
       "       'NY27 Exit 2 AT', 'NY27 Exit 3 AT', 'NY 27 Exit 4 AT',\n",
       "       'NY27 Exit 5 AT', 'I278 EXIT 17 at', 'I278 Exits 18-1',\n",
       "       'I278 EXIT 20 at', 'I278 Exit 27 AT', '908B Exit 1 AT',\n",
       "       '907C Exit 1 AT', '907C Exit 2 4th', '907C Exit 4 ERI',\n",
       "       '907C Exit 5 BAY', '907C Exit 6 CRO', '907C Exit 7 SHO',\n",
       "       '907C Exit 8 CON', '907C Exit 9 EMM', '907C Exit 11 FL',\n",
       "       '907C Exit 13 RO', '907C Exit 14 PE', '101ST ST', '14TH AVE',\n",
       "       '20TH AVE', '23RD ST', '25TH AVE', '26TH AVE', '36TH ST',\n",
       "       '43RD ST', '56TH ST', '57TH ST', '5TH AVE', '62ND ST', '6TH AVE',\n",
       "       '71ST ST', '72ND ST', '7TH AVE', '92ND ST', 'ADELPHI ST',\n",
       "       'ALTON PL', 'AMITY ST', 'ASHFORD ST', 'ASHLAND PL', 'AVENUE B',\n",
       "       'AVENUE T', 'AVENUE X', 'BAY 41ST ST', 'BAY 50TH ST', 'BAY ST',\n",
       "       'BAY VIEW AVE', 'BEARD ST', 'BERGEN AVE', 'BEVERLY RD', 'BOX ST',\n",
       "       'BRAGG ST', 'BREVOORT PL', 'BRIDGE ST', 'BRIDGEWATER ST',\n",
       "       'BRIGHTN 11TH ST', 'BUFFALO AVE', 'CAMPUS RD', 'CANAL AVE',\n",
       "       'CASS PL', 'CLARK ST', 'CLYMER ST', 'COMMERCIAL ST', 'CONCORD ST',\n",
       "       'CORBIN PL', 'COYLE ST', 'CUMBERLAND ST', 'DREW ST', 'DUFFIELD ST',\n",
       "       'DUPONT ST', 'POLY PL', 'E 14TH ST', 'E 15TH ST', 'E 16TH ST',\n",
       "       'E 40TH ST', 'E 53RD ST', 'E 56TH ST', 'E 61ST ST', 'E 73RD ST',\n",
       "       'E 83RD ST', 'E 96TH ST', 'ELDERT LA', 'ENGERT AVE', 'ETNA ST',\n",
       "       'FORCE TUBE AVE', 'FOUNTAIN AVE', 'FREEMAN ST', 'FRONT ST',\n",
       "       'GARDNER AVE', 'GLENMORE AVE', 'GOLD ST', 'GRAND AVE',\n",
       "       'GRAVESEND NECK', 'GREEN ST', 'GUIDER AVE', 'HALLECK ST',\n",
       "       'HANSON PL', 'HARKNESS AVE', 'HARRISON AVE', 'HAVEMEYER ST',\n",
       "       'HEMLOCK ST', 'HIGH ST', 'HIGHLAND PL', 'JAY ST', 'JOHNSON ST',\n",
       "       'JUNIUS ST', 'KENT ST', 'LAWRENCE ST', 'LINCOLN AVE',\n",
       "       'LINCOLN RD SPUR', 'LOMBARDY ST', 'LORING AVE', 'LORRAINE ST',\n",
       "       'MARINE AVE', 'MASPETH AVE', 'MC DONALD AVE', 'MONTAGUE ST',\n",
       "       'N 10TH ST', 'N 11TH ST', 'N HENRY ST', 'NARROWS AVE', 'NASSAU ST',\n",
       "       'NAVY ST', 'NELSON ST', 'NEWKIRK AVE', 'NORMAN AVE',\n",
       "       'OCEANVIEW AVE', 'OLD NEW UTRCHT', 'OVERBAUGH PL', 'OXFORD ST',\n",
       "       'PACIFIC ST', 'PAERDGT 14TH ST', 'PAERDEGAT 15TH',\n",
       "       'PAERDEGAT AVE N', 'PAIDGE AVE', 'PEARL ST', 'PIERREPONT ST',\n",
       "       'PITKIN AVE', 'PORTAL ST', 'PORTER AVE', 'POWELL ST',\n",
       "       'PRSPCT PK RD CE', 'PRSPCT PK RD E', 'PRSPCT PK RD W',\n",
       "       'PRSPCT PK RD S', 'PROSPECT ST', 'REMSEN ST', 'RICHARDS ST',\n",
       "       'ROCHESTER AVE', 'RODNEY ST', 'ROEBLING ST', 'RYERSON ST',\n",
       "       'S 3RD ST', 'S 8TH ST', 'S PORTLAND AVE', 'SANDS ST',\n",
       "       'SHPSHD BAY RD', 'SHORE PKY N RD', 'SHORE RD DR', 'ST PAULS PL',\n",
       "       'SUMNER PL', 'TAYLOR ST', 'TERRACE PL', 'THAMES ST',\n",
       "       'UNDERHILL AVE', 'VAN DYKE ST', 'VAN SINDEREN AV', 'VANDALIA AVE',\n",
       "       'VANDAM ST', 'VARICK ST', 'VETERANS AVE', 'VOORHIES AVE',\n",
       "       'W 21ST ST', 'W 33RD ST', 'W 36TH ST', 'W 8TH ST', 'W 9TH ST',\n",
       "       'W BRIGHTON AVE', 'WASHINGTON PARK', 'WEST END AVE', 'WEST ST',\n",
       "       'WILLIAMS AVE', 'WILLOUGHBY ST', 'WOLCOTT ST', 'WOODPOINT RD',\n",
       "       'WOODRUFF AVE', 'WYTHE AVE', 'YORK ST', 'FLATBUSH AV SPR', 'RMP',\n",
       "       'W 17TH ST', 'RIDGEWOOD AVE', 'NORWOOD AVE', '77TH ST',\n",
       "       'SACKETT ST', 'SEELEY ST', 'COLUMBIA HTS', 'QUAY ST', 'ASH ST',\n",
       "       'JEWEL ST', 'N 5TH ST', 'HOOPER ST', 'WILSON ST', 'SPENCER ST',\n",
       "       'SKILLMAN ST', 'KOSCIUSZKO ST', 'GROVE ST', 'MELROSE ST',\n",
       "       'FORREST ST', 'DODWORTH ST', 'SEIGEL ST', 'IRVING AVE',\n",
       "       'VARICK AVE', 'DEBEVOISE AVE', 'TEN EYCK ST', 'JUDGE ST',\n",
       "       'RIVER ST', 'MC KIBBIN ST', 'INGRAHAM ST', 'LOCUST ST',\n",
       "       'DELMONICO PL', 'E 100TH ST', 'E 93RD ST', 'E 84TH ST',\n",
       "       'E 78TH ST', 'E 66TH ST', 'E 58TH ST', 'E 48TH ST', 'KRIER PL',\n",
       "       'BEDELL LA', 'SCHOOL LA', 'ARKANSAS DR', '53RD PL', 'CANTON CT',\n",
       "       'MELBA CT', 'IRA CT', 'JOVAL CT', 'E 35TH ST', 'E 46TH ST',\n",
       "       'E 45TH ST', 'HUBBARD PL', 'E 39TH ST', 'GRAFTON ST', 'WATKINS ST',\n",
       "       'SACKMAN ST', 'SKIDMORE PL', 'CANARSIE RD', 'ROST PL',\n",
       "       'KAUFMAN PL', 'DORSET ST', 'AUTUMN LA', 'OLD MILL RD',\n",
       "       'NEWPORT ST', 'LOTT PL', 'MONTAUK AVE', 'BRADFORD ST',\n",
       "       'N OXFORD ST', 'FT GREENE PL', 'STATE ST', 'CHEEVER PL', '1 ST',\n",
       "       '12TH STREET', 'CREAMER ST', 'BOWNE ST', 'CALDER PL', '17TH ST',\n",
       "       '19TH ST', '29TH ST', 'VANDERBILT ST', 'ABERMARLE RD', 'AVE C',\n",
       "       'E 8 ST', 'E 5TH ST', 'E 3RD ST', 'WESTBURY CT', 'E 22ND ST',\n",
       "       'E 19TH ST', 'VILLAGE RD N', 'OCEAN CT', 'BRIGHTON 5TH ST',\n",
       "       'BRIGHTON 15TH S', 'HOMECREST AVE', 'DOVER ST', 'BROWN ST',\n",
       "       'E 13TH ST', 'E 4TH ST', 'E 2ND ST', 'W 1 ST', 'W 2ND ST',\n",
       "       'W 10TH ST', 'W 12TH ST', 'W 15TH ST', 'MAPLE AVE', 'OCEANIC AVE',\n",
       "       'BAY 22ND ST', 'BAY 19TH ST', 'BAY 14TH ST', 'HARBOR VIEW TER',\n",
       "       'LOUISE TER', '97TH ST', '85TH ST', '84TH ST', '82ND ST',\n",
       "       '73RD ST', '59TH ST', 'RADDE PL', 'MONACO PL', 'STEWART ST',\n",
       "       'TAMPA CT', 'HAWTHORNE ST', 'ALBEMARLE RD', 'BELMONT AVE',\n",
       "       'SHEFFIELD AVE', 'MARGINAL ST E', 'MARGINAL ST W', 'SCHENCK CT',\n",
       "       'JEROME ST', 'HALE AVE', 'SHERIDAN AVE', 'MC KINLEY AV',\n",
       "       'MCKINLEY AVE', 'E 99TH ST', 'N 13TH ST', 'N 9TH ST', 'N 4TH ST',\n",
       "       'KEAP ST', 'JEFFERSON AVE', 'PALMETTO ST', 'E 92ND ST',\n",
       "       'E 89TH ST', 'FRANK CT', 'SEAVIEW CT', 'HALL ST', 'ST JAMES PL',\n",
       "       'ANCHORAGE PL', 'BUTLER ST', 'MONTGOMERY PL', 'OTSEGO ST',\n",
       "       'TEHAMA ST', 'WESTMINSTER RD', 'E 23RD ST', 'WELLINGTON CT',\n",
       "       'IRVINGTON PL', 'AURELIA CT', 'E 9TH ST', 'W 32ND ST', '28TH AVE',\n",
       "       'FORD ST', 'DIVISION AVE', 'OVINGTON AVE', 'S 9TH ST',\n",
       "       'WOODHULL ST', 'KANE ST', 'CONGRESS ST', 'CARROLL ST',\n",
       "       'LINCOLN RD', 'CROOKE AVE', 'E 18TH ST', 'DORCHESTER RD',\n",
       "       'DITMAS AV', 'STERLING PL', 'LINCOLN PL', 'PRESIDENT ST',\n",
       "       'CROWN ST', 'MONTGOMERY ST', '19TH AVE', 'HIGHLAWN AVE',\n",
       "       'I278 Exit 23 AT', 'BLAKE AVE', 'ATLANTIC AVE SR', 'HIGHLAND BLVD',\n",
       "       'DECATUR ST', 'CORNELIA ST', 'COOPER ST', 'AVENUE I'], dtype=object)"
      ]
     },
     "execution_count": 34,
     "metadata": {},
     "output_type": "execute_result"
    }
   ],
   "source": [
    "traffic_kings.road_name.unique()"
   ]
  },
  {
   "cell_type": "code",
   "execution_count": 28,
   "metadata": {},
   "outputs": [
    {
     "data": {
      "text/html": [
       "<div>\n",
       "<style scoped>\n",
       "    .dataframe tbody tr th:only-of-type {\n",
       "        vertical-align: middle;\n",
       "    }\n",
       "\n",
       "    .dataframe tbody tr th {\n",
       "        vertical-align: top;\n",
       "    }\n",
       "\n",
       "    .dataframe thead th {\n",
       "        text-align: right;\n",
       "    }\n",
       "</style>\n",
       "<table border=\"1\" class=\"dataframe\">\n",
       "  <thead>\n",
       "    <tr style=\"text-align: right;\">\n",
       "      <th></th>\n",
       "      <th>aadt_year</th>\n",
       "      <th>station_id</th>\n",
       "      <th>county</th>\n",
       "      <th>signing</th>\n",
       "      <th>state_route</th>\n",
       "      <th>road_name</th>\n",
       "      <th>beginning_description</th>\n",
       "      <th>ending_description</th>\n",
       "      <th>municipality</th>\n",
       "      <th>length</th>\n",
       "      <th>fc</th>\n",
       "      <th>bridge</th>\n",
       "      <th>count</th>\n",
       "      <th>oneway</th>\n",
       "      <th>ramp</th>\n",
       "      <th>rr_xing</th>\n",
       "      <th>county_road</th>\n",
       "    </tr>\n",
       "  </thead>\n",
       "  <tbody>\n",
       "  </tbody>\n",
       "</table>\n",
       "</div>"
      ],
      "text/plain": [
       "Empty DataFrame\n",
       "Columns: [aadt_year, station_id, county, signing, state_route, road_name, beginning_description, ending_description, municipality, length, fc, bridge, count, oneway, ramp, rr_xing, county_road]\n",
       "Index: []"
      ]
     },
     "execution_count": 28,
     "metadata": {},
     "output_type": "execute_result"
    }
   ],
   "source": [
    "dfff\n",
    "#df_neiborhood = df_h3_gb3.loc[df_h3_gb3.ntaname.str.contains('astoria', case = False)]\n"
   ]
  },
  {
   "cell_type": "code",
   "execution_count": 35,
   "metadata": {},
   "outputs": [],
   "source": [
    "#traffic_kings = traffic_data[traffic_data['road_name'] == 'Belt Parkway']\n",
    "#Belt Parkway\n",
    "#pokemon_games = df.loc[df['Name'].str.contains(\"pokemon\", case=False)]"
   ]
  },
  {
   "cell_type": "code",
   "execution_count": 37,
   "metadata": {},
   "outputs": [
    {
     "data": {
      "text/html": [
       "<div>\n",
       "<style scoped>\n",
       "    .dataframe tbody tr th:only-of-type {\n",
       "        vertical-align: middle;\n",
       "    }\n",
       "\n",
       "    .dataframe tbody tr th {\n",
       "        vertical-align: top;\n",
       "    }\n",
       "\n",
       "    .dataframe thead th {\n",
       "        text-align: right;\n",
       "    }\n",
       "</style>\n",
       "<table border=\"1\" class=\"dataframe\">\n",
       "  <thead>\n",
       "    <tr style=\"text-align: right;\">\n",
       "      <th></th>\n",
       "      <th>aadt_year</th>\n",
       "      <th>station_id</th>\n",
       "      <th>county</th>\n",
       "      <th>signing</th>\n",
       "      <th>state_route</th>\n",
       "      <th>road_name</th>\n",
       "      <th>beginning_description</th>\n",
       "      <th>ending_description</th>\n",
       "      <th>municipality</th>\n",
       "      <th>length</th>\n",
       "      <th>fc</th>\n",
       "      <th>bridge</th>\n",
       "      <th>count</th>\n",
       "      <th>oneway</th>\n",
       "      <th>ramp</th>\n",
       "      <th>rr_xing</th>\n",
       "      <th>county_road</th>\n",
       "    </tr>\n",
       "  </thead>\n",
       "  <tbody>\n",
       "  </tbody>\n",
       "</table>\n",
       "</div>"
      ],
      "text/plain": [
       "Empty DataFrame\n",
       "Columns: [aadt_year, station_id, county, signing, state_route, road_name, beginning_description, ending_description, municipality, length, fc, bridge, count, oneway, ramp, rr_xing, county_road]\n",
       "Index: []"
      ]
     },
     "execution_count": 37,
     "metadata": {},
     "output_type": "execute_result"
    }
   ],
   "source": [
    "traffic_data"
   ]
  },
  {
   "cell_type": "code",
   "execution_count": null,
   "metadata": {},
   "outputs": [],
   "source": []
  }
 ],
 "metadata": {
  "kernelspec": {
   "display_name": "Python 3",
   "language": "python",
   "name": "python3"
  },
  "language_info": {
   "codemirror_mode": {
    "name": "ipython",
    "version": 3
   },
   "file_extension": ".py",
   "mimetype": "text/x-python",
   "name": "python",
   "nbconvert_exporter": "python",
   "pygments_lexer": "ipython3",
   "version": "3.7.3"
  }
 },
 "nbformat": 4,
 "nbformat_minor": 2
}

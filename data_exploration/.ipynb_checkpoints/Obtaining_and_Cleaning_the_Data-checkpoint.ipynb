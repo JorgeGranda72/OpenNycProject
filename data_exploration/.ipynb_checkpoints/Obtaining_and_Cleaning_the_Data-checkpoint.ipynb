{
 "cells": [
  {
   "cell_type": "code",
   "execution_count": 1,
   "metadata": {},
   "outputs": [],
   "source": [
    "import json\n",
    "import requests\n",
    "import pandas as pd\n",
    "from sodapy import Socrata\n",
    "import numpy as np\n",
    "import urllib.request\n",
    "import plotly.express as px\n",
    "import plotly.io as pio\n",
    "pio.renderers.default = 'browser'"
   ]
  },
  {
   "cell_type": "markdown",
   "metadata": {},
   "source": [
    "# Introduction\n",
    "\n",
    "First,  I will remove unwanted observations from the dataset, including duplicate observations or irrelevant observations. To handle missing values,as an option, I will drop observations that have missing values (be mindful before removing values)\n",
    "\n",
    "### Tasks\n",
    "- Step 1: Select Columns\n",
    "- Step 2: Remove duplicate or irrelevant observations\n",
    "- Step 3: Filter unwanted outliers\n",
    "- Step 4: Handle missing data\n"
   ]
  },
  {
   "cell_type": "markdown",
   "metadata": {},
   "source": [
    "# Data Source\n",
    "\n",
    "The data used in this notebook was obtained from: \n",
    "\n",
    "- [NYC Open Data's Motor Vehicle Collision-Crashes](https://data.cityofnewyork.us/Public-Safety/Motor-Vehicle-Collisions-Crashes/h9gi-nx95)\n",
    "  - This dataset contains information from all police reported motor vehicle collisions in NYC. Each row represents a crash event.The police report (MV104-AN) is required to be filled out for collisions where someone is injured or killed, or where there is at least 1000 dollars worth of damage. This notebook uses a subset of the data and was accessed with the [Socrata Open Data (SODA) API](https://dev.socrata.com/consumers/getting-started.html). "
   ]
  },
  {
   "cell_type": "markdown",
   "metadata": {},
   "source": [
    "# Accessing Data\n",
    "Items needed to obtain data:\n",
    "- Create app token\n",
    "- Get domain name\n",
    "- Get data identifier"
   ]
  },
  {
   "cell_type": "code",
   "execution_count": 2,
   "metadata": {},
   "outputs": [],
   "source": [
    "socrata_domain = 'data.cityofnewyork.us'\n",
    "socrata_dataset_identifier = 'h9gi-nx95'\n",
    "client = Socrata(socrata_domain, app_token=\"zrfGJViqm8hhU7PFyRqvPZcyF\")\n",
    "client.timeout = 1000"
   ]
  },
  {
   "cell_type": "code",
   "execution_count": 3,
   "metadata": {},
   "outputs": [],
   "source": [
    "# Pull data from Socrata API\n",
    "results = client.get(socrata_dataset_identifier, limit = 1875241)"
   ]
  },
  {
   "cell_type": "code",
   "execution_count": 4,
   "metadata": {},
   "outputs": [],
   "source": [
    "df = pd.DataFrame(results)"
   ]
  },
  {
   "cell_type": "code",
   "execution_count": 5,
   "metadata": {},
   "outputs": [],
   "source": [
    "dff = df.copy()"
   ]
  },
  {
   "cell_type": "code",
   "execution_count": 6,
   "metadata": {},
   "outputs": [
    {
     "data": {
      "text/plain": [
       "(1875241, 29)"
      ]
     },
     "execution_count": 6,
     "metadata": {},
     "output_type": "execute_result"
    }
   ],
   "source": [
    "dff.shape"
   ]
  },
  {
   "cell_type": "code",
   "execution_count": 8,
   "metadata": {},
   "outputs": [
    {
     "data": {
      "text/html": [
       "<div>\n",
       "<style scoped>\n",
       "    .dataframe tbody tr th:only-of-type {\n",
       "        vertical-align: middle;\n",
       "    }\n",
       "\n",
       "    .dataframe tbody tr th {\n",
       "        vertical-align: top;\n",
       "    }\n",
       "\n",
       "    .dataframe thead th {\n",
       "        text-align: right;\n",
       "    }\n",
       "</style>\n",
       "<table border=\"1\" class=\"dataframe\">\n",
       "  <thead>\n",
       "    <tr style=\"text-align: right;\">\n",
       "      <th></th>\n",
       "      <th>crash_date</th>\n",
       "      <th>crash_time</th>\n",
       "      <th>on_street_name</th>\n",
       "      <th>number_of_persons_injured</th>\n",
       "      <th>number_of_persons_killed</th>\n",
       "      <th>number_of_pedestrians_injured</th>\n",
       "      <th>number_of_pedestrians_killed</th>\n",
       "      <th>number_of_cyclist_injured</th>\n",
       "      <th>number_of_cyclist_killed</th>\n",
       "      <th>number_of_motorist_injured</th>\n",
       "      <th>...</th>\n",
       "      <th>longitude</th>\n",
       "      <th>location</th>\n",
       "      <th>cross_street_name</th>\n",
       "      <th>off_street_name</th>\n",
       "      <th>contributing_factor_vehicle_3</th>\n",
       "      <th>contributing_factor_vehicle_4</th>\n",
       "      <th>vehicle_type_code_3</th>\n",
       "      <th>vehicle_type_code_4</th>\n",
       "      <th>contributing_factor_vehicle_5</th>\n",
       "      <th>vehicle_type_code_5</th>\n",
       "    </tr>\n",
       "  </thead>\n",
       "  <tbody>\n",
       "    <tr>\n",
       "      <th>0</th>\n",
       "      <td>2021-04-14T00:00:00.000</td>\n",
       "      <td>5:32</td>\n",
       "      <td>BRONX WHITESTONE BRIDGE</td>\n",
       "      <td>0</td>\n",
       "      <td>0</td>\n",
       "      <td>0</td>\n",
       "      <td>0</td>\n",
       "      <td>0</td>\n",
       "      <td>0</td>\n",
       "      <td>0</td>\n",
       "      <td>...</td>\n",
       "      <td>NaN</td>\n",
       "      <td>NaN</td>\n",
       "      <td>NaN</td>\n",
       "      <td>NaN</td>\n",
       "      <td>NaN</td>\n",
       "      <td>NaN</td>\n",
       "      <td>NaN</td>\n",
       "      <td>NaN</td>\n",
       "      <td>NaN</td>\n",
       "      <td>NaN</td>\n",
       "    </tr>\n",
       "    <tr>\n",
       "      <th>1</th>\n",
       "      <td>2021-04-13T00:00:00.000</td>\n",
       "      <td>21:35</td>\n",
       "      <td>NaN</td>\n",
       "      <td>1</td>\n",
       "      <td>0</td>\n",
       "      <td>1</td>\n",
       "      <td>0</td>\n",
       "      <td>0</td>\n",
       "      <td>0</td>\n",
       "      <td>0</td>\n",
       "      <td>...</td>\n",
       "      <td>-73.9761700</td>\n",
       "      <td>{'latitude': '40.68358', 'longitude': '-73.976...</td>\n",
       "      <td>620       ATLANTIC AVENUE</td>\n",
       "      <td>NaN</td>\n",
       "      <td>NaN</td>\n",
       "      <td>NaN</td>\n",
       "      <td>NaN</td>\n",
       "      <td>NaN</td>\n",
       "      <td>NaN</td>\n",
       "      <td>NaN</td>\n",
       "    </tr>\n",
       "    <tr>\n",
       "      <th>2</th>\n",
       "      <td>2021-04-15T00:00:00.000</td>\n",
       "      <td>16:15</td>\n",
       "      <td>HUTCHINSON RIVER PARKWAY</td>\n",
       "      <td>0</td>\n",
       "      <td>0</td>\n",
       "      <td>0</td>\n",
       "      <td>0</td>\n",
       "      <td>0</td>\n",
       "      <td>0</td>\n",
       "      <td>0</td>\n",
       "      <td>...</td>\n",
       "      <td>NaN</td>\n",
       "      <td>NaN</td>\n",
       "      <td>NaN</td>\n",
       "      <td>NaN</td>\n",
       "      <td>NaN</td>\n",
       "      <td>NaN</td>\n",
       "      <td>NaN</td>\n",
       "      <td>NaN</td>\n",
       "      <td>NaN</td>\n",
       "      <td>NaN</td>\n",
       "    </tr>\n",
       "    <tr>\n",
       "      <th>3</th>\n",
       "      <td>2021-04-13T00:00:00.000</td>\n",
       "      <td>16:00</td>\n",
       "      <td>VANDERVORT AVENUE</td>\n",
       "      <td>0</td>\n",
       "      <td>0</td>\n",
       "      <td>0</td>\n",
       "      <td>0</td>\n",
       "      <td>0</td>\n",
       "      <td>0</td>\n",
       "      <td>0</td>\n",
       "      <td>...</td>\n",
       "      <td>NaN</td>\n",
       "      <td>NaN</td>\n",
       "      <td>NaN</td>\n",
       "      <td>ANTHONY STREET</td>\n",
       "      <td>NaN</td>\n",
       "      <td>NaN</td>\n",
       "      <td>NaN</td>\n",
       "      <td>NaN</td>\n",
       "      <td>NaN</td>\n",
       "      <td>NaN</td>\n",
       "    </tr>\n",
       "    <tr>\n",
       "      <th>4</th>\n",
       "      <td>2021-04-12T00:00:00.000</td>\n",
       "      <td>8:25</td>\n",
       "      <td>EDSON AVENUE</td>\n",
       "      <td>0</td>\n",
       "      <td>0</td>\n",
       "      <td>0</td>\n",
       "      <td>0</td>\n",
       "      <td>0</td>\n",
       "      <td>0</td>\n",
       "      <td>0</td>\n",
       "      <td>...</td>\n",
       "      <td>0.0000000</td>\n",
       "      <td>{'latitude': '0.0', 'longitude': '0.0'}</td>\n",
       "      <td>NaN</td>\n",
       "      <td>NaN</td>\n",
       "      <td>NaN</td>\n",
       "      <td>NaN</td>\n",
       "      <td>NaN</td>\n",
       "      <td>NaN</td>\n",
       "      <td>NaN</td>\n",
       "      <td>NaN</td>\n",
       "    </tr>\n",
       "  </tbody>\n",
       "</table>\n",
       "<p>5 rows × 29 columns</p>\n",
       "</div>"
      ],
      "text/plain": [
       "                crash_date crash_time                    on_street_name  \\\n",
       "0  2021-04-14T00:00:00.000       5:32           BRONX WHITESTONE BRIDGE   \n",
       "1  2021-04-13T00:00:00.000      21:35                               NaN   \n",
       "2  2021-04-15T00:00:00.000      16:15          HUTCHINSON RIVER PARKWAY   \n",
       "3  2021-04-13T00:00:00.000      16:00                 VANDERVORT AVENUE   \n",
       "4  2021-04-12T00:00:00.000       8:25  EDSON AVENUE                       \n",
       "\n",
       "  number_of_persons_injured number_of_persons_killed  \\\n",
       "0                         0                        0   \n",
       "1                         1                        0   \n",
       "2                         0                        0   \n",
       "3                         0                        0   \n",
       "4                         0                        0   \n",
       "\n",
       "  number_of_pedestrians_injured number_of_pedestrians_killed  \\\n",
       "0                             0                            0   \n",
       "1                             1                            0   \n",
       "2                             0                            0   \n",
       "3                             0                            0   \n",
       "4                             0                            0   \n",
       "\n",
       "  number_of_cyclist_injured number_of_cyclist_killed  \\\n",
       "0                         0                        0   \n",
       "1                         0                        0   \n",
       "2                         0                        0   \n",
       "3                         0                        0   \n",
       "4                         0                        0   \n",
       "\n",
       "  number_of_motorist_injured  ...    longitude  \\\n",
       "0                          0  ...          NaN   \n",
       "1                          0  ...  -73.9761700   \n",
       "2                          0  ...          NaN   \n",
       "3                          0  ...          NaN   \n",
       "4                          0  ...    0.0000000   \n",
       "\n",
       "                                            location  \\\n",
       "0                                                NaN   \n",
       "1  {'latitude': '40.68358', 'longitude': '-73.976...   \n",
       "2                                                NaN   \n",
       "3                                                NaN   \n",
       "4            {'latitude': '0.0', 'longitude': '0.0'}   \n",
       "\n",
       "                          cross_street_name off_street_name  \\\n",
       "0                                       NaN             NaN   \n",
       "1  620       ATLANTIC AVENUE                            NaN   \n",
       "2                                       NaN             NaN   \n",
       "3                                       NaN  ANTHONY STREET   \n",
       "4                                       NaN             NaN   \n",
       "\n",
       "  contributing_factor_vehicle_3 contributing_factor_vehicle_4  \\\n",
       "0                           NaN                           NaN   \n",
       "1                           NaN                           NaN   \n",
       "2                           NaN                           NaN   \n",
       "3                           NaN                           NaN   \n",
       "4                           NaN                           NaN   \n",
       "\n",
       "  vehicle_type_code_3 vehicle_type_code_4 contributing_factor_vehicle_5  \\\n",
       "0                 NaN                 NaN                           NaN   \n",
       "1                 NaN                 NaN                           NaN   \n",
       "2                 NaN                 NaN                           NaN   \n",
       "3                 NaN                 NaN                           NaN   \n",
       "4                 NaN                 NaN                           NaN   \n",
       "\n",
       "  vehicle_type_code_5  \n",
       "0                 NaN  \n",
       "1                 NaN  \n",
       "2                 NaN  \n",
       "3                 NaN  \n",
       "4                 NaN  \n",
       "\n",
       "[5 rows x 29 columns]"
      ]
     },
     "execution_count": 8,
     "metadata": {},
     "output_type": "execute_result"
    }
   ],
   "source": [
    "dff.head()"
   ]
  },
  {
   "cell_type": "code",
   "execution_count": 7,
   "metadata": {},
   "outputs": [
    {
     "data": {
      "text/plain": [
       "crash_date                             0\n",
       "crash_time                             0\n",
       "on_street_name                    386481\n",
       "number_of_persons_injured             18\n",
       "number_of_persons_killed              31\n",
       "number_of_pedestrians_injured          0\n",
       "number_of_pedestrians_killed           0\n",
       "number_of_cyclist_injured              0\n",
       "number_of_cyclist_killed               0\n",
       "number_of_motorist_injured             0\n",
       "number_of_motorist_killed              0\n",
       "contributing_factor_vehicle_1       5572\n",
       "contributing_factor_vehicle_2     276234\n",
       "collision_id                           0\n",
       "vehicle_type_code1                 10727\n",
       "vehicle_type_code2                331081\n",
       "borough                           581168\n",
       "zip_code                          581394\n",
       "latitude                          217399\n",
       "longitude                         217399\n",
       "location                          217399\n",
       "cross_street_name                1580359\n",
       "off_street_name                   682955\n",
       "contributing_factor_vehicle_3    1745468\n",
       "contributing_factor_vehicle_4    1846640\n",
       "vehicle_type_code_3              1749549\n",
       "vehicle_type_code_4              1847534\n",
       "contributing_factor_vehicle_5    1867610\n",
       "vehicle_type_code_5              1867820\n",
       "dtype: int64"
      ]
     },
     "execution_count": 7,
     "metadata": {},
     "output_type": "execute_result"
    }
   ],
   "source": [
    "dff.isnull().sum()\n"
   ]
  },
  {
   "cell_type": "code",
   "execution_count": 9,
   "metadata": {},
   "outputs": [
    {
     "name": "stdout",
     "output_type": "stream",
     "text": [
      "<class 'pandas.core.frame.DataFrame'>\n",
      "RangeIndex: 1875241 entries, 0 to 1875240\n",
      "Data columns (total 29 columns):\n",
      " #   Column                         Dtype \n",
      "---  ------                         ----- \n",
      " 0   crash_date                     object\n",
      " 1   crash_time                     object\n",
      " 2   on_street_name                 object\n",
      " 3   number_of_persons_injured      object\n",
      " 4   number_of_persons_killed       object\n",
      " 5   number_of_pedestrians_injured  object\n",
      " 6   number_of_pedestrians_killed   object\n",
      " 7   number_of_cyclist_injured      object\n",
      " 8   number_of_cyclist_killed       object\n",
      " 9   number_of_motorist_injured     object\n",
      " 10  number_of_motorist_killed      object\n",
      " 11  contributing_factor_vehicle_1  object\n",
      " 12  contributing_factor_vehicle_2  object\n",
      " 13  collision_id                   object\n",
      " 14  vehicle_type_code1             object\n",
      " 15  vehicle_type_code2             object\n",
      " 16  borough                        object\n",
      " 17  zip_code                       object\n",
      " 18  latitude                       object\n",
      " 19  longitude                      object\n",
      " 20  location                       object\n",
      " 21  cross_street_name              object\n",
      " 22  off_street_name                object\n",
      " 23  contributing_factor_vehicle_3  object\n",
      " 24  contributing_factor_vehicle_4  object\n",
      " 25  vehicle_type_code_3            object\n",
      " 26  vehicle_type_code_4            object\n",
      " 27  contributing_factor_vehicle_5  object\n",
      " 28  vehicle_type_code_5            object\n",
      "dtypes: object(29)\n",
      "memory usage: 414.9+ MB\n"
     ]
    }
   ],
   "source": [
    "dff.info()"
   ]
  },
  {
   "cell_type": "markdown",
   "metadata": {},
   "source": [
    "### Select columns to use in  visualizations\n",
    "- Collision id feature will be used to joined data with neighborhood information"
   ]
  },
  {
   "cell_type": "code",
   "execution_count": 10,
   "metadata": {},
   "outputs": [],
   "source": [
    "dff = dff[['collision_id','crash_date','crash_time','number_of_persons_killed','number_of_persons_injured','latitude','longitude']]"
   ]
  },
  {
   "cell_type": "code",
   "execution_count": 11,
   "metadata": {},
   "outputs": [
    {
     "data": {
      "text/plain": [
       "collision_id                 object\n",
       "crash_date                   object\n",
       "crash_time                   object\n",
       "number_of_persons_killed     object\n",
       "number_of_persons_injured    object\n",
       "latitude                     object\n",
       "longitude                    object\n",
       "dtype: object"
      ]
     },
     "execution_count": 11,
     "metadata": {},
     "output_type": "execute_result"
    }
   ],
   "source": [
    "dff.dtypes"
   ]
  },
  {
   "cell_type": "code",
   "execution_count": 12,
   "metadata": {},
   "outputs": [
    {
     "data": {
      "text/plain": [
       "collision_id                      0\n",
       "crash_date                        0\n",
       "crash_time                        0\n",
       "number_of_persons_killed         31\n",
       "number_of_persons_injured        18\n",
       "latitude                     217399\n",
       "longitude                    217399\n",
       "dtype: int64"
      ]
     },
     "execution_count": 12,
     "metadata": {},
     "output_type": "execute_result"
    }
   ],
   "source": [
    "dff.isna().sum()"
   ]
  },
  {
   "cell_type": "code",
   "execution_count": 13,
   "metadata": {},
   "outputs": [],
   "source": [
    "dff.dropna(subset=['longitude','latitude','number_of_persons_injured','number_of_persons_killed'],inplace = True)\n"
   ]
  },
  {
   "cell_type": "code",
   "execution_count": 14,
   "metadata": {},
   "outputs": [],
   "source": [
    "# Convert appropiate columns to numeric\n",
    "to_numeric_list = ['number_of_persons_injured','number_of_persons_killed','latitude','longitude']\n",
    "#print(numeric_convert_list)\n",
    "dff[to_numeric_list] = dff[to_numeric_list].apply(pd.to_numeric)"
   ]
  },
  {
   "cell_type": "code",
   "execution_count": 15,
   "metadata": {},
   "outputs": [
    {
     "data": {
      "text/html": [
       "<div>\n",
       "<style scoped>\n",
       "    .dataframe tbody tr th:only-of-type {\n",
       "        vertical-align: middle;\n",
       "    }\n",
       "\n",
       "    .dataframe tbody tr th {\n",
       "        vertical-align: top;\n",
       "    }\n",
       "\n",
       "    .dataframe thead th {\n",
       "        text-align: right;\n",
       "    }\n",
       "</style>\n",
       "<table border=\"1\" class=\"dataframe\">\n",
       "  <thead>\n",
       "    <tr style=\"text-align: right;\">\n",
       "      <th></th>\n",
       "      <th>number_of_persons_killed</th>\n",
       "      <th>number_of_persons_injured</th>\n",
       "      <th>latitude</th>\n",
       "      <th>longitude</th>\n",
       "    </tr>\n",
       "  </thead>\n",
       "  <tbody>\n",
       "    <tr>\n",
       "      <th>count</th>\n",
       "      <td>1.657808e+06</td>\n",
       "      <td>1.657808e+06</td>\n",
       "      <td>1.657808e+06</td>\n",
       "      <td>1.657808e+06</td>\n",
       "    </tr>\n",
       "    <tr>\n",
       "      <th>mean</th>\n",
       "      <td>1.329466e-03</td>\n",
       "      <td>2.866279e-01</td>\n",
       "      <td>4.066449e+01</td>\n",
       "      <td>-7.381953e+01</td>\n",
       "    </tr>\n",
       "    <tr>\n",
       "      <th>std</th>\n",
       "      <td>3.865469e-02</td>\n",
       "      <td>6.757527e-01</td>\n",
       "      <td>1.560672e+00</td>\n",
       "      <td>3.011248e+00</td>\n",
       "    </tr>\n",
       "    <tr>\n",
       "      <th>min</th>\n",
       "      <td>0.000000e+00</td>\n",
       "      <td>0.000000e+00</td>\n",
       "      <td>0.000000e+00</td>\n",
       "      <td>-2.013600e+02</td>\n",
       "    </tr>\n",
       "    <tr>\n",
       "      <th>25%</th>\n",
       "      <td>0.000000e+00</td>\n",
       "      <td>0.000000e+00</td>\n",
       "      <td>4.066837e+01</td>\n",
       "      <td>-7.397534e+01</td>\n",
       "    </tr>\n",
       "    <tr>\n",
       "      <th>50%</th>\n",
       "      <td>0.000000e+00</td>\n",
       "      <td>0.000000e+00</td>\n",
       "      <td>4.072154e+01</td>\n",
       "      <td>-7.392770e+01</td>\n",
       "    </tr>\n",
       "    <tr>\n",
       "      <th>75%</th>\n",
       "      <td>0.000000e+00</td>\n",
       "      <td>0.000000e+00</td>\n",
       "      <td>4.076926e+01</td>\n",
       "      <td>-7.386665e+01</td>\n",
       "    </tr>\n",
       "    <tr>\n",
       "      <th>max</th>\n",
       "      <td>8.000000e+00</td>\n",
       "      <td>4.300000e+01</td>\n",
       "      <td>4.334444e+01</td>\n",
       "      <td>0.000000e+00</td>\n",
       "    </tr>\n",
       "  </tbody>\n",
       "</table>\n",
       "</div>"
      ],
      "text/plain": [
       "       number_of_persons_killed  number_of_persons_injured      latitude  \\\n",
       "count              1.657808e+06               1.657808e+06  1.657808e+06   \n",
       "mean               1.329466e-03               2.866279e-01  4.066449e+01   \n",
       "std                3.865469e-02               6.757527e-01  1.560672e+00   \n",
       "min                0.000000e+00               0.000000e+00  0.000000e+00   \n",
       "25%                0.000000e+00               0.000000e+00  4.066837e+01   \n",
       "50%                0.000000e+00               0.000000e+00  4.072154e+01   \n",
       "75%                0.000000e+00               0.000000e+00  4.076926e+01   \n",
       "max                8.000000e+00               4.300000e+01  4.334444e+01   \n",
       "\n",
       "          longitude  \n",
       "count  1.657808e+06  \n",
       "mean  -7.381953e+01  \n",
       "std    3.011248e+00  \n",
       "min   -2.013600e+02  \n",
       "25%   -7.397534e+01  \n",
       "50%   -7.392770e+01  \n",
       "75%   -7.386665e+01  \n",
       "max    0.000000e+00  "
      ]
     },
     "execution_count": 15,
     "metadata": {},
     "output_type": "execute_result"
    }
   ],
   "source": [
    "dff.describe()"
   ]
  },
  {
   "cell_type": "code",
   "execution_count": 16,
   "metadata": {},
   "outputs": [],
   "source": [
    "dff = dff[~(dff.latitude == 0.0000000)] #| dff[~(dff.longitude == '0.0000000') "
   ]
  },
  {
   "cell_type": "code",
   "execution_count": 17,
   "metadata": {},
   "outputs": [],
   "source": [
    "dff = dff[~(dff.longitude == 0.0000000)]"
   ]
  },
  {
   "cell_type": "markdown",
   "metadata": {},
   "source": [
    "The pandas.to_datetime() method converts each string value to a datetime object below"
   ]
  },
  {
   "cell_type": "code",
   "execution_count": 18,
   "metadata": {},
   "outputs": [],
   "source": [
    "dff['crash_date'] = pd.to_datetime(dff['crash_date'], format='%Y-%m-%dT%H:%M:%S.%f')"
   ]
  },
  {
   "cell_type": "code",
   "execution_count": 19,
   "metadata": {},
   "outputs": [],
   "source": [
    "dff['crash_time'] = pd.to_datetime(dff['crash_time'], format='%H:%M')"
   ]
  },
  {
   "cell_type": "code",
   "execution_count": 20,
   "metadata": {},
   "outputs": [],
   "source": [
    "# Create year, month, day_of_week columns\n",
    "dff['year'] = dff['crash_date'].dt.year\n",
    "dff['month'] = [int(i.month) for i in dff.crash_date]\n",
    "dff['day_of_week'] = [int(i.weekday()) for i in dff.crash_date]\n",
    "# Create hour column\n",
    "dff['hour'] = dff['crash_time'].dt.hour"
   ]
  },
  {
   "cell_type": "code",
   "execution_count": null,
   "metadata": {},
   "outputs": [],
   "source": [
    "dff.shape"
   ]
  },
  {
   "cell_type": "code",
   "execution_count": null,
   "metadata": {},
   "outputs": [],
   "source": [
    "# Save clean data to csv file\n",
    "dff.to_csv('NYC-Open-Data-Motor-Vehicle-Collision-Crashes.csv',index=False)"
   ]
  },
  {
   "cell_type": "markdown",
   "metadata": {},
   "source": [
    "#### Joining datasets + Filtering previous 12 months (Save result to a csv file)"
   ]
  },
  {
   "cell_type": "code",
   "execution_count": null,
   "metadata": {},
   "outputs": [],
   "source": [
    "df_motor_vehicle = pd.read_csv('Data/Motor Vehicle Collisions - Crashes Joined to Neighborhood Data.csv')\n",
    "df_original = pd.read_csv('Data/NYC-Open-Data-Motor-Vehicle-Collision-Crashes.csv')"
   ]
  },
  {
   "cell_type": "code",
   "execution_count": null,
   "metadata": {},
   "outputs": [],
   "source": [
    "# Lower case column names to allow mergin data frames\n",
    "df_motor_vehicle.columns= df_motor_vehicle.columns.str.lower()"
   ]
  },
  {
   "cell_type": "code",
   "execution_count": null,
   "metadata": {},
   "outputs": [],
   "source": [
    "# Join on collition id (select persons injured, persons killed and year columns)\n",
    "#df_motor_vehicle.merge(df_original[['number_of_persons_killed','number_of_persons_injured','latitude','longitude']])  # df2 but only with columns x, a, and b\n",
    "df_motor_vehicle = pd.merge(df_motor_vehicle,df_original[['collision_id','number_of_persons_killed',\n",
    "       'number_of_persons_injured','year']],on='collision_id', how='inner')"
   ]
  },
  {
   "cell_type": "markdown",
   "metadata": {},
   "source": [
    "**Filtering**\n",
    "- Previous 12 months "
   ]
  },
  {
   "cell_type": "code",
   "execution_count": null,
   "metadata": {},
   "outputs": [],
   "source": [
    "prev_12_months = df_motor_vehicle.loc[(df_motor_vehicle['crash date'] >= '2021-04-01')\n",
    "                     & (df_motor_vehicle['crash date'] < '2022-03-31')]\n",
    "# prev_12_months = df_motor_vehicle.loc[(df_motor_vehicle['crash date'] >= '2021-04-01')\n",
    "#                      & (df_motor_vehicle['crash date'] < '2022-03-31') & (df_motor_vehicle['number_of_persons_injured']>=1)]"
   ]
  },
  {
   "cell_type": "code",
   "execution_count": null,
   "metadata": {},
   "outputs": [],
   "source": [
    "prev_12_months.to_csv('Motor-Vehicle-Collision-Crashes_12M.csv',index=False)"
   ]
  },
  {
   "cell_type": "code",
   "execution_count": null,
   "metadata": {},
   "outputs": [],
   "source": []
  }
 ],
 "metadata": {
  "kernelspec": {
   "display_name": "Python 3",
   "language": "python",
   "name": "python3"
  },
  "language_info": {
   "codemirror_mode": {
    "name": "ipython",
    "version": 3
   },
   "file_extension": ".py",
   "mimetype": "text/x-python",
   "name": "python",
   "nbconvert_exporter": "python",
   "pygments_lexer": "ipython3",
   "version": "3.7.3"
  }
 },
 "nbformat": 4,
 "nbformat_minor": 2
}
